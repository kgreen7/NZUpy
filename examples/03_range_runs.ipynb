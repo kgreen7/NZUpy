{
 "cells": [
  {
   "cell_type": "markdown",
   "metadata": {},
   "source": [
    "# Uncertainty analysis with NZUpy's range runs\n",
    "\n",
    "## Overview of range runs\n",
    "\n",
    "NZUpy allows for uncertainty analysis through \"range runs,\" which enable the evaluation of sensitivities in gross emissions response to carbon pricing. This notebook demonstrates:\n",
    "\n",
    "1. How to set up and run uncertainty analyses\n",
    "2. Creating dual scenarios: a default scenario and a policy reform scenario\n",
    "3. Generating and interpreting range charts that show uncertainty bands\n",
    "\n",
    "Let's begin by importing the necessary libraries and setting up our model."
   ]
  },
  {
   "cell_type": "markdown",
   "metadata": {},
   "source": [
    "## 1. Set Up the NZUpy Model"
   ]
  },
  {
   "cell_type": "code",
   "execution_count": null,
   "metadata": {},
   "source": [
    "# Import necessary libraries\n",
    "import pandas as pd\n",
    "import numpy as np\n",
    "import plotly.graph_objects as go\n",
    "from pathlib import Path\n",
    "import sys\n",
    "import os\n",
    "\n",
    "# Add the project root to the path\n",
    "project_root = Path().absolute().parent\n",
    "sys.path.insert(0, str(project_root))\n",
    "\n",
    "# Import the NZUpy class\n",
    "from model.core.base_model import NZUpy\n",
    "\n",
    "# Set our input and output directories\n",
    "data_dir = project_root / \"data\"\n",
    "output_dir = project_root / \"examples\" / \"outputs\" / \"03_range_runs\"\n",
    "os.makedirs(output_dir, exist_ok=True)\n",
    "\n",
    "# Initialise NZUpy\n",
    "NZU = NZUpy(data_dir=data_dir)"
   ]
  },
  {
   "cell_type": "markdown",
   "metadata": {},
   "source": [
    "## 2. Define Time Periods and Set Up Range Scenario Type\n",
    "\n",
    "For uncertainty analysis, we need to set the model to use \"Range\" scenario type, which automatically configures the model to run with different demand sensitivities."
   ]
  },
  {
   "cell_type": "code",
   "execution_count": null,
   "metadata": {},
   "source": [
    "# Define time periods: start year, end year\n",
    "NZU.define_time(2024, 2050)\n",
    "\n",
    "# Set the scenario type to 'Range' for uncertainty analysis\n",
    "NZU.define_scenario_type('Range')\n",
    "\n",
    "# Define scenarios - in Range mode, these will be automatically populated with \n",
    "# appropriate sensitivity configs (\"95% Lower\", \"1 s.e lower\", \"central\", \"1 s.e upper\", \"95% Upper\")\n",
    "NZU.define_scenarios(['Default Policy', 'Reform Policy'])\n",
    "\n",
    "# Prime the model\n",
    "NZU.prime()"
   ]
  },
  {
   "cell_type": "markdown",
   "metadata": {},
   "source": [
    "## 3. Configure Policy Scenarios\n",
    "\n",
    "We'll set up two policy scenarios:\n",
    "\n",
    "1. **Default Policy**: Uses the central configurations for all components\n",
    "2. **Reform Policy**: Uses the low forestry configuration and a custom phase-out of industrial allocation by 2040\n",
    "\n",
    "This comparison is relevant given recent policy discussions around industrial allocation reform and potential restrictions on forest plantings."
   ]
  },
  {
   "cell_type": "code",
   "execution_count": null,
   "metadata": {},
   "source": [
    "# Set the Default Policy scenario to use central configs for all components\n",
    "NZU.use_central_configs(0)  # Index 0 corresponds to 'Default Policy'\n",
    "\n",
    "# For the Reform Policy scenario, start with central configs\n",
    "NZU.use_central_configs(1)  # Index 1 corresponds to 'Reform Policy'\n",
    "\n",
    "# Then apply the low forestry config for this scenario\n",
    "NZU.use_config(1, 'forestry', 'low')\n",
    "\n",
    "# Now let's create a custom industrial allocation phase-out schedule\n",
    "# First, get the current industrial allocation data\n",
    "industrial_data = NZU.show_inputs('industrial', scenario_name='Reform Policy')\n",
    "\n",
    "# Extract the central values\n",
    "baseline_allocation = NZU.show_series('baseline_allocation', 'industrial', scenario_name='Reform Policy')\n",
    "\n",
    "# Create a phase-out schedule from 2024 (100%) to 2040 (0%)\n",
    "phase_out_years = range(2024, 2041)\n",
    "phase_out_factors = np.linspace(1.0, 0.0, len(phase_out_years))\n",
    "\n",
    "# Apply the phase-out factors to create a new allocation series\n",
    "phased_allocation = baseline_allocation.copy()\n",
    "for i, year in enumerate(phase_out_years):\n",
    "    if year in phased_allocation.index:\n",
    "        phased_allocation.loc[year] = baseline_allocation.loc[year] * phase_out_factors[i]\n",
    "    \n",
    "# Any years after 2040 should be set to zero\n",
    "for year in phased_allocation.index:\n",
    "    if year > 2040:\n",
    "        phased_allocation.loc[year] = 0.0\n",
    "\n",
    "# Update the industrial allocation data with our custom phase-out schedule\n",
    "NZU.set_series('baseline_allocation', phased_allocation, 'industrial', scenario_name='Reform Policy')\n",
    "\n",
    "# Verify the changes\n",
    "modified_allocation = NZU.show_series('baseline_allocation', 'industrial', scenario_name='Reform Policy')\n",
    "print(\"Modified industrial allocation with phase-out by 2040:\")\n",
    "print(modified_allocation)"
   ]
  },
  {
   "cell_type": "code",
   "execution_count": null,
   "metadata": {},
   "source": [
    "# Configure range scenarios for all sensitivity levels in both policy settings\n",
    "NZU.configure_range_scenarios()\n",
    "\n",
    "# Verify that range scenarios are properly configured\n",
    "print(\"Range scenarios configured for both policy settings\")"
   ]
  },
  {
   "cell_type": "markdown",
   "metadata": {},
   "source": [
    "## 4. Run the Model with Uncertainty Analysis\n",
    "\n",
    "Now let's run the model with our configured range scenarios."
   ]
  },
  {
   "cell_type": "code",
   "execution_count": null,
   "metadata": {},
   "source": [
    "# Run the model with range scenarios\n",
    "results = NZU.run()"
   ]
  },
  {
   "cell_type": "markdown",
   "metadata": {},
   "source": [
    "## 5. Generate Range Charts\n",
    "\n",
    "One of the advantages of range runs is the ability to generate charts that show uncertainty bands around central estimates. Let's create these charts for our policy comparison."
   ]
  },
  {
   "cell_type": "code",
   "execution_count": null,
   "metadata": {},
   "source": [
    "# Load chart generator\n",
    "from model.utils.chart_generator import ChartGenerator\n",
    "\n",
    "# Initialise chart generator\n",
    "chart_gen = ChartGenerator(NZU)\n",
    "\n",
    "# In Range mode, the chart generator will automatically create charts with uncertainty bands\n",
    "# for each scenario when we use the appropriate methods\n",
    "\n",
    "# Generate carbon price chart with uncertainty bands\n",
    "price_chart = chart_gen.carbon_price_chart()\n",
    "display(price_chart)\n",
    "price_chart.write_image(str(output_dir / \"range_price_comparison.png\"))\n",
    "\n",
    "# Generate emissions pathway chart with uncertainty bands\n",
    "emissions_chart = chart_gen.emissions_pathway_chart()\n",
    "display(emissions_chart)\n",
    "emissions_chart.write_image(str(output_dir / \"range_emissions_comparison.png\"))\n",
    "\n",
    "# Generate stockpile balance chart with uncertainty bands\n",
    "stockpile_chart = chart_gen.stockpile_balance_chart()\n",
    "display(stockpile_chart)\n",
    "stockpile_chart.write_image(str(output_dir / \"range_stockpile_comparison.png\"))"
   ]
  },
  {
   "cell_type": "code",
   "execution_count": null,
   "metadata": {},
   "source": [
    "# Create a custom chart comparing central estimates of carbon prices between the two policies\n",
    "from model.utils.chart_config import NZUPY_CHART_STYLE, apply_nzupy_style\n",
    "\n",
    "# Get central carbon prices for both scenarios\n",
    "default_central_prices = NZU.prices[('Default Policy', 'central', 'carbon_price')]\n",
    "reform_central_prices = NZU.prices[('Reform Policy', 'central', 'carbon_price')]\n",
    "\n",
    "# Create the figure\n",
    "fig = go.Figure()\n",
    "\n",
    "# Add the price traces\n",
    "fig.add_trace(go.Scatter(\n",
    "    x=default_central_prices.index,\n",
    "    y=default_central_prices.values,\n",
    "    name=\"Default Policy (Central)\",\n",
    "    line=dict(color=NZUPY_CHART_STYLE[\"colors\"][\"central\"], width=3)\n",
    "))\n",
    "\n",
    "fig.add_trace(go.Scatter(\n",
    "    x=reform_central_prices.index,\n",
    "    y=reform_central_prices.values,\n",
    "    name=\"Reform Policy (Central)\",\n",
    "    line=dict(color=NZUPY_CHART_STYLE[\"colors\"][\"reference_primary\"], width=3)\n",
    "))\n",
    "\n",
    "# Update layout\n",
    "fig.update_layout(\n",
    "    title=\"Carbon Price Comparison - Default vs Reform Policy (Central Estimates)\",\n",
    "    xaxis_title=\"Year\",\n",
    "    yaxis_title=\"Price ($/tonne CO₂-e)\"\n",
    ")\n",
    "\n",
    "# Apply NZUpy style\n",
    "apply_nzupy_style(fig)\n",
    "\n",
    "# Display and save\n",
    "display(fig)\n",
    "fig.write_image(str(output_dir / \"central_price_comparison.png\"))"
   ]
  },
  {
   "cell_type": "markdown",
   "metadata": {},
   "source": [
    "## 6. Discussion of Range Run Results\n",
    "\n",
    "The range charts provide valuable insights about both the expected outcomes and uncertainty around our policy scenarios:\n",
    "\n",
    "1. **Carbon Price Uncertainty**: The carbon price charts show the central estimate along with two uncertainty bands: the darker band represents one standard error around the central estimate, while the lighter band represents the 95% confidence interval. This demonstrates the substantial uncertainty in price projections, particularly in later years.\n",
    "\n",
    "2. **Policy Comparison**: The Reform Policy scenario, with its combination of lower forestry removals and phased-out industrial allocation, shows markedly different price trajectories compared to the Default Policy. In general, the reform scenario leads to higher carbon prices due to reduced unit supply.\n",
    "\n",
    "3. **Emissions Pathways**: The emissions pathway charts show how different demand sensitivities result in varying levels of emissions reduction in response to price signals. The uncertainty bands widen over time, reflecting increased uncertainty about price elasticity of emissions in the longer term.\n",
    "\n",
    "4. **Stockpile Dynamics**: The stockpile balance charts illustrate how the stockpile is expected to evolve under different policy scenarios and demand sensitivities. The Reform Policy typically shows faster depletion of the stockpile due to lower unit supply.\n",
    "\n",
    "5. **Policy Implications**: The results suggest that:\n",
    "   - Phasing out industrial allocation by 2040 would significantly impact carbon prices\n",
    "   - Restricting forestry (as in the 'low' forestry scenario) further compounds this effect\n",
    "   - The combination of these policy changes creates a materially different market trajectory\n",
    "\n",
    "The uncertainty bands provide crucial context for decision-making, showing the range of potential outcomes rather than just point estimates. This acknowledges the inherent uncertainties in emissions response to price signals and helps policymakers understand the robustness of projected outcomes."
   ]
  },
  {
   "cell_type": "markdown",
   "metadata": {},
   "source": [
    "## 7. Conclusion\n",
    "\n",
    "This notebook has demonstrated NZUpy's capability to perform uncertainty analysis through range runs. We've seen how to:\n",
    "\n",
    "1. **Set up range scenarios** for uncertainty analysis\n",
    "2. **Configure multiple policy settings** to compare different approaches\n",
    "3. **Create custom modifications** to model industrial allocation phase-out and forestry restrictions\n",
    "4. **Generate and interpret range charts** with uncertainty bands\n",
    "5. **Compare policy scenarios** across multiple sensitivity levels\n",
    "\n",
    "Range runs are a powerful tool for robust policy analysis, allowing stakeholders to understand not just the expected outcomes of different settings but also the uncertainty around those projections. This approach provides a more complete picture for decision-making in the complex and evolving landscape of emissions trading."
   ]
  }
 ],
 "metadata": {
  "kernelspec": {
   "display_name": "Python 3",
   "language": "python",
   "name": "python3"
  },
  "language_info": {
   "codemirror_mode": {
    "name": "ipython",
    "version": 3
   },
   "file_extension": ".py",
   "mimetype": "text/x-python",
   "name": "python",
   "nbconvert_exporter": "python",
   "pygments_lexer": "ipython3",
   "version": "3.8.0"
  }
 },
 "nbformat": 4,
 "nbformat_minor": 4
}