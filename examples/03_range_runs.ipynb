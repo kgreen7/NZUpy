{
 "cells": [
  {
   "cell_type": "markdown",
   "metadata": {},
   "source": [
    "# Uncertainty Analysis with NZUpy's Range Runs\n",
    "\n",
    "## Overview of Range Runs\n",
    "\n",
    "NZUpy allows for uncertainty analysis through \"range runs,\" which highlight how uncertainties in the response of gross emissions demand to carbon pricing can affect market outcomes. This notebook demonstrates:\n",
    "\n",
    "1. How to set up and run 'range runs'\n",
    "2. Use a custom function to manually edit input data\n",
    "3. Generate range charts with uncertainty bands\n",
    "4. Present results using inbuilt NZUpy features\n",
    "\n",
    "Let's begin by importing the necessary libraries and setting up our model."
   ]
  },
  {
   "cell_type": "markdown",
   "metadata": {},
   "source": [
    "## 1. Set Up the NZUpy Model"
   ]
  },
  {
   "cell_type": "code",
   "execution_count": 1,
   "metadata": {},
   "outputs": [],
   "source": [
    "# Import necessary libraries\n",
    "import pandas as pd\n",
    "import numpy as np\n",
    "import plotly.graph_objects as go\n",
    "from pathlib import Path\n",
    "import sys\n",
    "import os\n",
    "\n",
    "#Set up NZUpy and chart generation\n",
    "project_root = Path().absolute().parent\n",
    "sys.path.insert(0, str(project_root))\n",
    "from model.core.base_model import NZUpy\n",
    "from model.utils.chart_generator import ChartGenerator\n",
    "from model.interface.chart_display import create_chart_page\n",
    "\n",
    "# Set our input and output directories\n",
    "data_dir = project_root / \"data\"\n",
    "output_dir = project_root / \"examples\" / \"outputs\" / \"03_range_runs\"\n",
    "os.makedirs(output_dir, exist_ok=True)"
   ]
  },
  {
   "cell_type": "code",
   "execution_count": 2,
   "metadata": {},
   "outputs": [],
   "source": [
    "# Initialise NZUpy\n",
    "NZU = NZUpy(data_dir=data_dir)"
   ]
  },
  {
   "cell_type": "markdown",
   "metadata": {},
   "source": [
    "## 2. Set Up Range Scenario Type\n",
    "\n",
    "For uncertainty analysis, we need to set the model to use \"Range\" scenario type, which automatically configures the model to run with multiple demand sensitivities.\n"
   ]
  },
  {
   "cell_type": "code",
   "execution_count": 3,
   "metadata": {},
   "outputs": [
    {
     "name": "stdout",
     "output_type": "stream",
     "text": [
      "Time periods defined:\n",
      "  Optimisation: 2024-2050\n",
      "Scenario type set to 'Range'\n",
      "Model primed with 5 scenarios:\n",
      "  [0] 95% Lower\n",
      "  [1] 1 s.e lower\n",
      "  [2] central\n",
      "  [3] 1 s.e upper\n",
      "  [4] 95% Upper\n"
     ]
    },
    {
     "data": {
      "text/plain": [
       "<model.core.base_model.NZUpy at 0x2a6b69093d0>"
      ]
     },
     "execution_count": 3,
     "metadata": {},
     "output_type": "execute_result"
    }
   ],
   "source": [
    "# Define time periods: start year, end year\n",
    "NZU.define_time(2024, 2050)\n",
    "\n",
    "# Set the scenario type to 'Range' for uncertainty analysis\n",
    "NZU.define_scenario_type('Range')\n",
    "\n",
    "# Prime the model - this will automatically set up the 5 sensitivity levels\n",
    "NZU.prime()"
   ]
  },
  {
   "cell_type": "markdown",
   "metadata": {},
   "source": [
    "## 3. Configure Policy Scenario\n",
    "\n",
    "We'll set up our Range run to examine a topical policy scenario in which the Government actively pursues reform to supply for industrial allocation and forestry removals. We'll do this by:\n",
    "\n",
    "1. Loading the Goverment's 'low' projection for forestry removals.\n",
    "2. Using a custom function to adjust default industrial allocation projections."
   ]
  },
  {
   "cell_type": "code",
   "execution_count": 4,
   "metadata": {},
   "outputs": [
    {
     "name": "stdout",
     "output_type": "stream",
     "text": [
      "\n",
      "[DEBUG] Starting range scenario configuration\n",
      "[DEBUG] Storing existing component configurations\n",
      "[DEBUG] Stored config for scenario 0: {'forestry': 'central', 'auctions': 'central', 'industrial_allocation': 'central', 'emissions': 'central', 'stockpile': 'central', 'demand_sensitivity': 'central', 'demand_model_number': 2}\n",
      "[DEBUG] Stored config for scenario 1: {'forestry': 'central', 'auctions': 'central', 'industrial_allocation': 'central', 'emissions': 'central', 'stockpile': 'central', 'demand_sensitivity': 'central', 'demand_model_number': 2}\n",
      "[DEBUG] Stored config for scenario 2: {'forestry': 'central', 'auctions': 'central', 'industrial_allocation': 'central', 'emissions': 'central', 'stockpile': 'central', 'demand_sensitivity': 'central', 'demand_model_number': 2}\n",
      "[DEBUG] Stored config for scenario 3: {'forestry': 'central', 'auctions': 'central', 'industrial_allocation': 'central', 'emissions': 'central', 'stockpile': 'central', 'demand_sensitivity': 'central', 'demand_model_number': 2}\n",
      "[DEBUG] Stored config for scenario 4: {'forestry': 'central', 'auctions': 'central', 'industrial_allocation': 'central', 'emissions': 'central', 'stockpile': 'central', 'demand_sensitivity': 'central', 'demand_model_number': 2}\n",
      "\n",
      "[DEBUG] Configuring individual scenarios\n",
      "\n",
      "[DEBUG] Configuring scenario 0 (95% Lower)\n",
      "[DEBUG] Setting central configs for scenario 0\n",
      "Using central configs for all components in model scenario 0 (95% Lower)\n",
      "[DEBUG] Restoring existing configs for scenario 0\n",
      "[DEBUG] Restoring demand_model_number=2\n",
      "[DEBUG] Setting demand model for scenario 0 to 95% Lower\n",
      "[DEBUG] Final config for scenario 0: forestry=central\n",
      "\n",
      "[DEBUG] Configuring scenario 1 (1 s.e lower)\n",
      "[DEBUG] Setting central configs for scenario 1\n",
      "Using central configs for all components in model scenario 1 (1 s.e lower)\n",
      "[DEBUG] Restoring existing configs for scenario 1\n",
      "[DEBUG] Restoring demand_model_number=2\n",
      "[DEBUG] Setting demand model for scenario 1 to 1 s.e lower\n",
      "[DEBUG] Final config for scenario 1: forestry=central\n",
      "\n",
      "[DEBUG] Configuring scenario 2 (central)\n",
      "[DEBUG] Setting central configs for scenario 2\n",
      "Using central configs for all components in model scenario 2 (central)\n",
      "[DEBUG] Restoring existing configs for scenario 2\n",
      "[DEBUG] Restoring demand_model_number=2\n",
      "[DEBUG] Setting demand model for scenario 2 to central\n",
      "[DEBUG] Final config for scenario 2: forestry=central\n",
      "\n",
      "[DEBUG] Configuring scenario 3 (1 s.e upper)\n",
      "[DEBUG] Setting central configs for scenario 3\n",
      "Using central configs for all components in model scenario 3 (1 s.e upper)\n",
      "[DEBUG] Restoring existing configs for scenario 3\n",
      "[DEBUG] Restoring demand_model_number=2\n",
      "[DEBUG] Setting demand model for scenario 3 to 1 s.e upper\n",
      "[DEBUG] Final config for scenario 3: forestry=central\n",
      "\n",
      "[DEBUG] Configuring scenario 4 (95% Upper)\n",
      "[DEBUG] Setting central configs for scenario 4\n",
      "Using central configs for all components in model scenario 4 (95% Upper)\n",
      "[DEBUG] Restoring existing configs for scenario 4\n",
      "[DEBUG] Restoring demand_model_number=2\n",
      "[DEBUG] Setting demand model for scenario 4 to 95% Upper\n",
      "[DEBUG] Final config for scenario 4: forestry=central\n",
      "\n",
      "[DEBUG] Completed range scenario configuration\n",
      "Configured all scenarios for 'Range' run with demand model 2\n",
      "Applied 'low' forestry configuration to scenario 0 (95% Lower)\n",
      "Applied 'low' forestry configuration to scenario 1 (1 s.e lower)\n",
      "Applied 'low' forestry configuration to scenario 2 (central)\n",
      "Applied 'low' forestry configuration to scenario 3 (1 s.e upper)\n",
      "Applied 'low' forestry configuration to scenario 4 (95% Upper)\n",
      "\n",
      "Verifying forestry configuration for each sensitivity level:\n",
      "Scenario 0 (95% Lower) forestry config: low\n",
      "Scenario 1 (1 s.e lower) forestry config: low\n",
      "Scenario 2 (central) forestry config: low\n",
      "Scenario 3 (1 s.e upper) forestry config: low\n",
      "Scenario 4 (95% Upper) forestry config: low\n"
     ]
    }
   ],
   "source": [
    "# Our approach to configuring the range run is similar to that for single scenario runs.\n",
    "NZU.configure_range_scenarios()\n",
    "\n",
    "# Apply the low forestry config to all sensitivity level scenarios\n",
    "for i in range(len(NZU.scenarios)):\n",
    "    NZU.use_config(i, 'forestry', 'low')\n",
    "    print(f\"Applied 'low' forestry configuration to scenario {i} ({NZU.scenarios[i]})\")\n",
    "\n",
    "# Verify forestry configuration for each sensitivity level\n",
    "print(\"\\nVerifying forestry configuration for each sensitivity level:\")\n",
    "for i, scenario in enumerate(NZU.scenarios):\n",
    "    config = NZU.component_configs[i]\n",
    "    print(f\"Scenario {i} ({scenario}) forestry config: {config.forestry}\")"
   ]
  },
  {
   "cell_type": "code",
   "execution_count": 5,
   "metadata": {},
   "outputs": [
    {
     "name": "stdout",
     "output_type": "stream",
     "text": [
      "\n",
      "[DEBUG] DataHandler: Loading industrial allocation data for config 'central'\n",
      "[DEBUG] DataHandler: Filtering industrial allocation data for config 'central'\n",
      "\n",
      "[DEBUG] DataHandler: Loading industrial allocation data for config 'central'\n",
      "[DEBUG] DataHandler: Filtering industrial allocation data for config 'central'\n",
      "Updated industrial.baseline_allocation for scenario '95% Lower'\n",
      "\n",
      "[DEBUG] DataHandler: Loading industrial allocation data for config 'central'\n",
      "[DEBUG] DataHandler: Filtering industrial allocation data for config 'central'\n",
      "Updated industrial.baseline_allocation for scenario '1 s.e lower'\n",
      "\n",
      "[DEBUG] DataHandler: Loading industrial allocation data for config 'central'\n",
      "[DEBUG] DataHandler: Filtering industrial allocation data for config 'central'\n",
      "Updated industrial.baseline_allocation for scenario 'central'\n",
      "\n",
      "[DEBUG] DataHandler: Loading industrial allocation data for config 'central'\n",
      "[DEBUG] DataHandler: Filtering industrial allocation data for config 'central'\n",
      "Updated industrial.baseline_allocation for scenario '1 s.e upper'\n",
      "\n",
      "[DEBUG] DataHandler: Loading industrial allocation data for config 'central'\n",
      "[DEBUG] DataHandler: Filtering industrial allocation data for config 'central'\n",
      "Updated industrial.baseline_allocation for scenario '95% Upper'\n",
      "\n",
      "[DEBUG] DataHandler: Loading industrial allocation data for config 'central'\n",
      "[DEBUG] DataHandler: Found scenario-specific industrial allocation data\n",
      "Updated industrial.baseline_allocation for scenario '95% Lower'\n",
      "Applied industrial allocation phase-out to scenario 0 (95% Lower)\n",
      "\n",
      "[DEBUG] DataHandler: Loading industrial allocation data for config 'central'\n",
      "[DEBUG] DataHandler: Found scenario-specific industrial allocation data\n",
      "Updated industrial.baseline_allocation for scenario '1 s.e lower'\n",
      "Applied industrial allocation phase-out to scenario 1 (1 s.e lower)\n",
      "\n",
      "[DEBUG] DataHandler: Loading industrial allocation data for config 'central'\n",
      "[DEBUG] DataHandler: Found scenario-specific industrial allocation data\n",
      "Updated industrial.baseline_allocation for scenario 'central'\n",
      "Applied industrial allocation phase-out to scenario 2 (central)\n",
      "\n",
      "[DEBUG] DataHandler: Loading industrial allocation data for config 'central'\n",
      "[DEBUG] DataHandler: Found scenario-specific industrial allocation data\n",
      "Updated industrial.baseline_allocation for scenario '1 s.e upper'\n",
      "Applied industrial allocation phase-out to scenario 3 (1 s.e upper)\n",
      "\n",
      "[DEBUG] DataHandler: Loading industrial allocation data for config 'central'\n",
      "[DEBUG] DataHandler: Found scenario-specific industrial allocation data\n",
      "Updated industrial.baseline_allocation for scenario '95% Upper'\n",
      "Applied industrial allocation phase-out to scenario 4 (95% Upper)\n"
     ]
    }
   ],
   "source": [
    "# Get the current industrial allocation data\n",
    "industrial_data = NZU.data_handler.get_industrial_allocation_data(config='central')\n",
    "\n",
    "# Create our phase-out schedule from 2024 (100%) to 2040 (0%)\n",
    "phase_out_years = range(2024, 2041)\n",
    "phase_out_factors = np.linspace(1.0, 0.0, len(phase_out_years))\n",
    "\n",
    "# Create a new DataFrame with phase-out\n",
    "phased_allocation = industrial_data.copy()\n",
    "\n",
    "# Apply the phase-out factors\n",
    "for i, year in enumerate(phase_out_years):\n",
    "    if year in phased_allocation.index:\n",
    "        phased_allocation.loc[year, 'baseline_allocation'] = industrial_data.loc[year, 'baseline_allocation'] * phase_out_factors[i]\n",
    "\n",
    "# Set any years after 2040 to zero\n",
    "for year in phased_allocation.index:\n",
    "    if year > 2040:\n",
    "        phased_allocation.loc[year, 'baseline_allocation'] = 0.0\n",
    "\n",
    "# Apply the industrial allocation phase-out to ALL sensitivity levels\n",
    "for i in range(len(NZU.scenarios)):\n",
    "    NZU.set_series('baseline_allocation', phased_allocation['baseline_allocation'], 'industrial', scenario_index=i)\n",
    "\n",
    "# Update the industrial allocation series for ALL sensitivity levels\n",
    "for i in range(len(NZU.scenarios)):\n",
    "    NZU.set_series('baseline_allocation', phased_allocation['baseline_allocation'], 'industrial', scenario_index=i)\n",
    "    print(f\"Applied industrial allocation phase-out to scenario {i} ({NZU.scenarios[i]})\")"
   ]
  },
  {
   "cell_type": "code",
   "execution_count": 6,
   "metadata": {},
   "outputs": [
    {
     "name": "stdout",
     "output_type": "stream",
     "text": [
      "\n",
      "Modified industrial allocation with phase-out by 2040:\n",
      "      baseline_allocation  activity_adjustment\n",
      "year                                          \n",
      "2024          6058.110998                  1.0\n",
      "2030          2928.459897                  1.0\n",
      "2035          1276.728037                  1.0\n",
      "2040             0.000000                  1.0\n",
      "2045             0.000000                  1.0\n"
     ]
    }
   ],
   "source": [
    "# Print the modified industrial allocation to verify\n",
    "print(\"\\nModified industrial allocation with phase-out by 2040:\")\n",
    "print(phased_allocation.loc[[2024, 2030, 2035, 2040, 2045]])"
   ]
  },
  {
   "cell_type": "markdown",
   "metadata": {},
   "source": [
    "## 4. Run the Model with Uncertainty Analysis\n",
    "\n",
    "Now let's run the model with our configured range scenario."
   ]
  },
  {
   "cell_type": "code",
   "execution_count": 7,
   "metadata": {},
   "outputs": [
    {
     "name": "stdout",
     "output_type": "stream",
     "text": [
      "\n",
      "[DEBUG] Starting range scenario configuration\n",
      "[DEBUG] Storing existing component configurations\n",
      "[DEBUG] Stored config for scenario 0: {'forestry': 'low', 'auctions': 'central', 'industrial_allocation': 'central', 'emissions': 'central', 'stockpile': 'central', 'demand_sensitivity': '95% Lower', 'demand_model_number': 2}\n",
      "[DEBUG] Stored config for scenario 1: {'forestry': 'low', 'auctions': 'central', 'industrial_allocation': 'central', 'emissions': 'central', 'stockpile': 'central', 'demand_sensitivity': '1 s.e lower', 'demand_model_number': 2}\n",
      "[DEBUG] Stored config for scenario 2: {'forestry': 'low', 'auctions': 'central', 'industrial_allocation': 'central', 'emissions': 'central', 'stockpile': 'central', 'demand_sensitivity': 'central', 'demand_model_number': 2}\n",
      "[DEBUG] Stored config for scenario 3: {'forestry': 'low', 'auctions': 'central', 'industrial_allocation': 'central', 'emissions': 'central', 'stockpile': 'central', 'demand_sensitivity': '1 s.e upper', 'demand_model_number': 2}\n",
      "[DEBUG] Stored config for scenario 4: {'forestry': 'low', 'auctions': 'central', 'industrial_allocation': 'central', 'emissions': 'central', 'stockpile': 'central', 'demand_sensitivity': '95% Upper', 'demand_model_number': 2}\n",
      "\n",
      "[DEBUG] Configuring individual scenarios\n",
      "\n",
      "[DEBUG] Configuring scenario 0 (95% Lower)\n",
      "[DEBUG] Setting central configs for scenario 0\n",
      "Using central configs for all components in model scenario 0 (95% Lower)\n",
      "[DEBUG] Restoring existing configs for scenario 0\n",
      "[DEBUG] Restoring forestry=low\n",
      "[DEBUG] Restoring demand_sensitivity=95% Lower\n",
      "[DEBUG] Restoring demand_model_number=2\n",
      "[DEBUG] Setting demand model for scenario 0 to 95% Lower\n",
      "[DEBUG] Final config for scenario 0: forestry=low\n",
      "\n",
      "[DEBUG] Configuring scenario 1 (1 s.e lower)\n",
      "[DEBUG] Setting central configs for scenario 1\n",
      "Using central configs for all components in model scenario 1 (1 s.e lower)\n",
      "[DEBUG] Restoring existing configs for scenario 1\n",
      "[DEBUG] Restoring forestry=low\n",
      "[DEBUG] Restoring demand_sensitivity=1 s.e lower\n",
      "[DEBUG] Restoring demand_model_number=2\n",
      "[DEBUG] Setting demand model for scenario 1 to 1 s.e lower\n",
      "[DEBUG] Final config for scenario 1: forestry=low\n",
      "\n",
      "[DEBUG] Configuring scenario 2 (central)\n",
      "[DEBUG] Setting central configs for scenario 2\n",
      "Using central configs for all components in model scenario 2 (central)\n",
      "[DEBUG] Restoring existing configs for scenario 2\n",
      "[DEBUG] Restoring forestry=low\n",
      "[DEBUG] Restoring demand_model_number=2\n",
      "[DEBUG] Setting demand model for scenario 2 to central\n",
      "[DEBUG] Final config for scenario 2: forestry=low\n",
      "\n",
      "[DEBUG] Configuring scenario 3 (1 s.e upper)\n",
      "[DEBUG] Setting central configs for scenario 3\n",
      "Using central configs for all components in model scenario 3 (1 s.e upper)\n",
      "[DEBUG] Restoring existing configs for scenario 3\n",
      "[DEBUG] Restoring forestry=low\n",
      "[DEBUG] Restoring demand_sensitivity=1 s.e upper\n",
      "[DEBUG] Restoring demand_model_number=2\n",
      "[DEBUG] Setting demand model for scenario 3 to 1 s.e upper\n",
      "[DEBUG] Final config for scenario 3: forestry=low\n",
      "\n",
      "[DEBUG] Configuring scenario 4 (95% Upper)\n",
      "[DEBUG] Setting central configs for scenario 4\n",
      "Using central configs for all components in model scenario 4 (95% Upper)\n",
      "[DEBUG] Restoring existing configs for scenario 4\n",
      "[DEBUG] Restoring forestry=low\n",
      "[DEBUG] Restoring demand_sensitivity=95% Upper\n",
      "[DEBUG] Restoring demand_model_number=2\n",
      "[DEBUG] Setting demand model for scenario 4 to 95% Upper\n",
      "[DEBUG] Final config for scenario 4: forestry=low\n",
      "\n",
      "[DEBUG] Completed range scenario configuration\n",
      "Configured all scenarios for 'Range' run with demand model 2\n",
      "\n",
      "[DEBUG] Initializing components for scenario: 95% Lower\n",
      "[DEBUG] Initial forestry config: low\n",
      "[DEBUG] No existing scenario config found\n",
      "[DEBUG] Stored new config with forestry=low\n",
      "\n",
      "[DEBUG] DataHandler: Loading auction data for config 'central'\n",
      "[DEBUG] DataHandler: Filtering auction data for config 'central'\n",
      "[DEBUG] Loading forestry data for config 'low'\n",
      "[DEBUG] Loading forestry data from config file\n",
      "\n",
      "[DEBUG] DataHandler: Loading forestry data for config 'low'\n",
      "[DEBUG] DataHandler: Filtering removals data for config 'low' and forestry_tradeable\n",
      "[DEBUG] DataHandler: Found forestry data:     Year Config            Variable        Value\n",
      "31  2020    low  forestry_tradeable  3546.167808\n",
      "32  2021    low  forestry_tradeable  3542.064355\n",
      "33  2022    low  forestry_tradeable  3598.566476\n",
      "34  2023    low  forestry_tradeable  2865.638823\n",
      "35  2024    low  forestry_tradeable  3293.547562\n",
      "[DEBUG] DataHandler: Created result DataFrame:       forestry_tradeable\n",
      "year                    \n",
      "2020         3546.167808\n",
      "2021         3542.064355\n",
      "2022         3598.566476\n",
      "2023         2865.638823\n",
      "2024         3293.547562\n",
      "[DEBUG] DataHandler: Stored forestry data in scenario_data\n",
      "[DEBUG] Loaded forestry data: year\n",
      "2020    3546.167808\n",
      "2021    3542.064355\n",
      "2022    3598.566476\n",
      "2023    2865.638823\n",
      "2024    3293.547562\n",
      "Name: forestry_tradeable, dtype: float64\n",
      "[DEBUG] Stored forestry data in scenario_data\n",
      "\n",
      "[DEBUG] DataHandler: Loading emissions data for config 'central'\n",
      "[DEBUG] DataHandler: Filtering emissions data for config 'central'\n",
      "[DEBUG] Creating ForestrySupply component with config 'low'\n",
      "[DEBUG] ForestrySupply component created. First few values: year\n",
      "2020    3546.167808\n",
      "2021    3542.064355\n",
      "2022    3598.566476\n",
      "2023    2865.638823\n",
      "2024    3293.547562\n",
      "Name: forestry_tradeable, dtype: float64\n",
      "\n",
      "[DEBUG] Initializing components for scenario: 95% Lower\n",
      "[DEBUG] Initial forestry config: low\n",
      "[DEBUG] Found existing scenario config for 95% Lower\n",
      "[DEBUG] forestry: current=low, stored=low\n",
      "[DEBUG] auctions: current=central, stored=central\n",
      "[DEBUG] industrial_allocation: current=central, stored=central\n",
      "[DEBUG] emissions: current=central, stored=central\n",
      "[DEBUG] stockpile: current=central, stored=central\n",
      "[DEBUG] Using stored config with forestry=low\n",
      "\n",
      "[DEBUG] DataHandler: Loading auction data for config 'central'\n",
      "[DEBUG] DataHandler: Filtering auction data for config 'central'\n",
      "[DEBUG] Loading forestry data for config 'low'\n",
      "[DEBUG] Found scenario-specific forestry data\n",
      "\n",
      "[DEBUG] DataHandler: Loading emissions data for config 'central'\n",
      "[DEBUG] DataHandler: Filtering emissions data for config 'central'\n",
      "[DEBUG] Creating ForestrySupply component with config 'low'\n",
      "[DEBUG] ForestrySupply component created. First few values: year\n",
      "2020    3546.167808\n",
      "2021    3542.064355\n",
      "2022    3598.566476\n",
      "2023    2865.638823\n",
      "2024    3293.547562\n",
      "Name: forestry_tradeable, dtype: float64\n",
      "\n",
      "[DEBUG] Initializing components for scenario: 1 s.e lower\n",
      "[DEBUG] Initial forestry config: low\n",
      "[DEBUG] No existing scenario config found\n",
      "[DEBUG] Stored new config with forestry=low\n",
      "\n",
      "[DEBUG] DataHandler: Loading auction data for config 'central'\n",
      "[DEBUG] DataHandler: Filtering auction data for config 'central'\n",
      "[DEBUG] Loading forestry data for config 'low'\n",
      "[DEBUG] Loading forestry data from config file\n",
      "\n",
      "[DEBUG] DataHandler: Loading forestry data for config 'low'\n",
      "[DEBUG] DataHandler: Filtering removals data for config 'low' and forestry_tradeable\n",
      "[DEBUG] DataHandler: Found forestry data:     Year Config            Variable        Value\n",
      "31  2020    low  forestry_tradeable  3546.167808\n",
      "32  2021    low  forestry_tradeable  3542.064355\n",
      "33  2022    low  forestry_tradeable  3598.566476\n",
      "34  2023    low  forestry_tradeable  2865.638823\n",
      "35  2024    low  forestry_tradeable  3293.547562\n",
      "[DEBUG] DataHandler: Created result DataFrame:       forestry_tradeable\n",
      "year                    \n",
      "2020         3546.167808\n",
      "2021         3542.064355\n",
      "2022         3598.566476\n",
      "2023         2865.638823\n",
      "2024         3293.547562\n",
      "[DEBUG] DataHandler: Stored forestry data in scenario_data\n",
      "[DEBUG] Loaded forestry data: year\n",
      "2020    3546.167808\n",
      "2021    3542.064355\n",
      "2022    3598.566476\n",
      "2023    2865.638823\n",
      "2024    3293.547562\n",
      "Name: forestry_tradeable, dtype: float64\n",
      "[DEBUG] Stored forestry data in scenario_data\n",
      "\n",
      "[DEBUG] DataHandler: Loading emissions data for config 'central'\n",
      "[DEBUG] DataHandler: Filtering emissions data for config 'central'\n",
      "[DEBUG] Creating ForestrySupply component with config 'low'\n",
      "[DEBUG] ForestrySupply component created. First few values: year\n",
      "2020    3546.167808\n",
      "2021    3542.064355\n",
      "2022    3598.566476\n",
      "2023    2865.638823\n",
      "2024    3293.547562\n",
      "Name: forestry_tradeable, dtype: float64\n",
      "\n",
      "[DEBUG] Initializing components for scenario: 1 s.e lower\n",
      "[DEBUG] Initial forestry config: low\n",
      "[DEBUG] Found existing scenario config for 1 s.e lower\n",
      "[DEBUG] forestry: current=low, stored=low\n",
      "[DEBUG] auctions: current=central, stored=central\n",
      "[DEBUG] industrial_allocation: current=central, stored=central\n",
      "[DEBUG] emissions: current=central, stored=central\n",
      "[DEBUG] stockpile: current=central, stored=central\n",
      "[DEBUG] Using stored config with forestry=low\n",
      "\n",
      "[DEBUG] DataHandler: Loading auction data for config 'central'\n",
      "[DEBUG] DataHandler: Filtering auction data for config 'central'\n",
      "[DEBUG] Loading forestry data for config 'low'\n",
      "[DEBUG] Found scenario-specific forestry data\n",
      "\n",
      "[DEBUG] DataHandler: Loading emissions data for config 'central'\n",
      "[DEBUG] DataHandler: Filtering emissions data for config 'central'\n",
      "[DEBUG] Creating ForestrySupply component with config 'low'\n",
      "[DEBUG] ForestrySupply component created. First few values: year\n",
      "2020    3546.167808\n",
      "2021    3542.064355\n",
      "2022    3598.566476\n",
      "2023    2865.638823\n",
      "2024    3293.547562\n",
      "Name: forestry_tradeable, dtype: float64\n",
      "\n",
      "[DEBUG] Initializing components for scenario: central\n",
      "[DEBUG] Initial forestry config: low\n",
      "[DEBUG] No existing scenario config found\n",
      "[DEBUG] Stored new config with forestry=low\n",
      "\n",
      "[DEBUG] DataHandler: Loading auction data for config 'central'\n",
      "[DEBUG] DataHandler: Filtering auction data for config 'central'\n",
      "[DEBUG] Loading forestry data for config 'low'\n",
      "[DEBUG] Loading forestry data from config file\n",
      "\n",
      "[DEBUG] DataHandler: Loading forestry data for config 'low'\n",
      "[DEBUG] DataHandler: Filtering removals data for config 'low' and forestry_tradeable\n",
      "[DEBUG] DataHandler: Found forestry data:     Year Config            Variable        Value\n",
      "31  2020    low  forestry_tradeable  3546.167808\n",
      "32  2021    low  forestry_tradeable  3542.064355\n",
      "33  2022    low  forestry_tradeable  3598.566476\n",
      "34  2023    low  forestry_tradeable  2865.638823\n",
      "35  2024    low  forestry_tradeable  3293.547562\n",
      "[DEBUG] DataHandler: Created result DataFrame:       forestry_tradeable\n",
      "year                    \n",
      "2020         3546.167808\n",
      "2021         3542.064355\n",
      "2022         3598.566476\n",
      "2023         2865.638823\n",
      "2024         3293.547562\n",
      "[DEBUG] DataHandler: Stored forestry data in scenario_data\n",
      "[DEBUG] Loaded forestry data: year\n",
      "2020    3546.167808\n",
      "2021    3542.064355\n",
      "2022    3598.566476\n",
      "2023    2865.638823\n",
      "2024    3293.547562\n",
      "Name: forestry_tradeable, dtype: float64\n",
      "[DEBUG] Stored forestry data in scenario_data\n",
      "\n",
      "[DEBUG] DataHandler: Loading emissions data for config 'central'\n",
      "[DEBUG] DataHandler: Filtering emissions data for config 'central'\n",
      "[DEBUG] Creating ForestrySupply component with config 'low'\n",
      "[DEBUG] ForestrySupply component created. First few values: year\n",
      "2020    3546.167808\n",
      "2021    3542.064355\n",
      "2022    3598.566476\n",
      "2023    2865.638823\n",
      "2024    3293.547562\n",
      "Name: forestry_tradeable, dtype: float64\n",
      "\n",
      "[DEBUG] Initializing components for scenario: central\n",
      "[DEBUG] Initial forestry config: low\n",
      "[DEBUG] Found existing scenario config for central\n",
      "[DEBUG] forestry: current=low, stored=low\n",
      "[DEBUG] auctions: current=central, stored=central\n",
      "[DEBUG] industrial_allocation: current=central, stored=central\n",
      "[DEBUG] emissions: current=central, stored=central\n",
      "[DEBUG] stockpile: current=central, stored=central\n",
      "[DEBUG] Using stored config with forestry=low\n",
      "\n",
      "[DEBUG] DataHandler: Loading auction data for config 'central'\n",
      "[DEBUG] DataHandler: Filtering auction data for config 'central'\n",
      "[DEBUG] Loading forestry data for config 'low'\n",
      "[DEBUG] Found scenario-specific forestry data\n",
      "\n",
      "[DEBUG] DataHandler: Loading emissions data for config 'central'\n",
      "[DEBUG] DataHandler: Filtering emissions data for config 'central'\n",
      "[DEBUG] Creating ForestrySupply component with config 'low'\n",
      "[DEBUG] ForestrySupply component created. First few values: year\n",
      "2020    3546.167808\n",
      "2021    3542.064355\n",
      "2022    3598.566476\n",
      "2023    2865.638823\n",
      "2024    3293.547562\n",
      "Name: forestry_tradeable, dtype: float64\n",
      "\n",
      "[DEBUG] Initializing components for scenario: 1 s.e upper\n",
      "[DEBUG] Initial forestry config: low\n",
      "[DEBUG] No existing scenario config found\n",
      "[DEBUG] Stored new config with forestry=low\n",
      "\n",
      "[DEBUG] DataHandler: Loading auction data for config 'central'\n",
      "[DEBUG] DataHandler: Filtering auction data for config 'central'\n",
      "[DEBUG] Loading forestry data for config 'low'\n",
      "[DEBUG] Loading forestry data from config file\n",
      "\n",
      "[DEBUG] DataHandler: Loading forestry data for config 'low'\n",
      "[DEBUG] DataHandler: Filtering removals data for config 'low' and forestry_tradeable\n",
      "[DEBUG] DataHandler: Found forestry data:     Year Config            Variable        Value\n",
      "31  2020    low  forestry_tradeable  3546.167808\n",
      "32  2021    low  forestry_tradeable  3542.064355\n",
      "33  2022    low  forestry_tradeable  3598.566476\n",
      "34  2023    low  forestry_tradeable  2865.638823\n",
      "35  2024    low  forestry_tradeable  3293.547562\n",
      "[DEBUG] DataHandler: Created result DataFrame:       forestry_tradeable\n",
      "year                    \n",
      "2020         3546.167808\n",
      "2021         3542.064355\n",
      "2022         3598.566476\n",
      "2023         2865.638823\n",
      "2024         3293.547562\n",
      "[DEBUG] DataHandler: Stored forestry data in scenario_data\n",
      "[DEBUG] Loaded forestry data: year\n",
      "2020    3546.167808\n",
      "2021    3542.064355\n",
      "2022    3598.566476\n",
      "2023    2865.638823\n",
      "2024    3293.547562\n",
      "Name: forestry_tradeable, dtype: float64\n",
      "[DEBUG] Stored forestry data in scenario_data\n",
      "\n",
      "[DEBUG] DataHandler: Loading emissions data for config 'central'\n",
      "[DEBUG] DataHandler: Filtering emissions data for config 'central'\n",
      "[DEBUG] Creating ForestrySupply component with config 'low'\n",
      "[DEBUG] ForestrySupply component created. First few values: year\n",
      "2020    3546.167808\n",
      "2021    3542.064355\n",
      "2022    3598.566476\n",
      "2023    2865.638823\n",
      "2024    3293.547562\n",
      "Name: forestry_tradeable, dtype: float64\n",
      "\n",
      "[DEBUG] Initializing components for scenario: 1 s.e upper\n",
      "[DEBUG] Initial forestry config: low\n",
      "[DEBUG] Found existing scenario config for 1 s.e upper\n",
      "[DEBUG] forestry: current=low, stored=low\n",
      "[DEBUG] auctions: current=central, stored=central\n",
      "[DEBUG] industrial_allocation: current=central, stored=central\n",
      "[DEBUG] emissions: current=central, stored=central\n",
      "[DEBUG] stockpile: current=central, stored=central\n",
      "[DEBUG] Using stored config with forestry=low\n",
      "\n",
      "[DEBUG] DataHandler: Loading auction data for config 'central'\n",
      "[DEBUG] DataHandler: Filtering auction data for config 'central'\n",
      "[DEBUG] Loading forestry data for config 'low'\n",
      "[DEBUG] Found scenario-specific forestry data\n",
      "\n",
      "[DEBUG] DataHandler: Loading emissions data for config 'central'\n",
      "[DEBUG] DataHandler: Filtering emissions data for config 'central'\n",
      "[DEBUG] Creating ForestrySupply component with config 'low'\n",
      "[DEBUG] ForestrySupply component created. First few values: year\n",
      "2020    3546.167808\n",
      "2021    3542.064355\n",
      "2022    3598.566476\n",
      "2023    2865.638823\n",
      "2024    3293.547562\n",
      "Name: forestry_tradeable, dtype: float64\n",
      "\n",
      "[DEBUG] Initializing components for scenario: 95% Upper\n",
      "[DEBUG] Initial forestry config: low\n",
      "[DEBUG] No existing scenario config found\n",
      "[DEBUG] Stored new config with forestry=low\n",
      "\n",
      "[DEBUG] DataHandler: Loading auction data for config 'central'\n",
      "[DEBUG] DataHandler: Filtering auction data for config 'central'\n",
      "[DEBUG] Loading forestry data for config 'low'\n",
      "[DEBUG] Loading forestry data from config file\n",
      "\n",
      "[DEBUG] DataHandler: Loading forestry data for config 'low'\n",
      "[DEBUG] DataHandler: Filtering removals data for config 'low' and forestry_tradeable\n",
      "[DEBUG] DataHandler: Found forestry data:     Year Config            Variable        Value\n",
      "31  2020    low  forestry_tradeable  3546.167808\n",
      "32  2021    low  forestry_tradeable  3542.064355\n",
      "33  2022    low  forestry_tradeable  3598.566476\n",
      "34  2023    low  forestry_tradeable  2865.638823\n",
      "35  2024    low  forestry_tradeable  3293.547562\n",
      "[DEBUG] DataHandler: Created result DataFrame:       forestry_tradeable\n",
      "year                    \n",
      "2020         3546.167808\n",
      "2021         3542.064355\n",
      "2022         3598.566476\n",
      "2023         2865.638823\n",
      "2024         3293.547562\n",
      "[DEBUG] DataHandler: Stored forestry data in scenario_data\n",
      "[DEBUG] Loaded forestry data: year\n",
      "2020    3546.167808\n",
      "2021    3542.064355\n",
      "2022    3598.566476\n",
      "2023    2865.638823\n",
      "2024    3293.547562\n",
      "Name: forestry_tradeable, dtype: float64\n",
      "[DEBUG] Stored forestry data in scenario_data\n",
      "\n",
      "[DEBUG] DataHandler: Loading emissions data for config 'central'\n",
      "[DEBUG] DataHandler: Filtering emissions data for config 'central'\n",
      "[DEBUG] Creating ForestrySupply component with config 'low'\n",
      "[DEBUG] ForestrySupply component created. First few values: year\n",
      "2020    3546.167808\n",
      "2021    3542.064355\n",
      "2022    3598.566476\n",
      "2023    2865.638823\n",
      "2024    3293.547562\n",
      "Name: forestry_tradeable, dtype: float64\n",
      "\n",
      "[DEBUG] Initializing components for scenario: 95% Upper\n",
      "[DEBUG] Initial forestry config: low\n",
      "[DEBUG] Found existing scenario config for 95% Upper\n",
      "[DEBUG] forestry: current=low, stored=low\n",
      "[DEBUG] auctions: current=central, stored=central\n",
      "[DEBUG] industrial_allocation: current=central, stored=central\n",
      "[DEBUG] emissions: current=central, stored=central\n",
      "[DEBUG] stockpile: current=central, stored=central\n",
      "[DEBUG] Using stored config with forestry=low\n",
      "\n",
      "[DEBUG] DataHandler: Loading auction data for config 'central'\n",
      "[DEBUG] DataHandler: Filtering auction data for config 'central'\n",
      "[DEBUG] Loading forestry data for config 'low'\n",
      "[DEBUG] Found scenario-specific forestry data\n",
      "\n",
      "[DEBUG] DataHandler: Loading emissions data for config 'central'\n",
      "[DEBUG] DataHandler: Filtering emissions data for config 'central'\n",
      "[DEBUG] Creating ForestrySupply component with config 'low'\n",
      "[DEBUG] ForestrySupply component created. First few values: year\n",
      "2020    3546.167808\n",
      "2021    3542.064355\n",
      "2022    3598.566476\n",
      "2023    2865.638823\n",
      "2024    3293.547562\n",
      "Name: forestry_tradeable, dtype: float64\n"
     ]
    }
   ],
   "source": [
    "# Run the model\n",
    "results = NZU.run()"
   ]
  },
  {
   "cell_type": "markdown",
   "metadata": {},
   "source": [
    "## 5. Generate Range Charts\n",
    "\n",
    "One of the key advantages of range runs is the ability to generate charts that show uncertainty bands around central estimates. Let's explore this capability."
   ]
  },
  {
   "cell_type": "code",
   "execution_count": 8,
   "metadata": {},
   "outputs": [
    {
     "name": "stdout",
     "output_type": "stream",
     "text": [
      "\n",
      "===== VERIFICATION OF MODEL CONFIGURATIONS =====\n",
      "\n",
      "Forestry Supply Values for 2030 (should reflect 'low' config for all sensitivity levels):\n",
      "95% Lower: 14489.65 kt CO₂-e\n",
      "1 s.e lower: 14489.65 kt CO₂-e\n",
      "central: 14489.65 kt CO₂-e\n",
      "1 s.e upper: 14489.65 kt CO₂-e\n",
      "95% Upper: 14489.65 kt CO₂-e\n",
      "\n",
      "Industrial Allocation Values near phase-out (2038-2042):\n",
      "\n",
      "Year 2038:\n",
      "95% Lower: 465.69 kt CO₂-e\n",
      "1 s.e lower: 465.69 kt CO₂-e\n",
      "central: 465.69 kt CO₂-e\n",
      "1 s.e upper: 465.69 kt CO₂-e\n",
      "95% Upper: 465.69 kt CO₂-e\n",
      "\n",
      "Year 2039:\n",
      "95% Lower: 225.35 kt CO₂-e\n",
      "1 s.e lower: 225.35 kt CO₂-e\n",
      "central: 225.35 kt CO₂-e\n",
      "1 s.e upper: 225.35 kt CO₂-e\n",
      "95% Upper: 225.35 kt CO₂-e\n",
      "\n",
      "Year 2040:\n",
      "95% Lower: 0.00 kt CO₂-e\n",
      "1 s.e lower: 0.00 kt CO₂-e\n",
      "central: 0.00 kt CO₂-e\n",
      "1 s.e upper: 0.00 kt CO₂-e\n",
      "95% Upper: 0.00 kt CO₂-e\n",
      "\n",
      "Year 2041:\n",
      "95% Lower: 0.00 kt CO₂-e\n",
      "1 s.e lower: 0.00 kt CO₂-e\n",
      "central: 0.00 kt CO₂-e\n",
      "1 s.e upper: 0.00 kt CO₂-e\n",
      "95% Upper: 0.00 kt CO₂-e\n",
      "\n",
      "Year 2042:\n",
      "95% Lower: 0.00 kt CO₂-e\n",
      "1 s.e lower: 0.00 kt CO₂-e\n",
      "central: 0.00 kt CO₂-e\n",
      "1 s.e upper: 0.00 kt CO₂-e\n",
      "95% Upper: 0.00 kt CO₂-e\n"
     ]
    }
   ],
   "source": [
    "# Verify that both forestry and industrial allocation configurations were applied correctly\n",
    "print(\"\\n===== VERIFICATION OF MODEL CONFIGURATIONS =====\")\n",
    "\n",
    "# 1. Verify forestry configuration by checking forestry supply for 2030\n",
    "print(\"\\nForestry Supply Values for 2030 (should reflect 'low' config for all sensitivity levels):\")\n",
    "forestry_supply = NZU.supply.xs('forestry', level='variable', axis=1)\n",
    "if 2050 in forestry_supply.index:\n",
    "    for scenario in NZU.scenarios:\n",
    "        print(f\"{scenario}: {forestry_supply.loc[2050, scenario]:.2f} kt CO₂-e\")\n",
    "else:\n",
    "    print(\"Year 2030 not found in forestry supply data\")\n",
    "\n",
    "# 2. Verify industrial allocation phase-out around 2040\n",
    "print(\"\\nIndustrial Allocation Values near phase-out (2038-2042):\")\n",
    "industrial_allocation = NZU.supply.xs('industrial', level='variable', axis=1)\n",
    "for year in range(2038, 2043):\n",
    "    if year in industrial_allocation.index:\n",
    "        print(f\"\\nYear {year}:\")\n",
    "        for scenario in NZU.scenarios:\n",
    "            print(f\"{scenario}: {industrial_allocation.loc[year, scenario]:.2f} kt CO₂-e\")\n",
    "    else:\n",
    "        print(f\"Year {year} not found in industrial allocation data\")"
   ]
  },
  {
   "cell_type": "code",
   "execution_count": 9,
   "metadata": {},
   "outputs": [
    {
     "name": "stdout",
     "output_type": "stream",
     "text": [
      "Generating carbon price chart with uncertainty bands...\n"
     ]
    },
    {
     "data": {
      "application/vnd.plotly.v1+json": {
       "config": {
        "plotlyServerURL": "https://plot.ly"
       },
       "data": [
        {
         "hovertemplate": "Year: %{x}<br>Price: $%{y:.1f}<extra></extra>",
         "line": {
          "color": "rgb(47, 47, 47)",
          "dash": "solid",
          "width": 3
         },
         "mode": "lines",
         "name": "Historical",
         "type": "scatter",
         "x": [
          2020,
          2021,
          2022,
          2023,
          2024
         ],
         "y": [
          25,
          35,
          79,
          63,
          62
         ]
        },
        {
         "fill": "toself",
         "fillcolor": "rgba(56,  166,  165, 0.1)",
         "hoverinfo": "skip",
         "hovertemplate": "Year: %{x}<br>Price: $%{y:.1f}<extra></extra>",
         "line": {
          "color": "rgba(56,  166,  165, 0.1)"
         },
         "name": "95% Confidence Interval",
         "showlegend": true,
         "type": "scatter",
         "x": [
          2024,
          2025,
          2026,
          2027,
          2028,
          2029,
          2030,
          2031,
          2032,
          2033,
          2034,
          2035,
          2036,
          2037,
          2038,
          2039,
          2040,
          2041,
          2042,
          2043,
          2044,
          2045,
          2046,
          2047,
          2048,
          2049,
          2050,
          2050,
          2049,
          2048,
          2047,
          2046,
          2045,
          2044,
          2043,
          2042,
          2041,
          2040,
          2039,
          2038,
          2037,
          2036,
          2035,
          2034,
          2033,
          2032,
          2031,
          2030,
          2029,
          2028,
          2027,
          2026,
          2025,
          2024
         ],
         "y": [
          62,
          64.04599999999999,
          66.15951799999999,
          68.34278209399999,
          70.59809390310198,
          72.92783100190434,
          75.33444942496718,
          77.82048625599109,
          80.38856230243879,
          83.04138485841926,
          85.78175055874709,
          88.61254832718573,
          91.53676242198286,
          94.55747558190828,
          97.67787227611124,
          100.9012420612229,
          104.23098304924325,
          107.67060548986827,
          111.2237354710339,
          114.89411874157801,
          118.68562466005008,
          122.60225027383173,
          126.64812453286817,
          130.8275126424528,
          135.14482055965374,
          139.6045996381223,
          144.2115514261803,
          215.05739582215597,
          205.01181679900475,
          195.43547835939444,
          186.30646173440843,
          177.6038720061091,
          169.30779028227752,
          161.39922810512635,
          153.8600839896343,
          146.67310199202507,
          139.8218322135606,
          133.29059314924748,
          127.06443579527883,
          121.12910943305894,
          115.47102901149566,
          110.0772440529034,
          104.93540901134737,
          100.03375501558378,
          95.36106293191972,
          90.90663768533815,
          86.66028378011264,
          82.61228196388241,
          78.75336698177541,
          75.07470636966198,
          71.56788023799999,
          68.22486199999999,
          65.038,
          62
         ]
        },
        {
         "fill": "toself",
         "fillcolor": "rgba(56,  166,  165, 0.2)",
         "hoverinfo": "skip",
         "hovertemplate": "Year: %{x}<br>Price: $%{y:.1f}<extra></extra>",
         "line": {
          "color": "rgba(56,  166,  165, 0.1)"
         },
         "name": "1 Standard Error",
         "showlegend": true,
         "type": "scatter",
         "x": [
          2024,
          2025,
          2026,
          2027,
          2028,
          2029,
          2030,
          2031,
          2032,
          2033,
          2034,
          2035,
          2036,
          2037,
          2038,
          2039,
          2040,
          2041,
          2042,
          2043,
          2044,
          2045,
          2046,
          2047,
          2048,
          2049,
          2050,
          2050,
          2049,
          2048,
          2047,
          2046,
          2045,
          2044,
          2043,
          2042,
          2041,
          2040,
          2039,
          2038,
          2037,
          2036,
          2035,
          2034,
          2033,
          2032,
          2031,
          2030,
          2029,
          2028,
          2027,
          2026,
          2025,
          2024
         ],
         "y": [
          62,
          65.038,
          68.22486199999999,
          71.56788023799999,
          75.07470636966198,
          78.75336698177541,
          82.61228196388241,
          86.66028378011264,
          90.90663768533815,
          95.36106293191972,
          100.03375501558378,
          104.93540901134737,
          110.0772440529034,
          115.47102901149566,
          121.12910943305894,
          127.06443579527883,
          133.29059314924748,
          139.8218322135606,
          146.67310199202507,
          153.8600839896343,
          161.39922810512635,
          169.30779028227752,
          177.6038720061091,
          186.30646173440843,
          195.43547835939444,
          205.01181679900475,
          215.05739582215597,
          215.05739582215597,
          205.01181679900475,
          195.43547835939444,
          186.30646173440843,
          177.6038720061091,
          169.30779028227752,
          161.39922810512635,
          153.8600839896343,
          146.67310199202507,
          139.8218322135606,
          133.29059314924748,
          127.06443579527883,
          121.12910943305894,
          115.47102901149566,
          110.0772440529034,
          104.93540901134737,
          100.03375501558378,
          95.36106293191972,
          90.90663768533815,
          86.66028378011264,
          82.61228196388241,
          78.75336698177541,
          75.07470636966198,
          71.56788023799999,
          68.22486199999999,
          65.038,
          62
         ]
        },
        {
         "hovertemplate": "Year: %{x}<br>Price: $%{y:.1f}<extra></extra>",
         "line": {
          "color": "rgb(56, 166, 165)",
          "width": 4
         },
         "mode": "lines",
         "name": "Central Estimate",
         "type": "scatter",
         "x": [
          2024,
          2025,
          2026,
          2027,
          2028,
          2029,
          2030,
          2031,
          2032,
          2033,
          2034,
          2035,
          2036,
          2037,
          2038,
          2039,
          2040,
          2041,
          2042,
          2043,
          2044,
          2045,
          2046,
          2047,
          2048,
          2049,
          2050
         ],
         "y": [
          62,
          65.038,
          68.22486199999999,
          71.56788023799999,
          75.07470636966198,
          78.75336698177541,
          82.61228196388241,
          86.66028378011264,
          90.90663768533815,
          95.36106293191972,
          100.03375501558378,
          104.93540901134737,
          110.0772440529034,
          115.47102901149566,
          121.12910943305894,
          127.06443579527883,
          133.29059314924748,
          139.8218322135606,
          146.67310199202507,
          153.8600839896343,
          161.39922810512635,
          169.30779028227752,
          177.6038720061091,
          186.30646173440843,
          195.43547835939444,
          205.01181679900475,
          215.05739582215597
         ]
        }
       ],
       "layout": {
        "font": {
         "family": "Arial, sans-serif",
         "size": 12
        },
        "hovermode": "closest",
        "legend": {
         "orientation": "h",
         "x": 1,
         "xanchor": "right",
         "y": 1.02,
         "yanchor": "bottom"
        },
        "margin": {
         "b": 60,
         "l": 60,
         "r": 30,
         "t": 60
        },
        "paper_bgcolor": "white",
        "plot_bgcolor": "white",
        "template": {
         "data": {
          "bar": [
           {
            "error_x": {
             "color": "#2a3f5f"
            },
            "error_y": {
             "color": "#2a3f5f"
            },
            "marker": {
             "line": {
              "color": "#E5ECF6",
              "width": 0.5
             },
             "pattern": {
              "fillmode": "overlay",
              "size": 10,
              "solidity": 0.2
             }
            },
            "type": "bar"
           }
          ],
          "barpolar": [
           {
            "marker": {
             "line": {
              "color": "#E5ECF6",
              "width": 0.5
             },
             "pattern": {
              "fillmode": "overlay",
              "size": 10,
              "solidity": 0.2
             }
            },
            "type": "barpolar"
           }
          ],
          "carpet": [
           {
            "aaxis": {
             "endlinecolor": "#2a3f5f",
             "gridcolor": "white",
             "linecolor": "white",
             "minorgridcolor": "white",
             "startlinecolor": "#2a3f5f"
            },
            "baxis": {
             "endlinecolor": "#2a3f5f",
             "gridcolor": "white",
             "linecolor": "white",
             "minorgridcolor": "white",
             "startlinecolor": "#2a3f5f"
            },
            "type": "carpet"
           }
          ],
          "choropleth": [
           {
            "colorbar": {
             "outlinewidth": 0,
             "ticks": ""
            },
            "type": "choropleth"
           }
          ],
          "contour": [
           {
            "colorbar": {
             "outlinewidth": 0,
             "ticks": ""
            },
            "colorscale": [
             [
              0,
              "#0d0887"
             ],
             [
              0.1111111111111111,
              "#46039f"
             ],
             [
              0.2222222222222222,
              "#7201a8"
             ],
             [
              0.3333333333333333,
              "#9c179e"
             ],
             [
              0.4444444444444444,
              "#bd3786"
             ],
             [
              0.5555555555555556,
              "#d8576b"
             ],
             [
              0.6666666666666666,
              "#ed7953"
             ],
             [
              0.7777777777777778,
              "#fb9f3a"
             ],
             [
              0.8888888888888888,
              "#fdca26"
             ],
             [
              1,
              "#f0f921"
             ]
            ],
            "type": "contour"
           }
          ],
          "contourcarpet": [
           {
            "colorbar": {
             "outlinewidth": 0,
             "ticks": ""
            },
            "type": "contourcarpet"
           }
          ],
          "heatmap": [
           {
            "colorbar": {
             "outlinewidth": 0,
             "ticks": ""
            },
            "colorscale": [
             [
              0,
              "#0d0887"
             ],
             [
              0.1111111111111111,
              "#46039f"
             ],
             [
              0.2222222222222222,
              "#7201a8"
             ],
             [
              0.3333333333333333,
              "#9c179e"
             ],
             [
              0.4444444444444444,
              "#bd3786"
             ],
             [
              0.5555555555555556,
              "#d8576b"
             ],
             [
              0.6666666666666666,
              "#ed7953"
             ],
             [
              0.7777777777777778,
              "#fb9f3a"
             ],
             [
              0.8888888888888888,
              "#fdca26"
             ],
             [
              1,
              "#f0f921"
             ]
            ],
            "type": "heatmap"
           }
          ],
          "heatmapgl": [
           {
            "colorbar": {
             "outlinewidth": 0,
             "ticks": ""
            },
            "colorscale": [
             [
              0,
              "#0d0887"
             ],
             [
              0.1111111111111111,
              "#46039f"
             ],
             [
              0.2222222222222222,
              "#7201a8"
             ],
             [
              0.3333333333333333,
              "#9c179e"
             ],
             [
              0.4444444444444444,
              "#bd3786"
             ],
             [
              0.5555555555555556,
              "#d8576b"
             ],
             [
              0.6666666666666666,
              "#ed7953"
             ],
             [
              0.7777777777777778,
              "#fb9f3a"
             ],
             [
              0.8888888888888888,
              "#fdca26"
             ],
             [
              1,
              "#f0f921"
             ]
            ],
            "type": "heatmapgl"
           }
          ],
          "histogram": [
           {
            "marker": {
             "pattern": {
              "fillmode": "overlay",
              "size": 10,
              "solidity": 0.2
             }
            },
            "type": "histogram"
           }
          ],
          "histogram2d": [
           {
            "colorbar": {
             "outlinewidth": 0,
             "ticks": ""
            },
            "colorscale": [
             [
              0,
              "#0d0887"
             ],
             [
              0.1111111111111111,
              "#46039f"
             ],
             [
              0.2222222222222222,
              "#7201a8"
             ],
             [
              0.3333333333333333,
              "#9c179e"
             ],
             [
              0.4444444444444444,
              "#bd3786"
             ],
             [
              0.5555555555555556,
              "#d8576b"
             ],
             [
              0.6666666666666666,
              "#ed7953"
             ],
             [
              0.7777777777777778,
              "#fb9f3a"
             ],
             [
              0.8888888888888888,
              "#fdca26"
             ],
             [
              1,
              "#f0f921"
             ]
            ],
            "type": "histogram2d"
           }
          ],
          "histogram2dcontour": [
           {
            "colorbar": {
             "outlinewidth": 0,
             "ticks": ""
            },
            "colorscale": [
             [
              0,
              "#0d0887"
             ],
             [
              0.1111111111111111,
              "#46039f"
             ],
             [
              0.2222222222222222,
              "#7201a8"
             ],
             [
              0.3333333333333333,
              "#9c179e"
             ],
             [
              0.4444444444444444,
              "#bd3786"
             ],
             [
              0.5555555555555556,
              "#d8576b"
             ],
             [
              0.6666666666666666,
              "#ed7953"
             ],
             [
              0.7777777777777778,
              "#fb9f3a"
             ],
             [
              0.8888888888888888,
              "#fdca26"
             ],
             [
              1,
              "#f0f921"
             ]
            ],
            "type": "histogram2dcontour"
           }
          ],
          "mesh3d": [
           {
            "colorbar": {
             "outlinewidth": 0,
             "ticks": ""
            },
            "type": "mesh3d"
           }
          ],
          "parcoords": [
           {
            "line": {
             "colorbar": {
              "outlinewidth": 0,
              "ticks": ""
             }
            },
            "type": "parcoords"
           }
          ],
          "pie": [
           {
            "automargin": true,
            "type": "pie"
           }
          ],
          "scatter": [
           {
            "fillpattern": {
             "fillmode": "overlay",
             "size": 10,
             "solidity": 0.2
            },
            "type": "scatter"
           }
          ],
          "scatter3d": [
           {
            "line": {
             "colorbar": {
              "outlinewidth": 0,
              "ticks": ""
             }
            },
            "marker": {
             "colorbar": {
              "outlinewidth": 0,
              "ticks": ""
             }
            },
            "type": "scatter3d"
           }
          ],
          "scattercarpet": [
           {
            "marker": {
             "colorbar": {
              "outlinewidth": 0,
              "ticks": ""
             }
            },
            "type": "scattercarpet"
           }
          ],
          "scattergeo": [
           {
            "marker": {
             "colorbar": {
              "outlinewidth": 0,
              "ticks": ""
             }
            },
            "type": "scattergeo"
           }
          ],
          "scattergl": [
           {
            "marker": {
             "colorbar": {
              "outlinewidth": 0,
              "ticks": ""
             }
            },
            "type": "scattergl"
           }
          ],
          "scattermapbox": [
           {
            "marker": {
             "colorbar": {
              "outlinewidth": 0,
              "ticks": ""
             }
            },
            "type": "scattermapbox"
           }
          ],
          "scatterpolar": [
           {
            "marker": {
             "colorbar": {
              "outlinewidth": 0,
              "ticks": ""
             }
            },
            "type": "scatterpolar"
           }
          ],
          "scatterpolargl": [
           {
            "marker": {
             "colorbar": {
              "outlinewidth": 0,
              "ticks": ""
             }
            },
            "type": "scatterpolargl"
           }
          ],
          "scatterternary": [
           {
            "marker": {
             "colorbar": {
              "outlinewidth": 0,
              "ticks": ""
             }
            },
            "type": "scatterternary"
           }
          ],
          "surface": [
           {
            "colorbar": {
             "outlinewidth": 0,
             "ticks": ""
            },
            "colorscale": [
             [
              0,
              "#0d0887"
             ],
             [
              0.1111111111111111,
              "#46039f"
             ],
             [
              0.2222222222222222,
              "#7201a8"
             ],
             [
              0.3333333333333333,
              "#9c179e"
             ],
             [
              0.4444444444444444,
              "#bd3786"
             ],
             [
              0.5555555555555556,
              "#d8576b"
             ],
             [
              0.6666666666666666,
              "#ed7953"
             ],
             [
              0.7777777777777778,
              "#fb9f3a"
             ],
             [
              0.8888888888888888,
              "#fdca26"
             ],
             [
              1,
              "#f0f921"
             ]
            ],
            "type": "surface"
           }
          ],
          "table": [
           {
            "cells": {
             "fill": {
              "color": "#EBF0F8"
             },
             "line": {
              "color": "white"
             }
            },
            "header": {
             "fill": {
              "color": "#C8D4E3"
             },
             "line": {
              "color": "white"
             }
            },
            "type": "table"
           }
          ]
         },
         "layout": {
          "annotationdefaults": {
           "arrowcolor": "#2a3f5f",
           "arrowhead": 0,
           "arrowwidth": 1
          },
          "autotypenumbers": "strict",
          "coloraxis": {
           "colorbar": {
            "outlinewidth": 0,
            "ticks": ""
           }
          },
          "colorscale": {
           "diverging": [
            [
             0,
             "#8e0152"
            ],
            [
             0.1,
             "#c51b7d"
            ],
            [
             0.2,
             "#de77ae"
            ],
            [
             0.3,
             "#f1b6da"
            ],
            [
             0.4,
             "#fde0ef"
            ],
            [
             0.5,
             "#f7f7f7"
            ],
            [
             0.6,
             "#e6f5d0"
            ],
            [
             0.7,
             "#b8e186"
            ],
            [
             0.8,
             "#7fbc41"
            ],
            [
             0.9,
             "#4d9221"
            ],
            [
             1,
             "#276419"
            ]
           ],
           "sequential": [
            [
             0,
             "#0d0887"
            ],
            [
             0.1111111111111111,
             "#46039f"
            ],
            [
             0.2222222222222222,
             "#7201a8"
            ],
            [
             0.3333333333333333,
             "#9c179e"
            ],
            [
             0.4444444444444444,
             "#bd3786"
            ],
            [
             0.5555555555555556,
             "#d8576b"
            ],
            [
             0.6666666666666666,
             "#ed7953"
            ],
            [
             0.7777777777777778,
             "#fb9f3a"
            ],
            [
             0.8888888888888888,
             "#fdca26"
            ],
            [
             1,
             "#f0f921"
            ]
           ],
           "sequentialminus": [
            [
             0,
             "#0d0887"
            ],
            [
             0.1111111111111111,
             "#46039f"
            ],
            [
             0.2222222222222222,
             "#7201a8"
            ],
            [
             0.3333333333333333,
             "#9c179e"
            ],
            [
             0.4444444444444444,
             "#bd3786"
            ],
            [
             0.5555555555555556,
             "#d8576b"
            ],
            [
             0.6666666666666666,
             "#ed7953"
            ],
            [
             0.7777777777777778,
             "#fb9f3a"
            ],
            [
             0.8888888888888888,
             "#fdca26"
            ],
            [
             1,
             "#f0f921"
            ]
           ]
          },
          "colorway": [
           "#636efa",
           "#EF553B",
           "#00cc96",
           "#ab63fa",
           "#FFA15A",
           "#19d3f3",
           "#FF6692",
           "#B6E880",
           "#FF97FF",
           "#FECB52"
          ],
          "font": {
           "color": "#2a3f5f"
          },
          "geo": {
           "bgcolor": "white",
           "lakecolor": "white",
           "landcolor": "#E5ECF6",
           "showlakes": true,
           "showland": true,
           "subunitcolor": "white"
          },
          "hoverlabel": {
           "align": "left"
          },
          "hovermode": "closest",
          "mapbox": {
           "style": "light"
          },
          "paper_bgcolor": "white",
          "plot_bgcolor": "#E5ECF6",
          "polar": {
           "angularaxis": {
            "gridcolor": "white",
            "linecolor": "white",
            "ticks": ""
           },
           "bgcolor": "#E5ECF6",
           "radialaxis": {
            "gridcolor": "white",
            "linecolor": "white",
            "ticks": ""
           }
          },
          "scene": {
           "xaxis": {
            "backgroundcolor": "#E5ECF6",
            "gridcolor": "white",
            "gridwidth": 2,
            "linecolor": "white",
            "showbackground": true,
            "ticks": "",
            "zerolinecolor": "white"
           },
           "yaxis": {
            "backgroundcolor": "#E5ECF6",
            "gridcolor": "white",
            "gridwidth": 2,
            "linecolor": "white",
            "showbackground": true,
            "ticks": "",
            "zerolinecolor": "white"
           },
           "zaxis": {
            "backgroundcolor": "#E5ECF6",
            "gridcolor": "white",
            "gridwidth": 2,
            "linecolor": "white",
            "showbackground": true,
            "ticks": "",
            "zerolinecolor": "white"
           }
          },
          "shapedefaults": {
           "line": {
            "color": "#2a3f5f"
           }
          },
          "ternary": {
           "aaxis": {
            "gridcolor": "white",
            "linecolor": "white",
            "ticks": ""
           },
           "baxis": {
            "gridcolor": "white",
            "linecolor": "white",
            "ticks": ""
           },
           "bgcolor": "#E5ECF6",
           "caxis": {
            "gridcolor": "white",
            "linecolor": "white",
            "ticks": ""
           }
          },
          "title": {
           "x": 0.05
          },
          "xaxis": {
           "automargin": true,
           "gridcolor": "white",
           "linecolor": "white",
           "ticks": "",
           "title": {
            "standoff": 15
           },
           "zerolinecolor": "white",
           "zerolinewidth": 2
          },
          "yaxis": {
           "automargin": true,
           "gridcolor": "white",
           "linecolor": "white",
           "ticks": "",
           "title": {
            "standoff": 15
           },
           "zerolinecolor": "white",
           "zerolinewidth": 2
          }
         }
        },
        "title": {
         "text": "Carbon Price Projection with Uncertainty Bands"
        },
        "xaxis": {
         "gridcolor": "#eeeeee",
         "range": [
          null,
          2050
         ],
         "showgrid": true,
         "title": {
          "standoff": 15,
          "text": "Year"
         }
        },
        "yaxis": {
         "gridcolor": "#eeeeee",
         "range": [
          0,
          null
         ],
         "rangemode": "nonnegative",
         "showgrid": true,
         "title": {
          "standoff": 15,
          "text": "Price ($/tonne CO₂-e)"
         }
        }
       }
      }
     },
     "metadata": {},
     "output_type": "display_data"
    },
    {
     "name": "stdout",
     "output_type": "stream",
     "text": [
      "\n",
      "Generating emissions pathway chart with uncertainty bands...\n"
     ]
    },
    {
     "data": {
      "application/vnd.plotly.v1+json": {
       "config": {
        "plotlyServerURL": "https://plot.ly"
       },
       "data": [
        {
         "hovertemplate": "Year: %{x}<br>Baseline: %{y:.2f} kt CO₂-e<extra></extra>",
         "line": {
          "color": "rgb(108, 108, 108)",
          "dash": "dash",
          "width": 4
         },
         "mode": "lines",
         "name": "Baseline Emissions (Pre-Response)",
         "type": "scatter",
         "x": [
          2024,
          2025,
          2026,
          2027,
          2028,
          2029,
          2030,
          2031,
          2032,
          2033,
          2034,
          2035,
          2036,
          2037,
          2038,
          2039,
          2040,
          2041,
          2042,
          2043,
          2044,
          2045,
          2046,
          2047,
          2048,
          2049,
          2050
         ],
         "y": [
          35784.31,
          35321.951,
          34705.828,
          34574.591,
          33689.258,
          33412.935,
          32108.852,
          31340.227,
          30484.498,
          29630.917,
          28799.628,
          28044.018,
          27214.798,
          26735.708,
          26146.252,
          25632.683,
          24556.325,
          24075.812,
          23608.93,
          23062.954,
          22527.902,
          21987.637,
          21536.54,
          21056.065,
          20629.911,
          20217.858,
          19840.938
         ]
        },
        {
         "fill": "toself",
         "fillcolor": "rgba(56,  166,  165, 0.1)",
         "hoverinfo": "skip",
         "hovertemplate": "Year: %{x}<br>Emissions: %{y:.2f} kt CO₂-e<extra></extra>",
         "line": {
          "color": "rgba(56,  166,  165, 0.1)"
         },
         "name": "95% Confidence Interval",
         "showlegend": true,
         "type": "scatter",
         "x": [
          2024,
          2025,
          2026,
          2027,
          2028,
          2029,
          2030,
          2031,
          2032,
          2033,
          2034,
          2035,
          2036,
          2037,
          2038,
          2039,
          2040,
          2041,
          2042,
          2043,
          2044,
          2045,
          2046,
          2047,
          2048,
          2049,
          2050,
          2050,
          2049,
          2048,
          2047,
          2046,
          2045,
          2044,
          2043,
          2042,
          2041,
          2040,
          2039,
          2038,
          2037,
          2036,
          2035,
          2034,
          2033,
          2032,
          2031,
          2030,
          2029,
          2028,
          2027,
          2026,
          2025,
          2024
         ],
         "y": [
          35758.269069311325,
          35115.1521183625,
          33931.034295446625,
          32769.71289152156,
          30576.368061057543,
          28973.771583753587,
          26495.757227753013,
          24762.725243477238,
          23139.054657943667,
          21673.84111146557,
          20344.39616553096,
          19168.22593024525,
          17969.046971694886,
          17151.408393728343,
          16241.593573048607,
          15416.901829773446,
          14032.639721651089,
          13243.399511786094,
          12464.236461348746,
          11600.556824258201,
          10741.072878806579,
          9868.707587370896,
          9077.138023355144,
          8247.265558193118,
          7462.3324387974335,
          6681.721592427402,
          5926.103980802292,
          18471.603810722303,
          18886.646248271707,
          19335.762586027497,
          19797.95172099224,
          20313.46462295674,
          20798.633947863334,
          21372.03903991246,
          21939.335578970407,
          22516.703298428278,
          23014.17747726527,
          23524.554369029713,
          24630.149482432447,
          25172.480848692918,
          25790.460358335582,
          26298.209262833967,
          27156.824321387052,
          27943.532642169303,
          28809.1708369049,
          29702.786243895684,
          30607.932324580845,
          31440.603698011717,
          32829.82784925463,
          33217.88320491324,
          34240.15374487569,
          34515.93429241025,
          35248.24194606696,
          35769.364548401536
         ]
        },
        {
         "fill": "toself",
         "fillcolor": "rgba(56,  166,  165, 0.2)",
         "hoverinfo": "skip",
         "hovertemplate": "Year: %{x}<br>Emissions: %{y:.2f} kt CO₂-e<extra></extra>",
         "line": {
          "color": "rgba(56,  166,  165, 0.1)"
         },
         "name": "1 Standard Error",
         "showlegend": true,
         "type": "scatter",
         "x": [
          2024,
          2025,
          2026,
          2027,
          2028,
          2029,
          2030,
          2031,
          2032,
          2033,
          2034,
          2035,
          2036,
          2037,
          2038,
          2039,
          2040,
          2041,
          2042,
          2043,
          2044,
          2045,
          2046,
          2047,
          2048,
          2049,
          2050,
          2050,
          2049,
          2048,
          2047,
          2046,
          2045,
          2044,
          2043,
          2042,
          2041,
          2040,
          2039,
          2038,
          2037,
          2036,
          2035,
          2034,
          2033,
          2032,
          2031,
          2030,
          2029,
          2028,
          2027,
          2026,
          2025,
          2024
         ],
         "y": [
          35761.19324413685,
          35157.102720288174,
          34139.52894241274,
          33338.57728553157,
          31653.760949823314,
          30598.776377571427,
          28618.66560141971,
          27293.99917665742,
          25986.106023623604,
          24758.269161883574,
          23606.180521477472,
          22563.914186833375,
          21468.136206743307,
          20732.79701095735,
          19890.71644875511,
          19123.612852070237,
          17789.718785728226,
          17045.527618333857,
          16307.302847651135,
          15481.194370203042,
          14656.347543953145,
          13815.910569672687,
          13053.645891608065,
          12250.445112047628,
          11489.474860820115,
          10729.99568977692,
          9992.521791170351,
          17326.331233232766,
          17780.064967633258,
          18266.592069501283,
          18764.956035994517,
          19315.4525744262,
          19834.46016326129,
          20440.60654134606,
          21039.600703728545,
          21647.68434036841,
          22174.969230865467,
          22714.352033321236,
          23848.287376189946,
          24418.494466206528,
          25064.18494134489,
          25599.93480118104,
          26487.53591845021,
          27305.27520676965,
          28205.582168336085,
          29139.82447329581,
          30094.73542924445,
          30990.16006082039,
          32458.555076473156,
          32942.29928692036,
          34068.54057663417,
          34436.5820146629,
          35226.36351196423,
          35767.07255692593
         ]
        },
        {
         "hovertemplate": "Year: %{x}<br>Emissions: %{y:.2f} kt CO₂-e<extra></extra>",
         "line": {
          "color": "rgb(56, 166, 165)",
          "width": 4
         },
         "mode": "lines",
         "name": "Emissions After Price Response",
         "type": "scatter",
         "x": [
          2024,
          2025,
          2026,
          2027,
          2028,
          2029,
          2030,
          2031,
          2032,
          2033,
          2034,
          2035,
          2036,
          2037,
          2038,
          2039,
          2040,
          2041,
          2042,
          2043,
          2044,
          2045,
          2046,
          2047,
          2048,
          2049,
          2050
         ],
         "y": [
          35764.348192427,
          35196.640935632575,
          34317.02357089366,
          33789.25695025676,
          32467.963646811073,
          31793.3122810809,
          30159.583705929716,
          29128.85013102165,
          28064.475975859787,
          27040.007725842195,
          26062.571039962466,
          25176.001261540747,
          24224.414035266032,
          23627.135443782845,
          22920.75721668631,
          22289.615487232684,
          21093.762796914096,
          20490.97435270117,
          19898.438577467386,
          19222.99677715544,
          18554.335030269143,
          17876.046705328372,
          17282.28040337298,
          16654.27905330158,
          16075.54179780507,
          15505.653535636742,
          14965.45176920812
         ]
        },
        {
         "hovertemplate": "Year: %{x}<br>Historical: %{y:.2f} kt CO₂-e<extra></extra>",
         "line": {
          "color": "rgb(47, 47, 47)",
          "dash": "solid",
          "width": 4
         },
         "mode": "lines",
         "name": "Historical Emissions",
         "type": "scatter",
         "x": [
          2020,
          2021,
          2022,
          2023
         ],
         "y": [
          36650.48962,
          37781.77548,
          36107.81487,
          35708.11702
         ]
        }
       ],
       "layout": {
        "font": {
         "family": "Arial, sans-serif",
         "size": 12
        },
        "height": 600,
        "hovermode": "closest",
        "legend": {
         "bgcolor": "rgba(255, 255, 255, 0.9)",
         "font": {
          "size": 12
         },
         "orientation": "h",
         "x": 1,
         "xanchor": "right",
         "y": 1.02,
         "yanchor": "bottom"
        },
        "margin": {
         "b": 60,
         "l": 60,
         "r": 30,
         "t": 60
        },
        "paper_bgcolor": "white",
        "plot_bgcolor": "white",
        "template": {
         "data": {
          "bar": [
           {
            "error_x": {
             "color": "#2a3f5f"
            },
            "error_y": {
             "color": "#2a3f5f"
            },
            "marker": {
             "line": {
              "color": "#E5ECF6",
              "width": 0.5
             },
             "pattern": {
              "fillmode": "overlay",
              "size": 10,
              "solidity": 0.2
             }
            },
            "type": "bar"
           }
          ],
          "barpolar": [
           {
            "marker": {
             "line": {
              "color": "#E5ECF6",
              "width": 0.5
             },
             "pattern": {
              "fillmode": "overlay",
              "size": 10,
              "solidity": 0.2
             }
            },
            "type": "barpolar"
           }
          ],
          "carpet": [
           {
            "aaxis": {
             "endlinecolor": "#2a3f5f",
             "gridcolor": "white",
             "linecolor": "white",
             "minorgridcolor": "white",
             "startlinecolor": "#2a3f5f"
            },
            "baxis": {
             "endlinecolor": "#2a3f5f",
             "gridcolor": "white",
             "linecolor": "white",
             "minorgridcolor": "white",
             "startlinecolor": "#2a3f5f"
            },
            "type": "carpet"
           }
          ],
          "choropleth": [
           {
            "colorbar": {
             "outlinewidth": 0,
             "ticks": ""
            },
            "type": "choropleth"
           }
          ],
          "contour": [
           {
            "colorbar": {
             "outlinewidth": 0,
             "ticks": ""
            },
            "colorscale": [
             [
              0,
              "#0d0887"
             ],
             [
              0.1111111111111111,
              "#46039f"
             ],
             [
              0.2222222222222222,
              "#7201a8"
             ],
             [
              0.3333333333333333,
              "#9c179e"
             ],
             [
              0.4444444444444444,
              "#bd3786"
             ],
             [
              0.5555555555555556,
              "#d8576b"
             ],
             [
              0.6666666666666666,
              "#ed7953"
             ],
             [
              0.7777777777777778,
              "#fb9f3a"
             ],
             [
              0.8888888888888888,
              "#fdca26"
             ],
             [
              1,
              "#f0f921"
             ]
            ],
            "type": "contour"
           }
          ],
          "contourcarpet": [
           {
            "colorbar": {
             "outlinewidth": 0,
             "ticks": ""
            },
            "type": "contourcarpet"
           }
          ],
          "heatmap": [
           {
            "colorbar": {
             "outlinewidth": 0,
             "ticks": ""
            },
            "colorscale": [
             [
              0,
              "#0d0887"
             ],
             [
              0.1111111111111111,
              "#46039f"
             ],
             [
              0.2222222222222222,
              "#7201a8"
             ],
             [
              0.3333333333333333,
              "#9c179e"
             ],
             [
              0.4444444444444444,
              "#bd3786"
             ],
             [
              0.5555555555555556,
              "#d8576b"
             ],
             [
              0.6666666666666666,
              "#ed7953"
             ],
             [
              0.7777777777777778,
              "#fb9f3a"
             ],
             [
              0.8888888888888888,
              "#fdca26"
             ],
             [
              1,
              "#f0f921"
             ]
            ],
            "type": "heatmap"
           }
          ],
          "heatmapgl": [
           {
            "colorbar": {
             "outlinewidth": 0,
             "ticks": ""
            },
            "colorscale": [
             [
              0,
              "#0d0887"
             ],
             [
              0.1111111111111111,
              "#46039f"
             ],
             [
              0.2222222222222222,
              "#7201a8"
             ],
             [
              0.3333333333333333,
              "#9c179e"
             ],
             [
              0.4444444444444444,
              "#bd3786"
             ],
             [
              0.5555555555555556,
              "#d8576b"
             ],
             [
              0.6666666666666666,
              "#ed7953"
             ],
             [
              0.7777777777777778,
              "#fb9f3a"
             ],
             [
              0.8888888888888888,
              "#fdca26"
             ],
             [
              1,
              "#f0f921"
             ]
            ],
            "type": "heatmapgl"
           }
          ],
          "histogram": [
           {
            "marker": {
             "pattern": {
              "fillmode": "overlay",
              "size": 10,
              "solidity": 0.2
             }
            },
            "type": "histogram"
           }
          ],
          "histogram2d": [
           {
            "colorbar": {
             "outlinewidth": 0,
             "ticks": ""
            },
            "colorscale": [
             [
              0,
              "#0d0887"
             ],
             [
              0.1111111111111111,
              "#46039f"
             ],
             [
              0.2222222222222222,
              "#7201a8"
             ],
             [
              0.3333333333333333,
              "#9c179e"
             ],
             [
              0.4444444444444444,
              "#bd3786"
             ],
             [
              0.5555555555555556,
              "#d8576b"
             ],
             [
              0.6666666666666666,
              "#ed7953"
             ],
             [
              0.7777777777777778,
              "#fb9f3a"
             ],
             [
              0.8888888888888888,
              "#fdca26"
             ],
             [
              1,
              "#f0f921"
             ]
            ],
            "type": "histogram2d"
           }
          ],
          "histogram2dcontour": [
           {
            "colorbar": {
             "outlinewidth": 0,
             "ticks": ""
            },
            "colorscale": [
             [
              0,
              "#0d0887"
             ],
             [
              0.1111111111111111,
              "#46039f"
             ],
             [
              0.2222222222222222,
              "#7201a8"
             ],
             [
              0.3333333333333333,
              "#9c179e"
             ],
             [
              0.4444444444444444,
              "#bd3786"
             ],
             [
              0.5555555555555556,
              "#d8576b"
             ],
             [
              0.6666666666666666,
              "#ed7953"
             ],
             [
              0.7777777777777778,
              "#fb9f3a"
             ],
             [
              0.8888888888888888,
              "#fdca26"
             ],
             [
              1,
              "#f0f921"
             ]
            ],
            "type": "histogram2dcontour"
           }
          ],
          "mesh3d": [
           {
            "colorbar": {
             "outlinewidth": 0,
             "ticks": ""
            },
            "type": "mesh3d"
           }
          ],
          "parcoords": [
           {
            "line": {
             "colorbar": {
              "outlinewidth": 0,
              "ticks": ""
             }
            },
            "type": "parcoords"
           }
          ],
          "pie": [
           {
            "automargin": true,
            "type": "pie"
           }
          ],
          "scatter": [
           {
            "fillpattern": {
             "fillmode": "overlay",
             "size": 10,
             "solidity": 0.2
            },
            "type": "scatter"
           }
          ],
          "scatter3d": [
           {
            "line": {
             "colorbar": {
              "outlinewidth": 0,
              "ticks": ""
             }
            },
            "marker": {
             "colorbar": {
              "outlinewidth": 0,
              "ticks": ""
             }
            },
            "type": "scatter3d"
           }
          ],
          "scattercarpet": [
           {
            "marker": {
             "colorbar": {
              "outlinewidth": 0,
              "ticks": ""
             }
            },
            "type": "scattercarpet"
           }
          ],
          "scattergeo": [
           {
            "marker": {
             "colorbar": {
              "outlinewidth": 0,
              "ticks": ""
             }
            },
            "type": "scattergeo"
           }
          ],
          "scattergl": [
           {
            "marker": {
             "colorbar": {
              "outlinewidth": 0,
              "ticks": ""
             }
            },
            "type": "scattergl"
           }
          ],
          "scattermapbox": [
           {
            "marker": {
             "colorbar": {
              "outlinewidth": 0,
              "ticks": ""
             }
            },
            "type": "scattermapbox"
           }
          ],
          "scatterpolar": [
           {
            "marker": {
             "colorbar": {
              "outlinewidth": 0,
              "ticks": ""
             }
            },
            "type": "scatterpolar"
           }
          ],
          "scatterpolargl": [
           {
            "marker": {
             "colorbar": {
              "outlinewidth": 0,
              "ticks": ""
             }
            },
            "type": "scatterpolargl"
           }
          ],
          "scatterternary": [
           {
            "marker": {
             "colorbar": {
              "outlinewidth": 0,
              "ticks": ""
             }
            },
            "type": "scatterternary"
           }
          ],
          "surface": [
           {
            "colorbar": {
             "outlinewidth": 0,
             "ticks": ""
            },
            "colorscale": [
             [
              0,
              "#0d0887"
             ],
             [
              0.1111111111111111,
              "#46039f"
             ],
             [
              0.2222222222222222,
              "#7201a8"
             ],
             [
              0.3333333333333333,
              "#9c179e"
             ],
             [
              0.4444444444444444,
              "#bd3786"
             ],
             [
              0.5555555555555556,
              "#d8576b"
             ],
             [
              0.6666666666666666,
              "#ed7953"
             ],
             [
              0.7777777777777778,
              "#fb9f3a"
             ],
             [
              0.8888888888888888,
              "#fdca26"
             ],
             [
              1,
              "#f0f921"
             ]
            ],
            "type": "surface"
           }
          ],
          "table": [
           {
            "cells": {
             "fill": {
              "color": "#EBF0F8"
             },
             "line": {
              "color": "white"
             }
            },
            "header": {
             "fill": {
              "color": "#C8D4E3"
             },
             "line": {
              "color": "white"
             }
            },
            "type": "table"
           }
          ]
         },
         "layout": {
          "annotationdefaults": {
           "arrowcolor": "#2a3f5f",
           "arrowhead": 0,
           "arrowwidth": 1
          },
          "autotypenumbers": "strict",
          "coloraxis": {
           "colorbar": {
            "outlinewidth": 0,
            "ticks": ""
           }
          },
          "colorscale": {
           "diverging": [
            [
             0,
             "#8e0152"
            ],
            [
             0.1,
             "#c51b7d"
            ],
            [
             0.2,
             "#de77ae"
            ],
            [
             0.3,
             "#f1b6da"
            ],
            [
             0.4,
             "#fde0ef"
            ],
            [
             0.5,
             "#f7f7f7"
            ],
            [
             0.6,
             "#e6f5d0"
            ],
            [
             0.7,
             "#b8e186"
            ],
            [
             0.8,
             "#7fbc41"
            ],
            [
             0.9,
             "#4d9221"
            ],
            [
             1,
             "#276419"
            ]
           ],
           "sequential": [
            [
             0,
             "#0d0887"
            ],
            [
             0.1111111111111111,
             "#46039f"
            ],
            [
             0.2222222222222222,
             "#7201a8"
            ],
            [
             0.3333333333333333,
             "#9c179e"
            ],
            [
             0.4444444444444444,
             "#bd3786"
            ],
            [
             0.5555555555555556,
             "#d8576b"
            ],
            [
             0.6666666666666666,
             "#ed7953"
            ],
            [
             0.7777777777777778,
             "#fb9f3a"
            ],
            [
             0.8888888888888888,
             "#fdca26"
            ],
            [
             1,
             "#f0f921"
            ]
           ],
           "sequentialminus": [
            [
             0,
             "#0d0887"
            ],
            [
             0.1111111111111111,
             "#46039f"
            ],
            [
             0.2222222222222222,
             "#7201a8"
            ],
            [
             0.3333333333333333,
             "#9c179e"
            ],
            [
             0.4444444444444444,
             "#bd3786"
            ],
            [
             0.5555555555555556,
             "#d8576b"
            ],
            [
             0.6666666666666666,
             "#ed7953"
            ],
            [
             0.7777777777777778,
             "#fb9f3a"
            ],
            [
             0.8888888888888888,
             "#fdca26"
            ],
            [
             1,
             "#f0f921"
            ]
           ]
          },
          "colorway": [
           "#636efa",
           "#EF553B",
           "#00cc96",
           "#ab63fa",
           "#FFA15A",
           "#19d3f3",
           "#FF6692",
           "#B6E880",
           "#FF97FF",
           "#FECB52"
          ],
          "font": {
           "color": "#2a3f5f"
          },
          "geo": {
           "bgcolor": "white",
           "lakecolor": "white",
           "landcolor": "#E5ECF6",
           "showlakes": true,
           "showland": true,
           "subunitcolor": "white"
          },
          "hoverlabel": {
           "align": "left"
          },
          "hovermode": "closest",
          "mapbox": {
           "style": "light"
          },
          "paper_bgcolor": "white",
          "plot_bgcolor": "#E5ECF6",
          "polar": {
           "angularaxis": {
            "gridcolor": "white",
            "linecolor": "white",
            "ticks": ""
           },
           "bgcolor": "#E5ECF6",
           "radialaxis": {
            "gridcolor": "white",
            "linecolor": "white",
            "ticks": ""
           }
          },
          "scene": {
           "xaxis": {
            "backgroundcolor": "#E5ECF6",
            "gridcolor": "white",
            "gridwidth": 2,
            "linecolor": "white",
            "showbackground": true,
            "ticks": "",
            "zerolinecolor": "white"
           },
           "yaxis": {
            "backgroundcolor": "#E5ECF6",
            "gridcolor": "white",
            "gridwidth": 2,
            "linecolor": "white",
            "showbackground": true,
            "ticks": "",
            "zerolinecolor": "white"
           },
           "zaxis": {
            "backgroundcolor": "#E5ECF6",
            "gridcolor": "white",
            "gridwidth": 2,
            "linecolor": "white",
            "showbackground": true,
            "ticks": "",
            "zerolinecolor": "white"
           }
          },
          "shapedefaults": {
           "line": {
            "color": "#2a3f5f"
           }
          },
          "ternary": {
           "aaxis": {
            "gridcolor": "white",
            "linecolor": "white",
            "ticks": ""
           },
           "baxis": {
            "gridcolor": "white",
            "linecolor": "white",
            "ticks": ""
           },
           "bgcolor": "#E5ECF6",
           "caxis": {
            "gridcolor": "white",
            "linecolor": "white",
            "ticks": ""
           }
          },
          "title": {
           "x": 0.05
          },
          "xaxis": {
           "automargin": true,
           "gridcolor": "white",
           "linecolor": "white",
           "ticks": "",
           "title": {
            "standoff": 15
           },
           "zerolinecolor": "white",
           "zerolinewidth": 2
          },
          "yaxis": {
           "automargin": true,
           "gridcolor": "white",
           "linecolor": "white",
           "ticks": "",
           "title": {
            "standoff": 15
           },
           "zerolinecolor": "white",
           "zerolinewidth": 2
          }
         }
        },
        "title": {
         "text": "Emissions Pathway with Uncertainty Bands"
        },
        "width": 900,
        "xaxis": {
         "gridcolor": "#eeeeee",
         "showgrid": true,
         "title": {
          "standoff": 15,
          "text": "Year"
         }
        },
        "yaxis": {
         "gridcolor": "#eeeeee",
         "range": [
          0,
          null
         ],
         "rangemode": "nonnegative",
         "showgrid": true,
         "title": {
          "standoff": 15,
          "text": "Emissions (kt CO₂-e)"
         }
        }
       }
      }
     },
     "metadata": {},
     "output_type": "display_data"
    },
    {
     "name": "stdout",
     "output_type": "stream",
     "text": [
      "\n",
      "Generating stockpile balance chart with uncertainty bands...\n"
     ]
    },
    {
     "data": {
      "application/vnd.plotly.v1+json": {
       "config": {
        "plotlyServerURL": "https://plot.ly"
       },
       "data": [
        {
         "fill": "toself",
         "fillcolor": "rgba(56,  166,  165, 0.1)",
         "hoverinfo": "skip",
         "hovertemplate": "Year: %{x}<br>Stockpile: %{y:.2f} kt CO₂-e<extra></extra>",
         "line": {
          "color": "rgba(56,  166,  165, 0.1)"
         },
         "name": "95% Confidence Interval",
         "showlegend": true,
         "type": "scatter",
         "x": [
          2024,
          2025,
          2026,
          2027,
          2028,
          2029,
          2030,
          2031,
          2032,
          2033,
          2034,
          2035,
          2036,
          2037,
          2038,
          2039,
          2040,
          2041,
          2042,
          2043,
          2044,
          2045,
          2046,
          2047,
          2048,
          2049,
          2050,
          2050,
          2049,
          2048,
          2047,
          2046,
          2045,
          2044,
          2043,
          2042,
          2041,
          2040,
          2039,
          2038,
          2037,
          2036,
          2035,
          2034,
          2033,
          2032,
          2031,
          2030,
          2029,
          2028,
          2027,
          2026,
          2025,
          2024
         ],
         "y": [
          134656.91020668868,
          113680.72968707618,
          96025.88614137954,
          81910.52376673298,
          69553.10129792543,
          58864.82092498434,
          51532.30964173133,
          51972.68757106659,
          52799.20489562292,
          54627.69295408235,
          56861.62904410139,
          61092.481954943636,
          66882.34200699875,
          74365.84621977039,
          79725.73242572177,
          80440.96251751082,
          78615.49576785973,
          81424.15837207362,
          84860.03344972488,
          90290.76683346668,
          97833.9198096601,
          106958.88105428922,
          116421.14393193407,
          124356.53173574095,
          132826.2812949435,
          140562.9223015161,
          148542.66470571383,
          18063.16185520831,
          21937.60700024507,
          25650.02610734714,
          27991.11799923193,
          30206.05627909638,
          29792.279315407504,
          28554.129651067648,
          27711.51332478546,
          27978.945266806426,
          29336.244056242853,
          30687.38864734453,
          36816.9552415818,
          40907.5997077433,
          41437.06674675682,
          41128.5384044198,
          41026.838875787995,
          40572.940496338815,
          40742.49107533978,
          41515.72270357622,
          44367.57451244261,
          49233.76274052072,
          56578.20905120084,
          67236.76933317746,
          79710.99760962055,
          95296.80083762125,
          113536.54438028151,
          134645.81472759848
         ]
        },
        {
         "fill": "toself",
         "fillcolor": "rgba(56,  166,  165, 0.2)",
         "hoverinfo": "skip",
         "hovertemplate": "Year: %{x}<br>Stockpile: %{y:.2f} kt CO₂-e<extra></extra>",
         "line": {
          "color": "rgba(56,  166,  165, 0.1)"
         },
         "name": "1 Standard Error",
         "showlegend": true,
         "type": "scatter",
         "x": [
          2024,
          2025,
          2026,
          2027,
          2028,
          2029,
          2030,
          2031,
          2032,
          2033,
          2034,
          2035,
          2036,
          2037,
          2038,
          2039,
          2040,
          2041,
          2042,
          2043,
          2044,
          2045,
          2046,
          2047,
          2048,
          2049,
          2050,
          2050,
          2049,
          2048,
          2047,
          2046,
          2045,
          2044,
          2043,
          2042,
          2041,
          2040,
          2039,
          2038,
          2037,
          2036,
          2035,
          2034,
          2033,
          2032,
          2031,
          2030,
          2029,
          2028,
          2027,
          2026,
          2025,
          2024
         ],
         "y": [
          134653.98603186317,
          113635.854910325,
          95772.51671766225,
          81088.28994900567,
          68407.46782165482,
          57573.302766406596,
          50079.5923984456,
          47988.69639460069,
          45968.16235347708,
          44712.22236151849,
          43947.21208959072,
          44782.37674384484,
          47073.14756085154,
          50975.26315639418,
          52686.02648663907,
          49694.54555613133,
          44111.9997424031,
          43118.534240069246,
          42711.342931418105,
          44261.43876921506,
          47889.31708026191,
          53067.075342589225,
          58552.83035198116,
          62485.038601933535,
          66927.64573911342,
          70616.01264833649,
          74529.33724216613,
          18885.0848482311,
          22305.569696463866,
          25667.272065097124,
          28001.782136598405,
          30218.602323056944,
          29807.039367125813,
          28571.494417795075,
          27731.942462111845,
          28002.979546013932,
          29364.51967883992,
          30720.654085694016,
          36856.09105140472,
          40953.64183694673,
          41491.23395758439,
          41192.264534805174,
          41101.810793888435,
          40661.14275292757,
          40846.258436032425,
          41637.80195144991,
          44511.1971569999,
          49402.73055764694,
          56776.99471840817,
          67470.63482400961,
          79986.13348118778,
          95400.32354094693,
          113560.71480585984,
          134648.10671907407
         ]
        },
        {
         "hovertemplate": "Year: %{x}<br>Stockpile: %{y:.2f} kt CO₂-e<extra></extra>",
         "line": {
          "color": "rgb(56, 166, 165)",
          "width": 4
         },
         "mode": "lines",
         "name": "Central Estimate",
         "type": "scatter",
         "x": [
          2024,
          2025,
          2026,
          2027,
          2028,
          2029,
          2030,
          2031,
          2032,
          2033,
          2034,
          2035,
          2036,
          2037,
          2038,
          2039,
          2040,
          2041,
          2042,
          2043,
          2044,
          2045,
          2046,
          2047,
          2048,
          2049,
          2050
         ],
         "y": [
          134650.831083573,
          113593.16174669041,
          95552.32892554674,
          80417.42249216497,
          67837.23048334023,
          57088.60102883919,
          49667.59592151331,
          45741.84896330416,
          42683.85598680853,
          41735.40436608724,
          41416.916793474156,
          41744.21872835304,
          41738.31127910008,
          42746.088441817235,
          42020.26814854465,
          37762.723416262954,
          31491.291595823513,
          30019.56156244999,
          28559.76514708249,
          28205.21022302012,
          28973.772014567105,
          30148.97532438204,
          31406.09582200906,
          30934.470130707487,
          30791.01033090242,
          29703.71939426568,
          28644.114010057558
         ]
        },
        {
         "hovertemplate": "Year: %{x}<br>Without Forestry: %{y:.2f} kt CO₂-e<extra></extra>",
         "line": {
          "color": "rgb(108, 108, 108)",
          "dash": "dash",
          "width": 4
         },
         "mode": "lines",
         "name": "Without Forestry (Central)",
         "type": "scatter",
         "x": [
          2024,
          2025,
          2026,
          2027,
          2028,
          2029,
          2030,
          2031,
          2032,
          2033,
          2034,
          2035,
          2036,
          2037,
          2038,
          2039,
          2040,
          2041,
          2042,
          2043,
          2044,
          2045,
          2046,
          2047,
          2048,
          2049,
          2050
         ],
         "y": [
          140496.11036757298,
          121591.9339786904,
          104319.82591554674,
          88775.52321016497,
          76712.90983634023,
          66537.3252638392,
          57974.03510951332,
          51529.41196830418,
          44668.13462380855,
          38265.55622578727,
          32005.245570874187,
          25792.708051853064,
          19531.07524260011,
          14061.043302317263,
          7649.130036044678,
          1346.0898137629802,
          -4318.318698676463,
          -9042.012438049991,
          -13544.946672417489,
          -17828.91144447986,
          -22059.69297793288,
          -26405.758780117943,
          -30031.257143490926,
          -32818.852996792506,
          -34819.888604597574,
          -36042.26435023431,
          -36518.06563944243
         ]
        }
       ],
       "layout": {
        "font": {
         "family": "Arial, sans-serif",
         "size": 12
        },
        "height": 600,
        "hovermode": "closest",
        "legend": {
         "bgcolor": "rgba(255, 255, 255, 0.9)",
         "font": {
          "size": 12
         },
         "orientation": "h",
         "x": 1,
         "xanchor": "right",
         "y": 1.02,
         "yanchor": "bottom"
        },
        "margin": {
         "b": 60,
         "l": 60,
         "r": 30,
         "t": 60
        },
        "paper_bgcolor": "white",
        "plot_bgcolor": "white",
        "template": {
         "data": {
          "bar": [
           {
            "error_x": {
             "color": "#2a3f5f"
            },
            "error_y": {
             "color": "#2a3f5f"
            },
            "marker": {
             "line": {
              "color": "#E5ECF6",
              "width": 0.5
             },
             "pattern": {
              "fillmode": "overlay",
              "size": 10,
              "solidity": 0.2
             }
            },
            "type": "bar"
           }
          ],
          "barpolar": [
           {
            "marker": {
             "line": {
              "color": "#E5ECF6",
              "width": 0.5
             },
             "pattern": {
              "fillmode": "overlay",
              "size": 10,
              "solidity": 0.2
             }
            },
            "type": "barpolar"
           }
          ],
          "carpet": [
           {
            "aaxis": {
             "endlinecolor": "#2a3f5f",
             "gridcolor": "white",
             "linecolor": "white",
             "minorgridcolor": "white",
             "startlinecolor": "#2a3f5f"
            },
            "baxis": {
             "endlinecolor": "#2a3f5f",
             "gridcolor": "white",
             "linecolor": "white",
             "minorgridcolor": "white",
             "startlinecolor": "#2a3f5f"
            },
            "type": "carpet"
           }
          ],
          "choropleth": [
           {
            "colorbar": {
             "outlinewidth": 0,
             "ticks": ""
            },
            "type": "choropleth"
           }
          ],
          "contour": [
           {
            "colorbar": {
             "outlinewidth": 0,
             "ticks": ""
            },
            "colorscale": [
             [
              0,
              "#0d0887"
             ],
             [
              0.1111111111111111,
              "#46039f"
             ],
             [
              0.2222222222222222,
              "#7201a8"
             ],
             [
              0.3333333333333333,
              "#9c179e"
             ],
             [
              0.4444444444444444,
              "#bd3786"
             ],
             [
              0.5555555555555556,
              "#d8576b"
             ],
             [
              0.6666666666666666,
              "#ed7953"
             ],
             [
              0.7777777777777778,
              "#fb9f3a"
             ],
             [
              0.8888888888888888,
              "#fdca26"
             ],
             [
              1,
              "#f0f921"
             ]
            ],
            "type": "contour"
           }
          ],
          "contourcarpet": [
           {
            "colorbar": {
             "outlinewidth": 0,
             "ticks": ""
            },
            "type": "contourcarpet"
           }
          ],
          "heatmap": [
           {
            "colorbar": {
             "outlinewidth": 0,
             "ticks": ""
            },
            "colorscale": [
             [
              0,
              "#0d0887"
             ],
             [
              0.1111111111111111,
              "#46039f"
             ],
             [
              0.2222222222222222,
              "#7201a8"
             ],
             [
              0.3333333333333333,
              "#9c179e"
             ],
             [
              0.4444444444444444,
              "#bd3786"
             ],
             [
              0.5555555555555556,
              "#d8576b"
             ],
             [
              0.6666666666666666,
              "#ed7953"
             ],
             [
              0.7777777777777778,
              "#fb9f3a"
             ],
             [
              0.8888888888888888,
              "#fdca26"
             ],
             [
              1,
              "#f0f921"
             ]
            ],
            "type": "heatmap"
           }
          ],
          "heatmapgl": [
           {
            "colorbar": {
             "outlinewidth": 0,
             "ticks": ""
            },
            "colorscale": [
             [
              0,
              "#0d0887"
             ],
             [
              0.1111111111111111,
              "#46039f"
             ],
             [
              0.2222222222222222,
              "#7201a8"
             ],
             [
              0.3333333333333333,
              "#9c179e"
             ],
             [
              0.4444444444444444,
              "#bd3786"
             ],
             [
              0.5555555555555556,
              "#d8576b"
             ],
             [
              0.6666666666666666,
              "#ed7953"
             ],
             [
              0.7777777777777778,
              "#fb9f3a"
             ],
             [
              0.8888888888888888,
              "#fdca26"
             ],
             [
              1,
              "#f0f921"
             ]
            ],
            "type": "heatmapgl"
           }
          ],
          "histogram": [
           {
            "marker": {
             "pattern": {
              "fillmode": "overlay",
              "size": 10,
              "solidity": 0.2
             }
            },
            "type": "histogram"
           }
          ],
          "histogram2d": [
           {
            "colorbar": {
             "outlinewidth": 0,
             "ticks": ""
            },
            "colorscale": [
             [
              0,
              "#0d0887"
             ],
             [
              0.1111111111111111,
              "#46039f"
             ],
             [
              0.2222222222222222,
              "#7201a8"
             ],
             [
              0.3333333333333333,
              "#9c179e"
             ],
             [
              0.4444444444444444,
              "#bd3786"
             ],
             [
              0.5555555555555556,
              "#d8576b"
             ],
             [
              0.6666666666666666,
              "#ed7953"
             ],
             [
              0.7777777777777778,
              "#fb9f3a"
             ],
             [
              0.8888888888888888,
              "#fdca26"
             ],
             [
              1,
              "#f0f921"
             ]
            ],
            "type": "histogram2d"
           }
          ],
          "histogram2dcontour": [
           {
            "colorbar": {
             "outlinewidth": 0,
             "ticks": ""
            },
            "colorscale": [
             [
              0,
              "#0d0887"
             ],
             [
              0.1111111111111111,
              "#46039f"
             ],
             [
              0.2222222222222222,
              "#7201a8"
             ],
             [
              0.3333333333333333,
              "#9c179e"
             ],
             [
              0.4444444444444444,
              "#bd3786"
             ],
             [
              0.5555555555555556,
              "#d8576b"
             ],
             [
              0.6666666666666666,
              "#ed7953"
             ],
             [
              0.7777777777777778,
              "#fb9f3a"
             ],
             [
              0.8888888888888888,
              "#fdca26"
             ],
             [
              1,
              "#f0f921"
             ]
            ],
            "type": "histogram2dcontour"
           }
          ],
          "mesh3d": [
           {
            "colorbar": {
             "outlinewidth": 0,
             "ticks": ""
            },
            "type": "mesh3d"
           }
          ],
          "parcoords": [
           {
            "line": {
             "colorbar": {
              "outlinewidth": 0,
              "ticks": ""
             }
            },
            "type": "parcoords"
           }
          ],
          "pie": [
           {
            "automargin": true,
            "type": "pie"
           }
          ],
          "scatter": [
           {
            "fillpattern": {
             "fillmode": "overlay",
             "size": 10,
             "solidity": 0.2
            },
            "type": "scatter"
           }
          ],
          "scatter3d": [
           {
            "line": {
             "colorbar": {
              "outlinewidth": 0,
              "ticks": ""
             }
            },
            "marker": {
             "colorbar": {
              "outlinewidth": 0,
              "ticks": ""
             }
            },
            "type": "scatter3d"
           }
          ],
          "scattercarpet": [
           {
            "marker": {
             "colorbar": {
              "outlinewidth": 0,
              "ticks": ""
             }
            },
            "type": "scattercarpet"
           }
          ],
          "scattergeo": [
           {
            "marker": {
             "colorbar": {
              "outlinewidth": 0,
              "ticks": ""
             }
            },
            "type": "scattergeo"
           }
          ],
          "scattergl": [
           {
            "marker": {
             "colorbar": {
              "outlinewidth": 0,
              "ticks": ""
             }
            },
            "type": "scattergl"
           }
          ],
          "scattermapbox": [
           {
            "marker": {
             "colorbar": {
              "outlinewidth": 0,
              "ticks": ""
             }
            },
            "type": "scattermapbox"
           }
          ],
          "scatterpolar": [
           {
            "marker": {
             "colorbar": {
              "outlinewidth": 0,
              "ticks": ""
             }
            },
            "type": "scatterpolar"
           }
          ],
          "scatterpolargl": [
           {
            "marker": {
             "colorbar": {
              "outlinewidth": 0,
              "ticks": ""
             }
            },
            "type": "scatterpolargl"
           }
          ],
          "scatterternary": [
           {
            "marker": {
             "colorbar": {
              "outlinewidth": 0,
              "ticks": ""
             }
            },
            "type": "scatterternary"
           }
          ],
          "surface": [
           {
            "colorbar": {
             "outlinewidth": 0,
             "ticks": ""
            },
            "colorscale": [
             [
              0,
              "#0d0887"
             ],
             [
              0.1111111111111111,
              "#46039f"
             ],
             [
              0.2222222222222222,
              "#7201a8"
             ],
             [
              0.3333333333333333,
              "#9c179e"
             ],
             [
              0.4444444444444444,
              "#bd3786"
             ],
             [
              0.5555555555555556,
              "#d8576b"
             ],
             [
              0.6666666666666666,
              "#ed7953"
             ],
             [
              0.7777777777777778,
              "#fb9f3a"
             ],
             [
              0.8888888888888888,
              "#fdca26"
             ],
             [
              1,
              "#f0f921"
             ]
            ],
            "type": "surface"
           }
          ],
          "table": [
           {
            "cells": {
             "fill": {
              "color": "#EBF0F8"
             },
             "line": {
              "color": "white"
             }
            },
            "header": {
             "fill": {
              "color": "#C8D4E3"
             },
             "line": {
              "color": "white"
             }
            },
            "type": "table"
           }
          ]
         },
         "layout": {
          "annotationdefaults": {
           "arrowcolor": "#2a3f5f",
           "arrowhead": 0,
           "arrowwidth": 1
          },
          "autotypenumbers": "strict",
          "coloraxis": {
           "colorbar": {
            "outlinewidth": 0,
            "ticks": ""
           }
          },
          "colorscale": {
           "diverging": [
            [
             0,
             "#8e0152"
            ],
            [
             0.1,
             "#c51b7d"
            ],
            [
             0.2,
             "#de77ae"
            ],
            [
             0.3,
             "#f1b6da"
            ],
            [
             0.4,
             "#fde0ef"
            ],
            [
             0.5,
             "#f7f7f7"
            ],
            [
             0.6,
             "#e6f5d0"
            ],
            [
             0.7,
             "#b8e186"
            ],
            [
             0.8,
             "#7fbc41"
            ],
            [
             0.9,
             "#4d9221"
            ],
            [
             1,
             "#276419"
            ]
           ],
           "sequential": [
            [
             0,
             "#0d0887"
            ],
            [
             0.1111111111111111,
             "#46039f"
            ],
            [
             0.2222222222222222,
             "#7201a8"
            ],
            [
             0.3333333333333333,
             "#9c179e"
            ],
            [
             0.4444444444444444,
             "#bd3786"
            ],
            [
             0.5555555555555556,
             "#d8576b"
            ],
            [
             0.6666666666666666,
             "#ed7953"
            ],
            [
             0.7777777777777778,
             "#fb9f3a"
            ],
            [
             0.8888888888888888,
             "#fdca26"
            ],
            [
             1,
             "#f0f921"
            ]
           ],
           "sequentialminus": [
            [
             0,
             "#0d0887"
            ],
            [
             0.1111111111111111,
             "#46039f"
            ],
            [
             0.2222222222222222,
             "#7201a8"
            ],
            [
             0.3333333333333333,
             "#9c179e"
            ],
            [
             0.4444444444444444,
             "#bd3786"
            ],
            [
             0.5555555555555556,
             "#d8576b"
            ],
            [
             0.6666666666666666,
             "#ed7953"
            ],
            [
             0.7777777777777778,
             "#fb9f3a"
            ],
            [
             0.8888888888888888,
             "#fdca26"
            ],
            [
             1,
             "#f0f921"
            ]
           ]
          },
          "colorway": [
           "#636efa",
           "#EF553B",
           "#00cc96",
           "#ab63fa",
           "#FFA15A",
           "#19d3f3",
           "#FF6692",
           "#B6E880",
           "#FF97FF",
           "#FECB52"
          ],
          "font": {
           "color": "#2a3f5f"
          },
          "geo": {
           "bgcolor": "white",
           "lakecolor": "white",
           "landcolor": "#E5ECF6",
           "showlakes": true,
           "showland": true,
           "subunitcolor": "white"
          },
          "hoverlabel": {
           "align": "left"
          },
          "hovermode": "closest",
          "mapbox": {
           "style": "light"
          },
          "paper_bgcolor": "white",
          "plot_bgcolor": "#E5ECF6",
          "polar": {
           "angularaxis": {
            "gridcolor": "white",
            "linecolor": "white",
            "ticks": ""
           },
           "bgcolor": "#E5ECF6",
           "radialaxis": {
            "gridcolor": "white",
            "linecolor": "white",
            "ticks": ""
           }
          },
          "scene": {
           "xaxis": {
            "backgroundcolor": "#E5ECF6",
            "gridcolor": "white",
            "gridwidth": 2,
            "linecolor": "white",
            "showbackground": true,
            "ticks": "",
            "zerolinecolor": "white"
           },
           "yaxis": {
            "backgroundcolor": "#E5ECF6",
            "gridcolor": "white",
            "gridwidth": 2,
            "linecolor": "white",
            "showbackground": true,
            "ticks": "",
            "zerolinecolor": "white"
           },
           "zaxis": {
            "backgroundcolor": "#E5ECF6",
            "gridcolor": "white",
            "gridwidth": 2,
            "linecolor": "white",
            "showbackground": true,
            "ticks": "",
            "zerolinecolor": "white"
           }
          },
          "shapedefaults": {
           "line": {
            "color": "#2a3f5f"
           }
          },
          "ternary": {
           "aaxis": {
            "gridcolor": "white",
            "linecolor": "white",
            "ticks": ""
           },
           "baxis": {
            "gridcolor": "white",
            "linecolor": "white",
            "ticks": ""
           },
           "bgcolor": "#E5ECF6",
           "caxis": {
            "gridcolor": "white",
            "linecolor": "white",
            "ticks": ""
           }
          },
          "title": {
           "x": 0.05
          },
          "xaxis": {
           "automargin": true,
           "gridcolor": "white",
           "linecolor": "white",
           "ticks": "",
           "title": {
            "standoff": 15
           },
           "zerolinecolor": "white",
           "zerolinewidth": 2
          },
          "yaxis": {
           "automargin": true,
           "gridcolor": "white",
           "linecolor": "white",
           "ticks": "",
           "title": {
            "standoff": 15
           },
           "zerolinecolor": "white",
           "zerolinewidth": 2
          }
         }
        },
        "title": {
         "text": "Stockpile Balance with Uncertainty Bands"
        },
        "width": 900,
        "xaxis": {
         "gridcolor": "#eeeeee",
         "showgrid": true,
         "title": {
          "standoff": 15,
          "text": "Year"
         }
        },
        "yaxis": {
         "gridcolor": "#eeeeee",
         "rangemode": "tozero",
         "showgrid": true,
         "title": {
          "standoff": 15,
          "text": "Stockpile Balance (kt CO₂-e)"
         }
        }
       }
      }
     },
     "metadata": {},
     "output_type": "display_data"
    }
   ],
   "source": [
    "# Initialise chart generator\n",
    "chart_gen = ChartGenerator(NZU)\n",
    "\n",
    "# Generate carbon price chart with uncertainty bands\n",
    "print(\"Generating carbon price chart with uncertainty bands...\")\n",
    "price_chart = chart_gen.carbon_price_chart()\n",
    "price_chart.update_layout(title=\"Carbon Price Projection with Uncertainty Bands\")\n",
    "price_chart.show()\n",
    "price_chart.write_image(str(output_dir / \"range_price_chart.png\"))\n",
    "\n",
    "# Generate emissions pathway chart with uncertainty bands\n",
    "print(\"\\nGenerating emissions pathway chart with uncertainty bands...\")\n",
    "emissions_chart = chart_gen.emissions_pathway_chart()\n",
    "emissions_chart.update_layout(title=\"Emissions Pathway with Uncertainty Bands\")\n",
    "emissions_chart.show()\n",
    "emissions_chart.write_image(str(output_dir / \"range_emissions_chart.png\"))\n",
    "\n",
    "# Generate stockpile balance chart with uncertainty bands\n",
    "print(\"\\nGenerating stockpile balance chart with uncertainty bands...\")\n",
    "stockpile_chart = chart_gen.stockpile_balance_chart()\n",
    "stockpile_chart.update_layout(title=\"Stockpile Balance with Uncertainty Bands\")\n",
    "stockpile_chart.show()\n",
    "stockpile_chart.write_image(str(output_dir / \"range_stockpile_chart.png\"))"
   ]
  },
  {
   "cell_type": "markdown",
   "metadata": {},
   "source": [
    "## 6. Create Interactive HTML Dashboard\n",
    "\n",
    "NZUpy provides functionality to create interactive HTML dashboards with multiple charts. Let's create one for our range run."
   ]
  },
  {
   "cell_type": "code",
   "execution_count": 10,
   "metadata": {},
   "outputs": [
    {
     "name": "stdout",
     "output_type": "stream",
     "text": [
      "Chart page saved to: c:\\Users\\nzkri\\Python projects\\NZUpy\\examples\\outputs\\03_range_runs\\range_run_dashboard.html\n",
      "\n",
      "Interactive dashboard saved to: c:\\Users\\nzkri\\Python projects\\NZUpy\\examples\\outputs\\03_range_runs\\range_run_dashboard.html\n",
      "Open this file in a web browser to explore the interactive charts\n"
     ]
    }
   ],
   "source": [
    "# Create a collection of charts for our dashboard\n",
    "chart_collection = {\n",
    "    \"Carbon Price Projection\": price_chart,\n",
    "    \"Emissions Pathway\": emissions_chart,\n",
    "    \"Stockpile Balance\": stockpile_chart\n",
    "}\n",
    "\n",
    "# Create an interactive HTML dashboard\n",
    "dashboard_html = create_chart_page(\n",
    "    charts=chart_collection,\n",
    "    title=\"NZUpy Range Run Analysis\",\n",
    "    subtitle=\"Uncertainty Analysis with Industrial Phase-out and Low Forestry\",\n",
    "    output_dir=output_dir,\n",
    "    filename=\"range_run_dashboard.html\"\n",
    ")\n",
    "\n",
    "print(f\"\\nInteractive dashboard saved to: {output_dir / 'range_run_dashboard.html'}\")\n",
    "print(\"Open this file in a web browser to explore the interactive charts\")"
   ]
  },
  {
   "cell_type": "markdown",
   "metadata": {},
   "source": [
    "## 7. Extract and Analyse Uncertainty Ranges\n",
    "\n",
    "Let's extract the data and analyse the uncertainty ranges for some key metrics."
   ]
  },
  {
   "cell_type": "code",
   "execution_count": 11,
   "metadata": {},
   "outputs": [
    {
     "name": "stdout",
     "output_type": "stream",
     "text": [
      "\n",
      "Uncertainty ranges for carbon prices ($/tCO2e):\n",
      "Year       Central    ±1 Std Err      95% Range           \n",
      "-------------------------------------------------------\n",
      "2030       $82.6       [$82.6 - $82.6] [$75.3 - $82.6]     \n",
      "2035       $104.9      [$104.9 - $104.9] [$88.6 - $104.9]    \n",
      "2040       $133.3      [$133.3 - $133.3] [$104.2 - $133.3]   \n",
      "2045       $169.3      [$169.3 - $169.3] [$122.6 - $169.3]   \n",
      "2050       $215.1      [$215.1 - $215.1] [$144.2 - $215.1]   \n",
      "\n",
      "Uncertainty ranges for emissions (kt CO2e):\n",
      "Year       Central    ±1 Std Err      95% Range           \n",
      "-------------------------------------------------------\n",
      "2030       30,160     [28,619 - 30,990] [26,496 - 31,441]   \n",
      "2035       25,176     [22,564 - 26,488] [19,168 - 27,157]   \n",
      "2040       21,094     [17,790 - 22,714] [14,033 - 23,525]   \n",
      "2045       17,876     [13,816 - 19,834] [9,869 - 20,799]    \n",
      "2050       14,965     [9,993 - 17,326] [5,926 - 18,472]    \n"
     ]
    }
   ],
   "source": [
    "# Extract carbon price data for all sensitivity levels\n",
    "price_data = NZU.prices.xs('carbon_price', level='variable', axis=1)\n",
    "\n",
    "# Focus on a selection of years for each demand sensitivity scenario\n",
    "forecast_years = [2030, 2035, 2040, 2045, 2050]\n",
    "\n",
    "print(\"\\nUncertainty ranges for carbon prices ($/tCO2e):\")\n",
    "print(f\"{'Year':<10} {'Central':<10} {'±1 Std Err':<15} {'95% Range':<20}\")\n",
    "print(\"-\" * 55)\n",
    "\n",
    "for year in forecast_years:\n",
    "    if year in price_data.index:\n",
    "        central = price_data['central'][year]\n",
    "        lower_std = price_data['1 s.e lower'][year]\n",
    "        upper_std = price_data['1 s.e upper'][year]\n",
    "        lower_95 = price_data['95% Lower'][year]\n",
    "        upper_95 = price_data['95% Upper'][year]\n",
    "        \n",
    "        std_range = f\"[${upper_std:.1f} - ${lower_std:.1f}]\"\n",
    "        conf_range = f\"[${upper_95:.1f} - ${lower_95:.1f}]\"\n",
    "        \n",
    "        print(f\"{year:<10} ${central:<10.1f} {std_range:<15} {conf_range:<20}\")\n",
    "\n",
    "# Now do the same for emissions\n",
    "emissions_data = NZU.demand.xs('emissions', level='variable', axis=1)\n",
    "\n",
    "print(\"\\nUncertainty ranges for emissions (kt CO2e):\")\n",
    "print(f\"{'Year':<10} {'Central':<10} {'±1 Std Err':<15} {'95% Range':<20}\")\n",
    "print(\"-\" * 55)\n",
    "\n",
    "for year in forecast_years:\n",
    "    if year in emissions_data.index:\n",
    "        central = emissions_data['central'][year]\n",
    "        lower_std = emissions_data['1 s.e lower'][year]\n",
    "        upper_std = emissions_data['1 s.e upper'][year]\n",
    "        lower_95 = emissions_data['95% Lower'][year]\n",
    "        upper_95 = emissions_data['95% Upper'][year]\n",
    "        \n",
    "        std_range = f\"[{upper_std:,.0f} - {lower_std:,.0f}]\"\n",
    "        conf_range = f\"[{upper_95:,.0f} - {lower_95:,.0f}]\"\n",
    "        \n",
    "        print(f\"{year:<10} {central:<10,.0f} {std_range:<15} {conf_range:<20}\")\n"
   ]
  },
  {
   "cell_type": "markdown",
   "metadata": {},
   "source": [
    "As we can see with above, varying demand response elasticity assumptions can affect price and gross emissions outcomes, with a more elastic demand response seeing lower emissions and a lower carbon price."
   ]
  },
  {
   "cell_type": "markdown",
   "metadata": {},
   "source": [
    "## 8. Exporting results data for later use\n",
    "\n",
    "NZUpy also provides helper functions to explore available variables and export results for further analysis. \n",
    "\n",
    "First, let's see what variables are available in our results, using a helper `list_variables` function:"
   ]
  },
  {
   "cell_type": "code",
   "execution_count": 12,
   "metadata": {},
   "outputs": [
    {
     "name": "stdout",
     "output_type": "stream",
     "text": [
      "Available variables by category:\n",
      "\n",
      "Prices:\n",
      "  self.prices - Carbon prices by scenario\n",
      "  Access real prices: model.prices.xs('carbon_price', level='variable', axis=1)\n",
      "  Access nominal prices: model.prices.xs('carbon_price_nominal', level='variable', axis=1)\n",
      "  Example for specific scenario: model.prices[('central', 'carbon_price')]\n",
      "  Example for nominal prices: model.prices[('central', 'carbon_price_nominal')]\n",
      "\n",
      "Core model outputs:\n",
      "  self.core.xs('avg_price_change_rate', level='variable', axis=1) - Average annual price growth (%)\n",
      "  self.core.xs('price_change_rate', level='variable', axis=1) - Annual price growth rate (%)\n",
      "  self.core.xs('supply_demand_balance', level='variable', axis=1) - Supply minus demand by year (kt CO₂-e)\n",
      "\n",
      "Supply components:\n",
      "  self.supply.xs('auction', level='variable', axis=1) - Units supplied through auction (kt CO₂-e)\n",
      "  self.supply.xs('forestry', level='variable', axis=1) - Units from forestry removals (kt CO₂-e)\n",
      "  self.supply.xs('industrial', level='variable', axis=1) - Units allocated to industrial activities (kt CO₂-e)\n",
      "  self.supply.xs('stockpile', level='variable', axis=1) - Units from stockpile (kt CO₂-e)\n",
      "  self.supply.xs('total', level='variable', axis=1) - Total unit supply (kt CO₂-e)\n",
      "\n",
      "Auction components:\n",
      "  self.auctions.xs('base_available', level='variable', axis=1) - Base auction volume available (kt CO2-e)\n",
      "  self.auctions.xs('base_supplied', level='variable', axis=1) - Base auction volumes actually supplied (kt CO2-e)\n",
      "  self.auctions.xs('ccr1_available', level='variable', axis=1) - CCR1 auction volumes available (kt CO2-e)\n",
      "  self.auctions.xs('ccr1_price', level='variable', axis=1) - CCR1 price trigger ($/tonne CO2-e)\n",
      "  self.auctions.xs('ccr1_supplied', level='variable', axis=1) - CCR1 auction volumes supplied (kt CO2-e)\n",
      "  self.auctions.xs('ccr2_available', level='variable', axis=1) - CCR2 auction volumes available (kt CO2-e)\n",
      "  self.auctions.xs('ccr2_price', level='variable', axis=1) - CCR2 price trigger ($/tonne CO2-e)\n",
      "  self.auctions.xs('ccr2_supplied', level='variable', axis=1) - CCR2 auction volumes supplied (kt CO2-e)\n",
      "  self.auctions.xs('reserve_price', level='variable', axis=1) - Minimum auction price ($/tonne CO2-e)\n",
      "  self.auctions.xs('revenue', level='variable', axis=1) - Annual auction revenue ($)\n",
      "  self.auctions.xs('total_available', level='variable', axis=1) - Total auction available across tiers (kt CO2-e)\n",
      "  self.auctions.xs('total_supplied', level='variable', axis=1) - Total auction supplied across tiers (kt CO2-e)\n",
      "\n",
      "Industrial allocation:\n",
      "  self.industrial.xs('allocation', level='variable', axis=1) - Free allocation to industry (kt CO2-e)\n",
      "\n",
      "Forestry components:\n",
      "  self.forestry.xs('removals', level='variable', axis=1) - Units supplied from forestry (kt CO2-e)\n",
      "\n",
      "Stockpile components:\n",
      "  self.stockpile.xs('balance', level='variable', axis=1) - Total stockpile balance (kt CO2-e)\n",
      "  self.stockpile.xs('borrowed_units', level='variable', axis=1) - Annual borrowing from stockpile (kt CO2-e)\n",
      "  self.stockpile.xs('cumulative_forestry_additions', level='variable', axis=1) - Cumulative forestry held and surrender additions (kt CO2-e)\n",
      "  self.stockpile.xs('cumulative_net_borrowing', level='variable', axis=1) - Cumulative net borrowing (kt CO2-e)\n",
      "  self.stockpile.xs('forestry_contribution', level='variable', axis=1) - Net forestry contribution (kt CO2-e)\n",
      "  self.stockpile.xs('forestry_held', level='variable', axis=1) - Forestry held contributions (kt CO2-e)\n",
      "  self.stockpile.xs('forestry_surrender', level='variable', axis=1) - Forestry surrender contributions (kt CO2-e)\n",
      "  self.stockpile.xs('net_borrowing', level='variable', axis=1) - Net borrowing (paybacks minus borrowing) (kt CO2-e)\n",
      "  self.stockpile.xs('non_surplus_balance', level='variable', axis=1) - Non-surplus stockpile balance (kt CO2-e)\n",
      "  self.stockpile.xs('non_surplus_used', level='variable', axis=1) - Non-surplus units used from stockpile (kt CO2-e)\n",
      "  self.stockpile.xs('payback_units', level='variable', axis=1) - Annual stockpile repayment obligation (kt CO2-e)\n",
      "  self.stockpile.xs('ratio_to_demand', level='variable', axis=1) - Stockpile divided by emissions (ratio)\n",
      "  self.stockpile.xs('surplus_balance', level='variable', axis=1) - Surplus stockpile balance (kt CO2-e)\n",
      "  self.stockpile.xs('surplus_used', level='variable', axis=1) - Surplus units used from stockpile (kt CO2-e)\n",
      "  self.stockpile.xs('units_used', level='variable', axis=1) - Total units used from stockpile (kt CO2-e)\n",
      "  self.stockpile.xs('without_forestry', level='variable', axis=1) - Stockpile balance excluding forestry (kt CO2-e)\n",
      "\n",
      "Demand components:\n",
      "  self.demand.xs('baseline_emissions', level='variable', axis=1) - Baseline emissions (pre-response) (kt CO2-e)\n",
      "  self.demand.xs('emissions', level='variable', axis=1) - Emissions after price response (kt CO2-e)\n",
      "  self.demand.xs('gross_mitigation', level='variable', axis=1) - Difference baseline - emissions (kt CO2-e)\n",
      "  self.demand.xs('net_mitigation', level='variable', axis=1) - Gross mitigation + forestry (kt CO2-e)\n",
      "  self.demand.xs('payback_units', level='variable', axis=1) - Annual stockpile repayment obligation (kt CO2-e)\n",
      "  self.demand.xs('total_demand_with_paybacks', level='variable', axis=1) - Total demand including payback obligations (kt CO2-e)\n",
      "\n",
      "Input parameters:\n",
      "  self.inputs.xs('demand_model', level='variable', axis=1) - Price response model number (integer)\n",
      "  self.inputs.xs('discount_rate', level='variable', axis=1) - Used for stockpile calculations (%)\n",
      "  self.inputs.xs('liquidity_limit', level='variable', axis=1) - Annual non-surplus limit (%)\n",
      "  self.inputs.xs('payback_period', level='variable', axis=1) - Years to pay back borrowed units (years)\n",
      "  self.inputs.xs('price_response_forward_years', level='variable', axis=1) - Price response look ahead (years)\n",
      "  self.inputs.xs('scenario_name', level='variable', axis=1) - Identifier for each scenario (-)\n",
      "  self.inputs.xs('stockpile_start', level='variable', axis=1) - Initial stockpile volume (kt CO2-e)\n",
      "  self.inputs.xs('surplus_start', level='variable', axis=1) - Initial surplus volume (kt CO2-e)\n",
      "  self.inputs.xs('years', level='variable', axis=1) - Model years within start/end (year)\n"
     ]
    }
   ],
   "source": [
    "# Create an output formatter instance\n",
    "from model.utils.output_format import OutputFormat\n",
    "output_formatter = OutputFormat(NZU)\n",
    "\n",
    "# List all available variables by category\n",
    "output_formatter.list_variables()"
   ]
  },
  {
   "cell_type": "markdown",
   "metadata": {},
   "source": [
    "We can check and export a single variable if we wsh, lets check the head of our data for the ratio of stockpile size to annual demand."
   ]
  },
  {
   "cell_type": "code",
   "execution_count": 13,
   "metadata": {},
   "outputs": [
    {
     "name": "stdout",
     "output_type": "stream",
     "text": [
      "\n",
      "Stockpile ratio to demand (first & last 5 years):\n",
      "scenario  95% Lower  1 s.e lower  central  1 s.e upper  95% Upper\n",
      "year                                                             \n",
      "2024           3.76         3.76     3.76         3.77       3.77\n",
      "2025           3.22         3.22     3.23         3.23       3.24\n",
      "2026           2.76         2.77     2.78         2.81       2.83\n",
      "2027           2.33         2.35     2.38         2.43       2.50\n",
      "2028           2.02         2.05     2.09         2.16       2.27\n",
      "2029           1.72         1.75     1.80         1.88       2.03\n",
      "2030           1.57         1.59     1.65         1.75       1.94\n",
      "2031           1.45         1.48     1.57         1.76       2.10\n",
      "2032           1.40         1.43     1.52         1.77       2.28\n",
      "2033           1.41         1.45     1.54         1.81       2.52\n"
     ]
    }
   ],
   "source": [
    "# Get the stockpile ratio to demand for all scenarios\n",
    "stockpile_ratio = NZU.stockpile.xs('ratio_to_demand', level='variable', axis=1)\n",
    "\n",
    "# Display the first few rows to check the data\n",
    "print(\"\\nStockpile ratio to demand (first & last 5 years):\")\n",
    "print(stockpile_ratio.head(10).round(2))"
   ]
  },
  {
   "cell_type": "markdown",
   "metadata": {},
   "source": [
    "Interesting, we see a decreasing stockpile size relative to annual demand at most demand sensitivity levels over this time period, though this trend starts to reverse from the early 2030s in our higher elasticity scenarios (1 s.e upper & 95% upper). We can export this to a CSV for later use too."
   ]
  },
  {
   "cell_type": "code",
   "execution_count": 14,
   "metadata": {},
   "outputs": [],
   "source": [
    "# Create a DataFrame with first 10 years as index and scenarios as columns\n",
    "export_df = pd.DataFrame(index=stockpile_ratio.index[:10])\n",
    "export_df.index.name = 'year'  # Name the index column\n",
    "\n",
    "# Add the stockpile ratio data for each scenario\n",
    "for scenario in NZU.scenarios:\n",
    "    export_df[f'stockpile_ratio_{scenario}'] = stockpile_ratio[scenario][:10].round(2)\n",
    "\n",
    "#Export to CSV\n",
    "csv_path = output_dir / 'stockpile_ratio_to_annual_demand.csv'\n",
    "export_df.to_csv(csv_path)"
   ]
  },
  {
   "cell_type": "markdown",
   "metadata": {},
   "source": [
    "Or we can batch save our results data to CSV files. Lets place these in a subfolder for safekeeping. "
   ]
  },
  {
   "cell_type": "code",
   "execution_count": 15,
   "metadata": {},
   "outputs": [
    {
     "name": "stdout",
     "output_type": "stream",
     "text": [
      "\n",
      "Exporting all model data to separate CSV files...\n",
      "Exported prices data to c:\\Users\\nzkri\\Python projects\\NZUpy\\examples\\outputs\\03_range_runs\\csv_data\\prices.csv\n",
      "Exported core data to c:\\Users\\nzkri\\Python projects\\NZUpy\\examples\\outputs\\03_range_runs\\csv_data\\core.csv\n",
      "Error exporting supply data: [Errno 13] Permission denied: 'c:\\\\Users\\\\nzkri\\\\Python projects\\\\NZUpy\\\\examples\\\\outputs\\\\03_range_runs\\\\csv_data\\\\supply.csv'\n",
      "Exported demand data to c:\\Users\\nzkri\\Python projects\\NZUpy\\examples\\outputs\\03_range_runs\\csv_data\\demand.csv\n",
      "Exported stockpile data to c:\\Users\\nzkri\\Python projects\\NZUpy\\examples\\outputs\\03_range_runs\\csv_data\\stockpile.csv\n",
      "Exported auctions data to c:\\Users\\nzkri\\Python projects\\NZUpy\\examples\\outputs\\03_range_runs\\csv_data\\auctions.csv\n",
      "Exported industrial data to c:\\Users\\nzkri\\Python projects\\NZUpy\\examples\\outputs\\03_range_runs\\csv_data\\industrial.csv\n",
      "Exported forestry data to c:\\Users\\nzkri\\Python projects\\NZUpy\\examples\\outputs\\03_range_runs\\csv_data\\forestry.csv\n"
     ]
    }
   ],
   "source": [
    "# Export all model data to separate CSV files\n",
    "print(\"\\nExporting all model data to separate CSV files...\")\n",
    "chart_gen.export_csv_data(output_dir=output_dir / 'csv_data')"
   ]
  },
  {
   "cell_type": "markdown",
   "metadata": {},
   "source": [
    "## 9. Conclusion\n",
    "\n",
    "This notebook has demonstrated NZUpy's capability to perform uncertainty analysis through range runs. We've seen how to:\n",
    "\n",
    "1. **Set up a range run**\n",
    "2. **Configure custom policy settings** with industrial allocation phased-out more quickly and low forestry\n",
    "3. **Generate and interpret range charts** with uncertainty bands\n",
    "4. **Create interactive dashboards** for exploring results\n",
    "5. **Extract and analyse uncertainty ranges** for key metrics\n",
    "6. **Build custom visualisations** to highlight specific aspects of the results\n",
    "\n",
    "Range runs are a powerful tool for robust policy analysis, allowing stakeholders to understand not just the expected outcomes of different settings but also the uncertainty around those projections. This approach provides a more complete picture for decision-making in the complex and evolving landscape of emissions trading.\n",
    "\n",
    "The interactive nature of NZUpy's visualisations enhances the ability to explore and understand these complex results, making it easier to communicate findings to stakeholders."
   ]
  }
 ],
 "metadata": {
  "kernelspec": {
   "display_name": "venv",
   "language": "python",
   "name": "python3"
  },
  "language_info": {
   "codemirror_mode": {
    "name": "ipython",
    "version": 3
   },
   "file_extension": ".py",
   "mimetype": "text/x-python",
   "name": "python",
   "nbconvert_exporter": "python",
   "pygments_lexer": "ipython3",
   "version": "3.12.6"
  }
 },
 "nbformat": 4,
 "nbformat_minor": 4
}
