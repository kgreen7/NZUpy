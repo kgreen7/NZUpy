{
 "cells": [
  {
   "cell_type": "markdown",
   "metadata": {},
   "source": [
    "# Uncertainty Analysis with NZUpy's Range Runs\n",
    "\n",
    "## Overview of Range Runs\n",
    "\n",
    "NZUpy allows for uncertainty analysis through \"range runs,\" which highlight how uncertainties in the response of gross emissions demand to carbon pricing can affect market outcomes. This notebook demonstrates:\n",
    "\n",
    "1. How to set up and run 'range runs'\n",
    "2. Use a custom function to manually edit input data\n",
    "3. Generate range charts with uncertainty bands\n",
    "4. Extract and export results using inbuilt NZUpy features\n",
    "\n",
    "Let's begin by importing the necessary libraries and setting up our model."
   ]
  },
  {
   "cell_type": "markdown",
   "metadata": {},
   "source": [
    "## 1. Set Up the NZUpy Model"
   ]
  },
  {
   "cell_type": "code",
   "execution_count": 1,
   "metadata": {},
   "outputs": [],
   "source": [
    "# Import necessary libraries\n",
    "import pandas as pd\n",
    "import numpy as np\n",
    "import plotly.graph_objects as go\n",
    "from pathlib import Path\n",
    "import sys\n",
    "import os\n",
    "\n",
    "#Set up NZUpy and chart generation\n",
    "project_root = Path().absolute().parent\n",
    "sys.path.insert(0, str(project_root))\n",
    "from model.core.base_model import NZUpy\n",
    "from model.utils.chart_generator import ChartGenerator\n",
    "from model.interface.chart_display import create_chart_page\n",
    "\n",
    "# Set our input and output directories\n",
    "data_dir = project_root / \"data\"\n",
    "output_dir = project_root / \"examples\" / \"outputs\" / \"03_range_runs\"\n",
    "os.makedirs(output_dir, exist_ok=True)"
   ]
  },
  {
   "cell_type": "code",
   "execution_count": 2,
   "metadata": {},
   "outputs": [],
   "source": [
    "# Initialise NZUpy\n",
    "NZU = NZUpy(data_dir=data_dir)"
   ]
  },
  {
   "cell_type": "markdown",
   "metadata": {},
   "source": [
    "## 2. Set Up Range Scenario Type\n",
    "\n",
    "For uncertainty analysis, we need to set the model to use \"Range\" scenario type, which automatically configures the model to run multiple scenarios with a span of demand response sensitivities. The rest of the set-up process remains similar to running single scenarios through NZUpy.\n"
   ]
  },
  {
   "cell_type": "code",
   "execution_count": null,
   "metadata": {},
   "outputs": [],
   "source": [
    "# Define time periods: start year, end year\n",
    "NZU.define_time(2024, 2050)\n",
    "\n",
    "# Set the scenario type to 'Range' for uncertainty analysis\n",
    "NZU.define_scenario_type('Range')\n",
    "\n",
    "# Prime the model - this will automatically set up the 5 sensitivity levels\n",
    "NZU.prime()"
   ]
  },
  {
   "cell_type": "markdown",
   "metadata": {},
   "source": [
    "## 3. Configure Policy Scenario\n",
    "\n",
    "We'll set up our Range run to examine a topical policy scenario in which the Government actively pursues reform to supply for industrial allocation and forestry removals. We'll do this by:\n",
    "\n",
    "1. Loading the Goverment's 'low' projection for forestry removals.\n",
    "2. Using a custom function to adjust default industrial allocation projections."
   ]
  },
  {
   "cell_type": "code",
   "execution_count": null,
   "metadata": {},
   "outputs": [],
   "source": [
    "# Our approach to configuring the range run is similar to that for single scenario runs.\n",
    "NZU.configure_range_scenarios()"
   ]
  },
  {
   "cell_type": "markdown",
   "metadata": {},
   "source": [
    "First we'll adjust forestry to one of the pre-loaded Government forecasts, the 'low' forecast from the Government's most recent Emissions Reduction Plan."
   ]
  },
  {
   "cell_type": "code",
   "execution_count": null,
   "metadata": {},
   "outputs": [],
   "source": [
    "# Apply the low forestry config to all sensitivity level scenarios\n",
    "for i in range(len(NZU.scenarios)):\n",
    "    NZU.use_config(i, 'forestry', 'low')\n",
    "\n",
    "# Verify forestry configuration for each sensitivity level\n",
    "print(\"\\nVerifying forestry configuration for each sensitivity level:\")\n",
    "for i, scenario in enumerate(NZU.scenarios):\n",
    "    config = NZU.component_configs[i]\n",
    "    print(f\"Scenario {i} ({scenario}) forestry config: {config.forestry}\")"
   ]
  },
  {
   "cell_type": "markdown",
   "metadata": {},
   "source": [
    "Next we'll adjust industrial allocation. First we'll use the `get_industrial_allocation_data` method to extract the default configured industrial allocation volumes we loaded in earlier, then apply a linear reduction through to 2040."
   ]
  },
  {
   "cell_type": "code",
   "execution_count": null,
   "metadata": {},
   "outputs": [],
   "source": [
    "# Get the current industrial allocation data\n",
    "industrial_data = NZU.data_handler.get_industrial_allocation_data(config='central')\n",
    "\n",
    "# Create our phase-out schedule from 2024 (100%) to 2040 (0%)\n",
    "phase_out_years = range(2024, 2041)\n",
    "phase_out_factors = np.linspace(1.0, 0.0, len(phase_out_years))\n",
    "\n",
    "# Create a new DataFrame with phase-out\n",
    "phased_allocation = industrial_data.copy()\n",
    "\n",
    "# Apply the phase-out factors\n",
    "for i, year in enumerate(phase_out_years):\n",
    "    if year in phased_allocation.index:\n",
    "        phased_allocation.loc[year, 'baseline_allocation'] = industrial_data.loc[year, 'baseline_allocation'] * phase_out_factors[i]\n",
    "\n",
    "# Set any years after 2040 to zero\n",
    "for year in phased_allocation.index:\n",
    "    if year > 2040:\n",
    "        phased_allocation.loc[year, 'baseline_allocation'] = 0.0"
   ]
  },
  {
   "cell_type": "markdown",
   "metadata": {},
   "source": [
    "Next we can load in the custom values using the `set_series` method. As we're doing a *Range* run, we'll need to ensure the custom industrial allocation volumes are applied to each demand sensitivity scenario (i.e., all scenarios in our index). "
   ]
  },
  {
   "cell_type": "code",
   "execution_count": null,
   "metadata": {},
   "outputs": [],
   "source": [
    "# Apply the industrial allocation phase-out to ALL sensitivity levels\n",
    "for i in range(len(NZU.scenarios)):\n",
    "    NZU.set_series('baseline_allocation', phased_allocation['baseline_allocation'], 'industrial', scenario_index=i)"
   ]
  },
  {
   "cell_type": "markdown",
   "metadata": {},
   "source": [
    "## 4. Run the Model\n",
    "\n",
    "Now let's run the model with our configured range scenario involving lower afforestation, and phased out industrial allocation by 2040."
   ]
  },
  {
   "cell_type": "code",
   "execution_count": 8,
   "metadata": {},
   "outputs": [],
   "source": [
    "# Run the model\n",
    "results = NZU.run()"
   ]
  },
  {
   "cell_type": "markdown",
   "metadata": {},
   "source": [
    "## 5. Generate Range Charts\n",
    "\n",
    "As with our single scenario runs, we can use inbuilt charting functions to quickly produce charts for our range run. Let's explore this capability by generating charts for carbon price, gross emissions demand and stockpile balance. Range run charts will show the varying demand sensitivity scenarios as a band of uncertainty."
   ]
  },
  {
   "cell_type": "code",
   "execution_count": null,
   "metadata": {},
   "outputs": [],
   "source": [
    "# Initialise chart generator\n",
    "chart_gen = ChartGenerator(NZU)\n",
    "\n",
    "# Generate carbon price chart with uncertainty bands\n",
    "print(\"Generating carbon price chart with uncertainty bands...\")\n",
    "price_chart = chart_gen.carbon_price_chart()\n",
    "price_chart.update_layout(title=\"Carbon Price Projection with Uncertainty Bands\")\n",
    "price_chart.show()\n",
    "price_chart.write_image(str(output_dir / \"range_price_chart.png\"))\n",
    "\n",
    "# Generate emissions pathway chart with uncertainty bands\n",
    "print(\"\\nGenerating emissions pathway chart with uncertainty bands...\")\n",
    "emissions_chart = chart_gen.emissions_pathway_chart()\n",
    "emissions_chart.update_layout(title=\"Emissions Pathway with Uncertainty Bands\")\n",
    "emissions_chart.show()\n",
    "emissions_chart.write_image(str(output_dir / \"range_emissions_chart.png\"))\n",
    "\n",
    "# Generate stockpile balance chart with uncertainty bands\n",
    "print(\"\\nGenerating stockpile balance chart with uncertainty bands...\")\n",
    "stockpile_chart = chart_gen.stockpile_balance_chart()\n",
    "stockpile_chart.update_layout(title=\"Stockpile Balance with Uncertainty Bands\")\n",
    "stockpile_chart.show()\n",
    "stockpile_chart.write_image(str(output_dir / \"range_stockpile_chart.png\"))"
   ]
  },
  {
   "cell_type": "markdown",
   "metadata": {},
   "source": [
    "## 6. Create Interactive HTML Dashboard\n",
    "\n",
    "NZUpy also provides functionality to create interactive HTML dashboards with multiple charts. Let's create one for our range run, which'll be saved to `\\examples\\outputs\\03_range_runs\\range_run_dashboard.html`"
   ]
  },
  {
   "cell_type": "code",
   "execution_count": null,
   "metadata": {},
   "outputs": [],
   "source": [
    "# Create a collection of charts for our dashboard\n",
    "chart_collection = {\n",
    "    \"Carbon Price Projection\": price_chart,\n",
    "    \"Emissions Pathway\": emissions_chart,\n",
    "    \"Stockpile Balance\": stockpile_chart\n",
    "}\n",
    "\n",
    "# Create an interactive HTML dashboard\n",
    "dashboard_html = create_chart_page(\n",
    "    charts=chart_collection,\n",
    "    title=\"NZUpy Range Run Results\",\n",
    "    subtitle=\"Uncertainty analysis with industrial allocation phase-out by 2040 and low forestry\",\n",
    "    output_dir=output_dir,\n",
    "    filename=\"range_run_dashboard.html\"\n",
    ")"
   ]
  },
  {
   "cell_type": "markdown",
   "metadata": {},
   "source": [
    "## 7. Extract and Analyse Uncertainty Ranges\n",
    "\n",
    "Let's also extract the data from our Pandas multi-index dataframe and analyse the range results for some key metrics."
   ]
  },
  {
   "cell_type": "code",
   "execution_count": null,
   "metadata": {},
   "outputs": [],
   "source": [
    "# Extract carbon price data for all sensitivity levels\n",
    "price_data = NZU.prices.xs('carbon_price', level='variable', axis=1)\n",
    "\n",
    "# Focus on a selection of years for each demand sensitivity scenario\n",
    "forecast_years = [2030, 2035, 2040, 2045, 2050]\n",
    "\n",
    "print(\"\\nUncertainty ranges for carbon prices ($/tCO2e):\")\n",
    "print(f\"{'Year':<10} {'Central':<10} {'±1 Std Err':<15} {'95% Range':<20}\")\n",
    "print(\"-\" * 55)\n",
    "\n",
    "for year in forecast_years:\n",
    "    if year in price_data.index:\n",
    "        central = price_data['central'][year]\n",
    "        lower_std = price_data['1 s.e lower'][year]\n",
    "        upper_std = price_data['1 s.e upper'][year]\n",
    "        lower_95 = price_data['95% Lower'][year]\n",
    "        upper_95 = price_data['95% Upper'][year]\n",
    "        \n",
    "        std_range = f\"[${upper_std:.1f} - ${lower_std:.1f}]\"\n",
    "        conf_range = f\"[${upper_95:.1f} - ${lower_95:.1f}]\"\n",
    "        \n",
    "        print(f\"{year:<10} ${central:<10.1f} {std_range:<15} {conf_range:<20}\")\n",
    "\n",
    "# Now do the same for emissions\n",
    "emissions_data = NZU.demand.xs('emissions', level='variable', axis=1)\n",
    "\n",
    "print(\"\\nUncertainty ranges for emissions (kt CO2e):\")\n",
    "print(f\"{'Year':<10} {'Central':<10} {'±1 Std Err':<15} {'95% Range':<20}\")\n",
    "print(\"-\" * 55)\n",
    "\n",
    "for year in forecast_years:\n",
    "    if year in emissions_data.index:\n",
    "        central = emissions_data['central'][year]\n",
    "        lower_std = emissions_data['1 s.e lower'][year]\n",
    "        upper_std = emissions_data['1 s.e upper'][year]\n",
    "        lower_95 = emissions_data['95% Lower'][year]\n",
    "        upper_95 = emissions_data['95% Upper'][year]\n",
    "        \n",
    "        std_range = f\"[{upper_std:,.0f} - {lower_std:,.0f}]\"\n",
    "        conf_range = f\"[{upper_95:,.0f} - {lower_95:,.0f}]\"\n",
    "        \n",
    "        print(f\"{year:<10} {central:<10,.0f} {std_range:<15} {conf_range:<20}\")\n"
   ]
  },
  {
   "cell_type": "markdown",
   "metadata": {},
   "source": [
    "As we can see above, varying demand elasticity assumptions can affect price and gross emissions outcomes, with a more elastic demand response seeing lower emissions and a lower carbon price."
   ]
  },
  {
   "cell_type": "markdown",
   "metadata": {},
   "source": [
    "## 8. Exporting results data for later use\n",
    "\n",
    "NZUpy also provides helper functions to explore available variables and export results for further analysis. \n",
    "\n",
    "First, let's remind ourselves what variables are available in our results using the helper `list_variables` method:"
   ]
  },
  {
   "cell_type": "code",
   "execution_count": null,
   "metadata": {},
   "outputs": [],
   "source": [
    "# Create an output formatter instance\n",
    "from model.utils.output_format import OutputFormat\n",
    "output_formatter = OutputFormat(NZU)\n",
    "\n",
    "# List all available variables by category\n",
    "output_formatter.list_variables()"
   ]
  },
  {
   "cell_type": "markdown",
   "metadata": {},
   "source": [
    "We can examine and export a single variable if we wish. Lets check the head of our data for the ratio of stockpile size to annual demand."
   ]
  },
  {
   "cell_type": "code",
   "execution_count": null,
   "metadata": {},
   "outputs": [],
   "source": [
    "# Get the stockpile ratio to demand for all scenarios\n",
    "stockpile_ratio = NZU.stockpile.xs('ratio_to_demand', level='variable', axis=1)\n",
    "\n",
    "# Display the first few rows to check the data\n",
    "print(\"\\nStockpile ratio to demand (first & last 5 years):\")\n",
    "print(stockpile_ratio.head(10).round(2))"
   ]
  },
  {
   "cell_type": "markdown",
   "metadata": {},
   "source": [
    "Interesting, we see a decreasing stockpile size relative to annual demand at most demand sensitivity levels over this time period, though this trend starts to level off and reverse trend from the early 2030s in our higher elasticity scenarios (1 s.e upper & 95% upper). We can export this to a CSV for later use too."
   ]
  },
  {
   "cell_type": "code",
   "execution_count": 14,
   "metadata": {},
   "outputs": [],
   "source": [
    "# Create a DataFrame with first 10 years as index and scenarios as columns\n",
    "export_df = pd.DataFrame(index=stockpile_ratio.index[:10])\n",
    "export_df.index.name = 'year'  # Name the index column\n",
    "\n",
    "# Add the stockpile ratio data for each scenario\n",
    "for scenario in NZU.scenarios:\n",
    "    export_df[f'stockpile_ratio_{scenario}'] = stockpile_ratio[scenario][:10].round(2)\n",
    "\n",
    "#Export to CSV\n",
    "csv_path = output_dir / 'stockpile_ratio_to_annual_demand.csv'\n",
    "export_df.to_csv(csv_path)"
   ]
  },
  {
   "cell_type": "markdown",
   "metadata": {},
   "source": [
    "Or we can batch save all our results data to CSV files. Lets place these in a subfolder for safekeeping. "
   ]
  },
  {
   "cell_type": "code",
   "execution_count": null,
   "metadata": {},
   "outputs": [],
   "source": [
    "# Export all model data to separate CSV files\n",
    "print(\"\\nExporting all model data to separate CSV files...\")\n",
    "chart_gen.export_csv_data(output_dir=output_dir / 'csv_data')"
   ]
  },
  {
   "cell_type": "markdown",
   "metadata": {},
   "source": [
    "## 9. Conclusion\n",
    "\n",
    "This notebook has demonstrated NZUpy's capability to perform uncertainty analysis through range runs. We've seen how to:\n",
    "\n",
    "1. **Set up a range run**\n",
    "2. **Configure custom policy settings** with industrial allocation phased-out more quickly and a 'low' forestry configuration used.\n",
    "3. **Generate and interpret range charts** with uncertainty bands.\n",
    "4. **Create interactive dashboards**\n",
    "5. **Extract and export uncertainty range results** for different results variables.\n",
    "\n",
    "Range runs are a powerful tool, allowing users to understand not just the expected outcomes of different settings but also the uncertainty around those projections. This approach provides a more complete picture for decision-making, but care needs to be taken in interpretation of what the range represents."
   ]
  }
 ],
 "metadata": {
  "kernelspec": {
   "display_name": "venv",
   "language": "python",
   "name": "python3"
  },
  "language_info": {
   "codemirror_mode": {
    "name": "ipython",
    "version": 3
   },
   "file_extension": ".py",
   "mimetype": "text/x-python",
   "name": "python",
   "nbconvert_exporter": "python",
   "pygments_lexer": "ipython3",
   "version": "3.12.6"
  }
 },
 "nbformat": 4,
 "nbformat_minor": 4
}
