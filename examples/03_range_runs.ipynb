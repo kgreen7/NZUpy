{
 "cells": [
  {
   "cell_type": "markdown",
   "metadata": {},
   "source": [
    "# Uncertainty Analysis with NZUpy's Range Runs\n",
    "\n",
    "## Overview of Range Runs\n",
    "\n",
    "NZUpy allows for uncertainty analysis through \"range runs,\" which enable the evaluation of sensitivities in gross emissions response to carbon pricing. This notebook demonstrates:\n",
    "\n",
    "1. How to set up and run uncertainty analyses\n",
    "2. Creating a policy scenario with custom industrial allocation phase-out\n",
    "3. Generating and interpreting range charts that show uncertainty bands\n",
    "4. Using interactive visualisation capabilities of NZUpy\n",
    "\n",
    "Let's begin by importing the necessary libraries and setting up our model."
   ]
  },
  {
   "cell_type": "markdown",
   "metadata": {},
   "source": [
    "## 1. Set Up the NZUpy Model"
   ]
  },
  {
   "cell_type": "code",
   "execution_count": 1,
   "metadata": {},
   "outputs": [],
   "source": [
    "# Import necessary libraries\n",
    "import pandas as pd\n",
    "import numpy as np\n",
    "import plotly.graph_objects as go\n",
    "from pathlib import Path\n",
    "import sys\n",
    "import os\n",
    "\n",
    "# Add the project root to the path\n",
    "project_root = Path().absolute().parent\n",
    "sys.path.insert(0, str(project_root))\n",
    "\n",
    "# Import the NZUpy class\n",
    "from model.core.base_model import NZUpy\n",
    "from model.utils.chart_generator import ChartGenerator\n",
    "from model.interface.chart_display import create_chart_page\n",
    "\n",
    "# Set our input and output directories\n",
    "data_dir = project_root / \"data\"\n",
    "output_dir = project_root / \"examples\" / \"outputs\" / \"03_range_runs\"\n",
    "os.makedirs(output_dir, exist_ok=True)"
   ]
  },
  {
   "cell_type": "code",
   "execution_count": 2,
   "metadata": {},
   "outputs": [
    {
     "name": "stdout",
     "output_type": "stream",
     "text": [
      "Warning: Stockpile start data file not found: C:\\Users\\nzkri\\Python projects\\NZUpy\\data\\inputs\\parameters\\stockpile_start.csv\n"
     ]
    }
   ],
   "source": [
    "# Initialise NZUpy\n",
    "NZU = NZUpy(data_dir=data_dir)"
   ]
  },
  {
   "cell_type": "markdown",
   "metadata": {},
   "source": [
    "## 2. Define Time Periods and Set Up Range Scenario Type\n",
    "\n",
    "For uncertainty analysis, we need to set the model to use \"Range\" scenario type, which automatically configures the model to run with different demand sensitivities.\n"
   ]
  },
  {
   "cell_type": "code",
   "execution_count": 3,
   "metadata": {},
   "outputs": [
    {
     "name": "stdout",
     "output_type": "stream",
     "text": [
      "Time periods defined:\n",
      "  Optimisation: 2024-2050\n",
      "Scenario type set to 'Range'\n",
      "Model primed with 5 scenarios:\n",
      "  [0] 95% Lower\n",
      "  [1] 1 s.e lower\n",
      "  [2] central\n",
      "  [3] 1 s.e upper\n",
      "  [4] 95% Upper\n"
     ]
    },
    {
     "data": {
      "text/plain": [
       "<model.core.base_model.NZUpy at 0x197ffde1fd0>"
      ]
     },
     "execution_count": 3,
     "metadata": {},
     "output_type": "execute_result"
    }
   ],
   "source": [
    "# Define time periods: start year, end year\n",
    "NZU.define_time(2024, 2050)\n",
    "\n",
    "# Set the scenario type to 'Range' for uncertainty analysis\n",
    "NZU.define_scenario_type('Range')\n",
    "\n",
    "# Prime the model - this will automatically set up the 5 sensitivity levels\n",
    "NZU.prime()"
   ]
  },
  {
   "cell_type": "markdown",
   "metadata": {},
   "source": [
    "## 3. Configure Policy Scenario\n",
    "\n",
    "We'll set up an interesting policy scenario with two key modifications:\n",
    "1. Low forestry configuration - representing reduced forestry planting\n",
    "2. Custom industrial allocation phase-out by 2040 - representing industrial allocation reform"
   ]
  },
  {
   "cell_type": "code",
   "execution_count": 4,
   "metadata": {},
   "outputs": [
    {
     "name": "stdout",
     "output_type": "stream",
     "text": [
      "Set emissions configuration to 'central' for scenario '95% Lower'\n",
      "Set auction configuration to 'central' for scenario '95% Lower'\n",
      "Set industrial allocation configuration to 'central' for scenario '95% Lower'\n",
      "Set forestry configuration to 'central' for scenario '95% Lower'\n",
      "Set demand model number to 2 for scenario '95% Lower'\n",
      "Set demand sensitivity to 'central' for scenario '95% Lower'\n",
      "Using central config for stockpile in scenario 0 (95% Lower)\n",
      "Using central configs for all components in model scenario 0 (95% Lower)\n",
      "Set demand model number to 2 for scenario '95% Lower'\n",
      "Set demand sensitivity to '95% Lower' for scenario '95% Lower'\n",
      "Set emissions configuration to 'central' for scenario '1 s.e lower'\n",
      "Set auction configuration to 'central' for scenario '1 s.e lower'\n",
      "Set industrial allocation configuration to 'central' for scenario '1 s.e lower'\n",
      "Set forestry configuration to 'central' for scenario '1 s.e lower'\n",
      "Set demand model number to 2 for scenario '1 s.e lower'\n",
      "Set demand sensitivity to 'central' for scenario '1 s.e lower'\n",
      "Using central config for stockpile in scenario 1 (1 s.e lower)\n",
      "Using central configs for all components in model scenario 1 (1 s.e lower)\n",
      "Set demand model number to 2 for scenario '1 s.e lower'\n",
      "Set demand sensitivity to '1 s.e lower' for scenario '1 s.e lower'\n",
      "Set emissions configuration to 'central' for scenario 'central'\n",
      "Set auction configuration to 'central' for scenario 'central'\n",
      "Set industrial allocation configuration to 'central' for scenario 'central'\n",
      "Set forestry configuration to 'central' for scenario 'central'\n",
      "Set demand model number to 2 for scenario 'central'\n",
      "Set demand sensitivity to 'central' for scenario 'central'\n",
      "Using central config for stockpile in scenario 2 (central)\n",
      "Using central configs for all components in model scenario 2 (central)\n",
      "Set demand model number to 2 for scenario 'central'\n",
      "Set demand sensitivity to 'central' for scenario 'central'\n",
      "Set emissions configuration to 'central' for scenario '1 s.e upper'\n",
      "Set auction configuration to 'central' for scenario '1 s.e upper'\n",
      "Set industrial allocation configuration to 'central' for scenario '1 s.e upper'\n",
      "Set forestry configuration to 'central' for scenario '1 s.e upper'\n",
      "Set demand model number to 2 for scenario '1 s.e upper'\n",
      "Set demand sensitivity to 'central' for scenario '1 s.e upper'\n",
      "Using central config for stockpile in scenario 3 (1 s.e upper)\n",
      "Using central configs for all components in model scenario 3 (1 s.e upper)\n",
      "Set demand model number to 2 for scenario '1 s.e upper'\n",
      "Set demand sensitivity to '1 s.e upper' for scenario '1 s.e upper'\n",
      "Set emissions configuration to 'central' for scenario '95% Upper'\n",
      "Set auction configuration to 'central' for scenario '95% Upper'\n",
      "Set industrial allocation configuration to 'central' for scenario '95% Upper'\n",
      "Set forestry configuration to 'central' for scenario '95% Upper'\n",
      "Set demand model number to 2 for scenario '95% Upper'\n",
      "Set demand sensitivity to 'central' for scenario '95% Upper'\n",
      "Using central config for stockpile in scenario 4 (95% Upper)\n",
      "Using central configs for all components in model scenario 4 (95% Upper)\n",
      "Set demand model number to 2 for scenario '95% Upper'\n",
      "Set demand sensitivity to '95% Upper' for scenario '95% Upper'\n",
      "Configured all scenarios for 'Range' run with demand model 2\n",
      "Set forestry configuration to 'low' for scenario '95% Lower'\n",
      "Applied 'low' forestry configuration\n"
     ]
    }
   ],
   "source": [
    "# First, let's use the central configuration for all components as our starting point\n",
    "NZU.configure_range_scenarios()\n",
    "\n",
    "# Then apply the low forestry config\n",
    "NZU.use_config(0, 'forestry', 'low')\n",
    "print(\"Applied 'low' forestry configuration\")\n"
   ]
  },
  {
   "cell_type": "code",
   "execution_count": 5,
   "metadata": {},
   "outputs": [
    {
     "name": "stdout",
     "output_type": "stream",
     "text": [
      "\n",
      "Setting up industrial allocation phase-out...\n",
      "\n",
      "Raw Industrial Allocation Data Structure:\n",
      "      baseline_allocation  activity_adjustment\n",
      "year                                          \n",
      "2020          7638.401600                  1.0\n",
      "2021          6404.526600                  1.0\n",
      "2022          6146.079000                  1.0\n",
      "2023          6067.094999                  1.0\n",
      "2024          6058.110998                  1.0\n",
      "Updated industrial.baseline_allocation for scenario '95% Lower'\n"
     ]
    },
    {
     "data": {
      "text/plain": [
       "<model.core.base_model.NZUpy at 0x197ffde1fd0>"
      ]
     },
     "execution_count": 5,
     "metadata": {},
     "output_type": "execute_result"
    }
   ],
   "source": [
    "# Now let's create a custom industrial allocation phase-out schedule\n",
    "print(\"\\nSetting up industrial allocation phase-out...\")\n",
    "\n",
    "# Get the current industrial allocation data\n",
    "industrial_baseline_data = NZU.data_handler.get_industrial_allocation_data(config='central')\n",
    "\n",
    "# Check what we got\n",
    "print(\"\\nRaw Industrial Allocation Data Structure:\")\n",
    "print(industrial_baseline_data.head())\n",
    "\n",
    "# Create our phase-out schedule from 2024 (100%) to 2040 (0%)\n",
    "phase_out_years = range(2024, 2041)\n",
    "phase_out_factors = np.linspace(1.0, 0.0, len(phase_out_years))\n",
    "\n",
    "# Create a new DataFrame for our phased allocation\n",
    "phased_allocation = industrial_baseline_data.copy()\n",
    "\n",
    "# Apply the phase-out factors to the baseline allocation\n",
    "for i, year in enumerate(phase_out_years):\n",
    "    if year in phased_allocation.index:\n",
    "        phased_allocation.loc[year, 'baseline_allocation'] = industrial_baseline_data.loc[year, 'baseline_allocation'] * phase_out_factors[i]\n",
    "\n",
    "# Set any years after 2040 to zero\n",
    "for year in phased_allocation.index:\n",
    "    if year > 2040:\n",
    "        phased_allocation.loc[year, 'baseline_allocation'] = 0.0\n",
    "\n",
    "# Update the industrial allocation series in the model\n",
    "NZU.set_series('baseline_allocation', phased_allocation['baseline_allocation'], 'industrial')"
   ]
  },
  {
   "cell_type": "code",
   "execution_count": 6,
   "metadata": {},
   "outputs": [
    {
     "name": "stdout",
     "output_type": "stream",
     "text": [
      "\n",
      "Modified industrial allocation with phase-out by 2040:\n",
      "      baseline_allocation  activity_adjustment\n",
      "year                                          \n",
      "2024          6058.110998                  1.0\n",
      "2030          2928.459897                  1.0\n",
      "2035          1276.728037                  1.0\n",
      "2040             0.000000                  1.0\n",
      "2045             0.000000                  1.0\n"
     ]
    }
   ],
   "source": [
    "# Print the modified industrial allocation to verify\n",
    "print(\"\\nModified industrial allocation with phase-out by 2040:\")\n",
    "print(phased_allocation.loc[[2024, 2030, 2035, 2040, 2045]])"
   ]
  },
  {
   "cell_type": "markdown",
   "metadata": {},
   "source": [
    "## 4. Run the Model with Uncertainty Analysis\n",
    "\n",
    "Now let's run the model with our configured range scenario."
   ]
  },
  {
   "cell_type": "code",
   "execution_count": 7,
   "metadata": {},
   "outputs": [
    {
     "name": "stdout",
     "output_type": "stream",
     "text": [
      "Set emissions configuration to 'central' for scenario '95% Lower'\n",
      "Set auction configuration to 'central' for scenario '95% Lower'\n",
      "Set industrial allocation configuration to 'central' for scenario '95% Lower'\n",
      "Set forestry configuration to 'central' for scenario '95% Lower'\n",
      "Set demand model number to 2 for scenario '95% Lower'\n",
      "Set demand sensitivity to 'central' for scenario '95% Lower'\n",
      "Using central config for stockpile in scenario 0 (95% Lower)\n",
      "Using central configs for all components in model scenario 0 (95% Lower)\n",
      "Set demand model number to 2 for scenario '95% Lower'\n",
      "Set demand sensitivity to '95% Lower' for scenario '95% Lower'\n",
      "Set emissions configuration to 'central' for scenario '1 s.e lower'\n",
      "Set auction configuration to 'central' for scenario '1 s.e lower'\n",
      "Set industrial allocation configuration to 'central' for scenario '1 s.e lower'\n",
      "Set forestry configuration to 'central' for scenario '1 s.e lower'\n",
      "Set demand model number to 2 for scenario '1 s.e lower'\n",
      "Set demand sensitivity to 'central' for scenario '1 s.e lower'\n",
      "Using central config for stockpile in scenario 1 (1 s.e lower)\n",
      "Using central configs for all components in model scenario 1 (1 s.e lower)\n",
      "Set demand model number to 2 for scenario '1 s.e lower'\n",
      "Set demand sensitivity to '1 s.e lower' for scenario '1 s.e lower'\n",
      "Set emissions configuration to 'central' for scenario 'central'\n",
      "Set auction configuration to 'central' for scenario 'central'\n",
      "Set industrial allocation configuration to 'central' for scenario 'central'\n",
      "Set forestry configuration to 'central' for scenario 'central'\n",
      "Set demand model number to 2 for scenario 'central'\n",
      "Set demand sensitivity to 'central' for scenario 'central'\n",
      "Using central config for stockpile in scenario 2 (central)\n",
      "Using central configs for all components in model scenario 2 (central)\n",
      "Set demand model number to 2 for scenario 'central'\n",
      "Set demand sensitivity to 'central' for scenario 'central'\n",
      "Set emissions configuration to 'central' for scenario '1 s.e upper'\n",
      "Set auction configuration to 'central' for scenario '1 s.e upper'\n",
      "Set industrial allocation configuration to 'central' for scenario '1 s.e upper'\n",
      "Set forestry configuration to 'central' for scenario '1 s.e upper'\n",
      "Set demand model number to 2 for scenario '1 s.e upper'\n",
      "Set demand sensitivity to 'central' for scenario '1 s.e upper'\n",
      "Using central config for stockpile in scenario 3 (1 s.e upper)\n",
      "Using central configs for all components in model scenario 3 (1 s.e upper)\n",
      "Set demand model number to 2 for scenario '1 s.e upper'\n",
      "Set demand sensitivity to '1 s.e upper' for scenario '1 s.e upper'\n",
      "Set emissions configuration to 'central' for scenario '95% Upper'\n",
      "Set auction configuration to 'central' for scenario '95% Upper'\n",
      "Set industrial allocation configuration to 'central' for scenario '95% Upper'\n",
      "Set forestry configuration to 'central' for scenario '95% Upper'\n",
      "Set demand model number to 2 for scenario '95% Upper'\n",
      "Set demand sensitivity to 'central' for scenario '95% Upper'\n",
      "Using central config for stockpile in scenario 4 (95% Upper)\n",
      "Using central configs for all components in model scenario 4 (95% Upper)\n",
      "Set demand model number to 2 for scenario '95% Upper'\n",
      "Set demand sensitivity to '95% Upper' for scenario '95% Upper'\n",
      "Configured all scenarios for 'Range' run with demand model 2\n"
     ]
    }
   ],
   "source": [
    "# Run the model\n",
    "results = NZU.run()"
   ]
  },
  {
   "cell_type": "markdown",
   "metadata": {},
   "source": [
    "## 5. Generate Range Charts\n",
    "\n",
    "One of the key advantages of range runs is the ability to generate charts that show uncertainty bands around central estimates. Let's explore this capability."
   ]
  },
  {
   "cell_type": "code",
   "execution_count": null,
   "metadata": {},
   "outputs": [],
   "source": [
    "# Initialise chart generator\n",
    "chart_gen = ChartGenerator(NZU)\n",
    "\n",
    "# Generate carbon price chart with uncertainty bands\n",
    "print(\"Generating carbon price chart with uncertainty bands...\")\n",
    "price_chart = chart_gen.carbon_price_chart()\n",
    "price_chart.update_layout(title=\"Carbon Price Projection with Uncertainty Bands\")\n",
    "price_chart.show()\n",
    "price_chart.write_image(str(output_dir / \"range_price_chart.png\"))\n",
    "\n",
    "# Generate emissions pathway chart with uncertainty bands\n",
    "print(\"\\nGenerating emissions pathway chart with uncertainty bands...\")\n",
    "emissions_chart = chart_gen.emissions_pathway_chart()\n",
    "emissions_chart.update_layout(title=\"Emissions Pathway with Uncertainty Bands\")\n",
    "emissions_chart.show()\n",
    "emissions_chart.write_image(str(output_dir / \"range_emissions_chart.png\"))\n",
    "\n",
    "# Generate stockpile balance chart with uncertainty bands\n",
    "print(\"\\nGenerating stockpile balance chart with uncertainty bands...\")\n",
    "stockpile_chart = chart_gen.stockpile_balance_chart()\n",
    "stockpile_chart.update_layout(title=\"Stockpile Balance with Uncertainty Bands\")\n",
    "stockpile_chart.show()\n",
    "stockpile_chart.write_image(str(output_dir / \"range_stockpile_chart.png\"))"
   ]
  },
  {
   "cell_type": "markdown",
   "metadata": {},
   "source": [
    "## 6. Create Interactive HTML Dashboard\n",
    "\n",
    "NZUpy provides functionality to create interactive HTML dashboards with multiple charts. Let's create one for our range run."
   ]
  },
  {
   "cell_type": "code",
   "execution_count": null,
   "metadata": {},
   "outputs": [],
   "source": [
    "# Create a collection of charts for our dashboard\n",
    "chart_collection = {\n",
    "    \"Carbon Price Projection\": price_chart,\n",
    "    \"Emissions Pathway\": emissions_chart,\n",
    "    \"Stockpile Balance\": stockpile_chart\n",
    "}\n",
    "\n",
    "# Create an interactive HTML dashboard\n",
    "dashboard_html = create_chart_page(\n",
    "    charts=chart_collection,\n",
    "    title=\"NZUpy Range Run Analysis\",\n",
    "    subtitle=\"Uncertainty Analysis with Industrial Phase-out and Low Forestry\",\n",
    "    output_dir=output_dir,\n",
    "    filename=\"range_run_dashboard.html\"\n",
    ")\n",
    "\n",
    "print(f\"\\nInteractive dashboard saved to: {output_dir / 'range_run_dashboard.html'}\")\n",
    "print(\"Open this file in a web browser to explore the interactive charts\")"
   ]
  },
  {
   "cell_type": "markdown",
   "metadata": {},
   "source": [
    "## 7. Extract and Analyse Uncertainty Ranges\n",
    "\n",
    "Let's extract the data and analyse the uncertainty ranges for key metrics."
   ]
  },
  {
   "cell_type": "code",
   "execution_count": null,
   "metadata": {},
   "outputs": [],
   "source": [
    "# Extract carbon price data for all sensitivity levels\n",
    "print(\"\\nExtracted carbon price data for uncertainty analysis:\")\n",
    "price_data = NZU.prices.xs('carbon_price', level='variable', axis=1)\n",
    "print(price_data.head())\n",
    "\n",
    "# Calculate the width of uncertainty bands at different years\n",
    "forecast_years = [2030, 2035, 2040, 2045, 2050]\n",
    "\n",
    "print(\"\\nUncertainty ranges for carbon prices ($/tCO2e):\")\n",
    "print(f\"{'Year':<10} {'Central':<10} {'±1 Std Err':<15} {'95% Range':<20}\")\n",
    "print(\"-\" * 55)\n",
    "\n",
    "for year in forecast_years:\n",
    "    if year in price_data.index:\n",
    "        central = price_data['central'][year]\n",
    "        lower_std = price_data['1 s.e lower'][year]\n",
    "        upper_std = price_data['1 s.e upper'][year]\n",
    "        lower_95 = price_data['95% Lower'][year]\n",
    "        upper_95 = price_data['95% Upper'][year]\n",
    "        \n",
    "        std_range = f\"[{lower_std:.2f}, {upper_std:.2f}]\"\n",
    "        conf_range = f\"[{lower_95:.2f}, {upper_95:.2f}]\"\n",
    "        \n",
    "        print(f\"{year:<10} {central:<10.2f} {std_range:<15} {conf_range:<20}\")\n",
    "\n",
    "# Now do the same for emissions\n",
    "emissions_data = NZU.demand.xs('emissions', level='variable', axis=1)\n",
    "\n",
    "print(\"\\nUncertainty ranges for emissions (kt CO2e):\")\n",
    "print(f\"{'Year':<10} {'Central':<10} {'±1 Std Err':<15} {'95% Range':<20}\")\n",
    "print(\"-\" * 55)\n",
    "\n",
    "for year in forecast_years:\n",
    "    if year in emissions_data.index:\n",
    "        central = emissions_data['central'][year]\n",
    "        lower_std = emissions_data['1 s.e lower'][year]\n",
    "        upper_std = emissions_data['1 s.e upper'][year]\n",
    "        lower_95 = emissions_data['95% Lower'][year]\n",
    "        upper_95 = emissions_data['95% Upper'][year]\n",
    "        \n",
    "        std_range = f\"[{lower_std:.0f}, {upper_std:.0f}]\"\n",
    "        conf_range = f\"[{lower_95:.0f}, {upper_95:.0f}]\"\n",
    "        \n",
    "        print(f\"{year:<10} {central:<10.0f} {std_range:<15} {conf_range:<20}\")\n"
   ]
  },
  {
   "cell_type": "markdown",
   "metadata": {},
   "source": [
    "## 8. Create a Custom Chart Comparing Baseline and Price-Responsive Emissions\n",
    "\n",
    "Let's create a custom chart comparing baseline emissions (before price response) with the central estimate of price-responsive emissions."
   ]
  },
  {
   "cell_type": "code",
   "execution_count": null,
   "metadata": {},
   "outputs": [],
   "source": [
    "# Extract baseline emissions and price-responsive emissions\n",
    "baseline_emissions = NZU.demand.xs('baseline', level='variable', axis=1)['central']\n",
    "responsive_emissions = NZU.demand.xs('emissions', level='variable', axis=1)['central']\n",
    "\n",
    "# Create a custom figure\n",
    "fig = go.Figure()\n",
    "\n",
    "# Add traces\n",
    "fig.add_trace(go.Scatter(\n",
    "    x=baseline_emissions.index,\n",
    "    y=baseline_emissions.values,\n",
    "    name=\"Baseline Emissions (Before Price Response)\",\n",
    "    line=dict(color=\"rgb(204, 85, 68)\", width=3, dash='dash')\n",
    "))\n",
    "\n",
    "fig.add_trace(go.Scatter(\n",
    "    x=responsive_emissions.index,\n",
    "    y=responsive_emissions.values,\n",
    "    name=\"Emissions After Price Response (Central Estimate)\",\n",
    "    line=dict(color=\"rgb(68, 114, 196)\", width=3)\n",
    "))\n",
    "\n",
    "# Calculate and add gross mitigation as a filled area\n",
    "fig.add_trace(go.Scatter(\n",
    "    x=baseline_emissions.index.tolist() + baseline_emissions.index.tolist()[::-1],\n",
    "    y=baseline_emissions.values.tolist() + responsive_emissions.values.tolist()[::-1],\n",
    "    fill='toself',\n",
    "    fillcolor='rgba(68, 114, 196, 0.2)',\n",
    "    line=dict(width=0),\n",
    "    name=\"Gross Mitigation\",\n",
    "    showlegend=True\n",
    "))\n",
    "\n",
    "# Update layout\n",
    "fig.update_layout(\n",
    "    title=\"Impact of Carbon Price on Emissions\",\n",
    "    xaxis_title=\"Year\",\n",
    "    yaxis_title=\"Emissions (kt CO₂-e)\",\n",
    "    legend=dict(\n",
    "        orientation=\"h\",\n",
    "        yanchor=\"bottom\",\n",
    "        y=1.02,\n",
    "        xanchor=\"right\",\n",
    "        x=1\n",
    "    )\n",
    ")\n",
    "\n",
    "# Show and save the figure\n",
    "fig.show()\n",
    "fig.write_image(str(output_dir / \"custom_emissions_mitigation_chart.png\"))"
   ]
  },
  {
   "cell_type": "markdown",
   "metadata": {},
   "source": [
    "## 9. Discussion of Range Run Results\n",
    "\n",
    "The range charts provide valuable insights about both the expected outcomes and the uncertainty around our policy scenario:\n",
    "\n",
    "1. **Carbon Price Uncertainty**: The carbon price chart shows the central estimate along with two uncertainty bands: the darker band represents one standard error around the central estimate, while the lighter band represents the 95% confidence interval. This demonstrates the substantial uncertainty in price projections, particularly in later years.\n",
    "\n",
    "2. **Policy Effects**: Our policy scenario, with its combination of lower forestry removals and phased-out industrial allocation, leads to higher carbon prices due to reduced unit supply. This illustrates how policy choices can impact market outcomes.\n",
    "\n",
    "3. **Emissions Pathways**: The emissions pathway chart shows how different demand sensitivities result in varying levels of emissions reduction in response to price signals. The uncertainty bands widen over time, reflecting increased uncertainty about price elasticity of emissions in the longer term.\n",
    "\n",
    "4. **Stockpile Dynamics**: The stockpile balance chart illustrates how the stockpile is expected to evolve under different demand sensitivities. The uncertainty in demand response leads to different patterns of stockpile usage.\n",
    "\n",
    "5. **Gross Mitigation**: Our custom chart shows the extent of gross mitigation (difference between baseline and price-responsive emissions) that occurs due to carbon pricing. This is a key metric for evaluating policy effectiveness.\n",
    "\n",
    "The uncertainty bands provide crucial context for decision-making, showing the range of potential outcomes rather than just point estimates. This acknowledges the inherent uncertainties in emissions response to price signals and helps policymakers understand the robustness of projected outcomes.\n"
   ]
  },
  {
   "cell_type": "markdown",
   "metadata": {},
   "source": [
    "## 10. Conclusion\n",
    "\n",
    "This notebook has demonstrated NZUpy's capability to perform uncertainty analysis through range runs. We've seen how to:\n",
    "\n",
    "1. **Set up a range scenario** for uncertainty analysis\n",
    "2. **Configure a custom policy setting** with industrial allocation phase-out and low forestry\n",
    "3. **Generate and interpret range charts** with uncertainty bands\n",
    "4. **Create interactive dashboards** for exploring results\n",
    "5. **Extract and analyse uncertainty ranges** for key metrics\n",
    "6. **Build custom visualisations** to highlight specific aspects of the results\n",
    "\n",
    "Range runs are a powerful tool for robust policy analysis, allowing stakeholders to understand not just the expected outcomes of different settings but also the uncertainty around those projections. This approach provides a more complete picture for decision-making in the complex and evolving landscape of emissions trading.\n",
    "\n",
    "The interactive nature of NZUpy's visualisations enhances the ability to explore and understand these complex results, making it easier to communicate findings to stakeholders."
   ]
  }
 ],
 "metadata": {
  "kernelspec": {
   "display_name": "Python 3 (ipykernel)",
   "language": "python",
   "name": "python3"
  },
  "language_info": {
   "codemirror_mode": {
    "name": "ipython",
    "version": 3
   },
   "file_extension": ".py",
   "mimetype": "text/x-python",
   "name": "python",
   "nbconvert_exporter": "python",
   "pygments_lexer": "ipython3",
   "version": "3.12.6"
  }
 },
 "nbformat": 4,
 "nbformat_minor": 4
}
