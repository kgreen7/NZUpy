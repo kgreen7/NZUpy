{
 "cells": [
  {
   "cell_type": "markdown",
   "id": "de3d5410-9b0b-4235-8908-879a8d227c3c",
   "metadata": {},
   "source": [
    "# Basic run: How to run NZUpy and customise inputs\n",
    "\n",
    "## Overview of NZUpy\n",
    "NZUpy is an optimisation model for simulating the New Zealand Emissions Trading Scheme (NZ ETS). The model simulates interactions between carbon price, emissions, various supply components and the stockpile of units held by private participants.\n",
    "\n",
    "The model largely repliacates the functionality of the Ministry for the Environment's (MfE's) NZ ETS model that operates in excel (using macros/VBA). However given NZUpy is coded in in Python, it allows for greater flexibility and customisation by users who wish to enhance certain components (e.g., incorporating more sophisticated industrial allocation behaviours)"
   ]
  },
  {
   "cell_type": "markdown",
   "id": "27b98b88-a963-4e74-87ed-bb6dad87f96b",
   "metadata": {},
   "source": [
    "## Some basics\n",
    "\n",
    "NZUpy is structured around the `NZUpy` class, which contains all information about the scenario(s), time periods, and components of the model (supply, demand, stockpile dynamics, etc.).\n",
    "\n",
    "There are four main steps to running NZUpy:\n",
    "\n",
    "1. **Creating an instance**: Initialise the model\n",
    "2. **Define the scope**: Specify years, and scenarios\n",
    "3. **Configure scenarios**: Customise your configuration of inputs and parameters for each scenario\n",
    "4. **Running the model**: Execute the model and analyse results\n",
    "\n",
    "The model follows a builder pattern, which allows for flexible configuration."
   ]
  },
  {
   "cell_type": "markdown",
   "id": "0fe2093c-5f35-4172-b3ef-bcabd5ba6223",
   "metadata": {},
   "source": [
    "## 1. Create NZUpy instance\n",
    "\n",
    "Let's start by importing the NZUpy class and libaries we'll use in the notebook"
   ]
  },
  {
   "cell_type": "code",
   "execution_count": 1,
   "id": "c078a858-a933-41de-a0f1-c9f7fc1c409d",
   "metadata": {},
   "outputs": [],
   "source": [
    "# Import necessary libraries\n",
    "import pandas as pd\n",
    "import numpy as np\n",
    "import plotly.graph_objects as go\n",
    "from pathlib import Path\n",
    "import sys\n",
    "import os"
   ]
  },
  {
   "cell_type": "markdown",
   "id": "e028a89d-ecbf-4c6f-b5dd-558b76a90709",
   "metadata": {},
   "source": [
    "As we're operating in a subfolder off the project root, we'll need to ensure we can find the NZUpy model, and its data directory containing necessary inputs and parameters."
   ]
  },
  {
   "cell_type": "code",
   "execution_count": 2,
   "id": "bf184a8d",
   "metadata": {},
   "outputs": [],
   "source": [
    "# Add the project root to the path\n",
    "project_root = Path().absolute().parent\n",
    "sys.path.insert(0, str(project_root))\n",
    "\n",
    "# Import the NZUpy class\n",
    "from model.core.base_model import NZUpy\n",
    "\n",
    "# Set our input and output directories\n",
    "data_dir = project_root / \"data\"\n",
    "output_dir = project_root / \"examples\" / \"outputs\" / \"01_basic_run\"\n",
    "os.makedirs(output_dir, exist_ok=True)"
   ]
  },
  {
   "cell_type": "markdown",
   "id": "e74280ef",
   "metadata": {},
   "source": [
    "After that, we can initialise NZUpy, pointing it to our input data directory.."
   ]
  },
  {
   "cell_type": "code",
   "execution_count": 3,
   "id": "ea6b939e-a234-424b-b890-712373b00d39",
   "metadata": {},
   "outputs": [],
   "source": [
    "NZU = NZUpy(data_dir=data_dir)"
   ]
  },
  {
   "cell_type": "markdown",
   "id": "34bf16da-cd93-4ddd-b9b6-cd062a90351f",
   "metadata": {},
   "source": [
    "## 2. Define the scope\n",
    "\n",
    "NZUpy requires users to define the time period they wish to model. \n",
    "\n",
    "By default, the model is set up for a 2024 start year, and 2050 end year (aligned with MfE's excel-based model), and is recommended for the vast bulk of use cases."
   ]
  },
  {
   "cell_type": "code",
   "execution_count": null,
   "id": "6d4816df-2dd5-4acc-8300-ba3f7cc686d5",
   "metadata": {},
   "outputs": [],
   "source": [
    "# Define time periods: start year, end year\n",
    "NZU.define_time(2024, 2050)"
   ]
  },
  {
   "cell_type": "markdown",
   "id": "1838be37-d692-4211-8d44-2b94b17dfcb7",
   "metadata": {},
   "source": [
    "For this run, we'll keep things simple with a single scenario. \n",
    "\n",
    "Scenario naming has no effect on the model itself, and is used to enable distinct runs with their own configured settings. So we'll call ours 'Basic run'"
   ]
  },
  {
   "cell_type": "code",
   "execution_count": null,
   "id": "fe4bf64e-62f2-40ee-90ea-8dda79bb51fc",
   "metadata": {},
   "outputs": [],
   "source": [
    "# Define scenarios - you can have multiple scenarios\n",
    "NZU.define_scenarios(['Basic run'])"
   ]
  },
  {
   "cell_type": "markdown",
   "id": "156236b7",
   "metadata": {},
   "source": [
    "We then prime the model, which initialises dataframes housing our variables"
   ]
  },
  {
   "cell_type": "code",
   "execution_count": null,
   "id": "5c102313",
   "metadata": {},
   "outputs": [],
   "source": [
    "NZU.prime()"
   ]
  },
  {
   "cell_type": "markdown",
   "id": "337e77c7",
   "metadata": {},
   "source": [
    "## 3. Configure the scenarios\n",
    "\n",
    "After priming the model, we need to configure our scenario with the input data and parameters we want to use. \n",
    "\n",
    "NZUpy makes it easy to operate the modle using central default configured inputs for all of its supply, demand and stockpile components.\n",
    "\n",
    "We'll use the `use_central_configs()` method to set all components to their central configurations for our scenario.\n"
   ]
  },
  {
   "cell_type": "code",
   "execution_count": null,
   "id": "1b3f6a74",
   "metadata": {},
   "outputs": [],
   "source": [
    "# Configure our scenario (index 0) to use central configs for all components\n",
    "NZU.use_central_configs(0)\n",
    "# Check stockpile configuration and data\n",
    "scenario_index = 0\n",
    "component_config = NZU.component_configs[scenario_index]\n",
    "\n",
    "print(\"\\nStockpile configuration:\")\n",
    "print(f\"Config name: {component_config.stockpile}\")\n",
    "\n",
    "# Get the stockpile parameters\n",
    "stockpile_params = NZU.data_handler.get_stockpile_parameters(component_config.stockpile)\n",
    "print(\"\\nInitial balances:\")\n",
    "print(f\"Stockpile balance: {stockpile_params['initial_stockpile']:,.0f} kt CO2-e\")\n",
    "print(f\"Surplus balance: {stockpile_params['initial_surplus']:,.0f} kt CO2-e\")\n",
    "print(f\"Reference year: {stockpile_params['stockpile_reference_year']}\")\n",
    "\n",
    "# Also check other stockpile parameters\n",
    "print(\"\\nOther stockpile parameters:\")\n",
    "print(f\"Liquidity factor: {stockpile_params['liquidity_factor']:.2%}\")\n",
    "print(f\"Payback period: {stockpile_params['payback_period']} years\")\n",
    "print(f\"Discount rate: {stockpile_params['discount_rate']:.2%}\")\n",
    "\n"
   ]
  },
  {
   "cell_type": "code",
   "execution_count": null,
   "id": "5819eac5",
   "metadata": {},
   "outputs": [],
   "source": [
    "# 1. List available configurations for each component\n",
    "print(\"Available configurations by component:\")\n",
    "for component in ['emissions', 'auction', 'industrial', 'forestry', 'demand_model', 'stockpile']:\n",
    "    configs = NZU.data_handler.list_available_configs(component)\n",
    "    print(f\"\\n{component.title()} configs: {configs}\")  \n",
    "print(\"~~~~~~~~~~~~~~~~~~~~~~~~~~~~~~~~~~~~~~~~~\")\n",
    "\n",
    "# 2. List adjustable parameters (single values) for each component\n",
    "print(\"\\nAdjustable parameters by component (single values):\")\n",
    "params = NZU.data_handler.list_adjustable_parameters()\n",
    "for component, param_dict in params.items():\n",
    "    print(f\"\\n{component.title()} parameters:\")\n",
    "    for param, info in param_dict.items():\n",
    "        if info.get('type') == 'parameter':  # Only show single-value parameters\n",
    "            print(f\"  - {param}: {info['description']} ({info['units']})\")\n",
    "\n",
    "print(\"~~~~~~~~~~~~~~~~~~~~~~~~~~~~~~~~~~~~~~~~~\")\n",
    "\n",
    "# 3. Show current values for central configuration\n",
    "print(\"\\nCurrent values for central configuration:\")\n",
    "for component in ['stockpile', 'auction', 'industrial', 'forestry', 'demand']:\n",
    "    values = NZU.data_handler.show_config_values(component, 'central')\n",
    "    print(f\"\\n{component.title()} values:\")\n",
    "    for param, value in values.items():\n",
    "        if isinstance(value, (int, float)):  # Only show single values\n",
    "            print(f\"  - {param}: {value}\")\n",
    "        else:\n",
    "            print(f\"  - {param}: <time series>\")\n",
    "\n",
    "print(\"~~~~~~~~~~~~~~~~~~~~~~~~~~~~~~~~~~~~~~~~~\")\n",
    "\n",
    "# 4. List available data series (time-varying data)\n",
    "print(\"\\nAvailable data series by component (time-varying):\")\n",
    "series = NZU.data_handler.list_available_series()\n",
    "for component, series_dict in series.items():\n",
    "    print(f\"\\n{component.title()} series:\")\n",
    "    for series_name, info in series_dict.items():\n",
    "        print(f\"  - {series_name}: {info['description']} ({info['units']})\")"
   ]
  },
  {
   "cell_type": "markdown",
   "id": "c7257f78",
   "metadata": {},
   "source": [
    "We can of course customise these. While the remaining notebooks will show this in more complexity, lets keep it simple"
   ]
  },
  {
   "cell_type": "code",
   "execution_count": null,
   "id": "00ab5742",
   "metadata": {},
   "outputs": [],
   "source": [
    "# List available configs for different components\n",
    "print(\"Available emissions configs:\", NZU.data_handler.list_available_configs('emissions'))\n",
    "print(\"Available auction configs:\", NZU.data_handler.list_available_configs('auction'))\n",
    "print(\"Available industrial configs:\", NZU.data_handler.list_available_configs('industrial'))\n",
    "print(\"Available forestry configs:\", NZU.data_handler.list_available_configs('forestry'))\n",
    "print(\"Available demand model configs:\", NZU.data_handler.list_available_configs('demand_model'))\n",
    "print(\"Available stockpile balance start configs:\", NZU.data_handler.list_available_configs('stockpile'))\n",
    "\n"
   ]
  },
  {
   "cell_type": "code",
   "execution_count": null,
   "id": "a3f86e3e",
   "metadata": {},
   "outputs": [],
   "source": []
  }
 ],
 "metadata": {
  "kernelspec": {
   "display_name": "venv",
   "language": "python",
   "name": "python3"
  },
  "language_info": {
   "codemirror_mode": {
    "name": "ipython",
    "version": 3
   },
   "file_extension": ".py",
   "mimetype": "text/x-python",
   "name": "python",
   "nbconvert_exporter": "python",
   "pygments_lexer": "ipython3",
   "version": "3.12.6"
  }
 },
 "nbformat": 4,
 "nbformat_minor": 5
}
