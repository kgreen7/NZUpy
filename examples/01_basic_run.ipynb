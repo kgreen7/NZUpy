{
 "cells": [
  {
   "cell_type": "markdown",
   "id": "de3d5410-9b0b-4235-8908-879a8d227c3c",
   "metadata": {},
   "source": [
    "# Basic run: How to run NZUpy and customise inputs\n",
    "\n",
    "## Overview of NZUpy\n",
    "NZUpy is an optimisation model for simulating the New Zealand Emissions Trading Scheme (NZ ETS). The model simulates interactions between carbon price, emissions, various supply components and the stockpile of units held by private participants.\n",
    "\n",
    "The model largely repliacates the functionality of the Ministry for the Environment's (MfE's) NZ ETS model that operates in excel (using macros/VBA). However given NZUpy is coded in Python, it allows for greater flexibility and customisation by users who wish to enhance certain components (e.g., incorporating more sophisticated industrial allocation behaviours). "
   ]
  },
  {
   "cell_type": "markdown",
   "id": "27b98b88-a963-4e74-87ed-bb6dad87f96b",
   "metadata": {},
   "source": [
    "## Some basics\n",
    "\n",
    "NZUpy is structured around the `NZUpy` class, which contains all information about the scenario(s), time periods, and components of the model (supply, demand, stockpile dynamics, etc.).\n",
    "\n",
    "There are four main steps to running NZUpy:\n",
    "\n",
    "1. **Creating an instance**: Initialise the model\n",
    "2. **Define the scope**: Specify years, and scenarios\n",
    "3. **Configure scenarios**: Customise your configuration of inputs and parameters for each scenario\n",
    "4. **Run the model**: Execute the model and analyse results\n",
    "\n",
    "The model follows a builder pattern, which allows for flexible configuration."
   ]
  },
  {
   "cell_type": "markdown",
   "id": "0fe2093c-5f35-4172-b3ef-bcabd5ba6223",
   "metadata": {},
   "source": [
    "## 1. Create NZUpy instance\n",
    "\n",
    "Let's start by importing the NZUpy class and libaries we'll use in the notebook"
   ]
  },
  {
   "cell_type": "code",
   "execution_count": 1,
   "id": "c078a858-a933-41de-a0f1-c9f7fc1c409d",
   "metadata": {},
   "outputs": [],
   "source": [
    "# Import necessary libraries\n",
    "import pandas as pd\n",
    "import numpy as np\n",
    "import plotly.graph_objects as go\n",
    "from pathlib import Path\n",
    "import sys\n",
    "import os"
   ]
  },
  {
   "cell_type": "markdown",
   "id": "e028a89d-ecbf-4c6f-b5dd-558b76a90709",
   "metadata": {},
   "source": [
    "As we're operating in a subfolder off the project root, we'll need to ensure we can find the NZUpy model, and its data directory containing necessary inputs and parameters."
   ]
  },
  {
   "cell_type": "code",
   "execution_count": 2,
   "id": "bf184a8d",
   "metadata": {},
   "outputs": [],
   "source": [
    "# Add the project root to the path\n",
    "project_root = Path().absolute().parent\n",
    "sys.path.insert(0, str(project_root))\n",
    "\n",
    "# Import the NZUpy class\n",
    "from model.core.base_model import NZUpy\n",
    "\n",
    "# Set our input and output directories\n",
    "data_dir = project_root / \"data\"\n",
    "output_dir = project_root / \"examples\" / \"outputs\" / \"01_basic_run\"\n",
    "os.makedirs(output_dir, exist_ok=True)"
   ]
  },
  {
   "cell_type": "markdown",
   "id": "e74280ef",
   "metadata": {},
   "source": [
    "After that, we can initialise NZUpy, pointing it to our input data directory.."
   ]
  },
  {
   "cell_type": "code",
   "execution_count": 3,
   "id": "ea6b939e-a234-424b-b890-712373b00d39",
   "metadata": {},
   "outputs": [
    {
     "name": "stdout",
     "output_type": "stream",
     "text": [
      "Warning: Stockpile start data file not found: c:\\Users\\nzkri\\Python projects\\NZUpy\\data\\inputs\\parameters\\stockpile_start.csv\n"
     ]
    }
   ],
   "source": [
    "NZU = NZUpy(data_dir=data_dir)"
   ]
  },
  {
   "cell_type": "markdown",
   "id": "34bf16da-cd93-4ddd-b9b6-cd062a90351f",
   "metadata": {},
   "source": [
    "## 2. Define the scope\n",
    "\n",
    "NZUpy requires users to define the time period they wish to model. \n",
    "\n",
    "By default, the model is set up for a 2024 start year, and 2050 end year (aligned with MfE's excel-based model), and is recommended for the vast bulk of use cases."
   ]
  },
  {
   "cell_type": "code",
   "execution_count": 4,
   "id": "6d4816df-2dd5-4acc-8300-ba3f7cc686d5",
   "metadata": {},
   "outputs": [
    {
     "name": "stdout",
     "output_type": "stream",
     "text": [
      "Time periods defined:\n",
      "  Optimisation: 2024-2050\n"
     ]
    },
    {
     "data": {
      "text/plain": [
       "<model.core.base_model.NZUpy at 0x1d4df443140>"
      ]
     },
     "execution_count": 4,
     "metadata": {},
     "output_type": "execute_result"
    }
   ],
   "source": [
    "# Define time periods: start year, end year\n",
    "NZU.define_time(2024, 2050)"
   ]
  },
  {
   "cell_type": "markdown",
   "id": "1838be37-d692-4211-8d44-2b94b17dfcb7",
   "metadata": {},
   "source": [
    "For this run, we'll keep things simple with a single scenario. \n",
    "\n",
    "Scenario naming has no effect on the model itself, and is used to enable distinct runs with their own configured settings. So we'll call ours 'Basic run'"
   ]
  },
  {
   "cell_type": "code",
   "execution_count": 5,
   "id": "fe4bf64e-62f2-40ee-90ea-8dda79bb51fc",
   "metadata": {},
   "outputs": [
    {
     "data": {
      "text/plain": [
       "<model.core.base_model.NZUpy at 0x1d4df443140>"
      ]
     },
     "execution_count": 5,
     "metadata": {},
     "output_type": "execute_result"
    }
   ],
   "source": [
    "# Define scenarios - you can have multiple scenarios\n",
    "NZU.define_scenarios(['Basic run'])"
   ]
  },
  {
   "cell_type": "markdown",
   "id": "156236b7",
   "metadata": {},
   "source": [
    "We then prime the model, which initialises dataframes housing our variables"
   ]
  },
  {
   "cell_type": "code",
   "execution_count": 6,
   "id": "5c102313",
   "metadata": {},
   "outputs": [
    {
     "name": "stdout",
     "output_type": "stream",
     "text": [
      "Model primed with 1 scenarios:\n",
      "  [0] Basic run\n"
     ]
    },
    {
     "data": {
      "text/plain": [
       "<model.core.base_model.NZUpy at 0x1d4df443140>"
      ]
     },
     "execution_count": 6,
     "metadata": {},
     "output_type": "execute_result"
    }
   ],
   "source": [
    "NZU.prime()"
   ]
  },
  {
   "cell_type": "markdown",
   "id": "337e77c7",
   "metadata": {},
   "source": [
    "## 3. Configure the scenarios\n",
    "\n",
    "After priming the model, we need to configure our scenario with the input data and parameters we want to use. \n",
    "\n",
    "NZUpy makes it easy to operate the model using central default inputs for all of its supply, demand and stockpile components, loaded in from CSV files in subfolders of `data/inputs/`.\n",
    "\n",
    "We can use the `use_central_configs()` method to set all components to their central configurations for our scenario to get everything set-up quickly.\n"
   ]
  },
  {
   "cell_type": "code",
   "execution_count": 7,
   "id": "1b3f6a74",
   "metadata": {},
   "outputs": [
    {
     "name": "stdout",
     "output_type": "stream",
     "text": [
      "Set emissions configuration to 'central' for scenario 'Basic run'\n",
      "Set auction configuration to 'central' for scenario 'Basic run'\n",
      "Set industrial allocation configuration to 'central' for scenario 'Basic run'\n",
      "Set forestry configuration to 'central' for scenario 'Basic run'\n",
      "Set demand model number to 2 for scenario 'Basic run'\n",
      "Set demand sensitivity to 'central' for scenario 'Basic run'\n",
      "Using central config for stockpile in scenario 0 (Basic run)\n",
      "Using central configs for all components in model scenario 0 (Basic run)\n"
     ]
    },
    {
     "data": {
      "text/plain": [
       "<model.core.base_model.NZUpy at 0x1d4df443140>"
      ]
     },
     "execution_count": 7,
     "metadata": {},
     "output_type": "execute_result"
    }
   ],
   "source": [
    "# Configure our scenario (index 0) to use central configs for all components\n",
    "NZU.use_central_configs(0)"
   ]
  },
  {
   "cell_type": "markdown",
   "id": "258a7956",
   "metadata": {},
   "source": [
    "Most users will want to customise certain inputs however, such as loading in an alternative set of auction settings, or trying out a different govt. forecast for forestry removals. \n",
    "\n",
    "Each of the CSV files in `data/inputs/` subfolders contains a range of alternative configurations that draw on different data sources (e.g., MfE & MPI published projections, Climate Change Commission annual estimates of the surplus, etc.)\n",
    "\n",
    "We can use the `list_available_configs()` method to quicly pull up alternative options for each component."
   ]
  },
  {
   "cell_type": "code",
   "execution_count": 8,
   "id": "5819eac5",
   "metadata": {},
   "outputs": [
    {
     "name": "stdout",
     "output_type": "stream",
     "text": [
      "Available configurations:\n",
      "Emissions configs: ['CCC_CPR', 'CCC_DP', 'CCC_mid', 'central']\n",
      "Auction configs: ['CCC_2024', 'central']\n",
      "Industrial configs: ['central']\n",
      "Forestry configs: ['central', 'high', 'low']\n",
      "Demand model configs: ['95pc_lower', '95pc_upper', 'central', 'std_error', 'stde_lower', 'stde_upper']\n",
      "Stockpile configs: ['CCC22_central', 'CCC22_high', 'CCC22_low', 'CCC24_central', 'CCC24_high', 'CCC24_low', 'EY24_central', 'EY24_high', 'EY24_low', 'MFE24_central', 'MFE24_high', 'MFE24_low', 'central', 'high', 'low']\n"
     ]
    }
   ],
   "source": [
    "# Show available configurations for each component\n",
    "print(\"Available configurations:\")\n",
    "print(f\"Emissions configs:\", NZU.list_available_configs('emissions'))\n",
    "print(f\"Auction configs:\", NZU.list_available_configs('auction'))\n",
    "print(f\"Industrial configs:\", NZU.list_available_configs('industrial'))\n",
    "print(f\"Forestry configs:\", NZU.list_available_configs('forestry'))\n",
    "print(f\"Demand model configs:\", NZU.list_available_configs('demand_model'))\n",
    "print(f\"Stockpile configs:\", NZU.list_available_configs('stockpile'))\n"
   ]
  },
  {
   "cell_type": "markdown",
   "id": "c7257f78",
   "metadata": {},
   "source": [
    "For this demonstration notebook, we'll look more closely at stockpile and surplus trends. \n",
    "\n",
    "We'll do this by swapping out NZUpy's default config (drawn from the Climate Change Commission's 2024 estimates) with a new Ernst & Young central estimate featured in a Sep 2024 report to the Ministry for the Environment. This stockpile config is listed as `EY24_central`.\n",
    "\n",
    "_nb. Further metadata on where each config is sourced from can be found in respective CSV files in `data/inputs` subfolders._"
   ]
  },
  {
   "cell_type": "code",
   "execution_count": 9,
   "id": "00ab5742",
   "metadata": {},
   "outputs": [
    {
     "name": "stdout",
     "output_type": "stream",
     "text": [
      "~~~~~~~~| STOCKPILE & SURPLUS BEFORE EDIT |~~~~~~~~\n",
      "\n",
      "=== Stockpile Configuration for Scenario 'Basic run' ===\n",
      "Config name: central\n",
      "\n",
      "Stockpile Parameters:\n",
      "  Initial Stockpile: 159,902 kt CO₂-e\n",
      "  Initial Surplus: 68,100 kt CO₂-e\n",
      "  Liquidity Factor: 15.00%\n",
      "  Discount Rate: 5.00%\n",
      "  Payback Period: 25 years\n",
      "  Stockpile Usage Start Year: 2024\n",
      "  Stockpile Reference Year: 2023\n",
      "Using EY24_central config for stockpile in scenario 0 (Basic run)\n",
      "~~~~~~~~| STOCKPILE & SURPLUS AFTER EDIT |~~~~~~~~\n",
      "\n",
      "=== Stockpile Configuration for Scenario 'Basic run' ===\n",
      "Config name: EY24_central\n",
      "\n",
      "Stockpile Parameters:\n",
      "  Initial Stockpile: 159,902 kt CO₂-e\n",
      "  Initial Surplus: 52,400 kt CO₂-e\n",
      "  Liquidity Factor: 15.00%\n",
      "  Discount Rate: 5.00%\n",
      "  Payback Period: 25 years\n",
      "  Stockpile Usage Start Year: 2024\n",
      "  Stockpile Reference Year: 2023\n"
     ]
    }
   ],
   "source": [
    "# Get stockpile data\n",
    "print(\"~~~~~~~~| STOCKPILE & SURPLUS BEFORE EDIT |~~~~~~~~\")\n",
    "stockpile_data = NZU.show_inputs('stockpile', scenario_name='Basic run')\n",
    "\n",
    "# Use the EY24_central config for our scenario (index 0)\n",
    "NZU.use_config(0, 'stockpile', 'EY24_central')\n",
    "\n",
    "print(\"~~~~~~~~| STOCKPILE & SURPLUS AFTER EDIT |~~~~~~~~\")\n",
    "# Get updated stockpile data\n",
    "stockpile_data = NZU.show_inputs('stockpile', scenario_name='Basic run')\n"
   ]
  },
  {
   "cell_type": "markdown",
   "id": "dce70e4f",
   "metadata": {},
   "source": [
    "_You'll see we now have a lower starting surplus balance for our reference year (2023), down to 52.4 million NZUs from the Climate Commission's central estimate of 68.1 million..._"
   ]
  },
  {
   "cell_type": "markdown",
   "id": "723ccc3e",
   "metadata": {},
   "source": [
    "## 4. Run the model\n",
    "\n",
    "Now that we've configured our scenario, we can run the model:"
   ]
  },
  {
   "cell_type": "code",
   "execution_count": 10,
   "id": "a3f86e3e",
   "metadata": {},
   "outputs": [],
   "source": [
    "# Run the model\n",
    "results = NZU.run()"
   ]
  },
  {
   "cell_type": "markdown",
   "id": "9d70b7a7",
   "metadata": {},
   "source": [
    "## 5. Analyse the results\n",
    "\n",
    "Now that we've got our results in tow, we can undertake any number of analyses. We'll keep things simple here, and call a list of variables available to us, so we can pick some result variables we're interested in"
   ]
  },
  {
   "cell_type": "code",
   "execution_count": 11,
   "id": "a39deb6e",
   "metadata": {},
   "outputs": [
    {
     "name": "stdout",
     "output_type": "stream",
     "text": [
      "Available variables by category:\n",
      "\n",
      "Prices:\n",
      "  self.prices - Carbon prices by scenario\n",
      "  Access real prices: model.prices.xs('carbon_price', level='variable', axis=1)\n",
      "  Access nominal prices: model.prices.xs('carbon_price_nominal', level='variable', axis=1)\n",
      "  Example for specific scenario: model.prices[('central', 'carbon_price')]\n",
      "  Example for nominal prices: model.prices[('central', 'carbon_price_nominal')]\n",
      "\n",
      "Core model outputs:\n",
      "  self.core.xs('avg_price_change_rate', level='variable', axis=1) - Average annual price growth (%)\n",
      "  self.core.xs('price_change_rate', level='variable', axis=1) - Annual price growth rate (%)\n",
      "  self.core.xs('supply_demand_balance', level='variable', axis=1) - Supply minus demand by year (kt CO₂-e)\n",
      "\n",
      "Supply components:\n",
      "  self.supply.xs('auction', level='variable', axis=1) - Units supplied through auction (kt CO₂-e)\n",
      "  self.supply.xs('forestry', level='variable', axis=1) - Units from forestry removals (kt CO₂-e)\n",
      "  self.supply.xs('industrial', level='variable', axis=1) - Units allocated to industrial activities (kt CO₂-e)\n",
      "  self.supply.xs('stockpile', level='variable', axis=1) - Units from stockpile (kt CO₂-e)\n",
      "  self.supply.xs('total', level='variable', axis=1) - Total unit supply (kt CO₂-e)\n",
      "\n",
      "Auction components:\n",
      "  self.auctions.xs('base_available', level='variable', axis=1) - Base auction volume available (kt CO2-e)\n",
      "  self.auctions.xs('base_supplied', level='variable', axis=1) - Base auction volumes actually supplied (kt CO2-e)\n",
      "  self.auctions.xs('ccr1_available', level='variable', axis=1) - CCR1 auction volumes available (kt CO2-e)\n",
      "  self.auctions.xs('ccr1_price', level='variable', axis=1) - CCR1 price trigger ($/tonne CO2-e)\n",
      "  self.auctions.xs('ccr1_supplied', level='variable', axis=1) - CCR1 auction volumes supplied (kt CO2-e)\n",
      "  self.auctions.xs('ccr2_available', level='variable', axis=1) - CCR2 auction volumes available (kt CO2-e)\n",
      "  self.auctions.xs('ccr2_price', level='variable', axis=1) - CCR2 price trigger ($/tonne CO2-e)\n",
      "  self.auctions.xs('ccr2_supplied', level='variable', axis=1) - CCR2 auction volumes supplied (kt CO2-e)\n",
      "  self.auctions.xs('reserve_price', level='variable', axis=1) - Minimum auction price ($/tonne CO2-e)\n",
      "  self.auctions.xs('revenue', level='variable', axis=1) - Annual auction revenue ($)\n",
      "  self.auctions.xs('total_available', level='variable', axis=1) - Total auction available across tiers (kt CO2-e)\n",
      "  self.auctions.xs('total_supplied', level='variable', axis=1) - Total auction supplied across tiers (kt CO2-e)\n",
      "\n",
      "Industrial allocation:\n",
      "  self.industrial.xs('allocation', level='variable', axis=1) - Free allocation to industry (kt CO2-e)\n",
      "\n",
      "Forestry components:\n",
      "  self.forestry.xs('removals', level='variable', axis=1) - Units supplied from forestry (kt CO2-e)\n",
      "\n",
      "Stockpile components:\n",
      "  self.stockpile.xs('balance', level='variable', axis=1) - Total stockpile balance (kt CO2-e)\n",
      "  self.stockpile.xs('borrowed_units', level='variable', axis=1) - Annual borrowing from stockpile (kt CO2-e)\n",
      "  self.stockpile.xs('cumulative_forestry_additions', level='variable', axis=1) - Cumulative forestry held and surrender additions (kt CO2-e)\n",
      "  self.stockpile.xs('cumulative_net_borrowing', level='variable', axis=1) - Cumulative net borrowing (kt CO2-e)\n",
      "  self.stockpile.xs('forestry_contribution', level='variable', axis=1) - Net forestry contribution (kt CO2-e)\n",
      "  self.stockpile.xs('forestry_held', level='variable', axis=1) - Forestry held contributions (kt CO2-e)\n",
      "  self.stockpile.xs('forestry_surrender', level='variable', axis=1) - Forestry surrender contributions (kt CO2-e)\n",
      "  self.stockpile.xs('net_borrowing', level='variable', axis=1) - Net borrowing (paybacks minus borrowing) (kt CO2-e)\n",
      "  self.stockpile.xs('non_surplus_balance', level='variable', axis=1) - Non-surplus stockpile balance (kt CO2-e)\n",
      "  self.stockpile.xs('non_surplus_used', level='variable', axis=1) - Non-surplus units used from stockpile (kt CO2-e)\n",
      "  self.stockpile.xs('payback_units', level='variable', axis=1) - Annual stockpile repayment obligation (kt CO2-e)\n",
      "  self.stockpile.xs('ratio_to_demand', level='variable', axis=1) - Stockpile divided by emissions (ratio)\n",
      "  self.stockpile.xs('surplus_balance', level='variable', axis=1) - Surplus stockpile balance (kt CO2-e)\n",
      "  self.stockpile.xs('surplus_used', level='variable', axis=1) - Surplus units used from stockpile (kt CO2-e)\n",
      "  self.stockpile.xs('units_used', level='variable', axis=1) - Total units used from stockpile (kt CO2-e)\n",
      "  self.stockpile.xs('without_forestry', level='variable', axis=1) - Stockpile balance excluding forestry (kt CO2-e)\n",
      "\n",
      "Demand components:\n",
      "  self.demand.xs('baseline_emissions', level='variable', axis=1) - Baseline emissions (pre-response) (kt CO2-e)\n",
      "  self.demand.xs('emissions', level='variable', axis=1) - Emissions after price response (kt CO2-e)\n",
      "  self.demand.xs('gross_mitigation', level='variable', axis=1) - Difference baseline - emissions (kt CO2-e)\n",
      "  self.demand.xs('net_mitigation', level='variable', axis=1) - Gross mitigation + forestry (kt CO2-e)\n",
      "  self.demand.xs('payback_units', level='variable', axis=1) - Annual stockpile repayment obligation (kt CO2-e)\n",
      "  self.demand.xs('total_demand_with_paybacks', level='variable', axis=1) - Total demand including payback obligations (kt CO2-e)\n",
      "\n",
      "Input parameters:\n",
      "  self.inputs.xs('demand_model', level='variable', axis=1) - Price response model number (integer)\n",
      "  self.inputs.xs('discount_rate', level='variable', axis=1) - Used for stockpile calculations (%)\n",
      "  self.inputs.xs('liquidity_limit', level='variable', axis=1) - Annual non-surplus limit (%)\n",
      "  self.inputs.xs('payback_period', level='variable', axis=1) - Years to pay back borrowed units (years)\n",
      "  self.inputs.xs('price_response_forward_years', level='variable', axis=1) - Price response look ahead (years)\n",
      "  self.inputs.xs('scenario_name', level='variable', axis=1) - Identifier for each scenario (-)\n",
      "  self.inputs.xs('stockpile_start', level='variable', axis=1) - Initial stockpile volume (kt CO2-e)\n",
      "  self.inputs.xs('surplus_start', level='variable', axis=1) - Initial surplus volume (kt CO2-e)\n",
      "  self.inputs.xs('years', level='variable', axis=1) - Model years within start/end (year)\n"
     ]
    }
   ],
   "source": [
    "NZU.list_variables()"
   ]
  },
  {
   "cell_type": "markdown",
   "id": "d31c14c4",
   "metadata": {},
   "source": [
    "As we're dealing with pandas dataframes, we can use typical methods from numpy and pandas to get a quick sense of the results"
   ]
  },
  {
   "cell_type": "code",
   "execution_count": 12,
   "id": "669254ec",
   "metadata": {},
   "outputs": [
    {
     "name": "stdout",
     "output_type": "stream",
     "text": [
      "Carbon price trajectory ($/tCO₂-e):\n",
      "scenario  Basic run\n",
      "year               \n",
      "2024      62.000000\n",
      "2025      64.046000\n",
      "2026      66.159518\n",
      "2027      68.342782\n",
      "2028      70.598094\n"
     ]
    }
   ],
   "source": [
    "# Get carbon price data for our scenario\n",
    "carbon_price = NZU.prices.xs('carbon_price', level='variable', axis=1)\n",
    "print(\"Carbon price trajectory ($/tCO₂-e):\")\n",
    "print(carbon_price.head())"
   ]
  },
  {
   "cell_type": "markdown",
   "id": "0ce4ba39",
   "metadata": {},
   "source": [
    "But in this case, given we've swapped in an alternative starting surplus estimate, we're most interested in stockpile and surplus balance, so lets take a look at these."
   ]
  },
  {
   "cell_type": "code",
   "execution_count": 13,
   "id": "781281fd",
   "metadata": {},
   "outputs": [
    {
     "name": "stdout",
     "output_type": "stream",
     "text": [
      "\n",
      "Stockpile balance in 2050 (kt CO₂-e):\n",
      "Total stockpile: 135,107\n",
      "Surplus: 24,918\n",
      "Non-surplus: 110,189\n"
     ]
    }
   ],
   "source": [
    "# Get stockpile balance data\n",
    "stockpile_balance = NZU.stockpile.xs('balance', level='variable', axis=1)\n",
    "surplus_balance = NZU.stockpile.xs('surplus_balance', level='variable', axis=1)\n",
    "non_surplus_balance = NZU.stockpile.xs('non_surplus_balance', level='variable', axis=1)\n",
    "\n",
    "print(\"\\nStockpile balance in 2050 (kt CO₂-e):\")\n",
    "print(f\"Total stockpile: {stockpile_balance.iloc[-1, 0]:,.0f}\")\n",
    "print(f\"Surplus: {surplus_balance.iloc[-1, 0]:,.0f}\")\n",
    "print(f\"Non-surplus: {non_surplus_balance.iloc[-1, 0]:,.0f}\")"
   ]
  },
  {
   "cell_type": "markdown",
   "id": "a0918ce2",
   "metadata": {},
   "source": [
    "These stockpile balance levels in 2050 are about the same as our balance at the start of time period (end 2023), so it would be interesting to see how these evolve over time.\n",
    "\n",
    "Helpfully, we can call some pre-configureds chart to make our life easier..."
   ]
  },
  {
   "cell_type": "code",
   "execution_count": 14,
   "id": "f3fa1e13",
   "metadata": {},
   "outputs": [
    {
     "data": {
      "application/vnd.plotly.v1+json": {
       "config": {
        "plotlyServerURL": "https://plot.ly"
       },
       "data": [
        {
         "fillcolor": "rgba(56, 166, 165, 0.4)",
         "hovertemplate": "Year: %{x}<br>Surplus Balance: %{y:.2f} kt CO₂-e<extra></extra>",
         "line": {
          "color": "rgba(27,120,55, 0.6)",
          "width": 1
         },
         "mode": "lines",
         "name": "Surplus Balance",
         "stackgroup": "one",
         "type": "scatter",
         "x": [
          2024,
          2025,
          2026,
          2027,
          2028,
          2029,
          2030,
          2031,
          2032,
          2033,
          2034,
          2035,
          2036,
          2037,
          2038,
          2039,
          2040,
          2041,
          2042,
          2043,
          2044,
          2045,
          2046,
          2047,
          2048,
          2049,
          2050
         ],
         "y": [
          33946.99966705292,
          16380.789963983454,
          790.1052483821513,
          0,
          0,
          0,
          0,
          0,
          0,
          0,
          0,
          0,
          0,
          1005.560671927833,
          876.6476073510748,
          0,
          0,
          0,
          426.19048456826204,
          1491.6791422526767,
          3155.5080329499797,
          5439.771440406108,
          8256.80666250491,
          11651.947699394732,
          15571.899100947834,
          20005.69537652961,
          24918.33629450892
         ]
        },
        {
         "fillcolor": "rgba(118,42,131, 0.4)",
         "hovertemplate": "Year: %{x}<br>Non-Surplus Balance: %{y:.2f} kt CO₂-e<extra></extra>",
         "line": {
          "color": "rgba(118,42,131, 0.6)",
          "width": 1
         },
         "mode": "lines",
         "name": "Non-Surplus Balance",
         "stackgroup": "one",
         "type": "scatter",
         "x": [
          2024,
          2025,
          2026,
          2027,
          2028,
          2029,
          2030,
          2031,
          2032,
          2033,
          2034,
          2035,
          2036,
          2037,
          2038,
          2039,
          2040,
          2041,
          2042,
          2043,
          2044,
          2045,
          2046,
          2047,
          2048,
          2049,
          2050
         ],
         "y": [
          101656.72071600003,
          99503.22776800003,
          98734.50301,
          86424.74593448265,
          74502.96003536749,
          63740.872873877495,
          55863.21810261678,
          55587.88289428214,
          55690.220506772035,
          56884.11935934378,
          58620.29191043602,
          62501.1379972819,
          68111.69021143354,
          74589.49931443353,
          80275.59228743354,
          82268.27288167071,
          80985.3659243184,
          84088.27409247824,
          87131.41191147825,
          91060.82175947825,
          96060.16508447824,
          101581.43419647824,
          106464.05305747825,
          108780.02321947824,
          110637.59902747824,
          110772.68383647823,
          110188.87974147822
         ]
        },
        {
         "hovertemplate": "Year: %{x}<br>Total Stockpile: %{y:.2f} kt CO₂-e<extra></extra>",
         "line": {
          "color": "rgb(47, 47, 47)",
          "width": 4
         },
         "mode": "lines",
         "name": "Total Stockpile",
         "type": "scatter",
         "x": [
          2024,
          2025,
          2026,
          2027,
          2028,
          2029,
          2030,
          2031,
          2032,
          2033,
          2034,
          2035,
          2036,
          2037,
          2038,
          2039,
          2040,
          2041,
          2042,
          2043,
          2044,
          2045,
          2046,
          2047,
          2048,
          2049,
          2050
         ],
         "y": [
          135603.72038305295,
          115884.01773198348,
          99524.60825838216,
          86424.74593448265,
          74502.96003536749,
          63740.872873877495,
          55863.21810261678,
          55587.88289428214,
          55690.220506772035,
          56884.11935934378,
          58620.29191043602,
          62501.1379972819,
          68111.69021143354,
          75595.05998636136,
          81152.23989478461,
          82268.27288167071,
          80985.3659243184,
          84088.27409247824,
          87557.60239604651,
          92552.50090173092,
          99215.67311742822,
          107021.20563688435,
          114720.85971998316,
          120431.97091887298,
          126209.49812842607,
          130778.37921300784,
          135107.21603598713
         ]
        },
        {
         "hovertemplate": "Year: %{x}<br>Stockpile Without Forestry: %{y:.2f} kt CO₂-e<extra></extra>",
         "line": {
          "color": "rgb(108, 108, 108)",
          "dash": "dash",
          "width": 4
         },
         "mode": "lines",
         "name": "Stockpile Without Forestry",
         "type": "scatter",
         "x": [
          2024,
          2025,
          2026,
          2027,
          2028,
          2029,
          2030,
          2031,
          2032,
          2033,
          2034,
          2035,
          2036,
          2037,
          2038,
          2039,
          2040,
          2041,
          2042,
          2043,
          2044,
          2045,
          2046,
          2047,
          2048,
          2049,
          2050
         ],
         "y": [
          141448.99966705294,
          123882.78996398346,
          108292.10524838217,
          94782.84665248267,
          83378.6393883675,
          73189.59710887751,
          64169.6572906168,
          61375.44589928216,
          57674.49914377206,
          53414.27121904381,
          49208.620687836046,
          46549.62732078193,
          45904.45417493358,
          46910.014846861406,
          46781.10178228465,
          45851.63927917074,
          45175.75562981843,
          45026.70009197827,
          45452.89057654653,
          46518.379234230946,
          48182.20812492825,
          50466.47153238438,
          53283.50675448318,
          56678.647791373005,
          60598.59919292611,
          65032.39546850788,
          69945.03638648719
         ]
        }
       ],
       "layout": {
        "font": {
         "family": "Arial, sans-serif",
         "size": 12
        },
        "hovermode": "closest",
        "legend": {
         "orientation": "h",
         "x": 1,
         "xanchor": "right",
         "y": 1.02,
         "yanchor": "bottom"
        },
        "margin": {
         "b": 60,
         "l": 60,
         "r": 30,
         "t": 60
        },
        "paper_bgcolor": "white",
        "plot_bgcolor": "white",
        "template": {
         "data": {
          "bar": [
           {
            "error_x": {
             "color": "#2a3f5f"
            },
            "error_y": {
             "color": "#2a3f5f"
            },
            "marker": {
             "line": {
              "color": "#E5ECF6",
              "width": 0.5
             },
             "pattern": {
              "fillmode": "overlay",
              "size": 10,
              "solidity": 0.2
             }
            },
            "type": "bar"
           }
          ],
          "barpolar": [
           {
            "marker": {
             "line": {
              "color": "#E5ECF6",
              "width": 0.5
             },
             "pattern": {
              "fillmode": "overlay",
              "size": 10,
              "solidity": 0.2
             }
            },
            "type": "barpolar"
           }
          ],
          "carpet": [
           {
            "aaxis": {
             "endlinecolor": "#2a3f5f",
             "gridcolor": "white",
             "linecolor": "white",
             "minorgridcolor": "white",
             "startlinecolor": "#2a3f5f"
            },
            "baxis": {
             "endlinecolor": "#2a3f5f",
             "gridcolor": "white",
             "linecolor": "white",
             "minorgridcolor": "white",
             "startlinecolor": "#2a3f5f"
            },
            "type": "carpet"
           }
          ],
          "choropleth": [
           {
            "colorbar": {
             "outlinewidth": 0,
             "ticks": ""
            },
            "type": "choropleth"
           }
          ],
          "contour": [
           {
            "colorbar": {
             "outlinewidth": 0,
             "ticks": ""
            },
            "colorscale": [
             [
              0,
              "#0d0887"
             ],
             [
              0.1111111111111111,
              "#46039f"
             ],
             [
              0.2222222222222222,
              "#7201a8"
             ],
             [
              0.3333333333333333,
              "#9c179e"
             ],
             [
              0.4444444444444444,
              "#bd3786"
             ],
             [
              0.5555555555555556,
              "#d8576b"
             ],
             [
              0.6666666666666666,
              "#ed7953"
             ],
             [
              0.7777777777777778,
              "#fb9f3a"
             ],
             [
              0.8888888888888888,
              "#fdca26"
             ],
             [
              1,
              "#f0f921"
             ]
            ],
            "type": "contour"
           }
          ],
          "contourcarpet": [
           {
            "colorbar": {
             "outlinewidth": 0,
             "ticks": ""
            },
            "type": "contourcarpet"
           }
          ],
          "heatmap": [
           {
            "colorbar": {
             "outlinewidth": 0,
             "ticks": ""
            },
            "colorscale": [
             [
              0,
              "#0d0887"
             ],
             [
              0.1111111111111111,
              "#46039f"
             ],
             [
              0.2222222222222222,
              "#7201a8"
             ],
             [
              0.3333333333333333,
              "#9c179e"
             ],
             [
              0.4444444444444444,
              "#bd3786"
             ],
             [
              0.5555555555555556,
              "#d8576b"
             ],
             [
              0.6666666666666666,
              "#ed7953"
             ],
             [
              0.7777777777777778,
              "#fb9f3a"
             ],
             [
              0.8888888888888888,
              "#fdca26"
             ],
             [
              1,
              "#f0f921"
             ]
            ],
            "type": "heatmap"
           }
          ],
          "heatmapgl": [
           {
            "colorbar": {
             "outlinewidth": 0,
             "ticks": ""
            },
            "colorscale": [
             [
              0,
              "#0d0887"
             ],
             [
              0.1111111111111111,
              "#46039f"
             ],
             [
              0.2222222222222222,
              "#7201a8"
             ],
             [
              0.3333333333333333,
              "#9c179e"
             ],
             [
              0.4444444444444444,
              "#bd3786"
             ],
             [
              0.5555555555555556,
              "#d8576b"
             ],
             [
              0.6666666666666666,
              "#ed7953"
             ],
             [
              0.7777777777777778,
              "#fb9f3a"
             ],
             [
              0.8888888888888888,
              "#fdca26"
             ],
             [
              1,
              "#f0f921"
             ]
            ],
            "type": "heatmapgl"
           }
          ],
          "histogram": [
           {
            "marker": {
             "pattern": {
              "fillmode": "overlay",
              "size": 10,
              "solidity": 0.2
             }
            },
            "type": "histogram"
           }
          ],
          "histogram2d": [
           {
            "colorbar": {
             "outlinewidth": 0,
             "ticks": ""
            },
            "colorscale": [
             [
              0,
              "#0d0887"
             ],
             [
              0.1111111111111111,
              "#46039f"
             ],
             [
              0.2222222222222222,
              "#7201a8"
             ],
             [
              0.3333333333333333,
              "#9c179e"
             ],
             [
              0.4444444444444444,
              "#bd3786"
             ],
             [
              0.5555555555555556,
              "#d8576b"
             ],
             [
              0.6666666666666666,
              "#ed7953"
             ],
             [
              0.7777777777777778,
              "#fb9f3a"
             ],
             [
              0.8888888888888888,
              "#fdca26"
             ],
             [
              1,
              "#f0f921"
             ]
            ],
            "type": "histogram2d"
           }
          ],
          "histogram2dcontour": [
           {
            "colorbar": {
             "outlinewidth": 0,
             "ticks": ""
            },
            "colorscale": [
             [
              0,
              "#0d0887"
             ],
             [
              0.1111111111111111,
              "#46039f"
             ],
             [
              0.2222222222222222,
              "#7201a8"
             ],
             [
              0.3333333333333333,
              "#9c179e"
             ],
             [
              0.4444444444444444,
              "#bd3786"
             ],
             [
              0.5555555555555556,
              "#d8576b"
             ],
             [
              0.6666666666666666,
              "#ed7953"
             ],
             [
              0.7777777777777778,
              "#fb9f3a"
             ],
             [
              0.8888888888888888,
              "#fdca26"
             ],
             [
              1,
              "#f0f921"
             ]
            ],
            "type": "histogram2dcontour"
           }
          ],
          "mesh3d": [
           {
            "colorbar": {
             "outlinewidth": 0,
             "ticks": ""
            },
            "type": "mesh3d"
           }
          ],
          "parcoords": [
           {
            "line": {
             "colorbar": {
              "outlinewidth": 0,
              "ticks": ""
             }
            },
            "type": "parcoords"
           }
          ],
          "pie": [
           {
            "automargin": true,
            "type": "pie"
           }
          ],
          "scatter": [
           {
            "fillpattern": {
             "fillmode": "overlay",
             "size": 10,
             "solidity": 0.2
            },
            "type": "scatter"
           }
          ],
          "scatter3d": [
           {
            "line": {
             "colorbar": {
              "outlinewidth": 0,
              "ticks": ""
             }
            },
            "marker": {
             "colorbar": {
              "outlinewidth": 0,
              "ticks": ""
             }
            },
            "type": "scatter3d"
           }
          ],
          "scattercarpet": [
           {
            "marker": {
             "colorbar": {
              "outlinewidth": 0,
              "ticks": ""
             }
            },
            "type": "scattercarpet"
           }
          ],
          "scattergeo": [
           {
            "marker": {
             "colorbar": {
              "outlinewidth": 0,
              "ticks": ""
             }
            },
            "type": "scattergeo"
           }
          ],
          "scattergl": [
           {
            "marker": {
             "colorbar": {
              "outlinewidth": 0,
              "ticks": ""
             }
            },
            "type": "scattergl"
           }
          ],
          "scattermapbox": [
           {
            "marker": {
             "colorbar": {
              "outlinewidth": 0,
              "ticks": ""
             }
            },
            "type": "scattermapbox"
           }
          ],
          "scatterpolar": [
           {
            "marker": {
             "colorbar": {
              "outlinewidth": 0,
              "ticks": ""
             }
            },
            "type": "scatterpolar"
           }
          ],
          "scatterpolargl": [
           {
            "marker": {
             "colorbar": {
              "outlinewidth": 0,
              "ticks": ""
             }
            },
            "type": "scatterpolargl"
           }
          ],
          "scatterternary": [
           {
            "marker": {
             "colorbar": {
              "outlinewidth": 0,
              "ticks": ""
             }
            },
            "type": "scatterternary"
           }
          ],
          "surface": [
           {
            "colorbar": {
             "outlinewidth": 0,
             "ticks": ""
            },
            "colorscale": [
             [
              0,
              "#0d0887"
             ],
             [
              0.1111111111111111,
              "#46039f"
             ],
             [
              0.2222222222222222,
              "#7201a8"
             ],
             [
              0.3333333333333333,
              "#9c179e"
             ],
             [
              0.4444444444444444,
              "#bd3786"
             ],
             [
              0.5555555555555556,
              "#d8576b"
             ],
             [
              0.6666666666666666,
              "#ed7953"
             ],
             [
              0.7777777777777778,
              "#fb9f3a"
             ],
             [
              0.8888888888888888,
              "#fdca26"
             ],
             [
              1,
              "#f0f921"
             ]
            ],
            "type": "surface"
           }
          ],
          "table": [
           {
            "cells": {
             "fill": {
              "color": "#EBF0F8"
             },
             "line": {
              "color": "white"
             }
            },
            "header": {
             "fill": {
              "color": "#C8D4E3"
             },
             "line": {
              "color": "white"
             }
            },
            "type": "table"
           }
          ]
         },
         "layout": {
          "annotationdefaults": {
           "arrowcolor": "#2a3f5f",
           "arrowhead": 0,
           "arrowwidth": 1
          },
          "autotypenumbers": "strict",
          "coloraxis": {
           "colorbar": {
            "outlinewidth": 0,
            "ticks": ""
           }
          },
          "colorscale": {
           "diverging": [
            [
             0,
             "#8e0152"
            ],
            [
             0.1,
             "#c51b7d"
            ],
            [
             0.2,
             "#de77ae"
            ],
            [
             0.3,
             "#f1b6da"
            ],
            [
             0.4,
             "#fde0ef"
            ],
            [
             0.5,
             "#f7f7f7"
            ],
            [
             0.6,
             "#e6f5d0"
            ],
            [
             0.7,
             "#b8e186"
            ],
            [
             0.8,
             "#7fbc41"
            ],
            [
             0.9,
             "#4d9221"
            ],
            [
             1,
             "#276419"
            ]
           ],
           "sequential": [
            [
             0,
             "#0d0887"
            ],
            [
             0.1111111111111111,
             "#46039f"
            ],
            [
             0.2222222222222222,
             "#7201a8"
            ],
            [
             0.3333333333333333,
             "#9c179e"
            ],
            [
             0.4444444444444444,
             "#bd3786"
            ],
            [
             0.5555555555555556,
             "#d8576b"
            ],
            [
             0.6666666666666666,
             "#ed7953"
            ],
            [
             0.7777777777777778,
             "#fb9f3a"
            ],
            [
             0.8888888888888888,
             "#fdca26"
            ],
            [
             1,
             "#f0f921"
            ]
           ],
           "sequentialminus": [
            [
             0,
             "#0d0887"
            ],
            [
             0.1111111111111111,
             "#46039f"
            ],
            [
             0.2222222222222222,
             "#7201a8"
            ],
            [
             0.3333333333333333,
             "#9c179e"
            ],
            [
             0.4444444444444444,
             "#bd3786"
            ],
            [
             0.5555555555555556,
             "#d8576b"
            ],
            [
             0.6666666666666666,
             "#ed7953"
            ],
            [
             0.7777777777777778,
             "#fb9f3a"
            ],
            [
             0.8888888888888888,
             "#fdca26"
            ],
            [
             1,
             "#f0f921"
            ]
           ]
          },
          "colorway": [
           "#636efa",
           "#EF553B",
           "#00cc96",
           "#ab63fa",
           "#FFA15A",
           "#19d3f3",
           "#FF6692",
           "#B6E880",
           "#FF97FF",
           "#FECB52"
          ],
          "font": {
           "color": "#2a3f5f"
          },
          "geo": {
           "bgcolor": "white",
           "lakecolor": "white",
           "landcolor": "#E5ECF6",
           "showlakes": true,
           "showland": true,
           "subunitcolor": "white"
          },
          "hoverlabel": {
           "align": "left"
          },
          "hovermode": "closest",
          "mapbox": {
           "style": "light"
          },
          "paper_bgcolor": "white",
          "plot_bgcolor": "#E5ECF6",
          "polar": {
           "angularaxis": {
            "gridcolor": "white",
            "linecolor": "white",
            "ticks": ""
           },
           "bgcolor": "#E5ECF6",
           "radialaxis": {
            "gridcolor": "white",
            "linecolor": "white",
            "ticks": ""
           }
          },
          "scene": {
           "xaxis": {
            "backgroundcolor": "#E5ECF6",
            "gridcolor": "white",
            "gridwidth": 2,
            "linecolor": "white",
            "showbackground": true,
            "ticks": "",
            "zerolinecolor": "white"
           },
           "yaxis": {
            "backgroundcolor": "#E5ECF6",
            "gridcolor": "white",
            "gridwidth": 2,
            "linecolor": "white",
            "showbackground": true,
            "ticks": "",
            "zerolinecolor": "white"
           },
           "zaxis": {
            "backgroundcolor": "#E5ECF6",
            "gridcolor": "white",
            "gridwidth": 2,
            "linecolor": "white",
            "showbackground": true,
            "ticks": "",
            "zerolinecolor": "white"
           }
          },
          "shapedefaults": {
           "line": {
            "color": "#2a3f5f"
           }
          },
          "ternary": {
           "aaxis": {
            "gridcolor": "white",
            "linecolor": "white",
            "ticks": ""
           },
           "baxis": {
            "gridcolor": "white",
            "linecolor": "white",
            "ticks": ""
           },
           "bgcolor": "#E5ECF6",
           "caxis": {
            "gridcolor": "white",
            "linecolor": "white",
            "ticks": ""
           }
          },
          "title": {
           "x": 0.05
          },
          "xaxis": {
           "automargin": true,
           "gridcolor": "white",
           "linecolor": "white",
           "ticks": "",
           "title": {
            "standoff": 15
           },
           "zerolinecolor": "white",
           "zerolinewidth": 2
          },
          "yaxis": {
           "automargin": true,
           "gridcolor": "white",
           "linecolor": "white",
           "ticks": "",
           "title": {
            "standoff": 15
           },
           "zerolinecolor": "white",
           "zerolinewidth": 2
          }
         }
        },
        "title": {
         "font": {
          "color": "rgb(47, 79, 79)",
          "size": 16
         },
         "text": "Stockpile Balance - Basic run"
        },
        "xaxis": {
         "gridcolor": "#eeeeee",
         "showgrid": true,
         "title": {
          "standoff": 15,
          "text": "Year"
         }
        },
        "yaxis": {
         "gridcolor": "#eeeeee",
         "rangemode": "tozero",
         "showgrid": true,
         "title": {
          "standoff": 15,
          "text": "NZUs (thousands) /Kt CO₂-e)"
         }
        }
       }
      }
     },
     "metadata": {},
     "output_type": "display_data"
    },
    {
     "data": {
      "application/vnd.plotly.v1+json": {
       "config": {
        "plotlyServerURL": "https://plot.ly"
       },
       "data": [
        {
         "hovertemplate": "Year: %{x}<br>Supply: %{y:.2f} kt CO₂-e<extra></extra>",
         "line": {
          "color": "rgb(118,42,131)",
          "width": 4
         },
         "mode": "lines",
         "name": "Historical Supply",
         "type": "scatter",
         "x": [
          2020,
          2021,
          2022,
          2023
         ],
         "y": [
          20404,
          66873,
          38467,
          37355
         ]
        },
        {
         "hovertemplate": "Year: %{x}<br>Demand: %{y:.2f} kt CO₂-e<extra></extra>",
         "line": {
          "color": "rgb(56, 166, 165)",
          "dash": "dash",
          "width": 4
         },
         "mode": "lines",
         "name": "Historical Demand",
         "type": "scatter",
         "x": [
          2020,
          2021,
          2022,
          2023
         ],
         "y": [
          36650.48962,
          37781.77548,
          36107.81487,
          35708.11702
         ]
        },
        {
         "hovertemplate": "Year: %{x}<br>Supply: %{y:.2f} kt CO₂-e<extra></extra>",
         "line": {
          "color": "rgb(118,42,131)",
          "width": 4
         },
         "mode": "lines",
         "name": "Supply",
         "type": "scatter",
         "x": [
          2024,
          2025,
          2026,
          2027,
          2028,
          2029,
          2030,
          2031,
          2032,
          2033,
          2034,
          2035,
          2036,
          2037,
          2038,
          2039,
          2040,
          2041,
          2042,
          2043,
          2044,
          2045,
          2046,
          2047,
          2048,
          2049,
          2050
         ],
         "y": [
          35764.76331794708,
          35201.32465306947,
          34337.0100856013,
          33839.410025899495,
          32559.96749711517,
          31932.87236448999,
          30347.840624260716,
          29364.781904334635,
          28346.602924510105,
          27367.22908072825,
          26434.442513207767,
          25592.742636054118,
          24686.817330848353,
          25142.015162,
          23478.610102576757,
          22897.908358113913,
          21754.634220352313,
          21206.756543840154,
          21097.821931,
          21121.739995,
          21114.27237,
          21122.200605,
          21130.05032,
          21152.195485,
          21173.642069,
          21196.444284,
          21217.548149000002
         ]
        },
        {
         "hovertemplate": "Year: %{x}<br>Demand: %{y:.2f} kt CO₂-e<extra></extra>",
         "line": {
          "color": "rgb(56, 166, 165)",
          "dash": "dash",
          "width": 4
         },
         "mode": "lines",
         "name": "Demand",
         "type": "scatter",
         "x": [
          2024,
          2025,
          2026,
          2027,
          2028,
          2029,
          2030,
          2031,
          2032,
          2033,
          2034,
          2035,
          2036,
          2037,
          2038,
          2039,
          2040,
          2041,
          2042,
          2043,
          2044,
          2045,
          2046,
          2047,
          2048,
          2049,
          2050
         ],
         "y": [
          35764.76331794708,
          35201.32465306947,
          34337.0100856013,
          33839.410025899495,
          32559.96749711517,
          31932.87236448999,
          30347.840624260716,
          29364.781904334635,
          28346.602924510105,
          27367.22908072825,
          26434.442513207767,
          25592.742636054118,
          24686.817330848353,
          24136.454490072167,
          23478.610102576757,
          22897.908358113913,
          21754.634220352313,
          21206.756543840154,
          20671.631446431737,
          20056.251337315585,
          19450.443479302696,
          18837.937197543873,
          18313.015097901196,
          17757.05444811018,
          17253.6906674469,
          16762.648008418226,
          16304.90723102069
         ]
        },
        {
         "fill": "toself",
         "fillcolor": "rgba(108, 108, 108, 0.2)",
         "hoverinfo": "skip",
         "hovertemplate": "Year: %{x}<br>Supply-Demand Gap: %{y:.2f} kt CO₂-e<extra></extra>",
         "line": {
          "width": 0
         },
         "name": "Supply-Demand Gap",
         "showlegend": true,
         "type": "scatter",
         "x": [
          2024,
          2025,
          2026,
          2027,
          2028,
          2029,
          2030,
          2031,
          2032,
          2033,
          2034,
          2035,
          2036,
          2037,
          2038,
          2039,
          2040,
          2041,
          2042,
          2043,
          2044,
          2045,
          2046,
          2047,
          2048,
          2049,
          2050,
          2050,
          2049,
          2048,
          2047,
          2046,
          2045,
          2044,
          2043,
          2042,
          2041,
          2040,
          2039,
          2038,
          2037,
          2036,
          2035,
          2034,
          2033,
          2032,
          2031,
          2030,
          2029,
          2028,
          2027,
          2026,
          2025,
          2024
         ],
         "y": [
          35764.76331794708,
          35201.32465306947,
          34337.0100856013,
          33839.410025899495,
          32559.96749711517,
          31932.87236448999,
          30347.840624260716,
          29364.781904334635,
          28346.602924510105,
          27367.22908072825,
          26434.442513207767,
          25592.742636054118,
          24686.817330848353,
          25142.015162,
          23478.610102576757,
          22897.908358113913,
          21754.634220352313,
          21206.756543840154,
          21097.821931,
          21121.739995,
          21114.27237,
          21122.200605,
          21130.05032,
          21152.195485,
          21173.642069,
          21196.444284,
          21217.548149000002,
          16304.90723102069,
          16762.648008418226,
          17253.6906674469,
          17757.05444811018,
          18313.015097901196,
          18837.937197543873,
          19450.443479302696,
          20056.251337315585,
          20671.631446431737,
          21206.756543840154,
          21754.634220352313,
          22897.908358113913,
          23478.610102576757,
          24136.454490072167,
          24686.817330848353,
          25592.742636054118,
          26434.442513207767,
          27367.22908072825,
          28346.602924510105,
          29364.781904334635,
          30347.840624260716,
          31932.87236448999,
          32559.96749711517,
          33839.410025899495,
          34337.0100856013,
          35201.32465306947,
          35764.76331794708
         ]
        }
       ],
       "layout": {
        "font": {
         "family": "Arial, sans-serif",
         "size": 12
        },
        "hovermode": "closest",
        "legend": {
         "orientation": "h",
         "x": 1,
         "xanchor": "right",
         "y": 1.02,
         "yanchor": "bottom"
        },
        "margin": {
         "b": 60,
         "l": 60,
         "r": 30,
         "t": 60
        },
        "paper_bgcolor": "white",
        "plot_bgcolor": "white",
        "template": {
         "data": {
          "bar": [
           {
            "error_x": {
             "color": "#2a3f5f"
            },
            "error_y": {
             "color": "#2a3f5f"
            },
            "marker": {
             "line": {
              "color": "#E5ECF6",
              "width": 0.5
             },
             "pattern": {
              "fillmode": "overlay",
              "size": 10,
              "solidity": 0.2
             }
            },
            "type": "bar"
           }
          ],
          "barpolar": [
           {
            "marker": {
             "line": {
              "color": "#E5ECF6",
              "width": 0.5
             },
             "pattern": {
              "fillmode": "overlay",
              "size": 10,
              "solidity": 0.2
             }
            },
            "type": "barpolar"
           }
          ],
          "carpet": [
           {
            "aaxis": {
             "endlinecolor": "#2a3f5f",
             "gridcolor": "white",
             "linecolor": "white",
             "minorgridcolor": "white",
             "startlinecolor": "#2a3f5f"
            },
            "baxis": {
             "endlinecolor": "#2a3f5f",
             "gridcolor": "white",
             "linecolor": "white",
             "minorgridcolor": "white",
             "startlinecolor": "#2a3f5f"
            },
            "type": "carpet"
           }
          ],
          "choropleth": [
           {
            "colorbar": {
             "outlinewidth": 0,
             "ticks": ""
            },
            "type": "choropleth"
           }
          ],
          "contour": [
           {
            "colorbar": {
             "outlinewidth": 0,
             "ticks": ""
            },
            "colorscale": [
             [
              0,
              "#0d0887"
             ],
             [
              0.1111111111111111,
              "#46039f"
             ],
             [
              0.2222222222222222,
              "#7201a8"
             ],
             [
              0.3333333333333333,
              "#9c179e"
             ],
             [
              0.4444444444444444,
              "#bd3786"
             ],
             [
              0.5555555555555556,
              "#d8576b"
             ],
             [
              0.6666666666666666,
              "#ed7953"
             ],
             [
              0.7777777777777778,
              "#fb9f3a"
             ],
             [
              0.8888888888888888,
              "#fdca26"
             ],
             [
              1,
              "#f0f921"
             ]
            ],
            "type": "contour"
           }
          ],
          "contourcarpet": [
           {
            "colorbar": {
             "outlinewidth": 0,
             "ticks": ""
            },
            "type": "contourcarpet"
           }
          ],
          "heatmap": [
           {
            "colorbar": {
             "outlinewidth": 0,
             "ticks": ""
            },
            "colorscale": [
             [
              0,
              "#0d0887"
             ],
             [
              0.1111111111111111,
              "#46039f"
             ],
             [
              0.2222222222222222,
              "#7201a8"
             ],
             [
              0.3333333333333333,
              "#9c179e"
             ],
             [
              0.4444444444444444,
              "#bd3786"
             ],
             [
              0.5555555555555556,
              "#d8576b"
             ],
             [
              0.6666666666666666,
              "#ed7953"
             ],
             [
              0.7777777777777778,
              "#fb9f3a"
             ],
             [
              0.8888888888888888,
              "#fdca26"
             ],
             [
              1,
              "#f0f921"
             ]
            ],
            "type": "heatmap"
           }
          ],
          "heatmapgl": [
           {
            "colorbar": {
             "outlinewidth": 0,
             "ticks": ""
            },
            "colorscale": [
             [
              0,
              "#0d0887"
             ],
             [
              0.1111111111111111,
              "#46039f"
             ],
             [
              0.2222222222222222,
              "#7201a8"
             ],
             [
              0.3333333333333333,
              "#9c179e"
             ],
             [
              0.4444444444444444,
              "#bd3786"
             ],
             [
              0.5555555555555556,
              "#d8576b"
             ],
             [
              0.6666666666666666,
              "#ed7953"
             ],
             [
              0.7777777777777778,
              "#fb9f3a"
             ],
             [
              0.8888888888888888,
              "#fdca26"
             ],
             [
              1,
              "#f0f921"
             ]
            ],
            "type": "heatmapgl"
           }
          ],
          "histogram": [
           {
            "marker": {
             "pattern": {
              "fillmode": "overlay",
              "size": 10,
              "solidity": 0.2
             }
            },
            "type": "histogram"
           }
          ],
          "histogram2d": [
           {
            "colorbar": {
             "outlinewidth": 0,
             "ticks": ""
            },
            "colorscale": [
             [
              0,
              "#0d0887"
             ],
             [
              0.1111111111111111,
              "#46039f"
             ],
             [
              0.2222222222222222,
              "#7201a8"
             ],
             [
              0.3333333333333333,
              "#9c179e"
             ],
             [
              0.4444444444444444,
              "#bd3786"
             ],
             [
              0.5555555555555556,
              "#d8576b"
             ],
             [
              0.6666666666666666,
              "#ed7953"
             ],
             [
              0.7777777777777778,
              "#fb9f3a"
             ],
             [
              0.8888888888888888,
              "#fdca26"
             ],
             [
              1,
              "#f0f921"
             ]
            ],
            "type": "histogram2d"
           }
          ],
          "histogram2dcontour": [
           {
            "colorbar": {
             "outlinewidth": 0,
             "ticks": ""
            },
            "colorscale": [
             [
              0,
              "#0d0887"
             ],
             [
              0.1111111111111111,
              "#46039f"
             ],
             [
              0.2222222222222222,
              "#7201a8"
             ],
             [
              0.3333333333333333,
              "#9c179e"
             ],
             [
              0.4444444444444444,
              "#bd3786"
             ],
             [
              0.5555555555555556,
              "#d8576b"
             ],
             [
              0.6666666666666666,
              "#ed7953"
             ],
             [
              0.7777777777777778,
              "#fb9f3a"
             ],
             [
              0.8888888888888888,
              "#fdca26"
             ],
             [
              1,
              "#f0f921"
             ]
            ],
            "type": "histogram2dcontour"
           }
          ],
          "mesh3d": [
           {
            "colorbar": {
             "outlinewidth": 0,
             "ticks": ""
            },
            "type": "mesh3d"
           }
          ],
          "parcoords": [
           {
            "line": {
             "colorbar": {
              "outlinewidth": 0,
              "ticks": ""
             }
            },
            "type": "parcoords"
           }
          ],
          "pie": [
           {
            "automargin": true,
            "type": "pie"
           }
          ],
          "scatter": [
           {
            "fillpattern": {
             "fillmode": "overlay",
             "size": 10,
             "solidity": 0.2
            },
            "type": "scatter"
           }
          ],
          "scatter3d": [
           {
            "line": {
             "colorbar": {
              "outlinewidth": 0,
              "ticks": ""
             }
            },
            "marker": {
             "colorbar": {
              "outlinewidth": 0,
              "ticks": ""
             }
            },
            "type": "scatter3d"
           }
          ],
          "scattercarpet": [
           {
            "marker": {
             "colorbar": {
              "outlinewidth": 0,
              "ticks": ""
             }
            },
            "type": "scattercarpet"
           }
          ],
          "scattergeo": [
           {
            "marker": {
             "colorbar": {
              "outlinewidth": 0,
              "ticks": ""
             }
            },
            "type": "scattergeo"
           }
          ],
          "scattergl": [
           {
            "marker": {
             "colorbar": {
              "outlinewidth": 0,
              "ticks": ""
             }
            },
            "type": "scattergl"
           }
          ],
          "scattermapbox": [
           {
            "marker": {
             "colorbar": {
              "outlinewidth": 0,
              "ticks": ""
             }
            },
            "type": "scattermapbox"
           }
          ],
          "scatterpolar": [
           {
            "marker": {
             "colorbar": {
              "outlinewidth": 0,
              "ticks": ""
             }
            },
            "type": "scatterpolar"
           }
          ],
          "scatterpolargl": [
           {
            "marker": {
             "colorbar": {
              "outlinewidth": 0,
              "ticks": ""
             }
            },
            "type": "scatterpolargl"
           }
          ],
          "scatterternary": [
           {
            "marker": {
             "colorbar": {
              "outlinewidth": 0,
              "ticks": ""
             }
            },
            "type": "scatterternary"
           }
          ],
          "surface": [
           {
            "colorbar": {
             "outlinewidth": 0,
             "ticks": ""
            },
            "colorscale": [
             [
              0,
              "#0d0887"
             ],
             [
              0.1111111111111111,
              "#46039f"
             ],
             [
              0.2222222222222222,
              "#7201a8"
             ],
             [
              0.3333333333333333,
              "#9c179e"
             ],
             [
              0.4444444444444444,
              "#bd3786"
             ],
             [
              0.5555555555555556,
              "#d8576b"
             ],
             [
              0.6666666666666666,
              "#ed7953"
             ],
             [
              0.7777777777777778,
              "#fb9f3a"
             ],
             [
              0.8888888888888888,
              "#fdca26"
             ],
             [
              1,
              "#f0f921"
             ]
            ],
            "type": "surface"
           }
          ],
          "table": [
           {
            "cells": {
             "fill": {
              "color": "#EBF0F8"
             },
             "line": {
              "color": "white"
             }
            },
            "header": {
             "fill": {
              "color": "#C8D4E3"
             },
             "line": {
              "color": "white"
             }
            },
            "type": "table"
           }
          ]
         },
         "layout": {
          "annotationdefaults": {
           "arrowcolor": "#2a3f5f",
           "arrowhead": 0,
           "arrowwidth": 1
          },
          "autotypenumbers": "strict",
          "coloraxis": {
           "colorbar": {
            "outlinewidth": 0,
            "ticks": ""
           }
          },
          "colorscale": {
           "diverging": [
            [
             0,
             "#8e0152"
            ],
            [
             0.1,
             "#c51b7d"
            ],
            [
             0.2,
             "#de77ae"
            ],
            [
             0.3,
             "#f1b6da"
            ],
            [
             0.4,
             "#fde0ef"
            ],
            [
             0.5,
             "#f7f7f7"
            ],
            [
             0.6,
             "#e6f5d0"
            ],
            [
             0.7,
             "#b8e186"
            ],
            [
             0.8,
             "#7fbc41"
            ],
            [
             0.9,
             "#4d9221"
            ],
            [
             1,
             "#276419"
            ]
           ],
           "sequential": [
            [
             0,
             "#0d0887"
            ],
            [
             0.1111111111111111,
             "#46039f"
            ],
            [
             0.2222222222222222,
             "#7201a8"
            ],
            [
             0.3333333333333333,
             "#9c179e"
            ],
            [
             0.4444444444444444,
             "#bd3786"
            ],
            [
             0.5555555555555556,
             "#d8576b"
            ],
            [
             0.6666666666666666,
             "#ed7953"
            ],
            [
             0.7777777777777778,
             "#fb9f3a"
            ],
            [
             0.8888888888888888,
             "#fdca26"
            ],
            [
             1,
             "#f0f921"
            ]
           ],
           "sequentialminus": [
            [
             0,
             "#0d0887"
            ],
            [
             0.1111111111111111,
             "#46039f"
            ],
            [
             0.2222222222222222,
             "#7201a8"
            ],
            [
             0.3333333333333333,
             "#9c179e"
            ],
            [
             0.4444444444444444,
             "#bd3786"
            ],
            [
             0.5555555555555556,
             "#d8576b"
            ],
            [
             0.6666666666666666,
             "#ed7953"
            ],
            [
             0.7777777777777778,
             "#fb9f3a"
            ],
            [
             0.8888888888888888,
             "#fdca26"
            ],
            [
             1,
             "#f0f921"
            ]
           ]
          },
          "colorway": [
           "#636efa",
           "#EF553B",
           "#00cc96",
           "#ab63fa",
           "#FFA15A",
           "#19d3f3",
           "#FF6692",
           "#B6E880",
           "#FF97FF",
           "#FECB52"
          ],
          "font": {
           "color": "#2a3f5f"
          },
          "geo": {
           "bgcolor": "white",
           "lakecolor": "white",
           "landcolor": "#E5ECF6",
           "showlakes": true,
           "showland": true,
           "subunitcolor": "white"
          },
          "hoverlabel": {
           "align": "left"
          },
          "hovermode": "closest",
          "mapbox": {
           "style": "light"
          },
          "paper_bgcolor": "white",
          "plot_bgcolor": "#E5ECF6",
          "polar": {
           "angularaxis": {
            "gridcolor": "white",
            "linecolor": "white",
            "ticks": ""
           },
           "bgcolor": "#E5ECF6",
           "radialaxis": {
            "gridcolor": "white",
            "linecolor": "white",
            "ticks": ""
           }
          },
          "scene": {
           "xaxis": {
            "backgroundcolor": "#E5ECF6",
            "gridcolor": "white",
            "gridwidth": 2,
            "linecolor": "white",
            "showbackground": true,
            "ticks": "",
            "zerolinecolor": "white"
           },
           "yaxis": {
            "backgroundcolor": "#E5ECF6",
            "gridcolor": "white",
            "gridwidth": 2,
            "linecolor": "white",
            "showbackground": true,
            "ticks": "",
            "zerolinecolor": "white"
           },
           "zaxis": {
            "backgroundcolor": "#E5ECF6",
            "gridcolor": "white",
            "gridwidth": 2,
            "linecolor": "white",
            "showbackground": true,
            "ticks": "",
            "zerolinecolor": "white"
           }
          },
          "shapedefaults": {
           "line": {
            "color": "#2a3f5f"
           }
          },
          "ternary": {
           "aaxis": {
            "gridcolor": "white",
            "linecolor": "white",
            "ticks": ""
           },
           "baxis": {
            "gridcolor": "white",
            "linecolor": "white",
            "ticks": ""
           },
           "bgcolor": "#E5ECF6",
           "caxis": {
            "gridcolor": "white",
            "linecolor": "white",
            "ticks": ""
           }
          },
          "title": {
           "x": 0.05
          },
          "xaxis": {
           "automargin": true,
           "gridcolor": "white",
           "linecolor": "white",
           "ticks": "",
           "title": {
            "standoff": 15
           },
           "zerolinecolor": "white",
           "zerolinewidth": 2
          },
          "yaxis": {
           "automargin": true,
           "gridcolor": "white",
           "linecolor": "white",
           "ticks": "",
           "title": {
            "standoff": 15
           },
           "zerolinecolor": "white",
           "zerolinewidth": 2
          }
         }
        },
        "title": {
         "font": {
          "color": "rgb(47, 79, 79)",
          "size": 16
         },
         "text": "Supply-Demand Balance - Basic run"
        },
        "xaxis": {
         "gridcolor": "#eeeeee",
         "showgrid": true,
         "title": {
          "standoff": 15,
          "text": "Year"
         }
        },
        "yaxis": {
         "gridcolor": "#eeeeee",
         "range": [
          0,
          null
         ],
         "rangemode": "nonnegative",
         "showgrid": true,
         "title": {
          "standoff": 15,
          "text": "NZUs (thousands) /Kt CO₂-e)"
         }
        }
       }
      }
     },
     "metadata": {},
     "output_type": "display_data"
    }
   ],
   "source": [
    "# Load chart generator\n",
    "from model.utils.chart_generator import ChartGenerator\n",
    "\n",
    "# Initialise chart generator\n",
    "chart_gen = ChartGenerator(NZU)\n",
    "\n",
    "# Generate stockpile balance chart - referring to our scenario index 0\n",
    "stockpile_chart = chart_gen.stockpile_balance_chart(NZU.scenarios[0])\n",
    "# We can then display the chart in the notebook\n",
    "display(stockpile_chart) \n",
    "# And we can also save the chart directly as PNG\n",
    "stockpile_chart.write_image(str(output_dir / \"stockpile_balance.png\"))\n",
    "\n",
    "# Generate supply-demand balance chart\n",
    "supply_demand_chart = chart_gen.supply_demand_balance_chart(NZU.scenarios[0])\n",
    "display(supply_demand_chart)\n",
    "supply_demand_chart.write_image(str(output_dir / \"supply_demand_balance.png\"))"
   ]
  },
  {
   "cell_type": "markdown",
   "id": "0724f538",
   "metadata": {},
   "source": [
    "With that we can see that while EY's reduced starting surplus balance sees the surplus quickly reduced to 0, the surplus begins to increase again in the late 2030s and 2040s, with supply exceeding demand (shown in the supply-demand balance chart). However, the bulk of our incrase in stockpile comes from non-surplus units, where forestry units are held for future harvest liabilities.\n",
    "\n",
    "While there is plenty more analysis of this trend we could look at, we'll wrap-up this basic run notebook by saving these results to a CSV file."
   ]
  },
  {
   "cell_type": "code",
   "execution_count": 15,
   "id": "8fe4eed1",
   "metadata": {},
   "outputs": [
    {
     "name": "stdout",
     "output_type": "stream",
     "text": [
      "Results exported to: c:\\Users\\nzkri\\Python projects\\NZUpy\\examples\\outputs\\01_basic_run\\basic_run_results.csv\n"
     ]
    }
   ],
   "source": [
    "# Create a DataFrame with the key results we want to export\n",
    "export_data = pd.DataFrame({\n",
    "    'year': carbon_price.index,\n",
    "    'carbon_price': carbon_price['Basic run'],\n",
    "    'stockpile_balance': stockpile_balance['Basic run'],\n",
    "    'surplus_balance': surplus_balance['Basic run'],\n",
    "    'non_surplus_balance': non_surplus_balance['Basic run']\n",
    "})\n",
    "\n",
    "# Set the index to year for better readability\n",
    "export_data.set_index('year', inplace=True)\n",
    "\n",
    "# Export to CSV\n",
    "export_path = output_dir / 'basic_run_results.csv'\n",
    "export_data.to_csv(export_path)\n",
    "print(f\"Results exported to: {export_path}\")"
   ]
  }
 ],
 "metadata": {
  "kernelspec": {
   "display_name": "venv",
   "language": "python",
   "name": "python3"
  },
  "language_info": {
   "codemirror_mode": {
    "name": "ipython",
    "version": 3
   },
   "file_extension": ".py",
   "mimetype": "text/x-python",
   "name": "python",
   "nbconvert_exporter": "python",
   "pygments_lexer": "ipython3",
   "version": "3.12.6"
  }
 },
 "nbformat": 4,
 "nbformat_minor": 5
}
