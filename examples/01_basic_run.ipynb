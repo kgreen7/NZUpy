{
 "cells": [
  {
   "cell_type": "markdown",
   "id": "de3d5410-9b0b-4235-8908-879a8d227c3c",
   "metadata": {},
   "source": [
    "# Basic run: How to run NZUpy and customise inputs\n",
    "\n",
    "## Overview of NZUpy\n",
    "NZUpy is an optimisation model for simulating the New Zealand Emissions Trading Scheme (NZ ETS). The model simulates interactions between carbon price, emissions, various supply components and the stockpile of units held by private participants.\n",
    "\n",
    "The model largely repliacates the functionality of the Ministry for the Environment's (MfE's) NZ ETS model that operates in excel (using macros/VBA). However given NZUpy is coded in Python, it allows for greater flexibility and customisation by users who wish to enhance certain components (e.g., incorporating more sophisticated industrial allocation behaviours). "
   ]
  },
  {
   "cell_type": "markdown",
   "id": "27b98b88-a963-4e74-87ed-bb6dad87f96b",
   "metadata": {},
   "source": [
    "## Some basics\n",
    "\n",
    "NZUpy is structured around the `NZUpy` class, which contains all information about the scenario(s), time periods, and components of the model (supply, demand, stockpile dynamics, etc.).\n",
    "\n",
    "There are four main steps to running NZUpy:\n",
    "\n",
    "1. **Creating an instance**: Initialise the model\n",
    "2. **Define the scope**: Specify years, and scenarios\n",
    "3. **Configure scenarios**: Customise your configuration of inputs and parameters for each scenario\n",
    "4. **Run the model**: Execute the model and analyse results\n",
    "\n",
    "The model follows a builder pattern, which allows for flexible configuration."
   ]
  },
  {
   "cell_type": "markdown",
   "id": "0fe2093c-5f35-4172-b3ef-bcabd5ba6223",
   "metadata": {},
   "source": [
    "## 1. Create NZUpy instance\n",
    "\n",
    "Let's start by importing the NZUpy class and libaries we'll use in the notebook"
   ]
  },
  {
   "cell_type": "code",
   "execution_count": 12,
   "id": "c078a858-a933-41de-a0f1-c9f7fc1c409d",
   "metadata": {},
   "outputs": [],
   "source": [
    "# Import necessary libraries\n",
    "import pandas as pd\n",
    "import numpy as np\n",
    "import plotly.graph_objects as go\n",
    "from pathlib import Path\n",
    "import sys\n",
    "import os"
   ]
  },
  {
   "cell_type": "markdown",
   "id": "e028a89d-ecbf-4c6f-b5dd-558b76a90709",
   "metadata": {},
   "source": [
    "As we're operating in a subfolder off the project root, we'll need to ensure we can find the NZUpy model, and its data directory containing necessary inputs and parameters."
   ]
  },
  {
   "cell_type": "code",
   "execution_count": 13,
   "id": "bf184a8d",
   "metadata": {},
   "outputs": [],
   "source": [
    "# Add the project root to the path\n",
    "project_root = Path().absolute().parent\n",
    "sys.path.insert(0, str(project_root))\n",
    "\n",
    "# Import the NZUpy class\n",
    "from model.core.base_model import NZUpy\n",
    "\n",
    "# Set our input and output directories\n",
    "data_dir = project_root / \"data\"\n",
    "output_dir = project_root / \"examples\" / \"outputs\" / \"01_basic_run\"\n",
    "os.makedirs(output_dir, exist_ok=True)"
   ]
  },
  {
   "cell_type": "markdown",
   "id": "e74280ef",
   "metadata": {},
   "source": [
    "After that, we can initialise NZUpy, pointing it to our input data directory.."
   ]
  },
  {
   "cell_type": "code",
   "execution_count": 14,
   "id": "ea6b939e-a234-424b-b890-712373b00d39",
   "metadata": {},
   "outputs": [],
   "source": [
    "NZU = NZUpy(data_dir=data_dir)"
   ]
  },
  {
   "cell_type": "markdown",
   "id": "34bf16da-cd93-4ddd-b9b6-cd062a90351f",
   "metadata": {},
   "source": [
    "## 2. Define the scope\n",
    "\n",
    "NZUpy requires users to define the time period they wish to model. \n",
    "\n",
    "By default, the model is set up for a 2024 start year, and 2050 end year (aligned with MfE's excel-based model), and is recommended for the vast bulk of use cases."
   ]
  },
  {
   "cell_type": "code",
   "execution_count": 15,
   "id": "6d4816df-2dd5-4acc-8300-ba3f7cc686d5",
   "metadata": {},
   "outputs": [
    {
     "name": "stdout",
     "output_type": "stream",
     "text": [
      "Time periods defined:\n",
      "  Optimisation: 2024-2050\n"
     ]
    },
    {
     "data": {
      "text/plain": [
       "<model.core.base_model.NZUpy at 0x28c2e279430>"
      ]
     },
     "execution_count": 15,
     "metadata": {},
     "output_type": "execute_result"
    }
   ],
   "source": [
    "# Define time periods: start year, end year\n",
    "NZU.define_time(2024, 2050)"
   ]
  },
  {
   "cell_type": "markdown",
   "id": "1838be37-d692-4211-8d44-2b94b17dfcb7",
   "metadata": {},
   "source": [
    "For this run, we'll keep things simple with a single scenario. \n",
    "\n",
    "Scenario naming has no effect on the model itself, and is used to enable distinct runs with their own configured settings. So we'll call ours 'Basic run'"
   ]
  },
  {
   "cell_type": "code",
   "execution_count": 16,
   "id": "fe4bf64e-62f2-40ee-90ea-8dda79bb51fc",
   "metadata": {},
   "outputs": [
    {
     "name": "stdout",
     "output_type": "stream",
     "text": [
      "Defined 1 scenarios: Basic run\n"
     ]
    },
    {
     "data": {
      "text/plain": [
       "<model.core.base_model.NZUpy at 0x28c2e279430>"
      ]
     },
     "execution_count": 16,
     "metadata": {},
     "output_type": "execute_result"
    }
   ],
   "source": [
    "# Define scenarios - you can have multiple scenarios\n",
    "NZU.define_scenarios(['Basic run'])"
   ]
  },
  {
   "cell_type": "markdown",
   "id": "156236b7",
   "metadata": {},
   "source": [
    "We then prime the model, which initialises dataframes housing our variables"
   ]
  },
  {
   "cell_type": "code",
   "execution_count": 17,
   "id": "5c102313",
   "metadata": {},
   "outputs": [
    {
     "name": "stdout",
     "output_type": "stream",
     "text": [
      "Model primed with 1 scenarios:\n",
      "  [0] Basic run\n"
     ]
    },
    {
     "data": {
      "text/plain": [
       "<model.core.base_model.NZUpy at 0x28c2e279430>"
      ]
     },
     "execution_count": 17,
     "metadata": {},
     "output_type": "execute_result"
    }
   ],
   "source": [
    "NZU.prime()"
   ]
  },
  {
   "cell_type": "markdown",
   "id": "337e77c7",
   "metadata": {},
   "source": [
    "## 3. Configure the scenarios\n",
    "\n",
    "After priming the model, we need to configure our scenario with the input data and parameters we want to use. \n",
    "\n",
    "NZUpy makes it easy to operate the model using central default inputs for all of its supply, demand and stockpile components, loaded in from CSV files in subfolders of `data/inputs/`.\n",
    "\n",
    "We can use the `use_central_configs()` method to set all components to their central configurations for our scenario to get everything set-up quickly.\n"
   ]
  },
  {
   "cell_type": "code",
   "execution_count": 18,
   "id": "1b3f6a74",
   "metadata": {},
   "outputs": [
    {
     "name": "stdout",
     "output_type": "stream",
     "text": [
      "Using central config for emissions in scenario 0 (Basic run)\n",
      "Using central config for auction in scenario 0 (Basic run)\n",
      "Using central config for industrial in scenario 0 (Basic run)\n",
      "Using central config for forestry in scenario 0 (Basic run)\n",
      "Using central config for demand_model in scenario 0 (Basic run)\n",
      "Using central config for stockpile in scenario 0 (Basic run)\n",
      "Using central configs for all components in model scenario 0 (Basic run)\n"
     ]
    },
    {
     "data": {
      "text/plain": [
       "<model.core.base_model.NZUpy at 0x28c2e279430>"
      ]
     },
     "execution_count": 18,
     "metadata": {},
     "output_type": "execute_result"
    }
   ],
   "source": [
    "# Configure our scenario (index 0) to use central configs for all components\n",
    "NZU.use_central_configs(0)"
   ]
  },
  {
   "cell_type": "markdown",
   "id": "258a7956",
   "metadata": {},
   "source": [
    "Most users will want to customise certain inputs however, such as loading in an alternative set of auction settings, or trying out a different govt. forecast for forestry removals. \n",
    "\n",
    "Each of the CSV files in `data/inputs/` subfolders contains a range of alternative configurations that draw on different data sources (e.g., MfE & MPI published projections, Climate Change Commission annual estimates of the surplus, etc.)\n",
    "\n",
    "We can use the `list_available_configs()` method to quicly pull up alternative options for each component."
   ]
  },
  {
   "cell_type": "code",
   "execution_count": 19,
   "id": "5819eac5",
   "metadata": {},
   "outputs": [
    {
     "name": "stdout",
     "output_type": "stream",
     "text": [
      "Available configurations:\n",
      "Emissions configs: ['CCC_CPR', 'CCC_DP', 'CCC_mid', 'central']\n",
      "Auction configs: ['CCC_2024', 'central']\n",
      "Industrial configs: ['central']\n",
      "Forestry configs: ['central', 'high', 'low']\n",
      "Demand model configs: ['95pc_lower', '95pc_upper', 'central', 'std_error', 'stde_lower', 'stde_upper']\n",
      "Stockpile configs: ['CCC22_central', 'CCC22_high', 'CCC22_low', 'CCC24_central', 'CCC24_high', 'CCC24_low', 'EY24_central', 'EY24_high', 'EY24_low', 'MFE24_central', 'MFE24_high', 'MFE24_low', 'central', 'high', 'low']\n"
     ]
    }
   ],
   "source": [
    "# Show available configurations for each component\n",
    "print(\"Available configurations:\")\n",
    "print(f\"Emissions configs:\", NZU.list_available_configs('emissions'))\n",
    "print(f\"Auction configs:\", NZU.list_available_configs('auction'))\n",
    "print(f\"Industrial configs:\", NZU.list_available_configs('industrial'))\n",
    "print(f\"Forestry configs:\", NZU.list_available_configs('forestry'))\n",
    "print(f\"Demand model configs:\", NZU.list_available_configs('demand_model'))\n",
    "print(f\"Stockpile configs:\", NZU.list_available_configs('stockpile'))\n"
   ]
  },
  {
   "cell_type": "markdown",
   "id": "c7257f78",
   "metadata": {},
   "source": [
    "For this demonstration notebook, we'll look more closely at stockpile and surplus trends. \n",
    "\n",
    "We'll do this by swapping out NZUpy's default config (drawn from the Climate Change Commission's 2024 estimates) with a new Ernst & Young central estimate featured in a Sep 2024 report to the Ministry for the Environment. This stockpile config is listed as `EY24_central`.\n",
    "\n",
    "_nb. Further metadata on where each config is sourced from can be found in respective CSV files in `data/inputs` subfolders._"
   ]
  },
  {
   "cell_type": "code",
   "execution_count": 52,
   "id": "00ab5742",
   "metadata": {},
   "outputs": [
    {
     "name": "stdout",
     "output_type": "stream",
     "text": [
      "~~~~~~~~/+/ STOCKPILE & SURPLUS BEFORE EDIT \\+\\~~~~~~~~\n",
      "\n",
      "=== Stockpile Configuration for Scenario 'Basic run' ===\n",
      "Config name: EY24_central\n",
      "\n",
      "Stockpile Parameters:\n",
      "  Initial Stockpile: 159,902 kt CO₂-e\n",
      "  Initial Surplus: 52,400 kt CO₂-e\n",
      "  Liquidity Factor: 12.00%\n",
      "  Discount Rate: 5.00%\n",
      "  Payback Period: 25 years\n",
      "  Stockpile Usage Start Year: 2024\n",
      "  Stockpile Reference Year: 2023\n",
      "Using EY24_central config for stockpile in scenario 0 (Basic run)\n",
      "~~~~~~~~/+/ STOCKPILE & SURPLUS AFTER EDIT \\+\\~~~~~~~~\n",
      "\n",
      "=== Stockpile Configuration for Scenario 'Basic run' ===\n",
      "Config name: EY24_central\n",
      "\n",
      "Stockpile Parameters:\n",
      "  Initial Stockpile: 159,902 kt CO₂-e\n",
      "  Initial Surplus: 52,400 kt CO₂-e\n",
      "  Liquidity Factor: 12.00%\n",
      "  Discount Rate: 5.00%\n",
      "  Payback Period: 25 years\n",
      "  Stockpile Usage Start Year: 2024\n",
      "  Stockpile Reference Year: 2023\n"
     ]
    },
    {
     "name": "stderr",
     "output_type": "stream",
     "text": [
      "<>:2: SyntaxWarning:\n",
      "\n",
      "invalid escape sequence '\\+'\n",
      "\n",
      "<>:8: SyntaxWarning:\n",
      "\n",
      "invalid escape sequence '\\+'\n",
      "\n",
      "<>:2: SyntaxWarning:\n",
      "\n",
      "invalid escape sequence '\\+'\n",
      "\n",
      "<>:8: SyntaxWarning:\n",
      "\n",
      "invalid escape sequence '\\+'\n",
      "\n",
      "C:\\Users\\nzkri\\AppData\\Local\\Temp\\ipykernel_21424\\1980028996.py:2: SyntaxWarning:\n",
      "\n",
      "invalid escape sequence '\\+'\n",
      "\n",
      "C:\\Users\\nzkri\\AppData\\Local\\Temp\\ipykernel_21424\\1980028996.py:8: SyntaxWarning:\n",
      "\n",
      "invalid escape sequence '\\+'\n",
      "\n"
     ]
    }
   ],
   "source": [
    "# Get stockpile data\n",
    "print(\"~~~~~~~~| STOCKPILE & SURPLUS BEFORE EDIT |~~~~~~~~\")\n",
    "stockpile_data = NZU.show_inputs('stockpile', scenario_name='Basic run')\n",
    "\n",
    "# Use the EY24_central config for our scenario (index 0)\n",
    "NZU.use_config(0, 'stockpile', 'EY24_central')\n",
    "\n",
    "print(\"~~~~~~~~| STOCKPILE & SURPLUS AFTER EDIT |~~~~~~~~\")\n",
    "# Get updated stockpile data\n",
    "stockpile_data = NZU.show_inputs('stockpile', scenario_name='Basic run')\n"
   ]
  },
  {
   "cell_type": "markdown",
   "id": "dce70e4f",
   "metadata": {},
   "source": [
    "_You'll see we now have a lower starting surplus balance for our reference year (2023), down to 52.4 million NZUs from the Climate Commission's central estimate of 68.1 million..._"
   ]
  },
  {
   "cell_type": "markdown",
   "id": "723ccc3e",
   "metadata": {},
   "source": [
    "## 4. Run the model\n",
    "\n",
    "Now that we've configured our scenario, we can run the model:"
   ]
  },
  {
   "cell_type": "code",
   "execution_count": 53,
   "id": "a3f86e3e",
   "metadata": {},
   "outputs": [
    {
     "name": "stdout",
     "output_type": "stream",
     "text": [
      "\n",
      "Running scenario 0: Basic run\n",
      "Completed NZUpy run for Basic run\n"
     ]
    }
   ],
   "source": [
    "# Run the model\n",
    "results = NZU.run()"
   ]
  },
  {
   "cell_type": "markdown",
   "id": "9d70b7a7",
   "metadata": {},
   "source": [
    "## 5. Analyse the results\n",
    "\n",
    "Now that we've got our results in tow, we can undertake any number of analyses. We'll keep things simple here, and call a list of variables available to us, so we can pick some result variables we're interested in"
   ]
  },
  {
   "cell_type": "code",
   "execution_count": 54,
   "id": "a39deb6e",
   "metadata": {},
   "outputs": [
    {
     "name": "stdout",
     "output_type": "stream",
     "text": [
      "Available variables by category:\n",
      "\n",
      "Prices:\n",
      "  self.prices - Carbon prices by scenario\n",
      "  Access real prices: model.prices.xs('carbon_price', level='variable', axis=1)\n",
      "  Access nominal prices: model.prices.xs('carbon_price_nominal', level='variable', axis=1)\n",
      "  Example for specific scenario: model.prices[('central', 'carbon_price')]\n",
      "  Example for nominal prices: model.prices[('central', 'carbon_price_nominal')]\n",
      "\n",
      "Core model outputs:\n",
      "  self.core.xs('avg_price_change_rate', level='variable', axis=1) - Average annual price growth (%)\n",
      "  self.core.xs('price_change_rate', level='variable', axis=1) - Annual price growth rate (%)\n",
      "  self.core.xs('supply_demand_balance', level='variable', axis=1) - Supply minus demand by year (kt CO₂-e)\n",
      "\n",
      "Supply components:\n",
      "  self.supply.xs('auction', level='variable', axis=1) - Units supplied through auction (kt CO₂-e)\n",
      "  self.supply.xs('forestry', level='variable', axis=1) - Units from forestry removals (kt CO₂-e)\n",
      "  self.supply.xs('industrial', level='variable', axis=1) - Units allocated to industrial activities (kt CO₂-e)\n",
      "  self.supply.xs('stockpile', level='variable', axis=1) - Units from stockpile (kt CO₂-e)\n",
      "  self.supply.xs('total', level='variable', axis=1) - Total unit supply (kt CO₂-e)\n",
      "\n",
      "Auction components:\n",
      "  self.auctions.xs('base_available', level='variable', axis=1) - Base auction volume available (kt CO2-e)\n",
      "  self.auctions.xs('base_supplied', level='variable', axis=1) - Base auction volumes actually supplied (kt CO2-e)\n",
      "  self.auctions.xs('ccr1_available', level='variable', axis=1) - CCR1 auction volumes available (kt CO2-e)\n",
      "  self.auctions.xs('ccr1_price', level='variable', axis=1) - CCR1 price trigger ($/tonne CO2-e)\n",
      "  self.auctions.xs('ccr1_supplied', level='variable', axis=1) - CCR1 auction volumes supplied (kt CO2-e)\n",
      "  self.auctions.xs('ccr2_available', level='variable', axis=1) - CCR2 auction volumes available (kt CO2-e)\n",
      "  self.auctions.xs('ccr2_price', level='variable', axis=1) - CCR2 price trigger ($/tonne CO2-e)\n",
      "  self.auctions.xs('ccr2_supplied', level='variable', axis=1) - CCR2 auction volumes supplied (kt CO2-e)\n",
      "  self.auctions.xs('reserve_price', level='variable', axis=1) - Minimum auction price ($/tonne CO2-e)\n",
      "  self.auctions.xs('revenue', level='variable', axis=1) - Annual auction revenue ($)\n",
      "  self.auctions.xs('total_available', level='variable', axis=1) - Total auction available across tiers (kt CO2-e)\n",
      "  self.auctions.xs('total_supplied', level='variable', axis=1) - Total auction supplied across tiers (kt CO2-e)\n",
      "\n",
      "Industrial allocation:\n",
      "  self.industrial.xs('allocation', level='variable', axis=1) - Free allocation to industry (kt CO2-e)\n",
      "\n",
      "Forestry components:\n",
      "  self.forestry.xs('removals', level='variable', axis=1) - Units supplied from forestry (kt CO2-e)\n",
      "\n",
      "Stockpile components:\n",
      "  self.stockpile.xs('balance', level='variable', axis=1) - Total stockpile balance (kt CO2-e)\n",
      "  self.stockpile.xs('borrowed_units', level='variable', axis=1) - Annual borrowing from stockpile (kt CO2-e)\n",
      "  self.stockpile.xs('cumulative_forestry_additions', level='variable', axis=1) - Cumulative forestry held and surrender additions (kt CO2-e)\n",
      "  self.stockpile.xs('cumulative_net_borrowing', level='variable', axis=1) - Cumulative net borrowing (kt CO2-e)\n",
      "  self.stockpile.xs('forestry_contribution', level='variable', axis=1) - Net forestry contribution (kt CO2-e)\n",
      "  self.stockpile.xs('forestry_held', level='variable', axis=1) - Forestry held contributions (kt CO2-e)\n",
      "  self.stockpile.xs('forestry_surrender', level='variable', axis=1) - Forestry surrender contributions (kt CO2-e)\n",
      "  self.stockpile.xs('net_borrowing', level='variable', axis=1) - Net borrowing (paybacks minus borrowing) (kt CO2-e)\n",
      "  self.stockpile.xs('non_surplus_balance', level='variable', axis=1) - Non-surplus stockpile balance (kt CO2-e)\n",
      "  self.stockpile.xs('non_surplus_used', level='variable', axis=1) - Non-surplus units used from stockpile (kt CO2-e)\n",
      "  self.stockpile.xs('payback_units', level='variable', axis=1) - Annual stockpile repayment obligation (kt CO2-e)\n",
      "  self.stockpile.xs('ratio_to_demand', level='variable', axis=1) - Stockpile divided by emissions (ratio)\n",
      "  self.stockpile.xs('surplus_balance', level='variable', axis=1) - Surplus stockpile balance (kt CO2-e)\n",
      "  self.stockpile.xs('surplus_used', level='variable', axis=1) - Surplus units used from stockpile (kt CO2-e)\n",
      "  self.stockpile.xs('units_used', level='variable', axis=1) - Total units used from stockpile (kt CO2-e)\n",
      "  self.stockpile.xs('without_forestry', level='variable', axis=1) - Stockpile balance excluding forestry (kt CO2-e)\n",
      "\n",
      "Demand components:\n",
      "  self.demand.xs('baseline_emissions', level='variable', axis=1) - Baseline emissions (pre-response) (kt CO2-e)\n",
      "  self.demand.xs('emissions', level='variable', axis=1) - Emissions after price response (kt CO2-e)\n",
      "  self.demand.xs('gross_mitigation', level='variable', axis=1) - Difference baseline - emissions (kt CO2-e)\n",
      "  self.demand.xs('net_mitigation', level='variable', axis=1) - Gross mitigation + forestry (kt CO2-e)\n",
      "  self.demand.xs('payback_units', level='variable', axis=1) - Annual stockpile repayment obligation (kt CO2-e)\n",
      "  self.demand.xs('total_demand_with_paybacks', level='variable', axis=1) - Total demand including payback obligations (kt CO2-e)\n",
      "\n",
      "Input parameters:\n",
      "  self.inputs.xs('demand_model', level='variable', axis=1) - Price response model number (integer)\n",
      "  self.inputs.xs('discount_rate', level='variable', axis=1) - Used for stockpile calculations (%)\n",
      "  self.inputs.xs('liquidity_limit', level='variable', axis=1) - Annual non-surplus limit (%)\n",
      "  self.inputs.xs('payback_period', level='variable', axis=1) - Years to pay back borrowed units (years)\n",
      "  self.inputs.xs('price_response_forward_years', level='variable', axis=1) - Price response look ahead (years)\n",
      "  self.inputs.xs('scenario_name', level='variable', axis=1) - Identifier for each scenario (-)\n",
      "  self.inputs.xs('stockpile_start', level='variable', axis=1) - Initial stockpile volume (kt CO2-e)\n",
      "  self.inputs.xs('surplus_start', level='variable', axis=1) - Initial surplus volume (kt CO2-e)\n",
      "  self.inputs.xs('years', level='variable', axis=1) - Model years within start/end (year)\n"
     ]
    }
   ],
   "source": [
    "NZU.list_variables()"
   ]
  },
  {
   "cell_type": "markdown",
   "id": "d31c14c4",
   "metadata": {},
   "source": [
    "As we're dealing with pandas dataframes, we can use typical methods from numpy and pandas to get a quick sense of the results"
   ]
  },
  {
   "cell_type": "code",
   "execution_count": 55,
   "id": "669254ec",
   "metadata": {},
   "outputs": [
    {
     "name": "stdout",
     "output_type": "stream",
     "text": [
      "Carbon price trajectory ($/tCO₂-e):\n",
      "scenario  Basic run\n",
      "year               \n",
      "2024      62.000000\n",
      "2025      65.038000\n",
      "2026      68.224862\n",
      "2027      71.567880\n",
      "2028      75.074706\n"
     ]
    }
   ],
   "source": [
    "# Get carbon price data for our scenario\n",
    "carbon_price = NZU.prices.xs('carbon_price', level='variable', axis=1)\n",
    "print(\"Carbon price trajectory ($/tCO₂-e):\")\n",
    "print(carbon_price.head())"
   ]
  },
  {
   "cell_type": "markdown",
   "id": "0ce4ba39",
   "metadata": {},
   "source": [
    "But in this case, given we've swapped in an alternative starting surplus estimate, we're most interested in stockpile and surplus balance, so lets take a look at these."
   ]
  },
  {
   "cell_type": "code",
   "execution_count": 56,
   "id": "781281fd",
   "metadata": {},
   "outputs": [
    {
     "name": "stdout",
     "output_type": "stream",
     "text": [
      "\n",
      "Stockpile balance in 2050 (kt CO₂-e):\n",
      "Total stockpile: 153,492\n",
      "Surplus: 36,465\n",
      "Non-surplus: 117,027\n"
     ]
    }
   ],
   "source": [
    "# Get stockpile balance data\n",
    "stockpile_balance = NZU.stockpile.xs('balance', level='variable', axis=1)\n",
    "surplus_balance = NZU.stockpile.xs('surplus_balance', level='variable', axis=1)\n",
    "non_surplus_balance = NZU.stockpile.xs('non_surplus_balance', level='variable', axis=1)\n",
    "\n",
    "print(\"\\nStockpile balance in 2050 (kt CO₂-e):\")\n",
    "print(f\"Total stockpile: {stockpile_balance.iloc[-1, 0]:,.0f}\")\n",
    "print(f\"Surplus: {surplus_balance.iloc[-1, 0]:,.0f}\")\n",
    "print(f\"Non-surplus: {non_surplus_balance.iloc[-1, 0]:,.0f}\")"
   ]
  },
  {
   "cell_type": "markdown",
   "id": "a0918ce2",
   "metadata": {},
   "source": [
    "These stockpile balance levels in 2050 are about the same as our balance at the start of time period (end 2023), so it would be interesting to see how these evolve over time.\n",
    "\n",
    "Helpfully, we can call a pre-configured chart to make our life easier..."
   ]
  },
  {
   "cell_type": "code",
   "execution_count": 57,
   "id": "f3fa1e13",
   "metadata": {},
   "outputs": [
    {
     "data": {
      "application/vnd.plotly.v1+json": {
       "config": {
        "plotlyServerURL": "https://plot.ly"
       },
       "data": [
        {
         "fillcolor": "rgba(27,120,55, 0.4)",
         "hovertemplate": "Year: %{x}<br>Surplus Balance: %{y:.2f} kt CO₂-e<extra></extra>",
         "line": {
          "color": "rgba(27,120,55, 0.6)",
          "width": 1
         },
         "mode": "lines",
         "name": "Surplus Balance",
         "stackgroup": "one",
         "type": "scatter",
         "x": [
          2024,
          2025,
          2026,
          2027,
          2028,
          2029,
          2030,
          2031,
          2032,
          2033,
          2034,
          2035,
          2036,
          2037,
          2038,
          2039,
          2040,
          2041,
          2042,
          2043,
          2044,
          2045,
          2046,
          2047,
          2048,
          2049,
          2050
         ],
         "y": [
          33947.414792573,
          16385.888806940424,
          815.1906060467627,
          0,
          0,
          0,
          0,
          0,
          0,
          0,
          0,
          0,
          0,
          1514.8797182171547,
          1943.819539530843,
          1622.6499072981605,
          1607.6376813840652,
          2174.3643346828976,
          3373.7476882155097,
          5272.490906060069,
          7832.428245790925,
          11078.582145462555,
          14926.352062089572,
          19424.268493787993,
          24522.368764982923,
          30213.15951334618,
          36465.25589313806
         ]
        },
        {
         "fillcolor": "rgba(118,42,131, 0.4)",
         "hovertemplate": "Year: %{x}<br>Non-Surplus Balance: %{y:.2f} kt CO₂-e<extra></extra>",
         "line": {
          "color": "rgba(118,42,131, 0.6)",
          "width": 1
         },
         "mode": "lines",
         "name": "Non-Surplus Balance",
         "stackgroup": "one",
         "type": "scatter",
         "x": [
          2024,
          2025,
          2026,
          2027,
          2028,
          2029,
          2030,
          2031,
          2032,
          2033,
          2034,
          2035,
          2036,
          2037,
          2038,
          2039,
          2040,
          2041,
          2042,
          2043,
          2044,
          2045,
          2046,
          2047,
          2048,
          2049,
          2050
         ],
         "y": [
          101656.72071600001,
          99503.22776800001,
          98734.50301,
          87295.7589208,
          76302.689215304,
          66573.32162746752,
          59726.80807917142,
          59687.40464414976,
          60071.86920528997,
          61592.989412747775,
          63701.033437085316,
          67998.62089844455,
          74071.57640817852,
          80549.38551117851,
          86235.4784841785,
          88280.97397417852,
          87673.95066617851,
          90925.9143721785,
          93969.05219117852,
          97898.4620391785,
          102897.8053641785,
          108419.0744761785,
          113301.6933371785,
          115617.66349917848,
          117475.23930717849,
          117610.32411617853,
          117026.52002117853
         ]
        },
        {
         "hovertemplate": "Year: %{x}<br>Total Stockpile: %{y:.2f} kt CO₂-e<extra></extra>",
         "line": {
          "color": "rgb(47, 47, 47)",
          "width": 4
         },
         "mode": "lines",
         "name": "Total Stockpile",
         "type": "scatter",
         "x": [
          2024,
          2025,
          2026,
          2027,
          2028,
          2029,
          2030,
          2031,
          2032,
          2033,
          2034,
          2035,
          2036,
          2037,
          2038,
          2039,
          2040,
          2041,
          2042,
          2043,
          2044,
          2045,
          2046,
          2047,
          2048,
          2049,
          2050
         ],
         "y": [
          135604.135508573,
          115889.11657494043,
          99549.69361604676,
          87295.7589208,
          76302.689215304,
          66573.32162746752,
          59726.80807917142,
          59687.40464414976,
          60071.86920528997,
          61592.989412747775,
          63701.033437085316,
          67998.62089844455,
          74071.57640817852,
          82064.26522939566,
          88179.29802370934,
          89903.62388147667,
          89281.58834756257,
          93100.2787068614,
          97342.79987939402,
          103170.95294523858,
          110730.23360996942,
          119497.65662164106,
          128228.04539926807,
          135041.93199296648,
          141997.6080721614,
          147823.4836295247,
          153491.7759143166
         ]
        },
        {
         "hovertemplate": "Year: %{x}<br>Stockpile Without Forestry: %{y:.2f} kt CO₂-e<extra></extra>",
         "line": {
          "color": "rgb(108, 108, 108)",
          "dash": "dash",
          "width": 4
         },
         "mode": "lines",
         "name": "Stockpile Without Forestry",
         "type": "scatter",
         "x": [
          2024,
          2025,
          2026,
          2027,
          2028,
          2029,
          2030,
          2031,
          2032,
          2033,
          2034,
          2035,
          2036,
          2037,
          2038,
          2039,
          2040,
          2041,
          2042,
          2043,
          2044,
          2045,
          2046,
          2047,
          2048,
          2049,
          2050
         ],
         "y": [
          141449.414792573,
          123887.88880694042,
          108317.19060604676,
          95653.8596388,
          85178.368568304,
          76022.04586246752,
          68033.24726717142,
          65474.96764914977,
          62056.14784228998,
          58123.141272447785,
          54289.36221448532,
          52047.110221944575,
          51864.34037167854,
          53379.220089895694,
          53808.15991120938,
          53486.9902789767,
          53471.9780530626,
          54038.70470636143,
          55238.08805989404,
          57136.8312777386,
          59696.76861746945,
          62942.92251714108,
          66790.6924337681,
          71288.60886546652,
          76386.70913666145,
          82077.4998850247,
          88329.59626481659
         ]
        }
       ],
       "layout": {
        "font": {
         "family": "Arial, sans-serif",
         "size": 12
        },
        "hovermode": "closest",
        "legend": {
         "orientation": "h",
         "x": 1,
         "xanchor": "right",
         "y": 1.02,
         "yanchor": "bottom"
        },
        "margin": {
         "b": 60,
         "l": 60,
         "r": 30,
         "t": 60
        },
        "paper_bgcolor": "white",
        "plot_bgcolor": "white",
        "template": {
         "data": {
          "bar": [
           {
            "error_x": {
             "color": "#2a3f5f"
            },
            "error_y": {
             "color": "#2a3f5f"
            },
            "marker": {
             "line": {
              "color": "#E5ECF6",
              "width": 0.5
             },
             "pattern": {
              "fillmode": "overlay",
              "size": 10,
              "solidity": 0.2
             }
            },
            "type": "bar"
           }
          ],
          "barpolar": [
           {
            "marker": {
             "line": {
              "color": "#E5ECF6",
              "width": 0.5
             },
             "pattern": {
              "fillmode": "overlay",
              "size": 10,
              "solidity": 0.2
             }
            },
            "type": "barpolar"
           }
          ],
          "carpet": [
           {
            "aaxis": {
             "endlinecolor": "#2a3f5f",
             "gridcolor": "white",
             "linecolor": "white",
             "minorgridcolor": "white",
             "startlinecolor": "#2a3f5f"
            },
            "baxis": {
             "endlinecolor": "#2a3f5f",
             "gridcolor": "white",
             "linecolor": "white",
             "minorgridcolor": "white",
             "startlinecolor": "#2a3f5f"
            },
            "type": "carpet"
           }
          ],
          "choropleth": [
           {
            "colorbar": {
             "outlinewidth": 0,
             "ticks": ""
            },
            "type": "choropleth"
           }
          ],
          "contour": [
           {
            "colorbar": {
             "outlinewidth": 0,
             "ticks": ""
            },
            "colorscale": [
             [
              0,
              "#0d0887"
             ],
             [
              0.1111111111111111,
              "#46039f"
             ],
             [
              0.2222222222222222,
              "#7201a8"
             ],
             [
              0.3333333333333333,
              "#9c179e"
             ],
             [
              0.4444444444444444,
              "#bd3786"
             ],
             [
              0.5555555555555556,
              "#d8576b"
             ],
             [
              0.6666666666666666,
              "#ed7953"
             ],
             [
              0.7777777777777778,
              "#fb9f3a"
             ],
             [
              0.8888888888888888,
              "#fdca26"
             ],
             [
              1,
              "#f0f921"
             ]
            ],
            "type": "contour"
           }
          ],
          "contourcarpet": [
           {
            "colorbar": {
             "outlinewidth": 0,
             "ticks": ""
            },
            "type": "contourcarpet"
           }
          ],
          "heatmap": [
           {
            "colorbar": {
             "outlinewidth": 0,
             "ticks": ""
            },
            "colorscale": [
             [
              0,
              "#0d0887"
             ],
             [
              0.1111111111111111,
              "#46039f"
             ],
             [
              0.2222222222222222,
              "#7201a8"
             ],
             [
              0.3333333333333333,
              "#9c179e"
             ],
             [
              0.4444444444444444,
              "#bd3786"
             ],
             [
              0.5555555555555556,
              "#d8576b"
             ],
             [
              0.6666666666666666,
              "#ed7953"
             ],
             [
              0.7777777777777778,
              "#fb9f3a"
             ],
             [
              0.8888888888888888,
              "#fdca26"
             ],
             [
              1,
              "#f0f921"
             ]
            ],
            "type": "heatmap"
           }
          ],
          "heatmapgl": [
           {
            "colorbar": {
             "outlinewidth": 0,
             "ticks": ""
            },
            "colorscale": [
             [
              0,
              "#0d0887"
             ],
             [
              0.1111111111111111,
              "#46039f"
             ],
             [
              0.2222222222222222,
              "#7201a8"
             ],
             [
              0.3333333333333333,
              "#9c179e"
             ],
             [
              0.4444444444444444,
              "#bd3786"
             ],
             [
              0.5555555555555556,
              "#d8576b"
             ],
             [
              0.6666666666666666,
              "#ed7953"
             ],
             [
              0.7777777777777778,
              "#fb9f3a"
             ],
             [
              0.8888888888888888,
              "#fdca26"
             ],
             [
              1,
              "#f0f921"
             ]
            ],
            "type": "heatmapgl"
           }
          ],
          "histogram": [
           {
            "marker": {
             "pattern": {
              "fillmode": "overlay",
              "size": 10,
              "solidity": 0.2
             }
            },
            "type": "histogram"
           }
          ],
          "histogram2d": [
           {
            "colorbar": {
             "outlinewidth": 0,
             "ticks": ""
            },
            "colorscale": [
             [
              0,
              "#0d0887"
             ],
             [
              0.1111111111111111,
              "#46039f"
             ],
             [
              0.2222222222222222,
              "#7201a8"
             ],
             [
              0.3333333333333333,
              "#9c179e"
             ],
             [
              0.4444444444444444,
              "#bd3786"
             ],
             [
              0.5555555555555556,
              "#d8576b"
             ],
             [
              0.6666666666666666,
              "#ed7953"
             ],
             [
              0.7777777777777778,
              "#fb9f3a"
             ],
             [
              0.8888888888888888,
              "#fdca26"
             ],
             [
              1,
              "#f0f921"
             ]
            ],
            "type": "histogram2d"
           }
          ],
          "histogram2dcontour": [
           {
            "colorbar": {
             "outlinewidth": 0,
             "ticks": ""
            },
            "colorscale": [
             [
              0,
              "#0d0887"
             ],
             [
              0.1111111111111111,
              "#46039f"
             ],
             [
              0.2222222222222222,
              "#7201a8"
             ],
             [
              0.3333333333333333,
              "#9c179e"
             ],
             [
              0.4444444444444444,
              "#bd3786"
             ],
             [
              0.5555555555555556,
              "#d8576b"
             ],
             [
              0.6666666666666666,
              "#ed7953"
             ],
             [
              0.7777777777777778,
              "#fb9f3a"
             ],
             [
              0.8888888888888888,
              "#fdca26"
             ],
             [
              1,
              "#f0f921"
             ]
            ],
            "type": "histogram2dcontour"
           }
          ],
          "mesh3d": [
           {
            "colorbar": {
             "outlinewidth": 0,
             "ticks": ""
            },
            "type": "mesh3d"
           }
          ],
          "parcoords": [
           {
            "line": {
             "colorbar": {
              "outlinewidth": 0,
              "ticks": ""
             }
            },
            "type": "parcoords"
           }
          ],
          "pie": [
           {
            "automargin": true,
            "type": "pie"
           }
          ],
          "scatter": [
           {
            "fillpattern": {
             "fillmode": "overlay",
             "size": 10,
             "solidity": 0.2
            },
            "type": "scatter"
           }
          ],
          "scatter3d": [
           {
            "line": {
             "colorbar": {
              "outlinewidth": 0,
              "ticks": ""
             }
            },
            "marker": {
             "colorbar": {
              "outlinewidth": 0,
              "ticks": ""
             }
            },
            "type": "scatter3d"
           }
          ],
          "scattercarpet": [
           {
            "marker": {
             "colorbar": {
              "outlinewidth": 0,
              "ticks": ""
             }
            },
            "type": "scattercarpet"
           }
          ],
          "scattergeo": [
           {
            "marker": {
             "colorbar": {
              "outlinewidth": 0,
              "ticks": ""
             }
            },
            "type": "scattergeo"
           }
          ],
          "scattergl": [
           {
            "marker": {
             "colorbar": {
              "outlinewidth": 0,
              "ticks": ""
             }
            },
            "type": "scattergl"
           }
          ],
          "scattermapbox": [
           {
            "marker": {
             "colorbar": {
              "outlinewidth": 0,
              "ticks": ""
             }
            },
            "type": "scattermapbox"
           }
          ],
          "scatterpolar": [
           {
            "marker": {
             "colorbar": {
              "outlinewidth": 0,
              "ticks": ""
             }
            },
            "type": "scatterpolar"
           }
          ],
          "scatterpolargl": [
           {
            "marker": {
             "colorbar": {
              "outlinewidth": 0,
              "ticks": ""
             }
            },
            "type": "scatterpolargl"
           }
          ],
          "scatterternary": [
           {
            "marker": {
             "colorbar": {
              "outlinewidth": 0,
              "ticks": ""
             }
            },
            "type": "scatterternary"
           }
          ],
          "surface": [
           {
            "colorbar": {
             "outlinewidth": 0,
             "ticks": ""
            },
            "colorscale": [
             [
              0,
              "#0d0887"
             ],
             [
              0.1111111111111111,
              "#46039f"
             ],
             [
              0.2222222222222222,
              "#7201a8"
             ],
             [
              0.3333333333333333,
              "#9c179e"
             ],
             [
              0.4444444444444444,
              "#bd3786"
             ],
             [
              0.5555555555555556,
              "#d8576b"
             ],
             [
              0.6666666666666666,
              "#ed7953"
             ],
             [
              0.7777777777777778,
              "#fb9f3a"
             ],
             [
              0.8888888888888888,
              "#fdca26"
             ],
             [
              1,
              "#f0f921"
             ]
            ],
            "type": "surface"
           }
          ],
          "table": [
           {
            "cells": {
             "fill": {
              "color": "#EBF0F8"
             },
             "line": {
              "color": "white"
             }
            },
            "header": {
             "fill": {
              "color": "#C8D4E3"
             },
             "line": {
              "color": "white"
             }
            },
            "type": "table"
           }
          ]
         },
         "layout": {
          "annotationdefaults": {
           "arrowcolor": "#2a3f5f",
           "arrowhead": 0,
           "arrowwidth": 1
          },
          "autotypenumbers": "strict",
          "coloraxis": {
           "colorbar": {
            "outlinewidth": 0,
            "ticks": ""
           }
          },
          "colorscale": {
           "diverging": [
            [
             0,
             "#8e0152"
            ],
            [
             0.1,
             "#c51b7d"
            ],
            [
             0.2,
             "#de77ae"
            ],
            [
             0.3,
             "#f1b6da"
            ],
            [
             0.4,
             "#fde0ef"
            ],
            [
             0.5,
             "#f7f7f7"
            ],
            [
             0.6,
             "#e6f5d0"
            ],
            [
             0.7,
             "#b8e186"
            ],
            [
             0.8,
             "#7fbc41"
            ],
            [
             0.9,
             "#4d9221"
            ],
            [
             1,
             "#276419"
            ]
           ],
           "sequential": [
            [
             0,
             "#0d0887"
            ],
            [
             0.1111111111111111,
             "#46039f"
            ],
            [
             0.2222222222222222,
             "#7201a8"
            ],
            [
             0.3333333333333333,
             "#9c179e"
            ],
            [
             0.4444444444444444,
             "#bd3786"
            ],
            [
             0.5555555555555556,
             "#d8576b"
            ],
            [
             0.6666666666666666,
             "#ed7953"
            ],
            [
             0.7777777777777778,
             "#fb9f3a"
            ],
            [
             0.8888888888888888,
             "#fdca26"
            ],
            [
             1,
             "#f0f921"
            ]
           ],
           "sequentialminus": [
            [
             0,
             "#0d0887"
            ],
            [
             0.1111111111111111,
             "#46039f"
            ],
            [
             0.2222222222222222,
             "#7201a8"
            ],
            [
             0.3333333333333333,
             "#9c179e"
            ],
            [
             0.4444444444444444,
             "#bd3786"
            ],
            [
             0.5555555555555556,
             "#d8576b"
            ],
            [
             0.6666666666666666,
             "#ed7953"
            ],
            [
             0.7777777777777778,
             "#fb9f3a"
            ],
            [
             0.8888888888888888,
             "#fdca26"
            ],
            [
             1,
             "#f0f921"
            ]
           ]
          },
          "colorway": [
           "#636efa",
           "#EF553B",
           "#00cc96",
           "#ab63fa",
           "#FFA15A",
           "#19d3f3",
           "#FF6692",
           "#B6E880",
           "#FF97FF",
           "#FECB52"
          ],
          "font": {
           "color": "#2a3f5f"
          },
          "geo": {
           "bgcolor": "white",
           "lakecolor": "white",
           "landcolor": "#E5ECF6",
           "showlakes": true,
           "showland": true,
           "subunitcolor": "white"
          },
          "hoverlabel": {
           "align": "left"
          },
          "hovermode": "closest",
          "mapbox": {
           "style": "light"
          },
          "paper_bgcolor": "white",
          "plot_bgcolor": "#E5ECF6",
          "polar": {
           "angularaxis": {
            "gridcolor": "white",
            "linecolor": "white",
            "ticks": ""
           },
           "bgcolor": "#E5ECF6",
           "radialaxis": {
            "gridcolor": "white",
            "linecolor": "white",
            "ticks": ""
           }
          },
          "scene": {
           "xaxis": {
            "backgroundcolor": "#E5ECF6",
            "gridcolor": "white",
            "gridwidth": 2,
            "linecolor": "white",
            "showbackground": true,
            "ticks": "",
            "zerolinecolor": "white"
           },
           "yaxis": {
            "backgroundcolor": "#E5ECF6",
            "gridcolor": "white",
            "gridwidth": 2,
            "linecolor": "white",
            "showbackground": true,
            "ticks": "",
            "zerolinecolor": "white"
           },
           "zaxis": {
            "backgroundcolor": "#E5ECF6",
            "gridcolor": "white",
            "gridwidth": 2,
            "linecolor": "white",
            "showbackground": true,
            "ticks": "",
            "zerolinecolor": "white"
           }
          },
          "shapedefaults": {
           "line": {
            "color": "#2a3f5f"
           }
          },
          "ternary": {
           "aaxis": {
            "gridcolor": "white",
            "linecolor": "white",
            "ticks": ""
           },
           "baxis": {
            "gridcolor": "white",
            "linecolor": "white",
            "ticks": ""
           },
           "bgcolor": "#E5ECF6",
           "caxis": {
            "gridcolor": "white",
            "linecolor": "white",
            "ticks": ""
           }
          },
          "title": {
           "x": 0.05
          },
          "xaxis": {
           "automargin": true,
           "gridcolor": "white",
           "linecolor": "white",
           "ticks": "",
           "title": {
            "standoff": 15
           },
           "zerolinecolor": "white",
           "zerolinewidth": 2
          },
          "yaxis": {
           "automargin": true,
           "gridcolor": "white",
           "linecolor": "white",
           "ticks": "",
           "title": {
            "standoff": 15
           },
           "zerolinecolor": "white",
           "zerolinewidth": 2
          }
         }
        },
        "title": {
         "font": {
          "color": "rgb(47, 79, 79)",
          "size": 16
         },
         "text": "Stockpile Balance - Basic run"
        },
        "xaxis": {
         "gridcolor": "#eeeeee",
         "showgrid": true,
         "title": {
          "standoff": 15,
          "text": "Year"
         }
        },
        "yaxis": {
         "gridcolor": "#eeeeee",
         "rangemode": "tozero",
         "showgrid": true,
         "title": {
          "standoff": 15,
          "text": "Units (kt CO₂-e)"
         }
        }
       }
      }
     },
     "metadata": {},
     "output_type": "display_data"
    }
   ],
   "source": [
    "# Load chart generator\n",
    "from model.utils.chart_generator import ChartGenerator\n",
    "\n",
    "# Initialise chart generator\n",
    "chart_gen = ChartGenerator(NZU)\n",
    "\n",
    "# Generate stockpile balance chart - referring to our scenario index 0\n",
    "stockpile_chart = chart_gen.stockpile_balance_chart(NZU.scenarios[0])\n",
    "\n",
    "# We can then display the chart in the notebook\n",
    "display(stockpile_chart) \n",
    "\n",
    "# And we can also save the chart directly as PNG\n",
    "stockpile_chart.write_image(str(output_dir / \"stockpile_balance.png\"))"
   ]
  },
  {
   "cell_type": "markdown",
   "id": "0724f538",
   "metadata": {},
   "source": [
    "With that we can see that while EY's reduced starting surplus balance sees the surplus quickly reduced to 0, the surplus begins to increase again in the late 2030s and 2040s... \n",
    "\n",
    "While there is plenty more analysis of this trend we could look at, we'll wrap-up this basic run notebook by saving these results to a CSV file."
   ]
  },
  {
   "cell_type": "code",
   "execution_count": 58,
   "id": "8fe4eed1",
   "metadata": {},
   "outputs": [
    {
     "ename": "PermissionError",
     "evalue": "[Errno 13] Permission denied: 'c:\\\\Users\\\\nzkri\\\\Python projects\\\\NZUpy\\\\examples\\\\outputs\\\\01_basic_run\\\\basic_run_results.csv'",
     "output_type": "error",
     "traceback": [
      "\u001b[31m---------------------------------------------------------------------------\u001b[39m",
      "\u001b[31mPermissionError\u001b[39m                           Traceback (most recent call last)",
      "\u001b[36mCell\u001b[39m\u001b[36m \u001b[39m\u001b[32mIn[58]\u001b[39m\u001b[32m, line 15\u001b[39m\n\u001b[32m     13\u001b[39m \u001b[38;5;66;03m# Export to CSV\u001b[39;00m\n\u001b[32m     14\u001b[39m export_path = output_dir / \u001b[33m'\u001b[39m\u001b[33mbasic_run_results.csv\u001b[39m\u001b[33m'\u001b[39m\n\u001b[32m---> \u001b[39m\u001b[32m15\u001b[39m \u001b[43mexport_data\u001b[49m\u001b[43m.\u001b[49m\u001b[43mto_csv\u001b[49m\u001b[43m(\u001b[49m\u001b[43mexport_path\u001b[49m\u001b[43m)\u001b[49m\n\u001b[32m     16\u001b[39m \u001b[38;5;28mprint\u001b[39m(\u001b[33mf\u001b[39m\u001b[33m\"\u001b[39m\u001b[33mResults exported to: \u001b[39m\u001b[38;5;132;01m{\u001b[39;00mexport_path\u001b[38;5;132;01m}\u001b[39;00m\u001b[33m\"\u001b[39m)\n",
      "\u001b[36mFile \u001b[39m\u001b[32mc:\\Users\\nzkri\\Python projects\\NZUpy\\venv\\Lib\\site-packages\\pandas\\util\\_decorators.py:333\u001b[39m, in \u001b[36mdeprecate_nonkeyword_arguments.<locals>.decorate.<locals>.wrapper\u001b[39m\u001b[34m(*args, **kwargs)\u001b[39m\n\u001b[32m    327\u001b[39m \u001b[38;5;28;01mif\u001b[39;00m \u001b[38;5;28mlen\u001b[39m(args) > num_allow_args:\n\u001b[32m    328\u001b[39m     warnings.warn(\n\u001b[32m    329\u001b[39m         msg.format(arguments=_format_argument_list(allow_args)),\n\u001b[32m    330\u001b[39m         \u001b[38;5;167;01mFutureWarning\u001b[39;00m,\n\u001b[32m    331\u001b[39m         stacklevel=find_stack_level(),\n\u001b[32m    332\u001b[39m     )\n\u001b[32m--> \u001b[39m\u001b[32m333\u001b[39m \u001b[38;5;28;01mreturn\u001b[39;00m \u001b[43mfunc\u001b[49m\u001b[43m(\u001b[49m\u001b[43m*\u001b[49m\u001b[43margs\u001b[49m\u001b[43m,\u001b[49m\u001b[43m \u001b[49m\u001b[43m*\u001b[49m\u001b[43m*\u001b[49m\u001b[43mkwargs\u001b[49m\u001b[43m)\u001b[49m\n",
      "\u001b[36mFile \u001b[39m\u001b[32mc:\\Users\\nzkri\\Python projects\\NZUpy\\venv\\Lib\\site-packages\\pandas\\core\\generic.py:3967\u001b[39m, in \u001b[36mNDFrame.to_csv\u001b[39m\u001b[34m(self, path_or_buf, sep, na_rep, float_format, columns, header, index, index_label, mode, encoding, compression, quoting, quotechar, lineterminator, chunksize, date_format, doublequote, escapechar, decimal, errors, storage_options)\u001b[39m\n\u001b[32m   3956\u001b[39m df = \u001b[38;5;28mself\u001b[39m \u001b[38;5;28;01mif\u001b[39;00m \u001b[38;5;28misinstance\u001b[39m(\u001b[38;5;28mself\u001b[39m, ABCDataFrame) \u001b[38;5;28;01melse\u001b[39;00m \u001b[38;5;28mself\u001b[39m.to_frame()\n\u001b[32m   3958\u001b[39m formatter = DataFrameFormatter(\n\u001b[32m   3959\u001b[39m     frame=df,\n\u001b[32m   3960\u001b[39m     header=header,\n\u001b[32m   (...)\u001b[39m\u001b[32m   3964\u001b[39m     decimal=decimal,\n\u001b[32m   3965\u001b[39m )\n\u001b[32m-> \u001b[39m\u001b[32m3967\u001b[39m \u001b[38;5;28;01mreturn\u001b[39;00m \u001b[43mDataFrameRenderer\u001b[49m\u001b[43m(\u001b[49m\u001b[43mformatter\u001b[49m\u001b[43m)\u001b[49m\u001b[43m.\u001b[49m\u001b[43mto_csv\u001b[49m\u001b[43m(\u001b[49m\n\u001b[32m   3968\u001b[39m \u001b[43m    \u001b[49m\u001b[43mpath_or_buf\u001b[49m\u001b[43m,\u001b[49m\n\u001b[32m   3969\u001b[39m \u001b[43m    \u001b[49m\u001b[43mlineterminator\u001b[49m\u001b[43m=\u001b[49m\u001b[43mlineterminator\u001b[49m\u001b[43m,\u001b[49m\n\u001b[32m   3970\u001b[39m \u001b[43m    \u001b[49m\u001b[43msep\u001b[49m\u001b[43m=\u001b[49m\u001b[43msep\u001b[49m\u001b[43m,\u001b[49m\n\u001b[32m   3971\u001b[39m \u001b[43m    \u001b[49m\u001b[43mencoding\u001b[49m\u001b[43m=\u001b[49m\u001b[43mencoding\u001b[49m\u001b[43m,\u001b[49m\n\u001b[32m   3972\u001b[39m \u001b[43m    \u001b[49m\u001b[43merrors\u001b[49m\u001b[43m=\u001b[49m\u001b[43merrors\u001b[49m\u001b[43m,\u001b[49m\n\u001b[32m   3973\u001b[39m \u001b[43m    \u001b[49m\u001b[43mcompression\u001b[49m\u001b[43m=\u001b[49m\u001b[43mcompression\u001b[49m\u001b[43m,\u001b[49m\n\u001b[32m   3974\u001b[39m \u001b[43m    \u001b[49m\u001b[43mquoting\u001b[49m\u001b[43m=\u001b[49m\u001b[43mquoting\u001b[49m\u001b[43m,\u001b[49m\n\u001b[32m   3975\u001b[39m \u001b[43m    \u001b[49m\u001b[43mcolumns\u001b[49m\u001b[43m=\u001b[49m\u001b[43mcolumns\u001b[49m\u001b[43m,\u001b[49m\n\u001b[32m   3976\u001b[39m \u001b[43m    \u001b[49m\u001b[43mindex_label\u001b[49m\u001b[43m=\u001b[49m\u001b[43mindex_label\u001b[49m\u001b[43m,\u001b[49m\n\u001b[32m   3977\u001b[39m \u001b[43m    \u001b[49m\u001b[43mmode\u001b[49m\u001b[43m=\u001b[49m\u001b[43mmode\u001b[49m\u001b[43m,\u001b[49m\n\u001b[32m   3978\u001b[39m \u001b[43m    \u001b[49m\u001b[43mchunksize\u001b[49m\u001b[43m=\u001b[49m\u001b[43mchunksize\u001b[49m\u001b[43m,\u001b[49m\n\u001b[32m   3979\u001b[39m \u001b[43m    \u001b[49m\u001b[43mquotechar\u001b[49m\u001b[43m=\u001b[49m\u001b[43mquotechar\u001b[49m\u001b[43m,\u001b[49m\n\u001b[32m   3980\u001b[39m \u001b[43m    \u001b[49m\u001b[43mdate_format\u001b[49m\u001b[43m=\u001b[49m\u001b[43mdate_format\u001b[49m\u001b[43m,\u001b[49m\n\u001b[32m   3981\u001b[39m \u001b[43m    \u001b[49m\u001b[43mdoublequote\u001b[49m\u001b[43m=\u001b[49m\u001b[43mdoublequote\u001b[49m\u001b[43m,\u001b[49m\n\u001b[32m   3982\u001b[39m \u001b[43m    \u001b[49m\u001b[43mescapechar\u001b[49m\u001b[43m=\u001b[49m\u001b[43mescapechar\u001b[49m\u001b[43m,\u001b[49m\n\u001b[32m   3983\u001b[39m \u001b[43m    \u001b[49m\u001b[43mstorage_options\u001b[49m\u001b[43m=\u001b[49m\u001b[43mstorage_options\u001b[49m\u001b[43m,\u001b[49m\n\u001b[32m   3984\u001b[39m \u001b[43m\u001b[49m\u001b[43m)\u001b[49m\n",
      "\u001b[36mFile \u001b[39m\u001b[32mc:\\Users\\nzkri\\Python projects\\NZUpy\\venv\\Lib\\site-packages\\pandas\\io\\formats\\format.py:1014\u001b[39m, in \u001b[36mDataFrameRenderer.to_csv\u001b[39m\u001b[34m(self, path_or_buf, encoding, sep, columns, index_label, mode, compression, quoting, quotechar, lineterminator, chunksize, date_format, doublequote, escapechar, errors, storage_options)\u001b[39m\n\u001b[32m    993\u001b[39m     created_buffer = \u001b[38;5;28;01mFalse\u001b[39;00m\n\u001b[32m    995\u001b[39m csv_formatter = CSVFormatter(\n\u001b[32m    996\u001b[39m     path_or_buf=path_or_buf,\n\u001b[32m    997\u001b[39m     lineterminator=lineterminator,\n\u001b[32m   (...)\u001b[39m\u001b[32m   1012\u001b[39m     formatter=\u001b[38;5;28mself\u001b[39m.fmt,\n\u001b[32m   1013\u001b[39m )\n\u001b[32m-> \u001b[39m\u001b[32m1014\u001b[39m \u001b[43mcsv_formatter\u001b[49m\u001b[43m.\u001b[49m\u001b[43msave\u001b[49m\u001b[43m(\u001b[49m\u001b[43m)\u001b[49m\n\u001b[32m   1016\u001b[39m \u001b[38;5;28;01mif\u001b[39;00m created_buffer:\n\u001b[32m   1017\u001b[39m     \u001b[38;5;28;01massert\u001b[39;00m \u001b[38;5;28misinstance\u001b[39m(path_or_buf, StringIO)\n",
      "\u001b[36mFile \u001b[39m\u001b[32mc:\\Users\\nzkri\\Python projects\\NZUpy\\venv\\Lib\\site-packages\\pandas\\io\\formats\\csvs.py:251\u001b[39m, in \u001b[36mCSVFormatter.save\u001b[39m\u001b[34m(self)\u001b[39m\n\u001b[32m    247\u001b[39m \u001b[38;5;250m\u001b[39m\u001b[33;03m\"\"\"\u001b[39;00m\n\u001b[32m    248\u001b[39m \u001b[33;03mCreate the writer & save.\u001b[39;00m\n\u001b[32m    249\u001b[39m \u001b[33;03m\"\"\"\u001b[39;00m\n\u001b[32m    250\u001b[39m \u001b[38;5;66;03m# apply compression and byte/text conversion\u001b[39;00m\n\u001b[32m--> \u001b[39m\u001b[32m251\u001b[39m \u001b[38;5;28;01mwith\u001b[39;00m \u001b[43mget_handle\u001b[49m\u001b[43m(\u001b[49m\n\u001b[32m    252\u001b[39m \u001b[43m    \u001b[49m\u001b[38;5;28;43mself\u001b[39;49m\u001b[43m.\u001b[49m\u001b[43mfilepath_or_buffer\u001b[49m\u001b[43m,\u001b[49m\n\u001b[32m    253\u001b[39m \u001b[43m    \u001b[49m\u001b[38;5;28;43mself\u001b[39;49m\u001b[43m.\u001b[49m\u001b[43mmode\u001b[49m\u001b[43m,\u001b[49m\n\u001b[32m    254\u001b[39m \u001b[43m    \u001b[49m\u001b[43mencoding\u001b[49m\u001b[43m=\u001b[49m\u001b[38;5;28;43mself\u001b[39;49m\u001b[43m.\u001b[49m\u001b[43mencoding\u001b[49m\u001b[43m,\u001b[49m\n\u001b[32m    255\u001b[39m \u001b[43m    \u001b[49m\u001b[43merrors\u001b[49m\u001b[43m=\u001b[49m\u001b[38;5;28;43mself\u001b[39;49m\u001b[43m.\u001b[49m\u001b[43merrors\u001b[49m\u001b[43m,\u001b[49m\n\u001b[32m    256\u001b[39m \u001b[43m    \u001b[49m\u001b[43mcompression\u001b[49m\u001b[43m=\u001b[49m\u001b[38;5;28;43mself\u001b[39;49m\u001b[43m.\u001b[49m\u001b[43mcompression\u001b[49m\u001b[43m,\u001b[49m\n\u001b[32m    257\u001b[39m \u001b[43m    \u001b[49m\u001b[43mstorage_options\u001b[49m\u001b[43m=\u001b[49m\u001b[38;5;28;43mself\u001b[39;49m\u001b[43m.\u001b[49m\u001b[43mstorage_options\u001b[49m\u001b[43m,\u001b[49m\n\u001b[32m    258\u001b[39m \u001b[43m\u001b[49m\u001b[43m)\u001b[49m \u001b[38;5;28;01mas\u001b[39;00m handles:\n\u001b[32m    259\u001b[39m     \u001b[38;5;66;03m# Note: self.encoding is irrelevant here\u001b[39;00m\n\u001b[32m    260\u001b[39m     \u001b[38;5;28mself\u001b[39m.writer = csvlib.writer(\n\u001b[32m    261\u001b[39m         handles.handle,\n\u001b[32m    262\u001b[39m         lineterminator=\u001b[38;5;28mself\u001b[39m.lineterminator,\n\u001b[32m   (...)\u001b[39m\u001b[32m    267\u001b[39m         quotechar=\u001b[38;5;28mself\u001b[39m.quotechar,\n\u001b[32m    268\u001b[39m     )\n\u001b[32m    270\u001b[39m     \u001b[38;5;28mself\u001b[39m._save()\n",
      "\u001b[36mFile \u001b[39m\u001b[32mc:\\Users\\nzkri\\Python projects\\NZUpy\\venv\\Lib\\site-packages\\pandas\\io\\common.py:873\u001b[39m, in \u001b[36mget_handle\u001b[39m\u001b[34m(path_or_buf, mode, encoding, compression, memory_map, is_text, errors, storage_options)\u001b[39m\n\u001b[32m    868\u001b[39m \u001b[38;5;28;01melif\u001b[39;00m \u001b[38;5;28misinstance\u001b[39m(handle, \u001b[38;5;28mstr\u001b[39m):\n\u001b[32m    869\u001b[39m     \u001b[38;5;66;03m# Check whether the filename is to be opened in binary mode.\u001b[39;00m\n\u001b[32m    870\u001b[39m     \u001b[38;5;66;03m# Binary mode does not support 'encoding' and 'newline'.\u001b[39;00m\n\u001b[32m    871\u001b[39m     \u001b[38;5;28;01mif\u001b[39;00m ioargs.encoding \u001b[38;5;129;01mand\u001b[39;00m \u001b[33m\"\u001b[39m\u001b[33mb\u001b[39m\u001b[33m\"\u001b[39m \u001b[38;5;129;01mnot\u001b[39;00m \u001b[38;5;129;01min\u001b[39;00m ioargs.mode:\n\u001b[32m    872\u001b[39m         \u001b[38;5;66;03m# Encoding\u001b[39;00m\n\u001b[32m--> \u001b[39m\u001b[32m873\u001b[39m         handle = \u001b[38;5;28;43mopen\u001b[39;49m\u001b[43m(\u001b[49m\n\u001b[32m    874\u001b[39m \u001b[43m            \u001b[49m\u001b[43mhandle\u001b[49m\u001b[43m,\u001b[49m\n\u001b[32m    875\u001b[39m \u001b[43m            \u001b[49m\u001b[43mioargs\u001b[49m\u001b[43m.\u001b[49m\u001b[43mmode\u001b[49m\u001b[43m,\u001b[49m\n\u001b[32m    876\u001b[39m \u001b[43m            \u001b[49m\u001b[43mencoding\u001b[49m\u001b[43m=\u001b[49m\u001b[43mioargs\u001b[49m\u001b[43m.\u001b[49m\u001b[43mencoding\u001b[49m\u001b[43m,\u001b[49m\n\u001b[32m    877\u001b[39m \u001b[43m            \u001b[49m\u001b[43merrors\u001b[49m\u001b[43m=\u001b[49m\u001b[43merrors\u001b[49m\u001b[43m,\u001b[49m\n\u001b[32m    878\u001b[39m \u001b[43m            \u001b[49m\u001b[43mnewline\u001b[49m\u001b[43m=\u001b[49m\u001b[33;43m\"\u001b[39;49m\u001b[33;43m\"\u001b[39;49m\u001b[43m,\u001b[49m\n\u001b[32m    879\u001b[39m \u001b[43m        \u001b[49m\u001b[43m)\u001b[49m\n\u001b[32m    880\u001b[39m     \u001b[38;5;28;01melse\u001b[39;00m:\n\u001b[32m    881\u001b[39m         \u001b[38;5;66;03m# Binary mode\u001b[39;00m\n\u001b[32m    882\u001b[39m         handle = \u001b[38;5;28mopen\u001b[39m(handle, ioargs.mode)\n",
      "\u001b[31mPermissionError\u001b[39m: [Errno 13] Permission denied: 'c:\\\\Users\\\\nzkri\\\\Python projects\\\\NZUpy\\\\examples\\\\outputs\\\\01_basic_run\\\\basic_run_results.csv'"
     ]
    }
   ],
   "source": [
    "# Create a DataFrame with the key results we want to export\n",
    "export_data = pd.DataFrame({\n",
    "    'year': carbon_price.index,\n",
    "    'carbon_price': carbon_price['Basic run'],\n",
    "    'stockpile_balance': stockpile_balance['Basic run'],\n",
    "    'surplus_balance': surplus_balance['Basic run'],\n",
    "    'non_surplus_balance': non_surplus_balance['Basic run']\n",
    "})\n",
    "\n",
    "# Set the index to year for better readability\n",
    "export_data.set_index('year', inplace=True)\n",
    "\n",
    "# Export to CSV\n",
    "export_path = output_dir / 'basic_run_results.csv'\n",
    "export_data.to_csv(export_path)\n",
    "print(f\"Results exported to: {export_path}\")"
   ]
  }
 ],
 "metadata": {
  "kernelspec": {
   "display_name": "venv",
   "language": "python",
   "name": "python3"
  },
  "language_info": {
   "codemirror_mode": {
    "name": "ipython",
    "version": 3
   },
   "file_extension": ".py",
   "mimetype": "text/x-python",
   "name": "python",
   "nbconvert_exporter": "python",
   "pygments_lexer": "ipython3",
   "version": "3.12.6"
  }
 },
 "nbformat": 4,
 "nbformat_minor": 5
}
