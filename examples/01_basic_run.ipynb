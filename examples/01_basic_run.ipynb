{
 "cells": [
  {
   "cell_type": "markdown",
   "id": "de3d5410-9b0b-4235-8908-879a8d227c3c",
   "metadata": {},
   "source": [
    "# Basic run: How to run NZUpy and customise inputs\n",
    "\n",
    "## Overview of NZUpy\n",
    "NZUpy is an optimisation model for simulating the New Zealand Emissions Trading Scheme (NZ ETS). The model simulates interactions between carbon price, emissions, various supply components and the stockpile of units held by private participants.\n",
    "\n",
    "The model largely repliacates the functionality of the Ministry for the Environment's (MfE's) NZ ETS model that operates in excel (using macros/VBA). However given NZUpy is coded in Python, it allows for greater flexibility and customisation by users who wish to enhance certain components (e.g., incorporating more sophisticated industrial allocation behaviours). "
   ]
  },
  {
   "cell_type": "markdown",
   "id": "27b98b88-a963-4e74-87ed-bb6dad87f96b",
   "metadata": {},
   "source": [
    "## Some basics\n",
    "\n",
    "NZUpy is structured around the `NZUpy` class, which contains all information about the scenario(s), time periods, and components of the model (supply, demand, stockpile dynamics, etc.).\n",
    "\n",
    "There are four main steps to running NZUpy:\n",
    "\n",
    "1. **Creating an instance**: Initialise the model\n",
    "2. **Define the scope**: Specify years, and scenarios\n",
    "3. **Configure scenarios**: Customise your configuration of inputs and parameters for each scenario\n",
    "4. **Run the model**: Execute the model and analyse results\n",
    "\n",
    "The model follows a builder pattern, which allows for flexible configuration."
   ]
  },
  {
   "cell_type": "markdown",
   "id": "0fe2093c-5f35-4172-b3ef-bcabd5ba6223",
   "metadata": {},
   "source": [
    "## 1. Create NZUpy instance\n",
    "\n",
    "Let's start by importing the NZUpy class and libaries we'll use in the notebook"
   ]
  },
  {
   "cell_type": "code",
   "execution_count": 1,
   "id": "c078a858-a933-41de-a0f1-c9f7fc1c409d",
   "metadata": {},
   "outputs": [],
   "source": [
    "# Import necessary libraries\n",
    "import pandas as pd\n",
    "import numpy as np\n",
    "import plotly.graph_objects as go\n",
    "from pathlib import Path\n",
    "import sys\n",
    "import os"
   ]
  },
  {
   "cell_type": "markdown",
   "id": "e028a89d-ecbf-4c6f-b5dd-558b76a90709",
   "metadata": {},
   "source": [
    "As we're operating in a subfolder off the project root, we'll need to ensure we can find the NZUpy model, and its data directory containing necessary inputs and parameters."
   ]
  },
  {
   "cell_type": "code",
   "execution_count": 2,
   "id": "bf184a8d",
   "metadata": {},
   "outputs": [],
   "source": [
    "# Add the project root to the path\n",
    "project_root = Path().absolute().parent\n",
    "sys.path.insert(0, str(project_root))\n",
    "\n",
    "# Import the NZUpy class\n",
    "from model.core.base_model import NZUpy\n",
    "\n",
    "# Set our input and output directories\n",
    "data_dir = project_root / \"data\"\n",
    "output_dir = project_root / \"examples\" / \"outputs\" / \"01_basic_run\"\n",
    "os.makedirs(output_dir, exist_ok=True)"
   ]
  },
  {
   "cell_type": "markdown",
   "id": "e74280ef",
   "metadata": {},
   "source": [
    "After that, we can initialise NZUpy, pointing it to our input data directory.."
   ]
  },
  {
   "cell_type": "code",
   "execution_count": 3,
   "id": "ea6b939e-a234-424b-b890-712373b00d39",
   "metadata": {},
   "outputs": [],
   "source": [
    "NZU = NZUpy(data_dir=data_dir)"
   ]
  },
  {
   "cell_type": "markdown",
   "id": "34bf16da-cd93-4ddd-b9b6-cd062a90351f",
   "metadata": {},
   "source": [
    "## 2. Define the scope\n",
    "\n",
    "NZUpy requires users to define the time period they wish to model. \n",
    "\n",
    "By default, the model is set up for a 2024 start year, and 2050 end year (aligned with MfE's excel-based model), and is recommended for the vast bulk of use cases."
   ]
  },
  {
   "cell_type": "code",
   "execution_count": null,
   "id": "6d4816df-2dd5-4acc-8300-ba3f7cc686d5",
   "metadata": {},
   "outputs": [],
   "source": [
    "# Define time periods: start year, end year\n",
    "NZU.define_time(2024, 2050)"
   ]
  },
  {
   "cell_type": "markdown",
   "id": "1838be37-d692-4211-8d44-2b94b17dfcb7",
   "metadata": {},
   "source": [
    "For this run, we'll keep things simple with a single scenario. \n",
    "\n",
    "Scenario naming has no effect on the model itself, and is used to enable distinct runs with their own configured settings. So we'll call ours 'Basic run'"
   ]
  },
  {
   "cell_type": "code",
   "execution_count": null,
   "id": "fe4bf64e-62f2-40ee-90ea-8dda79bb51fc",
   "metadata": {},
   "outputs": [],
   "source": [
    "# Define scenarios - you can have multiple scenarios\n",
    "NZU.define_scenarios(['Basic run'])"
   ]
  },
  {
   "cell_type": "markdown",
   "id": "156236b7",
   "metadata": {},
   "source": [
    "We then prime the model, which initialises dataframes housing our variables"
   ]
  },
  {
   "cell_type": "code",
   "execution_count": null,
   "id": "5c102313",
   "metadata": {},
   "outputs": [],
   "source": [
    "NZU.prime()"
   ]
  },
  {
   "cell_type": "markdown",
   "id": "337e77c7",
   "metadata": {},
   "source": [
    "## 3. Configure the scenarios\n",
    "\n",
    "After priming the model, we need to configure our scenario with the input data and parameters we want to use. \n",
    "\n",
    "NZUpy makes it easy to operate the model using central default inputs for all of its supply, demand and stockpile components, loaded in from CSV files in subfolders of `data/inputs/`.\n",
    "\n",
    "We can use the `use_central_configs()` method to set all components to their central configurations for our scenario to get everything set-up quickly.\n"
   ]
  },
  {
   "cell_type": "code",
   "execution_count": null,
   "id": "1b3f6a74",
   "metadata": {},
   "outputs": [],
   "source": [
    "# Configure our scenario (index 0) to use central configs for all components\n",
    "NZU.use_central_configs(0)"
   ]
  },
  {
   "cell_type": "markdown",
   "id": "258a7956",
   "metadata": {},
   "source": [
    "Most users will want to customise certain inputs however, such as loading in an alternative set of auction settings, or trying out a different govt. forecast for forestry removals. \n",
    "\n",
    "Each of the CSV files in `data/inputs/` subfolders contains a range of alternative configurations that draw on different data sources (e.g., MfE & MPI published projections, Climate Change Commission annual estimates of the surplus, etc.)\n",
    "\n",
    "We can use the `list_available_configs()` method to quicly pull up alternative options for each component."
   ]
  },
  {
   "cell_type": "code",
   "execution_count": null,
   "id": "5819eac5",
   "metadata": {},
   "outputs": [],
   "source": [
    "# Show available configurations for each component\n",
    "print(\"Available configurations:\")\n",
    "print(f\"Emissions configs:\", NZU.list_available_configs('emissions'))\n",
    "print(f\"Auction configs:\", NZU.list_available_configs('auction'))\n",
    "print(f\"Industrial configs:\", NZU.list_available_configs('industrial'))\n",
    "print(f\"Forestry configs:\", NZU.list_available_configs('forestry'))\n",
    "print(f\"Demand model configs:\", NZU.list_available_configs('demand_model'))\n",
    "print(f\"Stockpile configs:\", NZU.list_available_configs('stockpile'))\n"
   ]
  },
  {
   "cell_type": "markdown",
   "id": "c7257f78",
   "metadata": {},
   "source": [
    "For this demonstration notebook, we'll look more closely at stockpile and surplus trends. \n",
    "\n",
    "We'll do this by swapping out NZUpy's default config (drawn from the Climate Change Commission's 2024 estimates) with a new Ernst & Young central estimate featured in a Sep 2024 report to the Ministry for the Environment. This stockpile config is listed as `EY24_central`.\n",
    "\n",
    "_nb. Further metadata on where each config is sourced from can be found in respective CSV files in `data/inputs` subfolders._"
   ]
  },
  {
   "cell_type": "code",
   "execution_count": null,
   "id": "00ab5742",
   "metadata": {},
   "outputs": [],
   "source": [
    "# Get stockpile data\n",
    "print(\"~~~~~~~~| STOCKPILE & SURPLUS BEFORE EDIT |~~~~~~~~\")\n",
    "stockpile_data = NZU.show_inputs('stockpile', scenario_name='Basic run')\n",
    "\n",
    "# Use the EY24_central config for our scenario (index 0)\n",
    "NZU.use_config(0, 'stockpile', 'EY24_central')\n",
    "\n",
    "print(\"~~~~~~~~| STOCKPILE & SURPLUS AFTER EDIT |~~~~~~~~\")\n",
    "# Get updated stockpile data\n",
    "stockpile_data = NZU.show_inputs('stockpile', scenario_name='Basic run')\n"
   ]
  },
  {
   "cell_type": "markdown",
   "id": "dce70e4f",
   "metadata": {},
   "source": [
    "_You'll see we now have a lower starting surplus balance for our reference year (2023), down to 52.4 million NZUs from the Climate Commission's central estimate of 68.1 million..._"
   ]
  },
  {
   "cell_type": "markdown",
   "id": "723ccc3e",
   "metadata": {},
   "source": [
    "## 4. Run the model\n",
    "\n",
    "Now that we've configured our scenario, we can run the model:"
   ]
  },
  {
   "cell_type": "code",
   "execution_count": null,
   "id": "a3f86e3e",
   "metadata": {},
   "outputs": [],
   "source": [
    "# Run the model\n",
    "results = NZU.run()"
   ]
  },
  {
   "cell_type": "markdown",
   "id": "9d70b7a7",
   "metadata": {},
   "source": [
    "## 5. Analyse the results\n",
    "\n",
    "Now that we've got our results in tow, we can undertake any number of analyses. We'll keep things simple here, and call a list of variables available to us, so we can pick some result variables we're interested in"
   ]
  },
  {
   "cell_type": "code",
   "execution_count": null,
   "id": "a39deb6e",
   "metadata": {},
   "outputs": [],
   "source": [
    "NZU.list_variables()"
   ]
  },
  {
   "cell_type": "markdown",
   "id": "d31c14c4",
   "metadata": {},
   "source": [
    "As we're dealing with pandas dataframes, we can use typical methods from numpy and pandas to get a quick sense of the results"
   ]
  },
  {
   "cell_type": "code",
   "execution_count": null,
   "id": "669254ec",
   "metadata": {},
   "outputs": [],
   "source": [
    "# Get carbon price data for our scenario\n",
    "carbon_price = NZU.prices.xs('carbon_price', level='variable', axis=1)\n",
    "print(\"Carbon price trajectory ($/tCO₂-e):\")\n",
    "print(carbon_price.head().round(2))"
   ]
  },
  {
   "cell_type": "markdown",
   "id": "0ce4ba39",
   "metadata": {},
   "source": [
    "But in this case, given we've swapped in an alternative starting surplus estimate, we're most interested in stockpile and surplus balance, so lets take a look at these."
   ]
  },
  {
   "cell_type": "code",
   "execution_count": null,
   "id": "781281fd",
   "metadata": {},
   "outputs": [],
   "source": [
    "# Get stockpile balance data\n",
    "stockpile_balance = NZU.stockpile.xs('balance', level='variable', axis=1)\n",
    "surplus_balance = NZU.stockpile.xs('surplus_balance', level='variable', axis=1)\n",
    "non_surplus_balance = NZU.stockpile.xs('non_surplus_balance', level='variable', axis=1)\n",
    "\n",
    "print(\"\\nStockpile balance in 2050 (kt CO₂-e):\")\n",
    "print(f\"Total stockpile: {stockpile_balance.iloc[-1, 0]:,.0f}\")\n",
    "print(f\"Surplus: {surplus_balance.iloc[-1, 0]:,.0f}\")\n",
    "print(f\"Non-surplus: {non_surplus_balance.iloc[-1, 0]:,.0f}\")"
   ]
  },
  {
   "cell_type": "markdown",
   "id": "a0918ce2",
   "metadata": {},
   "source": [
    "These stockpile balance levels in 2050 are about the same as our balance at the start of time period (end 2023), so it would be interesting to see how these evolve over time.\n",
    "\n",
    "Helpfully, we can call some pre-configureds chart to make our life easier..."
   ]
  },
  {
   "cell_type": "code",
   "execution_count": null,
   "id": "f3fa1e13",
   "metadata": {},
   "outputs": [],
   "source": [
    "# Load chart generator\n",
    "from model.utils.chart_generator import ChartGenerator\n",
    "\n",
    "# Initialise chart generator\n",
    "chart_gen = ChartGenerator(NZU)\n",
    "\n",
    "# Generate stockpile balance chart - referring to our scenario index 0\n",
    "stockpile_chart = chart_gen.stockpile_balance_chart(NZU.scenarios[0])\n",
    "# We can then display the chart in the notebook\n",
    "display(stockpile_chart) \n",
    "# And we can also save the chart directly as PNG\n",
    "stockpile_chart.write_image(str(output_dir / \"stockpile_balance.png\"))\n",
    "\n",
    "# Generate supply-demand balance chart\n",
    "supply_demand_chart = chart_gen.supply_demand_balance_chart(NZU.scenarios[0])\n",
    "display(supply_demand_chart)\n",
    "supply_demand_chart.write_image(str(output_dir / \"supply_demand_balance.png\"))"
   ]
  },
  {
   "cell_type": "markdown",
   "id": "0724f538",
   "metadata": {},
   "source": [
    "With that we can see that while EY's reduced starting surplus balance sees the surplus quickly reduced to 0, the surplus begins to increase again in the late 2030s and 2040s, with supply exceeding demand (shown in the supply-demand balance chart). However, the bulk of our incrase in stockpile comes from non-surplus units, where forestry units are held for future harvest liabilities.\n",
    "\n",
    "While there is plenty more analysis of this trend we could look at, we'll wrap-up this basic run notebook by saving these results to a CSV file."
   ]
  },
  {
   "cell_type": "code",
   "execution_count": null,
   "id": "8fe4eed1",
   "metadata": {},
   "outputs": [],
   "source": [
    "# Create a DataFrame with the key results we want to export\n",
    "export_data = pd.DataFrame({\n",
    "    'year': carbon_price.index,\n",
    "    'carbon_price': carbon_price['Basic run'],\n",
    "    'stockpile_balance': stockpile_balance['Basic run'],\n",
    "    'surplus_balance': surplus_balance['Basic run'],\n",
    "    'non_surplus_balance': non_surplus_balance['Basic run']\n",
    "})\n",
    "\n",
    "# Set the index to year for better readability\n",
    "export_data.set_index('year', inplace=True)\n",
    "\n",
    "# Export to CSV\n",
    "export_path = output_dir / 'basic_run_results.csv'\n",
    "export_data.to_csv(export_path)\n",
    "print(f\"Results exported to: {export_path}\")"
   ]
  }
 ],
 "metadata": {
  "kernelspec": {
   "display_name": "venv",
   "language": "python",
   "name": "python3"
  },
  "language_info": {
   "codemirror_mode": {
    "name": "ipython",
    "version": 3
   },
   "file_extension": ".py",
   "mimetype": "text/x-python",
   "name": "python",
   "nbconvert_exporter": "python",
   "pygments_lexer": "ipython3",
   "version": "3.12.6"
  }
 },
 "nbformat": 4,
 "nbformat_minor": 5
}
