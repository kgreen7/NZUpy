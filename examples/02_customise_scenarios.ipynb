{
 "cells": [
  {
   "cell_type": "markdown",
   "metadata": {},
   "source": [
    "# Customise scenarios in NZUpy\n",
    "\n",
    "## Overview\n",
    "\n",
    "This notebook demonstrates how to create and customise multiple scenarios in NZUpy. We'll explore:\n",
    "\n",
    "1. Customising inputs with our own inputs not featured as an available 'config' in the model's pre-prepared CSVs\n",
    "2. Generating comparative charts\n",
    "3. Using our own custom functions to edit input parameters\n",
    "4. The impact of some important model variables that are important to interpretation of results"
   ]
  },
  {
   "cell_type": "markdown",
   "metadata": {},
   "source": [
    "## A1. Set Up the NZUpy Model\n",
    "\n",
    "First, let's import the necessary libraries and initialise the model."
   ]
  },
  {
   "cell_type": "code",
   "execution_count": 1,
   "metadata": {},
   "outputs": [],
   "source": [
    "# Import necessary libraries\n",
    "import pandas as pd\n",
    "import numpy as np\n",
    "import plotly.graph_objects as go\n",
    "from pathlib import Path\n",
    "import sys\n",
    "import os\n",
    "\n",
    "# Import the NZUpy class\n",
    "project_root = Path().absolute().parent\n",
    "sys.path.insert(0, str(project_root))\n",
    "from model.core.base_model import NZUpy\n",
    "\n",
    "# Set our input and output directories\n",
    "data_dir = project_root / \"data\"\n",
    "output_dir = project_root / \"examples\" / \"outputs\" / \"02_customise_scenarios\"\n",
    "os.makedirs(output_dir, exist_ok=True)\n",
    "\n",
    "# Initialise NZUpy\n",
    "NZU = NZUpy(data_dir=data_dir)"
   ]
  },
  {
   "cell_type": "markdown",
   "metadata": {},
   "source": [
    "## A2. Define the scope\n",
    "\n",
    "For this run, we'll look at an important parameter that can affect price outcomes - liquidity factor. This variable sets a limit in any given year on how many non-surplus stockpile units can be used to cover short-falls in supply. \n",
    "\n",
    "'Non-surplus' units are used by the Commission and Government to refer to units that have a clear/valid purpose for being held in private accounts. A notable example are units held by production foresters to cover their harvest liabilities in future."
   ]
  },
  {
   "cell_type": "code",
   "execution_count": null,
   "metadata": {},
   "outputs": [],
   "source": [
    "# Define time periods: start year, end year\n",
    "NZU.define_time(2024, 2050)\n",
    "\n",
    "# Define multiple scenarios for different liquidity factors & prime the model\n",
    "NZU.define_scenarios(['Low Liquidity', 'Medium Liquidity', 'High Liquidity'])\n",
    "NZU.prime()"
   ]
  },
  {
   "cell_type": "markdown",
   "metadata": {},
   "source": [
    "## A3. Configure Scenarios with Different Liquidity Factors\n",
    "\n",
    "There is little public reseach establishing what proportion of non-surplus units held in private accounts are readily liquid (tradeable) in any given year, so we'll run three scenarios exploring the impact of varying levels of liquidity, with custom liquidity factors of 0.05, 0.10, and 0.15 so that we can better understand the importance of this uncertain variable."
   ]
  },
  {
   "cell_type": "code",
   "execution_count": null,
   "metadata": {},
   "outputs": [],
   "source": [
    "# Start with central configs for all scenarios to load in sensible defaults for all inputs\n",
    "NZU.use_central_configs(0)  # Low Liquidity scenario\n",
    "NZU.use_central_configs(1)  # Medium Liquidity scenario \n",
    "NZU.use_central_configs(2)  # High Liquidity scenario\n",
    "\n",
    "# Customise liquidity factors\n",
    "NZU.set_parameter('liquidity_factor', 0.05, component='stockpile', scenario_index=0)\n",
    "NZU.set_parameter('liquidity_factor', 0.15, component='stockpile', scenario_index=1)\n",
    "NZU.set_parameter('liquidity_factor', 0.25, component='stockpile', scenario_index=2)"
   ]
  },
  {
   "cell_type": "markdown",
   "metadata": {},
   "source": [
    "## A4. Run the Model and Generate Comparison Charts\n",
    "\n",
    "Let's run the model with our different liquidity scenarios and visualise the results."
   ]
  },
  {
   "cell_type": "code",
   "execution_count": 4,
   "metadata": {},
   "outputs": [],
   "source": [
    "# Run the model\n",
    "results = NZU.run()"
   ]
  },
  {
   "cell_type": "markdown",
   "metadata": {},
   "source": [
    "NZUpy comes with a handy chart generator "
   ]
  },
  {
   "cell_type": "code",
   "execution_count": null,
   "metadata": {},
   "outputs": [],
   "source": [
    "# Load chart generator\n",
    "from model.utils.chart_generator import ChartGenerator\n",
    "\n",
    "# Initialise chart generator\n",
    "chart_gen = ChartGenerator(NZU)\n",
    "\n",
    "\n",
    "# Generate carbon price comparison chart for each scenario\n",
    "for scenario_name in ['Low Liquidity', 'Medium Liquidity', 'High Liquidity']:\n",
    "    price_chart = chart_gen.carbon_price_chart(scenario=scenario_name)\n",
    "    display(price_chart)\n",
    "    # Save each chart with a distinctive name\n",
    "    price_chart.write_image(str(output_dir / f\"liquidity_price_{scenario_name.lower().replace(' ', '_')}.png\"))\n"
   ]
  },
  {
   "cell_type": "markdown",
   "metadata": {},
   "source": [
    "## A5. Discussion of Results\n",
    "\n",
    "The charts above reveals the importance of liquidity factor assumptions, with the change of a single variable seeing prices in 2050 varying from $133 to $214 (2023 real NZD). Stricter liquidty factor limits can see situations in which the carbon price ramps up to generate sufficient gross emissions mitigation to cover shortfalls in supply in the 2020s and early 2030s, highlighting the importance of this timeframe.\n",
    "\n",
    "We can see this shortfall more specifically, and the volumes of non-surplus units used in the late 2020s by drawing on the supply components chart. We'll do this for the most and least strict liquidty scenarios of our three, and then print all three scenarios to a CSV for later analysis. \n"
   ]
  },
  {
   "cell_type": "code",
   "execution_count": null,
   "metadata": {},
   "outputs": [],
   "source": [
    "# First, let's show the supply components chart for the Low Liquidity scenario\n",
    "supply_chart_strict = chart_gen.supply_components_chart(scenario='Low Liquidity')\n",
    "display(supply_chart_strict)\n",
    "supply_chart_strict.write_image(str(output_dir / \"supply_components_lower_liquidity.png\"))\n",
    "\n",
    "# Then let's show the supply components chart for the High Liquidity scenario\n",
    "supply_chart_loose = chart_gen.supply_components_chart(scenario='High Liquidity')\n",
    "display(supply_chart_loose)\n",
    "supply_chart_loose.write_image(str(output_dir / \"supply_components_higher_liquidity.png\"))\n",
    "\n",
    "# Now let's export the data for all scenarios to CSV for further analysis\n",
    "# We'll use the export_combined_data method which includes supply components\n",
    "chart_gen.export_combined_data(str(output_dir / \"liquidity_scenarios_comparison.csv\"))"
   ]
  },
  {
   "cell_type": "markdown",
   "metadata": {},
   "source": [
    "Here we can see a shortfall in supply relative to demand in the late 2020s for our low liquidty scenario, where we've restricted use of non-surplus units to just 5% of units held in private accounts. \n",
    "\n",
    "In our more scenario allowing more flexible use of non-surplus units however, the model is able to find sufficient supply without ramping up the price path to avoid an inbalance in supply and demand.\n",
    "\n"
   ]
  },
  {
   "cell_type": "markdown",
   "metadata": {},
   "source": [
    "## B1. Modelling a Scarcity Scenario\n",
    "\n",
    "Now, let's create a new NZUpy instance and set-up scenarios exploring temporary market scarcity in the mid/late-2020s further."
   ]
  },
  {
   "cell_type": "code",
   "execution_count": null,
   "metadata": {},
   "outputs": [],
   "source": [
    "# Reinitialise the model\n",
    "NZU = NZUpy(data_dir=data_dir)\n",
    "NZU.define_time(2024, 2050)\n",
    "\n",
    "# Define two scenarios: baseline and scarcity scenario\n",
    "NZU.define_scenarios(['Baseline', 'Scarcity then Surplus'])\n",
    "\n",
    "# Prime the model\n",
    "NZU.prime()\n",
    "\n",
    "# Configure scenarios\n",
    "NZU.use_central_configs(0)  # Set all components to central for baseline scenario\n",
    "NZU.use_central_configs(1)  # Start with central configs for scarcity scenario"
   ]
  },
  {
   "cell_type": "markdown",
   "metadata": {},
   "source": [
    "First we'll modify the second scenario to create scarcity by reducing auction volumes in 2025 so that no units are available (simulating situation in which no units clear)."
   ]
  },
  {
   "cell_type": "code",
   "execution_count": null,
   "metadata": {},
   "outputs": [],
   "source": [
    "# Get and modify scarcity scenario's auction data\n",
    "scarcity_data = NZU.show_inputs('auction', scenario_name='Scarcity then Surplus')\n",
    "scarcity_volumes = scarcity_data['base_volume'].copy()\n",
    "scarcity_volumes.loc[2025] = 0.0  # Keep it at zero for scarcity\n",
    "\n",
    "# Update scarcity scenario\n",
    "NZU.set_series('base_volume', scarcity_volumes, 'auction', scenario_name='Scarcity then Surplus')\n"
   ]
  },
  {
   "cell_type": "code",
   "execution_count": null,
   "metadata": {},
   "outputs": [],
   "source": [
    "# Print volumes to verify they're different\n",
    "print(\"Base Auction Volumes (2024-2029):\")\n",
    "print(\"\\nBaseline Scenario:\")\n",
    "baseline_data = NZU.show_inputs('auction', scenario_name='Baseline')\n",
    "for year in range(2024, 2030):\n",
    "    print(f\"    {year}: {baseline_data['base_volume'].loc[year]:,.1f} kt CO₂-e\")\n",
    "\n"
   ]
  },
  {
   "cell_type": "markdown",
   "metadata": {},
   "source": [
    "Great, we've constrained auction supply a bit, now let's adjust a recently incorporated feature of the Government's excel model - the price control parameter.\n",
    "\n",
    "This parameter, sets a specific inflator/deflator to price annual price trends. While the default 'central' config sees the model's full (=1) price signal flow through each year, we can switch to a `scarcity_then_surplus` config in the base CSV file in `data/inputs/price/price_control.csv`, which forces a flip in price trends about 2030.\n",
    "\n",
    "This exogenous switch attempts to mirror a situation in which increasing scarcity exists in the 2020s, followed by increasing supply (exceeding demand) in the 2030s. Users should take care with interpretation of results when playing around with the price control variable, as results are somewhat driven by assumptions made."
   ]
  },
  {
   "cell_type": "code",
   "execution_count": 10,
   "metadata": {},
   "outputs": [],
   "source": [
    "# Load the \"scarcity_then_surplus\" price control configuration only for the second scenario\n",
    "NZU.use_price_control_config('scarcity_then_surplus', scenario_index=1)\n",
    "\n",
    "# Run the model with our scenarios\n",
    "results = NZU.run()"
   ]
  },
  {
   "cell_type": "markdown",
   "metadata": {},
   "source": [
    "## B2. Visualising Scarcity Scenario Results\n",
    "\n",
    "Let's create charts to visualise how our scarcity scenario affects prices and market dynamics."
   ]
  },
  {
   "cell_type": "code",
   "execution_count": null,
   "metadata": {},
   "outputs": [],
   "source": [
    "# Initialize chart generator\n",
    "chart_gen = ChartGenerator(NZU)\n",
    "# Generate and display carbon price chart for each scenario\n",
    "print(\"Baseline Scenario Carbon Price:\")\n",
    "baseline_chart = chart_gen.carbon_price_chart(scenario='Baseline')\n",
    "display(baseline_chart)\n",
    "\n",
    "print(\"\\nScarcity then Surplus Scenario Carbon Price:\")\n",
    "scarcity_chart = chart_gen.carbon_price_chart(scenario='Scarcity then Surplus')\n",
    "display(scarcity_chart)\n"
   ]
  },
  {
   "cell_type": "markdown",
   "metadata": {},
   "source": [
    "And we can also see the effect of these changes in input parameters on auction volumes cleared and auction revenues, where "
   ]
  },
  {
   "cell_type": "code",
   "execution_count": null,
   "metadata": {},
   "outputs": [],
   "source": [
    "# Generate and display auction revenue charts for each scenario\n",
    "print(\"Baseline Scenario Auction Revenue:\")\n",
    "baseline_revenue_chart = chart_gen.auction_volume_revenue_chart(scenario='Baseline')\n",
    "display(baseline_revenue_chart)\n",
    "\n",
    "print(\"\\nScarcity then Surplus Scenario Auction Revenue:\")\n",
    "scarcity_revenue_chart = chart_gen.auction_volume_revenue_chart(scenario='Scarcity then Surplus')\n",
    "display(scarcity_revenue_chart)\n",
    "\n",
    "# Save the charts\n",
    "baseline_revenue_chart.write_image(str(output_dir / \"baseline_auction_revenue.png\"))\n",
    "scarcity_revenue_chart.write_image(str(output_dir / \"scarcity_auction_revenue.png\"))"
   ]
  },
  {
   "cell_type": "markdown",
   "metadata": {},
   "source": [
    "And we'll also use NZUpy's helper functions to generate an interactive html page with both charts, saved to `examples/outputs/02_customise_scenarios/price_comparison.html`"
   ]
  },
  {
   "cell_type": "code",
   "execution_count": null,
   "metadata": {},
   "outputs": [],
   "source": [
    "# Create comparison page for specific chart type\n",
    "from model.interface.chart_display import create_comparison_page\n",
    "\n",
    "# Dictionary mapping scenario names to model instances\n",
    "models = {\n",
    "    'Baseline': (NZU, 'Baseline'),\n",
    "    'Scarcity Then Surplus': (NZU, 'Scarcity then Surplus')\n",
    "}\n",
    "\n",
    "create_comparison_page(\n",
    "    models=models,\n",
    "    chart_type='carbon_price',\n",
    "    output_dir=output_dir,\n",
    "    filename=\"price_comparison.html\",\n",
    "    use_scenario_names=True\n",
    ")"
   ]
  },
  {
   "cell_type": "markdown",
   "metadata": {},
   "source": [
    "## B3. Discussion of Scarcity Scenario Results\n",
    "\n",
    "The scarcity scenario demonstrates the importance of careful configuration and interpretation of scenarios. The **price spike** seen in the **scarcity_then_surplus** scenario results partly from the removal of auction volumes in 2025, together with the adjustment of the price control parameter amplifying this effect. \n",
    "\n",
    "Users should be careful when using the price control parameter in scenario runs, as carbon price trend results will tend to be a product of whatever assumptions are made, and hence should be well reasoned and justified."
   ]
  },
  {
   "cell_type": "markdown",
   "metadata": {},
   "source": [
    "## C1. Conclusion\n",
    "\n",
    "This notebook has demonstrated:\n",
    "\n",
    "1. **Creating multiple custom scenarios** with different parameter values.\n",
    "2. **Modifying specific parameters** like the liquidity factor to values not available in predefined CSVs.\n",
    "3. **Manually editing input series** to model specific market conditions.\n",
    "4. **Using price control parameters** to influence price trajectories.\n",
    "5. **Generating and interpreting comparative charts** across scenarios.\n",
    "\n",
    "These techniques allow for exploration of market conditions under varied market dynamics and policy settings when using NZUpy."
   ]
  }
 ],
 "metadata": {
  "kernelspec": {
   "display_name": "venv",
   "language": "python",
   "name": "python3"
  },
  "language_info": {
   "codemirror_mode": {
    "name": "ipython",
    "version": 3
   },
   "file_extension": ".py",
   "mimetype": "text/x-python",
   "name": "python",
   "nbconvert_exporter": "python",
   "pygments_lexer": "ipython3",
   "version": "3.12.6"
  }
 },
 "nbformat": 4,
 "nbformat_minor": 4
}
