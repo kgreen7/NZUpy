{
 "cells": [
  {
   "cell_type": "markdown",
   "metadata": {},
   "source": [
    "# Customising NZUpy's scenarios\n",
    "\n",
    "## Overview of customisation\n",
    "\n",
    "This notebook demonstrates how to create and customise multiple scenarios in NZUpy. We'll explore:\n",
    "\n",
    "1. Setting up scenarios with different liquidity factors\n",
    "2. Customising parameters to values not featured in imported CSVs\n",
    "3. Running the model and generating comparative charts\n",
    "4. Manually editing input series and adjusting price controls to model a scarcity scenario\n",
    "\n",
    "Let's first import the necessary libraries and set up our environment."
   ]
  },
  {
   "cell_type": "markdown",
   "metadata": {},
   "source": [
    "## 1. Set Up the NZUpy Model\n",
    "\n",
    "First, let's import the necessary libraries and initialise the model."
   ]
  },
  {
   "cell_type": "code",
   "execution_count": null,
   "metadata": {},
   "outputs": [],
   "source": [
    "# Import necessary libraries\n",
    "import pandas as pd\n",
    "import numpy as np\n",
    "import plotly.graph_objects as go\n",
    "from pathlib import Path\n",
    "import sys\n",
    "import os\n",
    "\n",
    "# Add the project root to the path\n",
    "project_root = Path().absolute().parent\n",
    "sys.path.insert(0, str(project_root))\n",
    "\n",
    "# Import the NZUpy class\n",
    "from model.core.base_model import NZUpy\n",
    "\n",
    "# Set our input and output directories\n",
    "data_dir = project_root / \"data\"\n",
    "output_dir = project_root / \"examples\" / \"outputs\" / \"02_customise_scenarios\"\n",
    "os.makedirs(output_dir, exist_ok=True)\n",
    "\n",
    "# Initialise NZUpy\n",
    "NZU = NZUpy(data_dir=data_dir)"
   ]
  },
  {
   "cell_type": "markdown",
   "metadata": {},
   "source": [
    "## 2. Define Time Periods and Scenarios\n",
    "\n",
    "Now we'll define the time periods and scenarios for our model run."
   ]
  },
  {
   "cell_type": "code",
   "execution_count": null,
   "metadata": {},
   "outputs": [],
   "source": [
    "# Define time periods: start year, end year\n",
    "NZU.define_time(2024, 2050)\n",
    "\n",
    "# Define multiple scenarios for different liquidity factors\n",
    "NZU.define_scenarios(['Low Liquidity', 'Medium Liquidity', 'High Liquidity'])\n",
    "\n",
    "# Prime the model\n",
    "NZU.prime()"
   ]
  },
  {
   "cell_type": "markdown",
   "metadata": {},
   "source": [
    "## 3. Configure Scenarios with Different Liquidity Factors\n",
    "\n",
    "We'll set up three scenarios with different liquidity factors (0.10, 0.15, 0.20) to see how this key parameter affects model outcomes. The liquidity factor determines what proportion of the non-surplus stockpile is available for use each year."
   ]
  },
  {
   "cell_type": "code",
   "execution_count": null,
   "metadata": {},
   "outputs": [],
   "source": [
    "# Start with central configs for all scenarios\n",
    "NZU.use_central_configs(0)  # Low Liquidity scenario\n",
    "NZU.use_central_configs(1)  # Medium Liquidity scenario \n",
    "NZU.use_central_configs(2)  # High Liquidity scenario\n",
    "\n",
    "# Customise liquidity factors\n",
    "NZU.set_parameter('liquidity_factor', 0.10, component='stockpile', scenario_index=0)\n",
    "NZU.set_parameter('liquidity_factor', 0.15, component='stockpile', scenario_index=1)\n",
    "NZU.set_parameter('liquidity_factor', 0.20, component='stockpile', scenario_index=2)\n",
    "\n",
    "# Verify the parameter settings\n",
    "print(\"Liquidity factors set for each scenario:\")\n",
    "for i, scenario in enumerate(NZU.scenarios):\n",
    "    param = NZU.show_parameter('liquidity_factor', 'stockpile', scenario_name=scenario)\n",
    "    print(f\"  {scenario}: {param:.2f}\")"
   ]
  },
  {
   "cell_type": "markdown",
   "metadata": {},
   "source": [
    "## 4. Run the Model and Generate Comparison Charts\n",
    "\n",
    "Let's run the model with our different liquidity scenarios and visualise the results."
   ]
  },
  {
   "cell_type": "code",
   "execution_count": null,
   "metadata": {},
   "outputs": [],
   "source": [
    "# Run the model\n",
    "results = NZU.run()\n",
    "\n",
    "# Load chart generator\n",
    "from model.utils.chart_generator import ChartGenerator\n",
    "\n",
    "# Initialise chart generator\n",
    "chart_gen = ChartGenerator(NZU)\n",
    "\n",
    "# Generate carbon price comparison chart\n",
    "price_chart = chart_gen.carbon_price_chart()\n",
    "display(price_chart)\n",
    "price_chart.write_image(str(output_dir / \"liquidity_price_comparison.png\"))\n",
    "\n",
    "# Generate stockpile balance comparison\n",
    "stockpile_chart = chart_gen.stockpile_balance_chart()\n",
    "display(stockpile_chart)\n",
    "stockpile_chart.write_image(str(output_dir / \"liquidity_stockpile_comparison.png\"))\n",
    "\n",
    "# Generate supply-demand balance comparison\n",
    "balance_chart = chart_gen.supply_demand_balance_chart()\n",
    "display(balance_chart)\n",
    "balance_chart.write_image(str(output_dir / \"liquidity_balance_comparison.png\"))"
   ]
  },
  {
   "cell_type": "markdown",
   "metadata": {},
   "source": [
    "## 5. Discussion of Results\n",
    "\n",
    "The charts above reveal several key insights about how liquidity factor affects the NZ ETS:\n",
    "\n",
    "1. **Carbon Price Impact**: Higher liquidity factors result in lower carbon prices as more non-surplus units become available for compliance, reducing the need for emissions reductions through price signals.\n",
    "\n",
    "2. **Stockpile Dynamics**: With lower liquidity (0.10), we see a faster depletion of the surplus stockpile, followed by a more gradual use of the non-surplus component. The higher liquidity scenarios (0.15, 0.20) show a more gradual decline in total stockpile balance.\n",
    "\n",
    "3. **Payback Requirements**: Notice that towards the end of the model period, all scenarios show an uptick in stockpile balance. This demonstrates the model's payback mechanism in action - borrowed units from the non-surplus component must be paid back over the payback period (default is 25 years).\n",
    "\n",
    "4. **Price Ramping**: In the low liquidity scenario, the model may ramp up prices more aggressively to address supply-demand imbalances when fewer units are available from the stockpile. This occurs because the model applies a severe penalty to supply shortfalls."
   ]
  },
  {
   "cell_type": "markdown",
   "metadata": {},
   "source": [
    "If price ramping seems excessive for your use case, this penalty behaviour can be adjusted through the optimiser settings:\n",
    "\n",
    "```python\n",
    "# Example (not run): Turn off shortfall penalty\n",
    "NZU.config.optimiser.penalise_shortfalls = False\n",
    "```"
   ]
  },
  {
   "cell_type": "markdown",
   "metadata": {},
   "source": [
    "## 6. Modelling a Scarcity Scenario\n",
    "\n",
    "Now, let's reset our model and create a new set of scenarios to explore a hypothetical situation with temporary market scarcity in the mid-2020s followed by oversupply."
   ]
  },
  {
   "cell_type": "code",
   "execution_count": null,
   "metadata": {},
   "outputs": [],
   "source": [
    "# Reinitialise the model\n",
    "NZU = NZUpy(data_dir=data_dir)\n",
    "NZU.define_time(2024, 2050)\n",
    "\n",
    "# Define two scenarios: baseline and scarcity scenario\n",
    "NZU.define_scenarios(['Baseline', 'Scarcity Then Surplus'])\n",
    "\n",
    "# Prime the model\n",
    "NZU.prime()\n",
    "\n",
    "# Configure scenarios\n",
    "NZU.use_central_configs(0)  # Set all components to central for baseline scenario\n",
    "NZU.use_central_configs(1)  # Start with central configs for scarcity scenario"
   ]
  },
  {
   "cell_type": "markdown",
   "metadata": {},
   "source": [
    "Now, let's modify the second scenario to create scarcity by reducing auction volumes in the mid-2020s and then increasing them later to create surplus."
   ]
  },
  {
   "cell_type": "code",
   "execution_count": null,
   "metadata": {},
   "outputs": [],
   "source": [
    "# Get a reference to the auction data for our scarcity scenario\n",
    "auction_data = NZU.show_inputs('auction', scenario_name='Scarcity Then Surplus')\n",
    "\n",
    "# Create a modified auction volume series that zeros out auctions in 2025\n",
    "# and increases them slightly in later years\n",
    "auction_volumes = NZU.show_series('base_volume', 'auction', scenario_name='Scarcity Then Surplus')\n",
    "\n",
    "# Set auction volumes to zero for 2025 (creating scarcity)\n",
    "auction_volumes.loc[2025] = 0.0\n",
    "\n",
    "# Increase auction volumes by 10% for 2030 onwards (creating surplus)\n",
    "for year in range(2030, 2051):\n",
    "    if year in auction_volumes.index:\n",
    "        auction_volumes.loc[year] *= 1.1\n",
    "\n",
    "# Update the auction data series in the model\n",
    "NZU.set_series('base_volume', auction_volumes, 'auction', scenario_name='Scarcity Then Surplus')\n",
    "\n",
    "# Verify the changes\n",
    "modified_volumes = NZU.show_series('base_volume', 'auction', scenario_name='Scarcity Then Surplus')\n",
    "print(\"Modified auction volumes:\")\n",
    "print(modified_volumes.head(10))  # Show first 10 years"
   ]
  },
  {
   "cell_type": "markdown",
   "metadata": {},
   "source": [
    "Now let's adjust the price control parameters to manage the price trajectory during scarcity and surplus periods."
   ]
  },
  {
   "cell_type": "code",
   "execution_count": null,
   "metadata": {},
   "outputs": [],
   "source": [
    "# Create price control modifications - applying a higher control factor during scarcity\n",
    "# This demonstrates the price control feature that was introduced in MfE's recent NZ ETS model update\n",
    "price_controls = {}\n",
    "\n",
    "# Default value (1.0) for most years\n",
    "for year in range(2024, 2051):\n",
    "    price_controls[year] = 1.0\n",
    "    \n",
    "# Higher value (1.5) during scarcity year to amplify price signal\n",
    "price_controls[2025] = 1.5\n",
    "\n",
    "# Lower value (0.5) during surplus years to dampen price response\n",
    "for year in range(2030, 2035):\n",
    "    price_controls[year] = 0.5\n",
    "\n",
    "# Set the price control parameters for the scarcity scenario\n",
    "NZU.set_price_control(price_controls)\n",
    "\n",
    "# Run the model with our scenarios\n",
    "results = NZU.run()"
   ]
  },
  {
   "cell_type": "markdown",
   "metadata": {},
   "source": [
    "## 7. Visualising Scarcity Scenario Results\n",
    "\n",
    "Let's create charts to visualise how our scarcity scenario affects prices and market dynamics."
   ]
  },
  {
   "cell_type": "code",
   "execution_count": null,
   "metadata": {},
   "outputs": [],
   "source": [
    "# Initialise chart generator\n",
    "chart_gen = ChartGenerator(NZU)\n",
    "\n",
    "# Generate carbon price chart\n",
    "price_chart = chart_gen.carbon_price_chart()\n",
    "display(price_chart)\n",
    "price_chart.write_image(str(output_dir / \"scarcity_price_comparison.png\"))\n",
    "\n",
    "# Generate stockpile balance chart\n",
    "stockpile_chart = chart_gen.stockpile_balance_chart()\n",
    "display(stockpile_chart)\n",
    "stockpile_chart.write_image(str(output_dir / \"scarcity_stockpile_comparison.png\"))\n",
    "\n",
    "# Generate supply components chart for each scenario\n",
    "baseline_supply = chart_gen.supply_components_chart(scenario='Baseline')\n",
    "display(baseline_supply)\n",
    "baseline_supply.write_image(str(output_dir / \"baseline_supply_components.png\"))\n",
    "\n",
    "scarcity_supply = chart_gen.supply_components_chart(scenario='Scarcity Then Surplus')\n",
    "display(scarcity_supply)\n",
    "scarcity_supply.write_image(str(output_dir / \"scarcity_supply_components.png\"))"
   ]
  },
  {
   "cell_type": "markdown",
   "metadata": {},
   "source": [
    "## 8. Discussion of Scarcity Scenario Results\n",
    "\n",
    "The scarcity scenario demonstrates several important features of the NZ ETS model:\n",
    "\n",
    "1. **Price Spike**: Removing auction volumes in 2025 creates a supply shortage, causing a price spike as the market adjusts. The price control parameter amplifies this effect, demonstrating how policy settings can influence price trajectories.\n",
    "\n",
    "2. **Stockpile Utilisation**: During the scarcity period, the model draws more heavily from the stockpile to make up the supply shortfall, accelerating the depletion of the surplus component.\n",
    "\n",
    "3. **Price Dampening**: When auction volumes increase after 2030, combined with the reduced price control parameter, prices are dampened compared to the baseline scenario. This demonstrates how the model accounts for market oversupply.\n",
    "\n",
    "4. **Market Recovery**: The supply components chart for the scarcity scenario shows how different supply sources adjust over time to compensate for the auction volume changes.\n",
    "\n",
    "The price control feature demonstrated here was introduced as part of MfE's most recent update to the government's excel-based NZ ETS model. This feature allows modelling of how policy interventions and market expectations can influence price formation beyond simple supply-demand dynamics."
   ]
  },
  {
   "cell_type": "markdown",
   "metadata": {},
   "source": [
    "## 9. Conclusion\n",
    "\n",
    "This notebook has demonstrated:\n",
    "\n",
    "1. **Creating multiple custom scenarios** with different parameter values\n",
    "2. **Modifying specific parameters** like the liquidity factor to values not available in predefined CSVs\n",
    "3. **Manually editing input series** to model specific market conditions\n",
    "4. **Using price control parameters** to influence price trajectories\n",
    "5. **Generating and interpreting comparative charts** across scenarios\n",
    "\n",
    "These techniques allow for rich explorations of different market conditions and policy settings within the NZ ETS model."
   ]
  }
 ],
 "metadata": {
  "kernelspec": {
   "display_name": "Python 3",
   "language": "python",
   "name": "python3"
  },
  "language_info": {
   "codemirror_mode": {
    "name": "ipython",
    "version": 3
   },
   "file_extension": ".py",
   "mimetype": "text/x-python",
   "name": "python",
   "nbconvert_exporter": "python",
   "pygments_lexer": "ipython3",
   "version": "3.8.0"
  }
 },
 "nbformat": 4,
 "nbformat_minor": 4
}
