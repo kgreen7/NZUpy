{
 "cells": [
  {
   "cell_type": "markdown",
   "metadata": {},
   "source": [
    "# Customising NZUpy's scenarios\n",
    "\n",
    "## Overview of customisation\n",
    "\n",
    "This notebook demonstrates how to create and customise multiple scenarios in NZUpy. We'll explore:\n",
    "\n",
    "1. Setting up scenarios with different liquidity factors\n",
    "2. Customising parameters to values not featured in imported CSVs\n",
    "3. Running the model and generating comparative charts\n",
    "4. Manually editing input series and adjusting price controls to model a scarcity scenario\n",
    "\n",
    "Let's first import the necessary libraries and set up our environment."
   ]
  },
  {
   "cell_type": "markdown",
   "metadata": {},
   "source": [
    "## 1. Set Up the NZUpy Model\n",
    "\n",
    "First, let's import the necessary libraries and initialise the model."
   ]
  },
  {
   "cell_type": "code",
   "execution_count": 1,
   "metadata": {},
   "outputs": [],
   "source": [
    "# Import necessary libraries\n",
    "import pandas as pd\n",
    "import numpy as np\n",
    "import plotly.graph_objects as go\n",
    "from pathlib import Path\n",
    "import sys\n",
    "import os\n",
    "\n",
    "# Add the project root to the path\n",
    "project_root = Path().absolute().parent\n",
    "sys.path.insert(0, str(project_root))\n",
    "\n",
    "# Import the NZUpy class\n",
    "from model.core.base_model import NZUpy\n",
    "\n",
    "# Set our input and output directories\n",
    "data_dir = project_root / \"data\"\n",
    "output_dir = project_root / \"examples\" / \"outputs\" / \"02_customise_scenarios\"\n",
    "os.makedirs(output_dir, exist_ok=True)\n",
    "\n",
    "# Initialise NZUpy\n",
    "NZU = NZUpy(data_dir=data_dir)"
   ]
  },
  {
   "cell_type": "markdown",
   "metadata": {},
   "source": [
    "## 2. Define Time Periods and Scenarios\n",
    "\n",
    "Now we'll define the time periods and scenarios for our model run."
   ]
  },
  {
   "cell_type": "code",
   "execution_count": 2,
   "metadata": {},
   "outputs": [
    {
     "name": "stdout",
     "output_type": "stream",
     "text": [
      "Time periods defined:\n",
      "  Optimisation: 2024-2050\n",
      "Defined 3 scenarios: Low Liquidity, Medium Liquidity, High Liquidity\n",
      "Model primed with 3 scenarios:\n",
      "  [0] Low Liquidity\n",
      "  [1] Medium Liquidity\n",
      "  [2] High Liquidity\n"
     ]
    },
    {
     "data": {
      "text/plain": [
       "<model.core.base_model.NZUpy at 0x22244ffc500>"
      ]
     },
     "execution_count": 2,
     "metadata": {},
     "output_type": "execute_result"
    }
   ],
   "source": [
    "# Define time periods: start year, end year\n",
    "NZU.define_time(2024, 2050)\n",
    "\n",
    "# Define multiple scenarios for different liquidity factors\n",
    "NZU.define_scenarios(['Low Liquidity', 'Medium Liquidity', 'High Liquidity'])\n",
    "\n",
    "# Prime the model\n",
    "NZU.prime()"
   ]
  },
  {
   "cell_type": "markdown",
   "metadata": {},
   "source": [
    "## 3. Configure Scenarios with Different Liquidity Factors\n",
    "\n",
    "We'll set up three scenarios with different liquidity factors (0.10, 0.15, 0.20) to see how this key parameter affects model outcomes. The liquidity factor determines what proportion of the non-surplus stockpile is available for use each year."
   ]
  },
  {
   "cell_type": "code",
   "execution_count": 3,
   "metadata": {},
   "outputs": [
    {
     "name": "stdout",
     "output_type": "stream",
     "text": [
      "Set emissions configuration to 'central' for scenario 'Low Liquidity'\n",
      "Set auction configuration to 'central' for scenario 'Low Liquidity'\n",
      "Set industrial allocation configuration to 'central' for scenario 'Low Liquidity'\n",
      "Set forestry configuration to 'central' for scenario 'Low Liquidity'\n",
      "Set demand model number to 2 for scenario 'Low Liquidity'\n",
      "Set demand sensitivity to 'central' for scenario 'Low Liquidity'\n",
      "Note: Stockpile parameters should be set using set_parameter() with component='stockpile'\n",
      "Using central configs for all components in model scenario 0 (Low Liquidity)\n",
      "Set emissions configuration to 'central' for scenario 'Medium Liquidity'\n",
      "Set auction configuration to 'central' for scenario 'Medium Liquidity'\n",
      "Set industrial allocation configuration to 'central' for scenario 'Medium Liquidity'\n",
      "Set forestry configuration to 'central' for scenario 'Medium Liquidity'\n",
      "Set demand model number to 2 for scenario 'Medium Liquidity'\n",
      "Set demand sensitivity to 'central' for scenario 'Medium Liquidity'\n",
      "Note: Stockpile parameters should be set using set_parameter() with component='stockpile'\n",
      "Using central configs for all components in model scenario 1 (Medium Liquidity)\n",
      "Set emissions configuration to 'central' for scenario 'High Liquidity'\n",
      "Set auction configuration to 'central' for scenario 'High Liquidity'\n",
      "Set industrial allocation configuration to 'central' for scenario 'High Liquidity'\n",
      "Set forestry configuration to 'central' for scenario 'High Liquidity'\n",
      "Set demand model number to 2 for scenario 'High Liquidity'\n",
      "Set demand sensitivity to 'central' for scenario 'High Liquidity'\n",
      "Note: Stockpile parameters should be set using set_parameter() with component='stockpile'\n",
      "Using central configs for all components in model scenario 2 (High Liquidity)\n",
      "Set stockpile.liquidity_factor = 0.1 for scenario 'Low Liquidity'\n",
      "Set stockpile.liquidity_factor = 0.15 for scenario 'Medium Liquidity'\n",
      "Set stockpile.liquidity_factor = 0.2 for scenario 'High Liquidity'\n",
      "Liquidity factors set for each scenario:\n",
      "\n",
      "=== Stockpile Configuration for Scenario 'Low Liquidity' ===\n",
      "Config name: central\n",
      "* liquidity_factor is custom for this scenario\n",
      "\n",
      "Stockpile Parameters:\n",
      "  Initial Stockpile: 159,902 kt CO₂-e\n",
      "  Initial Surplus: 68,100 kt CO₂-e\n",
      "  Liquidity Factor: 10.00%\n",
      "  Discount Rate: 5.00%\n",
      "  Payback Period: 25 years\n",
      "  Stockpile Usage Start Year: 2024\n",
      "  Stockpile Reference Year: 2023\n",
      "\n",
      "Parameter 'liquidity_factor' for stockpile in scenario 'Low Liquidity':\n",
      "  Value: 10.00%\n",
      "  Low Liquidity: 0.10\n",
      "\n",
      "=== Stockpile Configuration for Scenario 'Medium Liquidity' ===\n",
      "Config name: central\n",
      "* liquidity_factor is custom for this scenario\n",
      "\n",
      "Stockpile Parameters:\n",
      "  Initial Stockpile: 159,902 kt CO₂-e\n",
      "  Initial Surplus: 68,100 kt CO₂-e\n",
      "  Liquidity Factor: 15.00%\n",
      "  Discount Rate: 5.00%\n",
      "  Payback Period: 25 years\n",
      "  Stockpile Usage Start Year: 2024\n",
      "  Stockpile Reference Year: 2023\n",
      "\n",
      "Parameter 'liquidity_factor' for stockpile in scenario 'Medium Liquidity':\n",
      "  Value: 15.00%\n",
      "  Medium Liquidity: 0.15\n",
      "\n",
      "=== Stockpile Configuration for Scenario 'High Liquidity' ===\n",
      "Config name: central\n",
      "* liquidity_factor is custom for this scenario\n",
      "\n",
      "Stockpile Parameters:\n",
      "  Initial Stockpile: 159,902 kt CO₂-e\n",
      "  Initial Surplus: 68,100 kt CO₂-e\n",
      "  Liquidity Factor: 20.00%\n",
      "  Discount Rate: 5.00%\n",
      "  Payback Period: 25 years\n",
      "  Stockpile Usage Start Year: 2024\n",
      "  Stockpile Reference Year: 2023\n",
      "\n",
      "Parameter 'liquidity_factor' for stockpile in scenario 'High Liquidity':\n",
      "  Value: 20.00%\n",
      "  High Liquidity: 0.20\n"
     ]
    }
   ],
   "source": [
    "# Start with central configs for all scenarios\n",
    "NZU.use_central_configs(0)  # Low Liquidity scenario\n",
    "NZU.use_central_configs(1)  # Medium Liquidity scenario \n",
    "NZU.use_central_configs(2)  # High Liquidity scenario\n",
    "\n",
    "# Customise liquidity factors\n",
    "NZU.set_parameter('liquidity_factor', 0.10, component='stockpile', scenario_index=0)\n",
    "NZU.set_parameter('liquidity_factor', 0.15, component='stockpile', scenario_index=1)\n",
    "NZU.set_parameter('liquidity_factor', 0.20, component='stockpile', scenario_index=2)\n",
    "\n",
    "# Verify the parameter settings\n",
    "print(\"Liquidity factors set for each scenario:\")\n",
    "for i, scenario in enumerate(NZU.scenarios):\n",
    "    param = NZU.show_parameter('liquidity_factor', 'stockpile', scenario_name=scenario)\n",
    "    print(f\"  {scenario}: {param:.2f}\")"
   ]
  },
  {
   "cell_type": "markdown",
   "metadata": {},
   "source": [
    "## 4. Run the Model and Generate Comparison Charts\n",
    "\n",
    "Let's run the model with our different liquidity scenarios and visualise the results."
   ]
  },
  {
   "cell_type": "code",
   "execution_count": 4,
   "metadata": {},
   "outputs": [
    {
     "name": "stdout",
     "output_type": "stream",
     "text": [
      "\n",
      "Running scenario 0: Low Liquidity\n",
      "Completed NZUpy run for Low Liquidity\n",
      "\n",
      "Running scenario 1: Medium Liquidity\n",
      "Completed NZUpy run for Medium Liquidity\n",
      "\n",
      "Running scenario 2: High Liquidity\n",
      "Completed NZUpy run for High Liquidity\n"
     ]
    }
   ],
   "source": [
    "# Run the model\n",
    "results = NZU.run()"
   ]
  },
  {
   "cell_type": "code",
   "execution_count": 5,
   "metadata": {},
   "outputs": [
    {
     "name": "stdout",
     "output_type": "stream",
     "text": [
      "Warning: Could not add nominal price data: DataHandler.get_historical_data() got an unexpected keyword argument 'nominal'\n"
     ]
    },
    {
     "data": {
      "application/vnd.plotly.v1+json": {
       "config": {
        "plotlyServerURL": "https://plot.ly"
       },
       "data": [
        {
         "hovertemplate": "Year: %{x}<br>Real Price: $%{y:.1f} (2023 NZD)<extra></extra>",
         "line": {
          "color": "rgb(56, 166, 165)",
          "width": 4
         },
         "mode": "lines",
         "name": "Real Price (2023 NZD)",
         "type": "scatter",
         "x": [
          2024,
          2025,
          2026,
          2027,
          2028,
          2029,
          2030,
          2031,
          2032,
          2033,
          2034,
          2035,
          2036,
          2037,
          2038,
          2039,
          2040,
          2041,
          2042,
          2043,
          2044,
          2045,
          2046,
          2047,
          2048,
          2049,
          2050
         ],
         "y": [
          62,
          65.038,
          68.22486199999999,
          71.56788023799999,
          75.07470636966198,
          78.75336698177541,
          82.61228196388241,
          86.66028378011264,
          90.90663768533815,
          95.36106293191972,
          100.03375501558378,
          104.93540901134737,
          110.0772440529034,
          115.47102901149566,
          121.12910943305894,
          127.06443579527883,
          133.29059314924748,
          139.8218322135606,
          146.67310199202507,
          153.8600839896343,
          161.39922810512635,
          169.30779028227752,
          177.6038720061091,
          186.30646173440843,
          195.43547835939444,
          205.01181679900475,
          215.05739582215597
         ]
        },
        {
         "hovertemplate": "Year: %{x}<br>Historical Real Price: $%{y:.1f} (2023 NZD)<extra></extra>",
         "line": {
          "color": "rgb(47, 47, 47)",
          "dash": "solid",
          "width": 4
         },
         "mode": "lines",
         "name": "Historical Real Price (2023 NZD)",
         "type": "scatter",
         "x": [
          2020,
          2021,
          2022,
          2023
         ],
         "y": [
          25,
          35,
          79,
          63
         ]
        },
        {
         "hovertemplate": "Year: %{x}<br>Nominal Price: $%{y:.1f}<extra></extra>",
         "line": {
          "color": "rgb(153,112,171)",
          "dash": "dash",
          "width": 4
         },
         "mode": "lines",
         "name": "Nominal Price",
         "type": "scatter",
         "x": [
          2024,
          2025,
          2026,
          2027,
          2028,
          2029,
          2030,
          2031,
          2032,
          2033,
          2034,
          2035,
          2036,
          2037,
          2038,
          2039,
          2040,
          2041,
          2042,
          2043,
          2044,
          2045,
          2046,
          2047,
          2048,
          2049,
          2050
         ],
         "y": [
          64.06498781478473,
          68.54825566206337,
          73.34526259329454,
          76.32008050660609,
          81.66095974045838,
          86.35723014012251,
          92.40050913754105,
          96.14819068648013,
          102.87664107662785,
          108.79301197669369,
          116.40634690281492,
          121.12768373345216,
          129.6041990518497,
          137.05765490829614,
          146.64894965978604,
          152.59689915571946,
          163.27563014997446,
          172.66550888641618,
          184.74864120543654,
          192.24188005530797,
          205.6949668582898,
          217.52435484098868,
          232.7467092793267,
          242.1867065351811,
          259.1349323061415,
          274.03761911478455,
          293.21477175634163
         ]
        }
       ],
       "layout": {
        "font": {
         "family": "Arial, sans-serif",
         "size": 12
        },
        "hovermode": "closest",
        "legend": {
         "orientation": "h",
         "x": 1,
         "xanchor": "right",
         "y": 1.02,
         "yanchor": "bottom"
        },
        "margin": {
         "b": 60,
         "l": 60,
         "r": 30,
         "t": 60
        },
        "paper_bgcolor": "white",
        "plot_bgcolor": "white",
        "template": {
         "data": {
          "bar": [
           {
            "error_x": {
             "color": "#2a3f5f"
            },
            "error_y": {
             "color": "#2a3f5f"
            },
            "marker": {
             "line": {
              "color": "#E5ECF6",
              "width": 0.5
             },
             "pattern": {
              "fillmode": "overlay",
              "size": 10,
              "solidity": 0.2
             }
            },
            "type": "bar"
           }
          ],
          "barpolar": [
           {
            "marker": {
             "line": {
              "color": "#E5ECF6",
              "width": 0.5
             },
             "pattern": {
              "fillmode": "overlay",
              "size": 10,
              "solidity": 0.2
             }
            },
            "type": "barpolar"
           }
          ],
          "carpet": [
           {
            "aaxis": {
             "endlinecolor": "#2a3f5f",
             "gridcolor": "white",
             "linecolor": "white",
             "minorgridcolor": "white",
             "startlinecolor": "#2a3f5f"
            },
            "baxis": {
             "endlinecolor": "#2a3f5f",
             "gridcolor": "white",
             "linecolor": "white",
             "minorgridcolor": "white",
             "startlinecolor": "#2a3f5f"
            },
            "type": "carpet"
           }
          ],
          "choropleth": [
           {
            "colorbar": {
             "outlinewidth": 0,
             "ticks": ""
            },
            "type": "choropleth"
           }
          ],
          "contour": [
           {
            "colorbar": {
             "outlinewidth": 0,
             "ticks": ""
            },
            "colorscale": [
             [
              0,
              "#0d0887"
             ],
             [
              0.1111111111111111,
              "#46039f"
             ],
             [
              0.2222222222222222,
              "#7201a8"
             ],
             [
              0.3333333333333333,
              "#9c179e"
             ],
             [
              0.4444444444444444,
              "#bd3786"
             ],
             [
              0.5555555555555556,
              "#d8576b"
             ],
             [
              0.6666666666666666,
              "#ed7953"
             ],
             [
              0.7777777777777778,
              "#fb9f3a"
             ],
             [
              0.8888888888888888,
              "#fdca26"
             ],
             [
              1,
              "#f0f921"
             ]
            ],
            "type": "contour"
           }
          ],
          "contourcarpet": [
           {
            "colorbar": {
             "outlinewidth": 0,
             "ticks": ""
            },
            "type": "contourcarpet"
           }
          ],
          "heatmap": [
           {
            "colorbar": {
             "outlinewidth": 0,
             "ticks": ""
            },
            "colorscale": [
             [
              0,
              "#0d0887"
             ],
             [
              0.1111111111111111,
              "#46039f"
             ],
             [
              0.2222222222222222,
              "#7201a8"
             ],
             [
              0.3333333333333333,
              "#9c179e"
             ],
             [
              0.4444444444444444,
              "#bd3786"
             ],
             [
              0.5555555555555556,
              "#d8576b"
             ],
             [
              0.6666666666666666,
              "#ed7953"
             ],
             [
              0.7777777777777778,
              "#fb9f3a"
             ],
             [
              0.8888888888888888,
              "#fdca26"
             ],
             [
              1,
              "#f0f921"
             ]
            ],
            "type": "heatmap"
           }
          ],
          "heatmapgl": [
           {
            "colorbar": {
             "outlinewidth": 0,
             "ticks": ""
            },
            "colorscale": [
             [
              0,
              "#0d0887"
             ],
             [
              0.1111111111111111,
              "#46039f"
             ],
             [
              0.2222222222222222,
              "#7201a8"
             ],
             [
              0.3333333333333333,
              "#9c179e"
             ],
             [
              0.4444444444444444,
              "#bd3786"
             ],
             [
              0.5555555555555556,
              "#d8576b"
             ],
             [
              0.6666666666666666,
              "#ed7953"
             ],
             [
              0.7777777777777778,
              "#fb9f3a"
             ],
             [
              0.8888888888888888,
              "#fdca26"
             ],
             [
              1,
              "#f0f921"
             ]
            ],
            "type": "heatmapgl"
           }
          ],
          "histogram": [
           {
            "marker": {
             "pattern": {
              "fillmode": "overlay",
              "size": 10,
              "solidity": 0.2
             }
            },
            "type": "histogram"
           }
          ],
          "histogram2d": [
           {
            "colorbar": {
             "outlinewidth": 0,
             "ticks": ""
            },
            "colorscale": [
             [
              0,
              "#0d0887"
             ],
             [
              0.1111111111111111,
              "#46039f"
             ],
             [
              0.2222222222222222,
              "#7201a8"
             ],
             [
              0.3333333333333333,
              "#9c179e"
             ],
             [
              0.4444444444444444,
              "#bd3786"
             ],
             [
              0.5555555555555556,
              "#d8576b"
             ],
             [
              0.6666666666666666,
              "#ed7953"
             ],
             [
              0.7777777777777778,
              "#fb9f3a"
             ],
             [
              0.8888888888888888,
              "#fdca26"
             ],
             [
              1,
              "#f0f921"
             ]
            ],
            "type": "histogram2d"
           }
          ],
          "histogram2dcontour": [
           {
            "colorbar": {
             "outlinewidth": 0,
             "ticks": ""
            },
            "colorscale": [
             [
              0,
              "#0d0887"
             ],
             [
              0.1111111111111111,
              "#46039f"
             ],
             [
              0.2222222222222222,
              "#7201a8"
             ],
             [
              0.3333333333333333,
              "#9c179e"
             ],
             [
              0.4444444444444444,
              "#bd3786"
             ],
             [
              0.5555555555555556,
              "#d8576b"
             ],
             [
              0.6666666666666666,
              "#ed7953"
             ],
             [
              0.7777777777777778,
              "#fb9f3a"
             ],
             [
              0.8888888888888888,
              "#fdca26"
             ],
             [
              1,
              "#f0f921"
             ]
            ],
            "type": "histogram2dcontour"
           }
          ],
          "mesh3d": [
           {
            "colorbar": {
             "outlinewidth": 0,
             "ticks": ""
            },
            "type": "mesh3d"
           }
          ],
          "parcoords": [
           {
            "line": {
             "colorbar": {
              "outlinewidth": 0,
              "ticks": ""
             }
            },
            "type": "parcoords"
           }
          ],
          "pie": [
           {
            "automargin": true,
            "type": "pie"
           }
          ],
          "scatter": [
           {
            "fillpattern": {
             "fillmode": "overlay",
             "size": 10,
             "solidity": 0.2
            },
            "type": "scatter"
           }
          ],
          "scatter3d": [
           {
            "line": {
             "colorbar": {
              "outlinewidth": 0,
              "ticks": ""
             }
            },
            "marker": {
             "colorbar": {
              "outlinewidth": 0,
              "ticks": ""
             }
            },
            "type": "scatter3d"
           }
          ],
          "scattercarpet": [
           {
            "marker": {
             "colorbar": {
              "outlinewidth": 0,
              "ticks": ""
             }
            },
            "type": "scattercarpet"
           }
          ],
          "scattergeo": [
           {
            "marker": {
             "colorbar": {
              "outlinewidth": 0,
              "ticks": ""
             }
            },
            "type": "scattergeo"
           }
          ],
          "scattergl": [
           {
            "marker": {
             "colorbar": {
              "outlinewidth": 0,
              "ticks": ""
             }
            },
            "type": "scattergl"
           }
          ],
          "scattermapbox": [
           {
            "marker": {
             "colorbar": {
              "outlinewidth": 0,
              "ticks": ""
             }
            },
            "type": "scattermapbox"
           }
          ],
          "scatterpolar": [
           {
            "marker": {
             "colorbar": {
              "outlinewidth": 0,
              "ticks": ""
             }
            },
            "type": "scatterpolar"
           }
          ],
          "scatterpolargl": [
           {
            "marker": {
             "colorbar": {
              "outlinewidth": 0,
              "ticks": ""
             }
            },
            "type": "scatterpolargl"
           }
          ],
          "scatterternary": [
           {
            "marker": {
             "colorbar": {
              "outlinewidth": 0,
              "ticks": ""
             }
            },
            "type": "scatterternary"
           }
          ],
          "surface": [
           {
            "colorbar": {
             "outlinewidth": 0,
             "ticks": ""
            },
            "colorscale": [
             [
              0,
              "#0d0887"
             ],
             [
              0.1111111111111111,
              "#46039f"
             ],
             [
              0.2222222222222222,
              "#7201a8"
             ],
             [
              0.3333333333333333,
              "#9c179e"
             ],
             [
              0.4444444444444444,
              "#bd3786"
             ],
             [
              0.5555555555555556,
              "#d8576b"
             ],
             [
              0.6666666666666666,
              "#ed7953"
             ],
             [
              0.7777777777777778,
              "#fb9f3a"
             ],
             [
              0.8888888888888888,
              "#fdca26"
             ],
             [
              1,
              "#f0f921"
             ]
            ],
            "type": "surface"
           }
          ],
          "table": [
           {
            "cells": {
             "fill": {
              "color": "#EBF0F8"
             },
             "line": {
              "color": "white"
             }
            },
            "header": {
             "fill": {
              "color": "#C8D4E3"
             },
             "line": {
              "color": "white"
             }
            },
            "type": "table"
           }
          ]
         },
         "layout": {
          "annotationdefaults": {
           "arrowcolor": "#2a3f5f",
           "arrowhead": 0,
           "arrowwidth": 1
          },
          "autotypenumbers": "strict",
          "coloraxis": {
           "colorbar": {
            "outlinewidth": 0,
            "ticks": ""
           }
          },
          "colorscale": {
           "diverging": [
            [
             0,
             "#8e0152"
            ],
            [
             0.1,
             "#c51b7d"
            ],
            [
             0.2,
             "#de77ae"
            ],
            [
             0.3,
             "#f1b6da"
            ],
            [
             0.4,
             "#fde0ef"
            ],
            [
             0.5,
             "#f7f7f7"
            ],
            [
             0.6,
             "#e6f5d0"
            ],
            [
             0.7,
             "#b8e186"
            ],
            [
             0.8,
             "#7fbc41"
            ],
            [
             0.9,
             "#4d9221"
            ],
            [
             1,
             "#276419"
            ]
           ],
           "sequential": [
            [
             0,
             "#0d0887"
            ],
            [
             0.1111111111111111,
             "#46039f"
            ],
            [
             0.2222222222222222,
             "#7201a8"
            ],
            [
             0.3333333333333333,
             "#9c179e"
            ],
            [
             0.4444444444444444,
             "#bd3786"
            ],
            [
             0.5555555555555556,
             "#d8576b"
            ],
            [
             0.6666666666666666,
             "#ed7953"
            ],
            [
             0.7777777777777778,
             "#fb9f3a"
            ],
            [
             0.8888888888888888,
             "#fdca26"
            ],
            [
             1,
             "#f0f921"
            ]
           ],
           "sequentialminus": [
            [
             0,
             "#0d0887"
            ],
            [
             0.1111111111111111,
             "#46039f"
            ],
            [
             0.2222222222222222,
             "#7201a8"
            ],
            [
             0.3333333333333333,
             "#9c179e"
            ],
            [
             0.4444444444444444,
             "#bd3786"
            ],
            [
             0.5555555555555556,
             "#d8576b"
            ],
            [
             0.6666666666666666,
             "#ed7953"
            ],
            [
             0.7777777777777778,
             "#fb9f3a"
            ],
            [
             0.8888888888888888,
             "#fdca26"
            ],
            [
             1,
             "#f0f921"
            ]
           ]
          },
          "colorway": [
           "#636efa",
           "#EF553B",
           "#00cc96",
           "#ab63fa",
           "#FFA15A",
           "#19d3f3",
           "#FF6692",
           "#B6E880",
           "#FF97FF",
           "#FECB52"
          ],
          "font": {
           "color": "#2a3f5f"
          },
          "geo": {
           "bgcolor": "white",
           "lakecolor": "white",
           "landcolor": "#E5ECF6",
           "showlakes": true,
           "showland": true,
           "subunitcolor": "white"
          },
          "hoverlabel": {
           "align": "left"
          },
          "hovermode": "closest",
          "mapbox": {
           "style": "light"
          },
          "paper_bgcolor": "white",
          "plot_bgcolor": "#E5ECF6",
          "polar": {
           "angularaxis": {
            "gridcolor": "white",
            "linecolor": "white",
            "ticks": ""
           },
           "bgcolor": "#E5ECF6",
           "radialaxis": {
            "gridcolor": "white",
            "linecolor": "white",
            "ticks": ""
           }
          },
          "scene": {
           "xaxis": {
            "backgroundcolor": "#E5ECF6",
            "gridcolor": "white",
            "gridwidth": 2,
            "linecolor": "white",
            "showbackground": true,
            "ticks": "",
            "zerolinecolor": "white"
           },
           "yaxis": {
            "backgroundcolor": "#E5ECF6",
            "gridcolor": "white",
            "gridwidth": 2,
            "linecolor": "white",
            "showbackground": true,
            "ticks": "",
            "zerolinecolor": "white"
           },
           "zaxis": {
            "backgroundcolor": "#E5ECF6",
            "gridcolor": "white",
            "gridwidth": 2,
            "linecolor": "white",
            "showbackground": true,
            "ticks": "",
            "zerolinecolor": "white"
           }
          },
          "shapedefaults": {
           "line": {
            "color": "#2a3f5f"
           }
          },
          "ternary": {
           "aaxis": {
            "gridcolor": "white",
            "linecolor": "white",
            "ticks": ""
           },
           "baxis": {
            "gridcolor": "white",
            "linecolor": "white",
            "ticks": ""
           },
           "bgcolor": "#E5ECF6",
           "caxis": {
            "gridcolor": "white",
            "linecolor": "white",
            "ticks": ""
           }
          },
          "title": {
           "x": 0.05
          },
          "xaxis": {
           "automargin": true,
           "gridcolor": "white",
           "linecolor": "white",
           "ticks": "",
           "title": {
            "standoff": 15
           },
           "zerolinecolor": "white",
           "zerolinewidth": 2
          },
          "yaxis": {
           "automargin": true,
           "gridcolor": "white",
           "linecolor": "white",
           "ticks": "",
           "title": {
            "standoff": 15
           },
           "zerolinecolor": "white",
           "zerolinewidth": 2
          }
         }
        },
        "title": {
         "font": {
          "color": "rgb(47, 79, 79)",
          "size": 16
         },
         "text": "Carbon Price Projection (Real & Nominal)"
        },
        "xaxis": {
         "gridcolor": "#eeeeee",
         "range": [
          null,
          2050
         ],
         "showgrid": true,
         "title": {
          "standoff": 15,
          "text": "Year"
         }
        },
        "yaxis": {
         "gridcolor": "#eeeeee",
         "range": [
          0,
          null
         ],
         "rangemode": "nonnegative",
         "showgrid": true,
         "title": {
          "standoff": 15,
          "text": "Price ($/tonne CO₂-e)"
         }
        }
       }
      }
     },
     "metadata": {},
     "output_type": "display_data"
    },
    {
     "data": {
      "application/vnd.plotly.v1+json": {
       "config": {
        "plotlyServerURL": "https://plot.ly"
       },
       "data": [
        {
         "fillcolor": "rgba(56, 166, 165, 0.4)",
         "hovertemplate": "Year: %{x}<br>Surplus Balance: %{y:.2f} kt CO₂-e<extra></extra>",
         "line": {
          "color": "rgba(27,120,55, 0.6)",
          "width": 1
         },
         "mode": "lines",
         "name": "Surplus Balance",
         "stackgroup": "one",
         "type": "scatter",
         "x": [
          2024,
          2025,
          2026,
          2027,
          2028,
          2029,
          2030,
          2031,
          2032,
          2033,
          2034,
          2035,
          2036,
          2037,
          2038,
          2039,
          2040,
          2041,
          2042,
          2043,
          2044,
          2045,
          2046,
          2047,
          2048,
          2049,
          2050
         ],
         "y": [
          49647.414792573,
          32085.888806940424,
          16515.190606046763,
          3056.085085790004,
          0,
          0,
          0,
          0,
          0,
          0,
          0,
          0,
          0,
          1514.8797182171547,
          1943.819539530843,
          1622.6499072981605,
          1607.6376813840652,
          2174.3643346828976,
          3373.7476882155097,
          5272.490906060069,
          7832.428245790925,
          11078.582145462555,
          14926.352062089572,
          19424.268493787993,
          24522.368764982923,
          30213.15951334618,
          36465.25589313806
         ]
        },
        {
         "fillcolor": "rgba(118,42,131, 0.4)",
         "hovertemplate": "Year: %{x}<br>Non-Surplus Balance: %{y:.2f} kt CO₂-e<extra></extra>",
         "line": {
          "color": "rgba(118,42,131, 0.6)",
          "width": 1
         },
         "mode": "lines",
         "name": "Non-Surplus Balance",
         "stackgroup": "one",
         "type": "scatter",
         "x": [
          2024,
          2025,
          2026,
          2027,
          2028,
          2029,
          2030,
          2031,
          2032,
          2033,
          2034,
          2035,
          2036,
          2037,
          2038,
          2039,
          2040,
          2041,
          2042,
          2043,
          2044,
          2045,
          2046,
          2047,
          2048,
          2049,
          2050
         ],
         "y": [
          85956.72071600001,
          83803.22776800001,
          83034.50301,
          83443.89928199998,
          74670.20231897892,
          66630.13720508103,
          61109.408531572924,
          61070.005096551264,
          61454.46965769147,
          62975.589865149275,
          65083.63388948682,
          69381.22135084606,
          75454.17686058002,
          81931.98596358001,
          87618.07893658,
          89663.57442658002,
          89056.55111858001,
          92308.51482458,
          95351.65264358002,
          99281.06249158,
          104280.40581658,
          109801.67492858,
          114684.29378958,
          117000.26395157998,
          118857.83975957999,
          118992.92456858003,
          118409.12047358003
         ]
        },
        {
         "hovertemplate": "Year: %{x}<br>Total Stockpile: %{y:.2f} kt CO₂-e<extra></extra>",
         "line": {
          "color": "rgb(47, 47, 47)",
          "width": 4
         },
         "mode": "lines",
         "name": "Total Stockpile",
         "type": "scatter",
         "x": [
          2024,
          2025,
          2026,
          2027,
          2028,
          2029,
          2030,
          2031,
          2032,
          2033,
          2034,
          2035,
          2036,
          2037,
          2038,
          2039,
          2040,
          2041,
          2042,
          2043,
          2044,
          2045,
          2046,
          2047,
          2048,
          2049,
          2050
         ],
         "y": [
          135604.135508573,
          115889.11657494043,
          99549.69361604676,
          86499.98436778999,
          74670.20231897892,
          66630.13720508103,
          61109.408531572924,
          61070.005096551264,
          61454.46965769147,
          62975.589865149275,
          65083.63388948682,
          69381.22135084606,
          75454.17686058002,
          83446.86568179716,
          89561.89847611084,
          91286.22433387817,
          90664.18879996407,
          94482.8791592629,
          98725.40033179552,
          104553.55339764008,
          112112.83406237092,
          120880.25707404256,
          129610.64585166957,
          136424.53244536798,
          143380.2085245629,
          149206.0840819262,
          154874.3763667181
         ]
        },
        {
         "hovertemplate": "Year: %{x}<br>Stockpile Without Forestry: %{y:.2f} kt CO₂-e<extra></extra>",
         "line": {
          "color": "rgb(108, 108, 108)",
          "dash": "dash",
          "width": 4
         },
         "mode": "lines",
         "name": "Stockpile Without Forestry",
         "type": "scatter",
         "x": [
          2024,
          2025,
          2026,
          2027,
          2028,
          2029,
          2030,
          2031,
          2032,
          2033,
          2034,
          2035,
          2036,
          2037,
          2038,
          2039,
          2040,
          2041,
          2042,
          2043,
          2044,
          2045,
          2046,
          2047,
          2048,
          2049,
          2050
         ],
         "y": [
          141449.414792573,
          123887.88880694042,
          108317.19060604676,
          94858.08508579,
          83545.88167197892,
          76078.86144008103,
          69415.84771957294,
          66857.56810155128,
          63438.7482946915,
          59505.7417248493,
          55671.96266688684,
          53429.71067434609,
          53246.940824080055,
          54761.82054229721,
          55190.7603636109,
          54869.590731378215,
          54854.57850546412,
          55421.305158762945,
          56620.68851229556,
          58519.43173014012,
          61079.36906987097,
          64325.522969542595,
          68173.29288616961,
          72671.20931786804,
          77769.30958906296,
          83460.10033742622,
          89712.1967172181
         ]
        }
       ],
       "layout": {
        "font": {
         "family": "Arial, sans-serif",
         "size": 12
        },
        "hovermode": "closest",
        "legend": {
         "orientation": "h",
         "x": 1,
         "xanchor": "right",
         "y": 1.02,
         "yanchor": "bottom"
        },
        "margin": {
         "b": 60,
         "l": 60,
         "r": 30,
         "t": 60
        },
        "paper_bgcolor": "white",
        "plot_bgcolor": "white",
        "template": {
         "data": {
          "bar": [
           {
            "error_x": {
             "color": "#2a3f5f"
            },
            "error_y": {
             "color": "#2a3f5f"
            },
            "marker": {
             "line": {
              "color": "#E5ECF6",
              "width": 0.5
             },
             "pattern": {
              "fillmode": "overlay",
              "size": 10,
              "solidity": 0.2
             }
            },
            "type": "bar"
           }
          ],
          "barpolar": [
           {
            "marker": {
             "line": {
              "color": "#E5ECF6",
              "width": 0.5
             },
             "pattern": {
              "fillmode": "overlay",
              "size": 10,
              "solidity": 0.2
             }
            },
            "type": "barpolar"
           }
          ],
          "carpet": [
           {
            "aaxis": {
             "endlinecolor": "#2a3f5f",
             "gridcolor": "white",
             "linecolor": "white",
             "minorgridcolor": "white",
             "startlinecolor": "#2a3f5f"
            },
            "baxis": {
             "endlinecolor": "#2a3f5f",
             "gridcolor": "white",
             "linecolor": "white",
             "minorgridcolor": "white",
             "startlinecolor": "#2a3f5f"
            },
            "type": "carpet"
           }
          ],
          "choropleth": [
           {
            "colorbar": {
             "outlinewidth": 0,
             "ticks": ""
            },
            "type": "choropleth"
           }
          ],
          "contour": [
           {
            "colorbar": {
             "outlinewidth": 0,
             "ticks": ""
            },
            "colorscale": [
             [
              0,
              "#0d0887"
             ],
             [
              0.1111111111111111,
              "#46039f"
             ],
             [
              0.2222222222222222,
              "#7201a8"
             ],
             [
              0.3333333333333333,
              "#9c179e"
             ],
             [
              0.4444444444444444,
              "#bd3786"
             ],
             [
              0.5555555555555556,
              "#d8576b"
             ],
             [
              0.6666666666666666,
              "#ed7953"
             ],
             [
              0.7777777777777778,
              "#fb9f3a"
             ],
             [
              0.8888888888888888,
              "#fdca26"
             ],
             [
              1,
              "#f0f921"
             ]
            ],
            "type": "contour"
           }
          ],
          "contourcarpet": [
           {
            "colorbar": {
             "outlinewidth": 0,
             "ticks": ""
            },
            "type": "contourcarpet"
           }
          ],
          "heatmap": [
           {
            "colorbar": {
             "outlinewidth": 0,
             "ticks": ""
            },
            "colorscale": [
             [
              0,
              "#0d0887"
             ],
             [
              0.1111111111111111,
              "#46039f"
             ],
             [
              0.2222222222222222,
              "#7201a8"
             ],
             [
              0.3333333333333333,
              "#9c179e"
             ],
             [
              0.4444444444444444,
              "#bd3786"
             ],
             [
              0.5555555555555556,
              "#d8576b"
             ],
             [
              0.6666666666666666,
              "#ed7953"
             ],
             [
              0.7777777777777778,
              "#fb9f3a"
             ],
             [
              0.8888888888888888,
              "#fdca26"
             ],
             [
              1,
              "#f0f921"
             ]
            ],
            "type": "heatmap"
           }
          ],
          "heatmapgl": [
           {
            "colorbar": {
             "outlinewidth": 0,
             "ticks": ""
            },
            "colorscale": [
             [
              0,
              "#0d0887"
             ],
             [
              0.1111111111111111,
              "#46039f"
             ],
             [
              0.2222222222222222,
              "#7201a8"
             ],
             [
              0.3333333333333333,
              "#9c179e"
             ],
             [
              0.4444444444444444,
              "#bd3786"
             ],
             [
              0.5555555555555556,
              "#d8576b"
             ],
             [
              0.6666666666666666,
              "#ed7953"
             ],
             [
              0.7777777777777778,
              "#fb9f3a"
             ],
             [
              0.8888888888888888,
              "#fdca26"
             ],
             [
              1,
              "#f0f921"
             ]
            ],
            "type": "heatmapgl"
           }
          ],
          "histogram": [
           {
            "marker": {
             "pattern": {
              "fillmode": "overlay",
              "size": 10,
              "solidity": 0.2
             }
            },
            "type": "histogram"
           }
          ],
          "histogram2d": [
           {
            "colorbar": {
             "outlinewidth": 0,
             "ticks": ""
            },
            "colorscale": [
             [
              0,
              "#0d0887"
             ],
             [
              0.1111111111111111,
              "#46039f"
             ],
             [
              0.2222222222222222,
              "#7201a8"
             ],
             [
              0.3333333333333333,
              "#9c179e"
             ],
             [
              0.4444444444444444,
              "#bd3786"
             ],
             [
              0.5555555555555556,
              "#d8576b"
             ],
             [
              0.6666666666666666,
              "#ed7953"
             ],
             [
              0.7777777777777778,
              "#fb9f3a"
             ],
             [
              0.8888888888888888,
              "#fdca26"
             ],
             [
              1,
              "#f0f921"
             ]
            ],
            "type": "histogram2d"
           }
          ],
          "histogram2dcontour": [
           {
            "colorbar": {
             "outlinewidth": 0,
             "ticks": ""
            },
            "colorscale": [
             [
              0,
              "#0d0887"
             ],
             [
              0.1111111111111111,
              "#46039f"
             ],
             [
              0.2222222222222222,
              "#7201a8"
             ],
             [
              0.3333333333333333,
              "#9c179e"
             ],
             [
              0.4444444444444444,
              "#bd3786"
             ],
             [
              0.5555555555555556,
              "#d8576b"
             ],
             [
              0.6666666666666666,
              "#ed7953"
             ],
             [
              0.7777777777777778,
              "#fb9f3a"
             ],
             [
              0.8888888888888888,
              "#fdca26"
             ],
             [
              1,
              "#f0f921"
             ]
            ],
            "type": "histogram2dcontour"
           }
          ],
          "mesh3d": [
           {
            "colorbar": {
             "outlinewidth": 0,
             "ticks": ""
            },
            "type": "mesh3d"
           }
          ],
          "parcoords": [
           {
            "line": {
             "colorbar": {
              "outlinewidth": 0,
              "ticks": ""
             }
            },
            "type": "parcoords"
           }
          ],
          "pie": [
           {
            "automargin": true,
            "type": "pie"
           }
          ],
          "scatter": [
           {
            "fillpattern": {
             "fillmode": "overlay",
             "size": 10,
             "solidity": 0.2
            },
            "type": "scatter"
           }
          ],
          "scatter3d": [
           {
            "line": {
             "colorbar": {
              "outlinewidth": 0,
              "ticks": ""
             }
            },
            "marker": {
             "colorbar": {
              "outlinewidth": 0,
              "ticks": ""
             }
            },
            "type": "scatter3d"
           }
          ],
          "scattercarpet": [
           {
            "marker": {
             "colorbar": {
              "outlinewidth": 0,
              "ticks": ""
             }
            },
            "type": "scattercarpet"
           }
          ],
          "scattergeo": [
           {
            "marker": {
             "colorbar": {
              "outlinewidth": 0,
              "ticks": ""
             }
            },
            "type": "scattergeo"
           }
          ],
          "scattergl": [
           {
            "marker": {
             "colorbar": {
              "outlinewidth": 0,
              "ticks": ""
             }
            },
            "type": "scattergl"
           }
          ],
          "scattermapbox": [
           {
            "marker": {
             "colorbar": {
              "outlinewidth": 0,
              "ticks": ""
             }
            },
            "type": "scattermapbox"
           }
          ],
          "scatterpolar": [
           {
            "marker": {
             "colorbar": {
              "outlinewidth": 0,
              "ticks": ""
             }
            },
            "type": "scatterpolar"
           }
          ],
          "scatterpolargl": [
           {
            "marker": {
             "colorbar": {
              "outlinewidth": 0,
              "ticks": ""
             }
            },
            "type": "scatterpolargl"
           }
          ],
          "scatterternary": [
           {
            "marker": {
             "colorbar": {
              "outlinewidth": 0,
              "ticks": ""
             }
            },
            "type": "scatterternary"
           }
          ],
          "surface": [
           {
            "colorbar": {
             "outlinewidth": 0,
             "ticks": ""
            },
            "colorscale": [
             [
              0,
              "#0d0887"
             ],
             [
              0.1111111111111111,
              "#46039f"
             ],
             [
              0.2222222222222222,
              "#7201a8"
             ],
             [
              0.3333333333333333,
              "#9c179e"
             ],
             [
              0.4444444444444444,
              "#bd3786"
             ],
             [
              0.5555555555555556,
              "#d8576b"
             ],
             [
              0.6666666666666666,
              "#ed7953"
             ],
             [
              0.7777777777777778,
              "#fb9f3a"
             ],
             [
              0.8888888888888888,
              "#fdca26"
             ],
             [
              1,
              "#f0f921"
             ]
            ],
            "type": "surface"
           }
          ],
          "table": [
           {
            "cells": {
             "fill": {
              "color": "#EBF0F8"
             },
             "line": {
              "color": "white"
             }
            },
            "header": {
             "fill": {
              "color": "#C8D4E3"
             },
             "line": {
              "color": "white"
             }
            },
            "type": "table"
           }
          ]
         },
         "layout": {
          "annotationdefaults": {
           "arrowcolor": "#2a3f5f",
           "arrowhead": 0,
           "arrowwidth": 1
          },
          "autotypenumbers": "strict",
          "coloraxis": {
           "colorbar": {
            "outlinewidth": 0,
            "ticks": ""
           }
          },
          "colorscale": {
           "diverging": [
            [
             0,
             "#8e0152"
            ],
            [
             0.1,
             "#c51b7d"
            ],
            [
             0.2,
             "#de77ae"
            ],
            [
             0.3,
             "#f1b6da"
            ],
            [
             0.4,
             "#fde0ef"
            ],
            [
             0.5,
             "#f7f7f7"
            ],
            [
             0.6,
             "#e6f5d0"
            ],
            [
             0.7,
             "#b8e186"
            ],
            [
             0.8,
             "#7fbc41"
            ],
            [
             0.9,
             "#4d9221"
            ],
            [
             1,
             "#276419"
            ]
           ],
           "sequential": [
            [
             0,
             "#0d0887"
            ],
            [
             0.1111111111111111,
             "#46039f"
            ],
            [
             0.2222222222222222,
             "#7201a8"
            ],
            [
             0.3333333333333333,
             "#9c179e"
            ],
            [
             0.4444444444444444,
             "#bd3786"
            ],
            [
             0.5555555555555556,
             "#d8576b"
            ],
            [
             0.6666666666666666,
             "#ed7953"
            ],
            [
             0.7777777777777778,
             "#fb9f3a"
            ],
            [
             0.8888888888888888,
             "#fdca26"
            ],
            [
             1,
             "#f0f921"
            ]
           ],
           "sequentialminus": [
            [
             0,
             "#0d0887"
            ],
            [
             0.1111111111111111,
             "#46039f"
            ],
            [
             0.2222222222222222,
             "#7201a8"
            ],
            [
             0.3333333333333333,
             "#9c179e"
            ],
            [
             0.4444444444444444,
             "#bd3786"
            ],
            [
             0.5555555555555556,
             "#d8576b"
            ],
            [
             0.6666666666666666,
             "#ed7953"
            ],
            [
             0.7777777777777778,
             "#fb9f3a"
            ],
            [
             0.8888888888888888,
             "#fdca26"
            ],
            [
             1,
             "#f0f921"
            ]
           ]
          },
          "colorway": [
           "#636efa",
           "#EF553B",
           "#00cc96",
           "#ab63fa",
           "#FFA15A",
           "#19d3f3",
           "#FF6692",
           "#B6E880",
           "#FF97FF",
           "#FECB52"
          ],
          "font": {
           "color": "#2a3f5f"
          },
          "geo": {
           "bgcolor": "white",
           "lakecolor": "white",
           "landcolor": "#E5ECF6",
           "showlakes": true,
           "showland": true,
           "subunitcolor": "white"
          },
          "hoverlabel": {
           "align": "left"
          },
          "hovermode": "closest",
          "mapbox": {
           "style": "light"
          },
          "paper_bgcolor": "white",
          "plot_bgcolor": "#E5ECF6",
          "polar": {
           "angularaxis": {
            "gridcolor": "white",
            "linecolor": "white",
            "ticks": ""
           },
           "bgcolor": "#E5ECF6",
           "radialaxis": {
            "gridcolor": "white",
            "linecolor": "white",
            "ticks": ""
           }
          },
          "scene": {
           "xaxis": {
            "backgroundcolor": "#E5ECF6",
            "gridcolor": "white",
            "gridwidth": 2,
            "linecolor": "white",
            "showbackground": true,
            "ticks": "",
            "zerolinecolor": "white"
           },
           "yaxis": {
            "backgroundcolor": "#E5ECF6",
            "gridcolor": "white",
            "gridwidth": 2,
            "linecolor": "white",
            "showbackground": true,
            "ticks": "",
            "zerolinecolor": "white"
           },
           "zaxis": {
            "backgroundcolor": "#E5ECF6",
            "gridcolor": "white",
            "gridwidth": 2,
            "linecolor": "white",
            "showbackground": true,
            "ticks": "",
            "zerolinecolor": "white"
           }
          },
          "shapedefaults": {
           "line": {
            "color": "#2a3f5f"
           }
          },
          "ternary": {
           "aaxis": {
            "gridcolor": "white",
            "linecolor": "white",
            "ticks": ""
           },
           "baxis": {
            "gridcolor": "white",
            "linecolor": "white",
            "ticks": ""
           },
           "bgcolor": "#E5ECF6",
           "caxis": {
            "gridcolor": "white",
            "linecolor": "white",
            "ticks": ""
           }
          },
          "title": {
           "x": 0.05
          },
          "xaxis": {
           "automargin": true,
           "gridcolor": "white",
           "linecolor": "white",
           "ticks": "",
           "title": {
            "standoff": 15
           },
           "zerolinecolor": "white",
           "zerolinewidth": 2
          },
          "yaxis": {
           "automargin": true,
           "gridcolor": "white",
           "linecolor": "white",
           "ticks": "",
           "title": {
            "standoff": 15
           },
           "zerolinecolor": "white",
           "zerolinewidth": 2
          }
         }
        },
        "title": {
         "font": {
          "color": "rgb(47, 79, 79)",
          "size": 16
         },
         "text": "Stockpile Balance - Low Liquidity"
        },
        "xaxis": {
         "gridcolor": "#eeeeee",
         "showgrid": true,
         "title": {
          "standoff": 15,
          "text": "Year"
         }
        },
        "yaxis": {
         "gridcolor": "#eeeeee",
         "rangemode": "tozero",
         "showgrid": true,
         "title": {
          "standoff": 15,
          "text": "NZUs (thousands) /Kt CO₂-e)"
         }
        }
       }
      }
     },
     "metadata": {},
     "output_type": "display_data"
    },
    {
     "data": {
      "application/vnd.plotly.v1+json": {
       "config": {
        "plotlyServerURL": "https://plot.ly"
       },
       "data": [
        {
         "hovertemplate": "Year: %{x}<br>Supply: %{y:.2f} kt CO₂-e<extra></extra>",
         "line": {
          "color": "rgb(118,42,131)",
          "width": 4
         },
         "mode": "lines",
         "name": "Historical Supply",
         "type": "scatter",
         "x": [
          2020,
          2021,
          2022,
          2023
         ],
         "y": [
          20404,
          66873,
          38467,
          37355
         ]
        },
        {
         "hovertemplate": "Year: %{x}<br>Demand: %{y:.2f} kt CO₂-e<extra></extra>",
         "line": {
          "color": "rgb(56, 166, 165)",
          "dash": "dash",
          "width": 4
         },
         "mode": "lines",
         "name": "Historical Demand",
         "type": "scatter",
         "x": [
          2020,
          2021,
          2022,
          2023
         ],
         "y": [
          36650.48962,
          37781.77548,
          36107.81487,
          35708.11702
         ]
        },
        {
         "hovertemplate": "Year: %{x}<br>Supply: %{y:.2f} kt CO₂-e<extra></extra>",
         "line": {
          "color": "rgb(118,42,131)",
          "width": 4
         },
         "mode": "lines",
         "name": "Supply",
         "type": "scatter",
         "x": [
          2024,
          2025,
          2026,
          2027,
          2028,
          2029,
          2030,
          2031,
          2032,
          2033,
          2034,
          2035,
          2036,
          2037,
          2038,
          2039,
          2040,
          2041,
          2042,
          2043,
          2044,
          2045,
          2046,
          2047,
          2048,
          2049,
          2050
         ],
         "y": [
          35764.348192427,
          35196.640935632575,
          34317.02357089366,
          33789.25695025676,
          32467.963646811073,
          29210.850316897893,
          27990.914526508106,
          29128.85013102165,
          28064.475975859787,
          27040.007725842195,
          26062.571039962466,
          25176.001261540747,
          24224.414035266032,
          25142.015162,
          23349.697038,
          22289.615487232684,
          21093.762796914096,
          21057.701006000003,
          21097.821931,
          21121.739995,
          21114.27237,
          21122.200605,
          21130.05032,
          21152.195485,
          21173.642069,
          21196.444284,
          21217.548149000002
         ]
        },
        {
         "hovertemplate": "Year: %{x}<br>Demand: %{y:.2f} kt CO₂-e<extra></extra>",
         "line": {
          "color": "rgb(56, 166, 165)",
          "dash": "dash",
          "width": 4
         },
         "mode": "lines",
         "name": "Demand",
         "type": "scatter",
         "x": [
          2024,
          2025,
          2026,
          2027,
          2028,
          2029,
          2030,
          2031,
          2032,
          2033,
          2034,
          2035,
          2036,
          2037,
          2038,
          2039,
          2040,
          2041,
          2042,
          2043,
          2044,
          2045,
          2046,
          2047,
          2048,
          2049,
          2050
         ],
         "y": [
          35764.348192427,
          35196.640935632575,
          34317.02357089366,
          33789.25695025676,
          32467.963646811073,
          31793.3122810809,
          30159.583705929716,
          29128.85013102165,
          28064.475975859787,
          27040.007725842195,
          26062.571039962466,
          25176.001261540747,
          24224.414035266032,
          23627.135443782845,
          22920.75721668631,
          22289.615487232684,
          21093.762796914096,
          20490.97435270117,
          19898.438577467386,
          19222.99677715544,
          18554.335030269143,
          17876.046705328372,
          17282.28040337298,
          16654.27905330158,
          16075.54179780507,
          15505.653535636742,
          14965.45176920812
         ]
        },
        {
         "fill": "toself",
         "fillcolor": "rgba(108, 108, 108, 0.2)",
         "hoverinfo": "skip",
         "hovertemplate": "Year: %{x}<br>Supply-Demand Gap: %{y:.2f} kt CO₂-e<extra></extra>",
         "line": {
          "width": 0
         },
         "name": "Supply-Demand Gap",
         "showlegend": true,
         "type": "scatter",
         "x": [
          2024,
          2025,
          2026,
          2027,
          2028,
          2029,
          2030,
          2031,
          2032,
          2033,
          2034,
          2035,
          2036,
          2037,
          2038,
          2039,
          2040,
          2041,
          2042,
          2043,
          2044,
          2045,
          2046,
          2047,
          2048,
          2049,
          2050,
          2050,
          2049,
          2048,
          2047,
          2046,
          2045,
          2044,
          2043,
          2042,
          2041,
          2040,
          2039,
          2038,
          2037,
          2036,
          2035,
          2034,
          2033,
          2032,
          2031,
          2030,
          2029,
          2028,
          2027,
          2026,
          2025,
          2024
         ],
         "y": [
          35764.348192427,
          35196.640935632575,
          34317.02357089366,
          33789.25695025676,
          32467.963646811073,
          29210.850316897893,
          27990.914526508106,
          29128.85013102165,
          28064.475975859787,
          27040.007725842195,
          26062.571039962466,
          25176.001261540747,
          24224.414035266032,
          25142.015162,
          23349.697038,
          22289.615487232684,
          21093.762796914096,
          21057.701006000003,
          21097.821931,
          21121.739995,
          21114.27237,
          21122.200605,
          21130.05032,
          21152.195485,
          21173.642069,
          21196.444284,
          21217.548149000002,
          14965.45176920812,
          15505.653535636742,
          16075.54179780507,
          16654.27905330158,
          17282.28040337298,
          17876.046705328372,
          18554.335030269143,
          19222.99677715544,
          19898.438577467386,
          20490.97435270117,
          21093.762796914096,
          22289.615487232684,
          22920.75721668631,
          23627.135443782845,
          24224.414035266032,
          25176.001261540747,
          26062.571039962466,
          27040.007725842195,
          28064.475975859787,
          29128.85013102165,
          30159.583705929716,
          31793.3122810809,
          32467.963646811073,
          33789.25695025676,
          34317.02357089366,
          35196.640935632575,
          35764.348192427
         ]
        }
       ],
       "layout": {
        "font": {
         "family": "Arial, sans-serif",
         "size": 12
        },
        "hovermode": "closest",
        "legend": {
         "orientation": "h",
         "x": 1,
         "xanchor": "right",
         "y": 1.02,
         "yanchor": "bottom"
        },
        "margin": {
         "b": 60,
         "l": 60,
         "r": 30,
         "t": 60
        },
        "paper_bgcolor": "white",
        "plot_bgcolor": "white",
        "template": {
         "data": {
          "bar": [
           {
            "error_x": {
             "color": "#2a3f5f"
            },
            "error_y": {
             "color": "#2a3f5f"
            },
            "marker": {
             "line": {
              "color": "#E5ECF6",
              "width": 0.5
             },
             "pattern": {
              "fillmode": "overlay",
              "size": 10,
              "solidity": 0.2
             }
            },
            "type": "bar"
           }
          ],
          "barpolar": [
           {
            "marker": {
             "line": {
              "color": "#E5ECF6",
              "width": 0.5
             },
             "pattern": {
              "fillmode": "overlay",
              "size": 10,
              "solidity": 0.2
             }
            },
            "type": "barpolar"
           }
          ],
          "carpet": [
           {
            "aaxis": {
             "endlinecolor": "#2a3f5f",
             "gridcolor": "white",
             "linecolor": "white",
             "minorgridcolor": "white",
             "startlinecolor": "#2a3f5f"
            },
            "baxis": {
             "endlinecolor": "#2a3f5f",
             "gridcolor": "white",
             "linecolor": "white",
             "minorgridcolor": "white",
             "startlinecolor": "#2a3f5f"
            },
            "type": "carpet"
           }
          ],
          "choropleth": [
           {
            "colorbar": {
             "outlinewidth": 0,
             "ticks": ""
            },
            "type": "choropleth"
           }
          ],
          "contour": [
           {
            "colorbar": {
             "outlinewidth": 0,
             "ticks": ""
            },
            "colorscale": [
             [
              0,
              "#0d0887"
             ],
             [
              0.1111111111111111,
              "#46039f"
             ],
             [
              0.2222222222222222,
              "#7201a8"
             ],
             [
              0.3333333333333333,
              "#9c179e"
             ],
             [
              0.4444444444444444,
              "#bd3786"
             ],
             [
              0.5555555555555556,
              "#d8576b"
             ],
             [
              0.6666666666666666,
              "#ed7953"
             ],
             [
              0.7777777777777778,
              "#fb9f3a"
             ],
             [
              0.8888888888888888,
              "#fdca26"
             ],
             [
              1,
              "#f0f921"
             ]
            ],
            "type": "contour"
           }
          ],
          "contourcarpet": [
           {
            "colorbar": {
             "outlinewidth": 0,
             "ticks": ""
            },
            "type": "contourcarpet"
           }
          ],
          "heatmap": [
           {
            "colorbar": {
             "outlinewidth": 0,
             "ticks": ""
            },
            "colorscale": [
             [
              0,
              "#0d0887"
             ],
             [
              0.1111111111111111,
              "#46039f"
             ],
             [
              0.2222222222222222,
              "#7201a8"
             ],
             [
              0.3333333333333333,
              "#9c179e"
             ],
             [
              0.4444444444444444,
              "#bd3786"
             ],
             [
              0.5555555555555556,
              "#d8576b"
             ],
             [
              0.6666666666666666,
              "#ed7953"
             ],
             [
              0.7777777777777778,
              "#fb9f3a"
             ],
             [
              0.8888888888888888,
              "#fdca26"
             ],
             [
              1,
              "#f0f921"
             ]
            ],
            "type": "heatmap"
           }
          ],
          "heatmapgl": [
           {
            "colorbar": {
             "outlinewidth": 0,
             "ticks": ""
            },
            "colorscale": [
             [
              0,
              "#0d0887"
             ],
             [
              0.1111111111111111,
              "#46039f"
             ],
             [
              0.2222222222222222,
              "#7201a8"
             ],
             [
              0.3333333333333333,
              "#9c179e"
             ],
             [
              0.4444444444444444,
              "#bd3786"
             ],
             [
              0.5555555555555556,
              "#d8576b"
             ],
             [
              0.6666666666666666,
              "#ed7953"
             ],
             [
              0.7777777777777778,
              "#fb9f3a"
             ],
             [
              0.8888888888888888,
              "#fdca26"
             ],
             [
              1,
              "#f0f921"
             ]
            ],
            "type": "heatmapgl"
           }
          ],
          "histogram": [
           {
            "marker": {
             "pattern": {
              "fillmode": "overlay",
              "size": 10,
              "solidity": 0.2
             }
            },
            "type": "histogram"
           }
          ],
          "histogram2d": [
           {
            "colorbar": {
             "outlinewidth": 0,
             "ticks": ""
            },
            "colorscale": [
             [
              0,
              "#0d0887"
             ],
             [
              0.1111111111111111,
              "#46039f"
             ],
             [
              0.2222222222222222,
              "#7201a8"
             ],
             [
              0.3333333333333333,
              "#9c179e"
             ],
             [
              0.4444444444444444,
              "#bd3786"
             ],
             [
              0.5555555555555556,
              "#d8576b"
             ],
             [
              0.6666666666666666,
              "#ed7953"
             ],
             [
              0.7777777777777778,
              "#fb9f3a"
             ],
             [
              0.8888888888888888,
              "#fdca26"
             ],
             [
              1,
              "#f0f921"
             ]
            ],
            "type": "histogram2d"
           }
          ],
          "histogram2dcontour": [
           {
            "colorbar": {
             "outlinewidth": 0,
             "ticks": ""
            },
            "colorscale": [
             [
              0,
              "#0d0887"
             ],
             [
              0.1111111111111111,
              "#46039f"
             ],
             [
              0.2222222222222222,
              "#7201a8"
             ],
             [
              0.3333333333333333,
              "#9c179e"
             ],
             [
              0.4444444444444444,
              "#bd3786"
             ],
             [
              0.5555555555555556,
              "#d8576b"
             ],
             [
              0.6666666666666666,
              "#ed7953"
             ],
             [
              0.7777777777777778,
              "#fb9f3a"
             ],
             [
              0.8888888888888888,
              "#fdca26"
             ],
             [
              1,
              "#f0f921"
             ]
            ],
            "type": "histogram2dcontour"
           }
          ],
          "mesh3d": [
           {
            "colorbar": {
             "outlinewidth": 0,
             "ticks": ""
            },
            "type": "mesh3d"
           }
          ],
          "parcoords": [
           {
            "line": {
             "colorbar": {
              "outlinewidth": 0,
              "ticks": ""
             }
            },
            "type": "parcoords"
           }
          ],
          "pie": [
           {
            "automargin": true,
            "type": "pie"
           }
          ],
          "scatter": [
           {
            "fillpattern": {
             "fillmode": "overlay",
             "size": 10,
             "solidity": 0.2
            },
            "type": "scatter"
           }
          ],
          "scatter3d": [
           {
            "line": {
             "colorbar": {
              "outlinewidth": 0,
              "ticks": ""
             }
            },
            "marker": {
             "colorbar": {
              "outlinewidth": 0,
              "ticks": ""
             }
            },
            "type": "scatter3d"
           }
          ],
          "scattercarpet": [
           {
            "marker": {
             "colorbar": {
              "outlinewidth": 0,
              "ticks": ""
             }
            },
            "type": "scattercarpet"
           }
          ],
          "scattergeo": [
           {
            "marker": {
             "colorbar": {
              "outlinewidth": 0,
              "ticks": ""
             }
            },
            "type": "scattergeo"
           }
          ],
          "scattergl": [
           {
            "marker": {
             "colorbar": {
              "outlinewidth": 0,
              "ticks": ""
             }
            },
            "type": "scattergl"
           }
          ],
          "scattermapbox": [
           {
            "marker": {
             "colorbar": {
              "outlinewidth": 0,
              "ticks": ""
             }
            },
            "type": "scattermapbox"
           }
          ],
          "scatterpolar": [
           {
            "marker": {
             "colorbar": {
              "outlinewidth": 0,
              "ticks": ""
             }
            },
            "type": "scatterpolar"
           }
          ],
          "scatterpolargl": [
           {
            "marker": {
             "colorbar": {
              "outlinewidth": 0,
              "ticks": ""
             }
            },
            "type": "scatterpolargl"
           }
          ],
          "scatterternary": [
           {
            "marker": {
             "colorbar": {
              "outlinewidth": 0,
              "ticks": ""
             }
            },
            "type": "scatterternary"
           }
          ],
          "surface": [
           {
            "colorbar": {
             "outlinewidth": 0,
             "ticks": ""
            },
            "colorscale": [
             [
              0,
              "#0d0887"
             ],
             [
              0.1111111111111111,
              "#46039f"
             ],
             [
              0.2222222222222222,
              "#7201a8"
             ],
             [
              0.3333333333333333,
              "#9c179e"
             ],
             [
              0.4444444444444444,
              "#bd3786"
             ],
             [
              0.5555555555555556,
              "#d8576b"
             ],
             [
              0.6666666666666666,
              "#ed7953"
             ],
             [
              0.7777777777777778,
              "#fb9f3a"
             ],
             [
              0.8888888888888888,
              "#fdca26"
             ],
             [
              1,
              "#f0f921"
             ]
            ],
            "type": "surface"
           }
          ],
          "table": [
           {
            "cells": {
             "fill": {
              "color": "#EBF0F8"
             },
             "line": {
              "color": "white"
             }
            },
            "header": {
             "fill": {
              "color": "#C8D4E3"
             },
             "line": {
              "color": "white"
             }
            },
            "type": "table"
           }
          ]
         },
         "layout": {
          "annotationdefaults": {
           "arrowcolor": "#2a3f5f",
           "arrowhead": 0,
           "arrowwidth": 1
          },
          "autotypenumbers": "strict",
          "coloraxis": {
           "colorbar": {
            "outlinewidth": 0,
            "ticks": ""
           }
          },
          "colorscale": {
           "diverging": [
            [
             0,
             "#8e0152"
            ],
            [
             0.1,
             "#c51b7d"
            ],
            [
             0.2,
             "#de77ae"
            ],
            [
             0.3,
             "#f1b6da"
            ],
            [
             0.4,
             "#fde0ef"
            ],
            [
             0.5,
             "#f7f7f7"
            ],
            [
             0.6,
             "#e6f5d0"
            ],
            [
             0.7,
             "#b8e186"
            ],
            [
             0.8,
             "#7fbc41"
            ],
            [
             0.9,
             "#4d9221"
            ],
            [
             1,
             "#276419"
            ]
           ],
           "sequential": [
            [
             0,
             "#0d0887"
            ],
            [
             0.1111111111111111,
             "#46039f"
            ],
            [
             0.2222222222222222,
             "#7201a8"
            ],
            [
             0.3333333333333333,
             "#9c179e"
            ],
            [
             0.4444444444444444,
             "#bd3786"
            ],
            [
             0.5555555555555556,
             "#d8576b"
            ],
            [
             0.6666666666666666,
             "#ed7953"
            ],
            [
             0.7777777777777778,
             "#fb9f3a"
            ],
            [
             0.8888888888888888,
             "#fdca26"
            ],
            [
             1,
             "#f0f921"
            ]
           ],
           "sequentialminus": [
            [
             0,
             "#0d0887"
            ],
            [
             0.1111111111111111,
             "#46039f"
            ],
            [
             0.2222222222222222,
             "#7201a8"
            ],
            [
             0.3333333333333333,
             "#9c179e"
            ],
            [
             0.4444444444444444,
             "#bd3786"
            ],
            [
             0.5555555555555556,
             "#d8576b"
            ],
            [
             0.6666666666666666,
             "#ed7953"
            ],
            [
             0.7777777777777778,
             "#fb9f3a"
            ],
            [
             0.8888888888888888,
             "#fdca26"
            ],
            [
             1,
             "#f0f921"
            ]
           ]
          },
          "colorway": [
           "#636efa",
           "#EF553B",
           "#00cc96",
           "#ab63fa",
           "#FFA15A",
           "#19d3f3",
           "#FF6692",
           "#B6E880",
           "#FF97FF",
           "#FECB52"
          ],
          "font": {
           "color": "#2a3f5f"
          },
          "geo": {
           "bgcolor": "white",
           "lakecolor": "white",
           "landcolor": "#E5ECF6",
           "showlakes": true,
           "showland": true,
           "subunitcolor": "white"
          },
          "hoverlabel": {
           "align": "left"
          },
          "hovermode": "closest",
          "mapbox": {
           "style": "light"
          },
          "paper_bgcolor": "white",
          "plot_bgcolor": "#E5ECF6",
          "polar": {
           "angularaxis": {
            "gridcolor": "white",
            "linecolor": "white",
            "ticks": ""
           },
           "bgcolor": "#E5ECF6",
           "radialaxis": {
            "gridcolor": "white",
            "linecolor": "white",
            "ticks": ""
           }
          },
          "scene": {
           "xaxis": {
            "backgroundcolor": "#E5ECF6",
            "gridcolor": "white",
            "gridwidth": 2,
            "linecolor": "white",
            "showbackground": true,
            "ticks": "",
            "zerolinecolor": "white"
           },
           "yaxis": {
            "backgroundcolor": "#E5ECF6",
            "gridcolor": "white",
            "gridwidth": 2,
            "linecolor": "white",
            "showbackground": true,
            "ticks": "",
            "zerolinecolor": "white"
           },
           "zaxis": {
            "backgroundcolor": "#E5ECF6",
            "gridcolor": "white",
            "gridwidth": 2,
            "linecolor": "white",
            "showbackground": true,
            "ticks": "",
            "zerolinecolor": "white"
           }
          },
          "shapedefaults": {
           "line": {
            "color": "#2a3f5f"
           }
          },
          "ternary": {
           "aaxis": {
            "gridcolor": "white",
            "linecolor": "white",
            "ticks": ""
           },
           "baxis": {
            "gridcolor": "white",
            "linecolor": "white",
            "ticks": ""
           },
           "bgcolor": "#E5ECF6",
           "caxis": {
            "gridcolor": "white",
            "linecolor": "white",
            "ticks": ""
           }
          },
          "title": {
           "x": 0.05
          },
          "xaxis": {
           "automargin": true,
           "gridcolor": "white",
           "linecolor": "white",
           "ticks": "",
           "title": {
            "standoff": 15
           },
           "zerolinecolor": "white",
           "zerolinewidth": 2
          },
          "yaxis": {
           "automargin": true,
           "gridcolor": "white",
           "linecolor": "white",
           "ticks": "",
           "title": {
            "standoff": 15
           },
           "zerolinecolor": "white",
           "zerolinewidth": 2
          }
         }
        },
        "title": {
         "font": {
          "color": "rgb(47, 79, 79)",
          "size": 16
         },
         "text": "Supply-Demand Balance - Low Liquidity"
        },
        "xaxis": {
         "gridcolor": "#eeeeee",
         "showgrid": true,
         "title": {
          "standoff": 15,
          "text": "Year"
         }
        },
        "yaxis": {
         "gridcolor": "#eeeeee",
         "range": [
          0,
          null
         ],
         "rangemode": "nonnegative",
         "showgrid": true,
         "title": {
          "standoff": 15,
          "text": "NZUs (thousands) /Kt CO₂-e)"
         }
        }
       }
      }
     },
     "metadata": {},
     "output_type": "display_data"
    }
   ],
   "source": [
    "# Load chart generator\n",
    "from model.utils.chart_generator import ChartGenerator\n",
    "\n",
    "# Initialise chart generator\n",
    "chart_gen = ChartGenerator(NZU)\n",
    "\n",
    "# Generate carbon price comparison chart\n",
    "price_chart = chart_gen.carbon_price_chart()\n",
    "display(price_chart)\n",
    "price_chart.write_image(str(output_dir / \"liquidity_price_comparison.png\"))\n",
    "\n",
    "# Generate stockpile balance comparison\n",
    "stockpile_chart = chart_gen.stockpile_balance_chart()\n",
    "display(stockpile_chart)\n",
    "stockpile_chart.write_image(str(output_dir / \"liquidity_stockpile_comparison.png\"))\n",
    "\n",
    "# Generate supply-demand balance comparison\n",
    "balance_chart = chart_gen.supply_demand_balance_chart()\n",
    "display(balance_chart)\n",
    "balance_chart.write_image(str(output_dir / \"liquidity_balance_comparison.png\"))"
   ]
  },
  {
   "cell_type": "markdown",
   "metadata": {},
   "source": [
    "## 5. Discussion of Results\n",
    "\n",
    "The charts above reveal several key insights about how liquidity factor affects the NZ ETS:\n",
    "\n",
    "1. **Carbon Price Impact**: Higher liquidity factors result in lower carbon prices as more non-surplus units become available for compliance, reducing the need for emissions reductions through price signals.\n",
    "\n",
    "2. **Stockpile Dynamics**: With lower liquidity (0.10), we see a faster depletion of the surplus stockpile, followed by a more gradual use of the non-surplus component. The higher liquidity scenarios (0.15, 0.20) show a more gradual decline in total stockpile balance.\n",
    "\n",
    "3. **Payback Requirements**: Notice that towards the end of the model period, all scenarios show an uptick in stockpile balance. This demonstrates the model's payback mechanism in action - borrowed units from the non-surplus component must be paid back over the payback period (default is 25 years).\n",
    "\n",
    "4. **Price Ramping**: In the low liquidity scenario, the model may ramp up prices more aggressively to address supply-demand imbalances when fewer units are available from the stockpile. This occurs because the model applies a severe penalty to supply shortfalls."
   ]
  },
  {
   "cell_type": "markdown",
   "metadata": {},
   "source": [
    "If price ramping seems excessive for your use case, this penalty behaviour can be adjusted through the optimiser settings:\n",
    "\n",
    "```python\n",
    "# Example (not run): Turn off shortfall penalty\n",
    "NZU.config.optimiser.penalise_shortfalls = False\n",
    "```"
   ]
  },
  {
   "cell_type": "markdown",
   "metadata": {},
   "source": [
    "## 6. Modelling a Scarcity Scenario\n",
    "\n",
    "Now, let's reset our model and create a new set of scenarios to explore a hypothetical situation with temporary market scarcity in the mid-2020s followed by oversupply."
   ]
  },
  {
   "cell_type": "code",
   "execution_count": 6,
   "metadata": {},
   "outputs": [
    {
     "name": "stdout",
     "output_type": "stream",
     "text": [
      "Time periods defined:\n",
      "  Optimisation: 2024-2050\n",
      "Defined 2 scenarios: Baseline, Scarcity Then Surplus\n",
      "Model primed with 2 scenarios:\n",
      "  [0] Baseline\n",
      "  [1] Scarcity Then Surplus\n",
      "Set emissions configuration to 'central' for scenario 'Baseline'\n",
      "Set auction configuration to 'central' for scenario 'Baseline'\n",
      "Set industrial allocation configuration to 'central' for scenario 'Baseline'\n",
      "Set forestry configuration to 'central' for scenario 'Baseline'\n",
      "Set demand model number to 2 for scenario 'Baseline'\n",
      "Set demand sensitivity to 'central' for scenario 'Baseline'\n",
      "Note: Stockpile parameters should be set using set_parameter() with component='stockpile'\n",
      "Using central configs for all components in model scenario 0 (Baseline)\n",
      "Set emissions configuration to 'central' for scenario 'Scarcity Then Surplus'\n",
      "Set auction configuration to 'central' for scenario 'Scarcity Then Surplus'\n",
      "Set industrial allocation configuration to 'central' for scenario 'Scarcity Then Surplus'\n",
      "Set forestry configuration to 'central' for scenario 'Scarcity Then Surplus'\n",
      "Set demand model number to 2 for scenario 'Scarcity Then Surplus'\n",
      "Set demand sensitivity to 'central' for scenario 'Scarcity Then Surplus'\n",
      "Note: Stockpile parameters should be set using set_parameter() with component='stockpile'\n",
      "Using central configs for all components in model scenario 1 (Scarcity Then Surplus)\n"
     ]
    },
    {
     "data": {
      "text/plain": [
       "<model.core.base_model.NZUpy at 0x2224522b770>"
      ]
     },
     "execution_count": 6,
     "metadata": {},
     "output_type": "execute_result"
    }
   ],
   "source": [
    "# Reinitialise the model\n",
    "NZU = NZUpy(data_dir=data_dir)\n",
    "NZU.define_time(2024, 2050)\n",
    "\n",
    "# Define two scenarios: baseline and scarcity scenario\n",
    "NZU.define_scenarios(['Baseline', 'Scarcity Then Surplus'])\n",
    "\n",
    "# Prime the model\n",
    "NZU.prime()\n",
    "\n",
    "# Configure scenarios\n",
    "NZU.use_central_configs(0)  # Set all components to central for baseline scenario\n",
    "NZU.use_central_configs(1)  # Start with central configs for scarcity scenario"
   ]
  },
  {
   "cell_type": "markdown",
   "metadata": {},
   "source": [
    "Now, let's modify the second scenario to create scarcity by reducing auction volumes in the mid-2020s and then increasing them later to create surplus."
   ]
  },
  {
   "cell_type": "code",
   "execution_count": 7,
   "metadata": {},
   "outputs": [
    {
     "name": "stdout",
     "output_type": "stream",
     "text": [
      "\n",
      "=== Auction Configuration for Scenario 'Scarcity Then Surplus' ===\n",
      "Config name: central\n",
      "\n",
      "Auction Parameters:\n",
      "  Base Auction Volumes (first 5 years):\n",
      "    2020: 0 kt CO₂-e\n",
      "    2021: 19,300 kt CO₂-e\n",
      "    2022: 19,957 kt CO₂-e\n",
      "    2023: 0 kt CO₂-e\n",
      "    2024: 7,007 kt CO₂-e\n",
      "    ... 26 more years\n",
      "\n",
      "  Cost Containment Reserve (CCR) Parameters:\n",
      "    2020:\n",
      "      CCR1 Price Trigger: $0.00\n",
      "      CCR1 Volume: 0 kt CO₂-e\n",
      "      CCR2 Price Trigger: $0.00\n",
      "      CCR2 Volume: 0 kt CO₂-e\n",
      "    2021:\n",
      "      CCR1 Price Trigger: $0.00\n",
      "      CCR1 Volume: 0 kt CO₂-e\n",
      "      CCR2 Price Trigger: $0.00\n",
      "      CCR2 Volume: 0 kt CO₂-e\n",
      "    2022:\n",
      "      CCR1 Price Trigger: $70.00\n",
      "      CCR1 Volume: 7,000 kt CO₂-e\n",
      "      CCR2 Price Trigger: $0.00\n",
      "      CCR2 Volume: 0 kt CO₂-e\n",
      "    ... 28 more years\n",
      "Updated auction.base_volume for scenario 'Scarcity Then Surplus'\n",
      "\n",
      "=== Auction Configuration for Scenario 'Scarcity Then Surplus' ===\n",
      "Config name: central\n",
      "\n",
      "Auction Parameters:\n",
      "  Base Auction Volumes (first 5 years):\n",
      "    2020: 0 kt CO₂-e\n",
      "    2021: 19,300 kt CO₂-e\n",
      "    2022: 19,957 kt CO₂-e\n",
      "    2023: 0 kt CO₂-e\n",
      "    2024: 7,007 kt CO₂-e\n",
      "    ... 26 more years\n",
      "\n",
      "  Cost Containment Reserve (CCR) Parameters:\n",
      "    2020:\n",
      "      CCR1 Price Trigger: $0.00\n",
      "      CCR1 Volume: 0 kt CO₂-e\n",
      "      CCR2 Price Trigger: $0.00\n",
      "      CCR2 Volume: 0 kt CO₂-e\n",
      "    2021:\n",
      "      CCR1 Price Trigger: $0.00\n",
      "      CCR1 Volume: 0 kt CO₂-e\n",
      "      CCR2 Price Trigger: $0.00\n",
      "      CCR2 Volume: 0 kt CO₂-e\n",
      "    2022:\n",
      "      CCR1 Price Trigger: $70.00\n",
      "      CCR1 Volume: 7,000 kt CO₂-e\n",
      "      CCR2 Price Trigger: $0.00\n",
      "      CCR2 Volume: 0 kt CO₂-e\n",
      "    ... 28 more years\n",
      "Modified auction volumes:\n",
      "year\n",
      "2020        0.0\n",
      "2021    19300.0\n",
      "2022    19957.0\n",
      "2023        0.0\n",
      "2024     7006.8\n",
      "2025        0.0\n",
      "2026     5200.0\n",
      "2027     4300.0\n",
      "2028     3300.0\n",
      "2029     2400.0\n",
      "Name: base_volume, dtype: float64\n"
     ]
    }
   ],
   "source": [
    "# Get the auction data for your scenario\n",
    "auction_data = NZU.show_inputs('auction', scenario_name='Scarcity Then Surplus')\n",
    "\n",
    "# Get the base volume series and create a copy to modify\n",
    "base_volumes = auction_data['base_volume'].copy()\n",
    "\n",
    "# Modify the volumes as needed\n",
    "base_volumes.loc[2025] = 0.0  # Set 2025 volume to zero\n",
    "base_volumes.loc[2030:2050] = base_volumes.loc[2030:2050] * 1.1  # Increase volumes by 10% from 2030-2050\n",
    "\n",
    "# Update the auction data in the model\n",
    "NZU.set_series('base_volume', base_volumes, 'auction', scenario_name='Scarcity Then Surplus')\n",
    "\n",
    "# Verify the changes by showing the inputs again\n",
    "modified_data = NZU.show_inputs('auction', scenario_name='Scarcity Then Surplus')\n",
    "print(\"Modified auction volumes:\")\n",
    "print(modified_data['base_volume'].head(10))  # Show first 10 years"
   ]
  },
  {
   "cell_type": "markdown",
   "metadata": {},
   "source": [
    "Now let's adjust the price control parameters to manage the price trajectory during scarcity and surplus periods."
   ]
  },
  {
   "cell_type": "code",
   "execution_count": 8,
   "metadata": {},
   "outputs": [
    {
     "name": "stdout",
     "output_type": "stream",
     "text": [
      "\n",
      "Running scenario 0: Baseline\n",
      "Completed NZUpy run for Baseline\n",
      "\n",
      "Running scenario 1: Scarcity Then Surplus\n",
      "Completed NZUpy run for Scarcity Then Surplus\n"
     ]
    }
   ],
   "source": [
    "# Create price control modifications - applying a higher control factor during scarcity\n",
    "# This demonstrates the price control feature that was introduced in MfE's recent NZ ETS model update\n",
    "price_controls = {}\n",
    "\n",
    "# Default value (1.0) for most years\n",
    "for year in range(2024, 2051):\n",
    "    price_controls[year] = 1.0\n",
    "    \n",
    "# Higher value (1.5) during scarcity year to amplify price signal\n",
    "price_controls[2025] = 1.5\n",
    "\n",
    "# Lower value (0.5) during surplus years to dampen price response\n",
    "for year in range(2030, 2035):\n",
    "    price_controls[year] = 0.5\n",
    "\n",
    "# Set the price control parameters for the scarcity scenario\n",
    "NZU.set_price_control(price_controls)\n",
    "\n",
    "# Run the model with our scenarios\n",
    "results = NZU.run()"
   ]
  },
  {
   "cell_type": "markdown",
   "metadata": {},
   "source": [
    "## 7. Visualising Scarcity Scenario Results\n",
    "\n",
    "Let's create charts to visualise how our scarcity scenario affects prices and market dynamics."
   ]
  },
  {
   "cell_type": "code",
   "execution_count": 9,
   "metadata": {},
   "outputs": [
    {
     "name": "stdout",
     "output_type": "stream",
     "text": [
      "Warning: Could not add nominal price data: DataHandler.get_historical_data() got an unexpected keyword argument 'nominal'\n",
      "Warning: Could not add nominal price data: DataHandler.get_historical_data() got an unexpected keyword argument 'nominal'\n",
      "Chart page saved to: c:\\Users\\nzkri\\Python projects\\NZUpy\\examples\\outputs\\02_customise_scenarios\\price_comparison.html\n"
     ]
    },
    {
     "data": {
      "text/plain": [
       "'\\n    <!DOCTYPE html>\\n    <html>\\n    <head>\\n        <meta charset=\"UTF-8\">\\n        <meta name=\"viewport\" content=\"width=device-width, initial-scale=1.0\">\\n        <title>NZUpy Model Comparison</title>\\n        <style>\\n            body {\\n                font-family: Arial, sans-serif;\\n                margin: 0;\\n                padding: 20px;\\n                background-color: #f5f5f5;\\n                color: #333;\\n            }\\n            .header {\\n                text-align: center;\\n                margin-bottom: 30px;\\n                background-color: #fff;\\n                padding: 20px;\\n                border-radius: 8px;\\n                box-shadow: 0 2px 4px rgba(0,0,0,0.1);\\n            }\\n            h1 {\\n                margin: 0;\\n                color: #2c3e50;\\n                font-size: 28px;\\n            }\\n            h2 {\\n                color: #7f8c8d;\\n                font-size: 18px;\\n                font-weight: normal;\\n                margin-top: 10px;\\n            }\\n            .timestamp {\\n                color: #95a5a6;\\n                font-size: 14px;\\n                margin-top: 10px;\\n            }\\n            .charts-container {\\n                display: flex;\\n                flex-wrap: wrap;\\n                justify-content: center;\\n                gap: 20px;\\n            }\\n            .chart-wrapper {\\n                background-color: #fff;\\n                border-radius: 8px;\\n                box-shadow: 0 2px 4px rgba(0,0,0,0.1);\\n                padding: 15px;\\n                margin-bottom: 20px;\\n                width: 900px;\\n            }\\n            .chart-title {\\n                text-align: center;\\n                font-size: 18px;\\n                margin-bottom: 10px;\\n                color: #3498db;\\n            }\\n            .navigation {\\n                position: fixed;\\n                top: 20px;\\n                right: 20px;\\n                background-color: #fff;\\n                padding: 10px;\\n                border-radius: 8px;\\n                box-shadow: 0 2px 4px rgba(0,0,0,0.1);\\n                max-height: 80vh;\\n                overflow-y: auto;\\n                z-index: 1000;\\n            }\\n            .navigation h3 {\\n                margin-top: 0;\\n                font-size: 16px;\\n                color: #2c3e50;\\n            }\\n            .navigation ul {\\n                list-style-type: none;\\n                padding: 0;\\n                margin: 0;\\n            }\\n            .navigation li {\\n                margin-bottom: 8px;\\n            }\\n            .navigation a {\\n                color: #3498db;\\n                text-decoration: none;\\n                font-size: 14px;\\n            }\\n            .navigation a:hover {\\n                text-decoration: underline;\\n            }\\n            .footer {\\n                text-align: center;\\n                margin-top: 30px;\\n                padding: 20px;\\n                font-size: 14px;\\n                color: #7f8c8d;\\n            }\\n            @media (max-width: 768px) {\\n                .chart-wrapper {\\n                    width: 100%;\\n                }\\n                .navigation {\\n                    position: static;\\n                    margin-bottom: 20px;\\n                }\\n            }\\n        </style>\\n    </head>\\n    <body>\\n        <div class=\"header\">\\n            <h1>NZUpy Model Comparison</h1>\\n            <h2>Comparison of Carbon Price</h2>\\n            <div class=\"timestamp\">Generated on 21 March 2025, 13:07:57</div>\\n        </div>\\n        \\n        <div class=\"navigation\">\\n            <h3>Navigation</h3>\\n            <ul>\\n            <li><a href=\"#baseline\">Baseline</a></li>\\n        <li><a href=\"#scarcity-then-surplus\">Scarcity Then Surplus</a></li>\\n\\n            </ul>\\n        </div>\\n        \\n        <div class=\"charts-container\">\\n    \\n        <div class=\"chart-wrapper\" id=\"baseline\">\\n            <div class=\"chart-title\">Baseline</div>\\n            <div>                        <script type=\"text/javascript\">window.PlotlyConfig = {MathJaxConfig: \\'local\\'};</script>\\n        <script charset=\"utf-8\" src=\"https://cdn.plot.ly/plotly-2.32.0.min.js\"></script>                <div id=\"1cf3fa33-a02f-4c4d-a6da-7020d6579de3\" class=\"plotly-graph-div\" style=\"height:100%; width:100%;\"></div>            <script type=\"text/javascript\">                                    window.PLOTLYENV=window.PLOTLYENV || {};                                    if (document.getElementById(\"1cf3fa33-a02f-4c4d-a6da-7020d6579de3\")) {                    Plotly.newPlot(                        \"1cf3fa33-a02f-4c4d-a6da-7020d6579de3\",                        [{\"hovertemplate\":\"Year: %{x}\\\\u003cbr\\\\u003eReal Price: $%{y:.1f} (2023 NZD)\\\\u003cextra\\\\u003e\\\\u003c\\\\u002fextra\\\\u003e\",\"line\":{\"color\":\"rgb(56, 166, 165)\",\"width\":4},\"mode\":\"lines\",\"name\":\"Real Price (2023 NZD)\",\"x\":[2024,2025,2026,2027,2028,2029,2030,2031,2032,2033,2034,2035,2036,2037,2038,2039,2040,2041,2042,2043,2044,2045,2046,2047,2048,2049,2050],\"y\":[62.0,65.10000000000001,69.818293,73.239389357,76.828119435493,80.59269728783215,82.56721837138404,84.59011522148295,86.66257304440927,88.7858060839973,90.96105833305523,95.41815019137493,100.0936395507523,104.99822788873915,110.14314105528736,115.54015496699643,121.20162256037925,127.14050206583782,133.37038666706385,139.90553561374998,146.76090685882372,153.95219129490607,161.49584866835647,169.40914525310592,177.7101933705081,186.41799284566298,195.55247449510045],\"type\":\"scatter\"},{\"hovertemplate\":\"Year: %{x}\\\\u003cbr\\\\u003eHistorical Real Price: $%{y:.1f} (2023 NZD)\\\\u003cextra\\\\u003e\\\\u003c\\\\u002fextra\\\\u003e\",\"line\":{\"color\":\"rgb(47, 47, 47)\",\"dash\":\"solid\",\"width\":4},\"mode\":\"lines\",\"name\":\"Historical Real Price (2023 NZD)\",\"x\":[2020,2021,2022,2023],\"y\":[25,35,79,63],\"type\":\"scatter\"},{\"hovertemplate\":\"Year: %{x}\\\\u003cbr\\\\u003eNominal Price: $%{y:.1f}\\\\u003cextra\\\\u003e\\\\u003c\\\\u002fextra\\\\u003e\",\"line\":{\"color\":\"rgb(153,112,171)\",\"dash\":\"dash\",\"width\":4},\"mode\":\"lines\",\"name\":\"Nominal Price\",\"x\":[2024,2025,2026,2027,2028,2029,2030,2031,2032,2033,2034,2035,2036,2037,2038,2039,2040,2041,2042,2043,2044,2045,2046,2047,2048,2049,2050],\"y\":[64.06498781478473,68.61360194963446,75.05828350228951,78.1025800036622,83.56819855231848,88.37415305569259,92.3501062338634,93.85137197500067,98.07374520578796,101.29160652868019,105.84871585911463,110.14184466143435,117.84957096059884,124.62702555915368,133.34842486325743,138.75691703649815,148.4671260828357,157.00537706974237,167.9926133635835,174.8062427831778,187.0391836865264,197.7956893297564,211.63743174776724,220.2212556871953,235.63233920349398,249.18340667975792,266.62126153004147],\"type\":\"scatter\"}],                        {\"template\":{\"data\":{\"histogram2dcontour\":[{\"type\":\"histogram2dcontour\",\"colorbar\":{\"outlinewidth\":0,\"ticks\":\"\"},\"colorscale\":[[0.0,\"#0d0887\"],[0.1111111111111111,\"#46039f\"],[0.2222222222222222,\"#7201a8\"],[0.3333333333333333,\"#9c179e\"],[0.4444444444444444,\"#bd3786\"],[0.5555555555555556,\"#d8576b\"],[0.6666666666666666,\"#ed7953\"],[0.7777777777777778,\"#fb9f3a\"],[0.8888888888888888,\"#fdca26\"],[1.0,\"#f0f921\"]]}],\"choropleth\":[{\"type\":\"choropleth\",\"colorbar\":{\"outlinewidth\":0,\"ticks\":\"\"}}],\"histogram2d\":[{\"type\":\"histogram2d\",\"colorbar\":{\"outlinewidth\":0,\"ticks\":\"\"},\"colorscale\":[[0.0,\"#0d0887\"],[0.1111111111111111,\"#46039f\"],[0.2222222222222222,\"#7201a8\"],[0.3333333333333333,\"#9c179e\"],[0.4444444444444444,\"#bd3786\"],[0.5555555555555556,\"#d8576b\"],[0.6666666666666666,\"#ed7953\"],[0.7777777777777778,\"#fb9f3a\"],[0.8888888888888888,\"#fdca26\"],[1.0,\"#f0f921\"]]}],\"heatmap\":[{\"type\":\"heatmap\",\"colorbar\":{\"outlinewidth\":0,\"ticks\":\"\"},\"colorscale\":[[0.0,\"#0d0887\"],[0.1111111111111111,\"#46039f\"],[0.2222222222222222,\"#7201a8\"],[0.3333333333333333,\"#9c179e\"],[0.4444444444444444,\"#bd3786\"],[0.5555555555555556,\"#d8576b\"],[0.6666666666666666,\"#ed7953\"],[0.7777777777777778,\"#fb9f3a\"],[0.8888888888888888,\"#fdca26\"],[1.0,\"#f0f921\"]]}],\"heatmapgl\":[{\"type\":\"heatmapgl\",\"colorbar\":{\"outlinewidth\":0,\"ticks\":\"\"},\"colorscale\":[[0.0,\"#0d0887\"],[0.1111111111111111,\"#46039f\"],[0.2222222222222222,\"#7201a8\"],[0.3333333333333333,\"#9c179e\"],[0.4444444444444444,\"#bd3786\"],[0.5555555555555556,\"#d8576b\"],[0.6666666666666666,\"#ed7953\"],[0.7777777777777778,\"#fb9f3a\"],[0.8888888888888888,\"#fdca26\"],[1.0,\"#f0f921\"]]}],\"contourcarpet\":[{\"type\":\"contourcarpet\",\"colorbar\":{\"outlinewidth\":0,\"ticks\":\"\"}}],\"contour\":[{\"type\":\"contour\",\"colorbar\":{\"outlinewidth\":0,\"ticks\":\"\"},\"colorscale\":[[0.0,\"#0d0887\"],[0.1111111111111111,\"#46039f\"],[0.2222222222222222,\"#7201a8\"],[0.3333333333333333,\"#9c179e\"],[0.4444444444444444,\"#bd3786\"],[0.5555555555555556,\"#d8576b\"],[0.6666666666666666,\"#ed7953\"],[0.7777777777777778,\"#fb9f3a\"],[0.8888888888888888,\"#fdca26\"],[1.0,\"#f0f921\"]]}],\"surface\":[{\"type\":\"surface\",\"colorbar\":{\"outlinewidth\":0,\"ticks\":\"\"},\"colorscale\":[[0.0,\"#0d0887\"],[0.1111111111111111,\"#46039f\"],[0.2222222222222222,\"#7201a8\"],[0.3333333333333333,\"#9c179e\"],[0.4444444444444444,\"#bd3786\"],[0.5555555555555556,\"#d8576b\"],[0.6666666666666666,\"#ed7953\"],[0.7777777777777778,\"#fb9f3a\"],[0.8888888888888888,\"#fdca26\"],[1.0,\"#f0f921\"]]}],\"mesh3d\":[{\"type\":\"mesh3d\",\"colorbar\":{\"outlinewidth\":0,\"ticks\":\"\"}}],\"scatter\":[{\"fillpattern\":{\"fillmode\":\"overlay\",\"size\":10,\"solidity\":0.2},\"type\":\"scatter\"}],\"parcoords\":[{\"type\":\"parcoords\",\"line\":{\"colorbar\":{\"outlinewidth\":0,\"ticks\":\"\"}}}],\"scatterpolargl\":[{\"type\":\"scatterpolargl\",\"marker\":{\"colorbar\":{\"outlinewidth\":0,\"ticks\":\"\"}}}],\"bar\":[{\"error_x\":{\"color\":\"#2a3f5f\"},\"error_y\":{\"color\":\"#2a3f5f\"},\"marker\":{\"line\":{\"color\":\"#E5ECF6\",\"width\":0.5},\"pattern\":{\"fillmode\":\"overlay\",\"size\":10,\"solidity\":0.2}},\"type\":\"bar\"}],\"scattergeo\":[{\"type\":\"scattergeo\",\"marker\":{\"colorbar\":{\"outlinewidth\":0,\"ticks\":\"\"}}}],\"scatterpolar\":[{\"type\":\"scatterpolar\",\"marker\":{\"colorbar\":{\"outlinewidth\":0,\"ticks\":\"\"}}}],\"histogram\":[{\"marker\":{\"pattern\":{\"fillmode\":\"overlay\",\"size\":10,\"solidity\":0.2}},\"type\":\"histogram\"}],\"scattergl\":[{\"type\":\"scattergl\",\"marker\":{\"colorbar\":{\"outlinewidth\":0,\"ticks\":\"\"}}}],\"scatter3d\":[{\"type\":\"scatter3d\",\"line\":{\"colorbar\":{\"outlinewidth\":0,\"ticks\":\"\"}},\"marker\":{\"colorbar\":{\"outlinewidth\":0,\"ticks\":\"\"}}}],\"scattermapbox\":[{\"type\":\"scattermapbox\",\"marker\":{\"colorbar\":{\"outlinewidth\":0,\"ticks\":\"\"}}}],\"scatterternary\":[{\"type\":\"scatterternary\",\"marker\":{\"colorbar\":{\"outlinewidth\":0,\"ticks\":\"\"}}}],\"scattercarpet\":[{\"type\":\"scattercarpet\",\"marker\":{\"colorbar\":{\"outlinewidth\":0,\"ticks\":\"\"}}}],\"carpet\":[{\"aaxis\":{\"endlinecolor\":\"#2a3f5f\",\"gridcolor\":\"white\",\"linecolor\":\"white\",\"minorgridcolor\":\"white\",\"startlinecolor\":\"#2a3f5f\"},\"baxis\":{\"endlinecolor\":\"#2a3f5f\",\"gridcolor\":\"white\",\"linecolor\":\"white\",\"minorgridcolor\":\"white\",\"startlinecolor\":\"#2a3f5f\"},\"type\":\"carpet\"}],\"table\":[{\"cells\":{\"fill\":{\"color\":\"#EBF0F8\"},\"line\":{\"color\":\"white\"}},\"header\":{\"fill\":{\"color\":\"#C8D4E3\"},\"line\":{\"color\":\"white\"}},\"type\":\"table\"}],\"barpolar\":[{\"marker\":{\"line\":{\"color\":\"#E5ECF6\",\"width\":0.5},\"pattern\":{\"fillmode\":\"overlay\",\"size\":10,\"solidity\":0.2}},\"type\":\"barpolar\"}],\"pie\":[{\"automargin\":true,\"type\":\"pie\"}]},\"layout\":{\"autotypenumbers\":\"strict\",\"colorway\":[\"#636efa\",\"#EF553B\",\"#00cc96\",\"#ab63fa\",\"#FFA15A\",\"#19d3f3\",\"#FF6692\",\"#B6E880\",\"#FF97FF\",\"#FECB52\"],\"font\":{\"color\":\"#2a3f5f\"},\"hovermode\":\"closest\",\"hoverlabel\":{\"align\":\"left\"},\"paper_bgcolor\":\"white\",\"plot_bgcolor\":\"#E5ECF6\",\"polar\":{\"bgcolor\":\"#E5ECF6\",\"angularaxis\":{\"gridcolor\":\"white\",\"linecolor\":\"white\",\"ticks\":\"\"},\"radialaxis\":{\"gridcolor\":\"white\",\"linecolor\":\"white\",\"ticks\":\"\"}},\"ternary\":{\"bgcolor\":\"#E5ECF6\",\"aaxis\":{\"gridcolor\":\"white\",\"linecolor\":\"white\",\"ticks\":\"\"},\"baxis\":{\"gridcolor\":\"white\",\"linecolor\":\"white\",\"ticks\":\"\"},\"caxis\":{\"gridcolor\":\"white\",\"linecolor\":\"white\",\"ticks\":\"\"}},\"coloraxis\":{\"colorbar\":{\"outlinewidth\":0,\"ticks\":\"\"}},\"colorscale\":{\"sequential\":[[0.0,\"#0d0887\"],[0.1111111111111111,\"#46039f\"],[0.2222222222222222,\"#7201a8\"],[0.3333333333333333,\"#9c179e\"],[0.4444444444444444,\"#bd3786\"],[0.5555555555555556,\"#d8576b\"],[0.6666666666666666,\"#ed7953\"],[0.7777777777777778,\"#fb9f3a\"],[0.8888888888888888,\"#fdca26\"],[1.0,\"#f0f921\"]],\"sequentialminus\":[[0.0,\"#0d0887\"],[0.1111111111111111,\"#46039f\"],[0.2222222222222222,\"#7201a8\"],[0.3333333333333333,\"#9c179e\"],[0.4444444444444444,\"#bd3786\"],[0.5555555555555556,\"#d8576b\"],[0.6666666666666666,\"#ed7953\"],[0.7777777777777778,\"#fb9f3a\"],[0.8888888888888888,\"#fdca26\"],[1.0,\"#f0f921\"]],\"diverging\":[[0,\"#8e0152\"],[0.1,\"#c51b7d\"],[0.2,\"#de77ae\"],[0.3,\"#f1b6da\"],[0.4,\"#fde0ef\"],[0.5,\"#f7f7f7\"],[0.6,\"#e6f5d0\"],[0.7,\"#b8e186\"],[0.8,\"#7fbc41\"],[0.9,\"#4d9221\"],[1,\"#276419\"]]},\"xaxis\":{\"gridcolor\":\"white\",\"linecolor\":\"white\",\"ticks\":\"\",\"title\":{\"standoff\":15},\"zerolinecolor\":\"white\",\"automargin\":true,\"zerolinewidth\":2},\"yaxis\":{\"gridcolor\":\"white\",\"linecolor\":\"white\",\"ticks\":\"\",\"title\":{\"standoff\":15},\"zerolinecolor\":\"white\",\"automargin\":true,\"zerolinewidth\":2},\"scene\":{\"xaxis\":{\"backgroundcolor\":\"#E5ECF6\",\"gridcolor\":\"white\",\"linecolor\":\"white\",\"showbackground\":true,\"ticks\":\"\",\"zerolinecolor\":\"white\",\"gridwidth\":2},\"yaxis\":{\"backgroundcolor\":\"#E5ECF6\",\"gridcolor\":\"white\",\"linecolor\":\"white\",\"showbackground\":true,\"ticks\":\"\",\"zerolinecolor\":\"white\",\"gridwidth\":2},\"zaxis\":{\"backgroundcolor\":\"#E5ECF6\",\"gridcolor\":\"white\",\"linecolor\":\"white\",\"showbackground\":true,\"ticks\":\"\",\"zerolinecolor\":\"white\",\"gridwidth\":2}},\"shapedefaults\":{\"line\":{\"color\":\"#2a3f5f\"}},\"annotationdefaults\":{\"arrowcolor\":\"#2a3f5f\",\"arrowhead\":0,\"arrowwidth\":1},\"geo\":{\"bgcolor\":\"white\",\"landcolor\":\"#E5ECF6\",\"subunitcolor\":\"white\",\"showland\":true,\"showlakes\":true,\"lakecolor\":\"white\"},\"title\":{\"x\":0.05},\"mapbox\":{\"style\":\"light\"}}},\"xaxis\":{\"title\":{\"text\":\"Year\",\"standoff\":15},\"range\":[null,2050],\"showgrid\":true,\"gridcolor\":\"#eeeeee\"},\"yaxis\":{\"title\":{\"text\":\"Price ($\\\\u002ftonne CO\\\\u2082-e)\",\"standoff\":15},\"rangemode\":\"nonnegative\",\"range\":[0,null],\"showgrid\":true,\"gridcolor\":\"#eeeeee\"},\"title\":{\"text\":\"Carbon Price Projection (Real & Nominal) - Baseline\"},\"font\":{\"family\":\"Arial, sans-serif\",\"size\":12},\"legend\":{\"orientation\":\"h\",\"yanchor\":\"bottom\",\"y\":1.02,\"xanchor\":\"right\",\"x\":1},\"margin\":{\"l\":60,\"r\":30,\"t\":60,\"b\":60},\"hovermode\":\"closest\",\"plot_bgcolor\":\"white\",\"paper_bgcolor\":\"white\"},                        {\"responsive\": true}                    )                };                            </script>        </div>\\n        </div>\\n        \\n        <div class=\"chart-wrapper\" id=\"scarcity-then-surplus\">\\n            <div class=\"chart-title\">Scarcity Then Surplus</div>\\n            <div>                        <script type=\"text/javascript\">window.PlotlyConfig = {MathJaxConfig: \\'local\\'};</script>\\n        <script charset=\"utf-8\" src=\"https://cdn.plot.ly/plotly-2.32.0.min.js\"></script>                <div id=\"7a1aa75e-cd5f-4343-b382-08621376c1ca\" class=\"plotly-graph-div\" style=\"height:100%; width:100%;\"></div>            <script type=\"text/javascript\">                                    window.PLOTLYENV=window.PLOTLYENV || {};                                    if (document.getElementById(\"7a1aa75e-cd5f-4343-b382-08621376c1ca\")) {                    Plotly.newPlot(                        \"7a1aa75e-cd5f-4343-b382-08621376c1ca\",                        [{\"hovertemplate\":\"Year: %{x}\\\\u003cbr\\\\u003eReal Price: $%{y:.1f} (2023 NZD)\\\\u003cextra\\\\u003e\\\\u003c\\\\u002fextra\\\\u003e\",\"line\":{\"color\":\"rgb(56, 166, 165)\",\"width\":4},\"mode\":\"lines\",\"name\":\"Real Price (2023 NZD)\",\"x\":[2024,2025,2026,2027,2028,2029,2030,2031,2032,2033,2034,2035,2036,2037,2038,2039,2040,2041,2042,2043,2044,2045,2046,2047,2048,2049,2050],\"y\":[62.0,65.10000000000001,69.818293,73.239389357,76.828119435493,80.59269728783215,82.56721837138404,84.59011522148295,86.66257304440927,88.7858060839973,90.96105833305523,95.41815019137493,100.0936395507523,104.99822788873915,110.14314105528736,115.54015496699643,121.20162256037925,127.14050206583782,133.37038666706385,139.90553561374998,146.76090685882372,153.95219129490607,161.49584866835647,169.40914525310592,177.7101933705081,186.41799284566298,195.55247449510045],\"type\":\"scatter\"},{\"hovertemplate\":\"Year: %{x}\\\\u003cbr\\\\u003eHistorical Real Price: $%{y:.1f} (2023 NZD)\\\\u003cextra\\\\u003e\\\\u003c\\\\u002fextra\\\\u003e\",\"line\":{\"color\":\"rgb(47, 47, 47)\",\"dash\":\"solid\",\"width\":4},\"mode\":\"lines\",\"name\":\"Historical Real Price (2023 NZD)\",\"x\":[2020,2021,2022,2023],\"y\":[25,35,79,63],\"type\":\"scatter\"},{\"hovertemplate\":\"Year: %{x}\\\\u003cbr\\\\u003eNominal Price: $%{y:.1f}\\\\u003cextra\\\\u003e\\\\u003c\\\\u002fextra\\\\u003e\",\"line\":{\"color\":\"rgb(153,112,171)\",\"dash\":\"dash\",\"width\":4},\"mode\":\"lines\",\"name\":\"Nominal Price\",\"x\":[2024,2025,2026,2027,2028,2029,2030,2031,2032,2033,2034,2035,2036,2037,2038,2039,2040,2041,2042,2043,2044,2045,2046,2047,2048,2049,2050],\"y\":[64.06498781478473,68.61360194963446,75.05828350228951,78.1025800036622,83.56819855231848,88.37415305569259,92.3501062338634,93.85137197500067,98.07374520578796,101.29160652868019,105.84871585911463,110.14184466143435,117.84957096059884,124.62702555915368,133.34842486325743,138.75691703649815,148.4671260828357,157.00537706974237,167.9926133635835,174.8062427831778,187.0391836865264,197.7956893297564,211.63743174776724,220.2212556871953,235.63233920349398,249.18340667975792,266.62126153004147],\"type\":\"scatter\"}],                        {\"template\":{\"data\":{\"histogram2dcontour\":[{\"type\":\"histogram2dcontour\",\"colorbar\":{\"outlinewidth\":0,\"ticks\":\"\"},\"colorscale\":[[0.0,\"#0d0887\"],[0.1111111111111111,\"#46039f\"],[0.2222222222222222,\"#7201a8\"],[0.3333333333333333,\"#9c179e\"],[0.4444444444444444,\"#bd3786\"],[0.5555555555555556,\"#d8576b\"],[0.6666666666666666,\"#ed7953\"],[0.7777777777777778,\"#fb9f3a\"],[0.8888888888888888,\"#fdca26\"],[1.0,\"#f0f921\"]]}],\"choropleth\":[{\"type\":\"choropleth\",\"colorbar\":{\"outlinewidth\":0,\"ticks\":\"\"}}],\"histogram2d\":[{\"type\":\"histogram2d\",\"colorbar\":{\"outlinewidth\":0,\"ticks\":\"\"},\"colorscale\":[[0.0,\"#0d0887\"],[0.1111111111111111,\"#46039f\"],[0.2222222222222222,\"#7201a8\"],[0.3333333333333333,\"#9c179e\"],[0.4444444444444444,\"#bd3786\"],[0.5555555555555556,\"#d8576b\"],[0.6666666666666666,\"#ed7953\"],[0.7777777777777778,\"#fb9f3a\"],[0.8888888888888888,\"#fdca26\"],[1.0,\"#f0f921\"]]}],\"heatmap\":[{\"type\":\"heatmap\",\"colorbar\":{\"outlinewidth\":0,\"ticks\":\"\"},\"colorscale\":[[0.0,\"#0d0887\"],[0.1111111111111111,\"#46039f\"],[0.2222222222222222,\"#7201a8\"],[0.3333333333333333,\"#9c179e\"],[0.4444444444444444,\"#bd3786\"],[0.5555555555555556,\"#d8576b\"],[0.6666666666666666,\"#ed7953\"],[0.7777777777777778,\"#fb9f3a\"],[0.8888888888888888,\"#fdca26\"],[1.0,\"#f0f921\"]]}],\"heatmapgl\":[{\"type\":\"heatmapgl\",\"colorbar\":{\"outlinewidth\":0,\"ticks\":\"\"},\"colorscale\":[[0.0,\"#0d0887\"],[0.1111111111111111,\"#46039f\"],[0.2222222222222222,\"#7201a8\"],[0.3333333333333333,\"#9c179e\"],[0.4444444444444444,\"#bd3786\"],[0.5555555555555556,\"#d8576b\"],[0.6666666666666666,\"#ed7953\"],[0.7777777777777778,\"#fb9f3a\"],[0.8888888888888888,\"#fdca26\"],[1.0,\"#f0f921\"]]}],\"contourcarpet\":[{\"type\":\"contourcarpet\",\"colorbar\":{\"outlinewidth\":0,\"ticks\":\"\"}}],\"contour\":[{\"type\":\"contour\",\"colorbar\":{\"outlinewidth\":0,\"ticks\":\"\"},\"colorscale\":[[0.0,\"#0d0887\"],[0.1111111111111111,\"#46039f\"],[0.2222222222222222,\"#7201a8\"],[0.3333333333333333,\"#9c179e\"],[0.4444444444444444,\"#bd3786\"],[0.5555555555555556,\"#d8576b\"],[0.6666666666666666,\"#ed7953\"],[0.7777777777777778,\"#fb9f3a\"],[0.8888888888888888,\"#fdca26\"],[1.0,\"#f0f921\"]]}],\"surface\":[{\"type\":\"surface\",\"colorbar\":{\"outlinewidth\":0,\"ticks\":\"\"},\"colorscale\":[[0.0,\"#0d0887\"],[0.1111111111111111,\"#46039f\"],[0.2222222222222222,\"#7201a8\"],[0.3333333333333333,\"#9c179e\"],[0.4444444444444444,\"#bd3786\"],[0.5555555555555556,\"#d8576b\"],[0.6666666666666666,\"#ed7953\"],[0.7777777777777778,\"#fb9f3a\"],[0.8888888888888888,\"#fdca26\"],[1.0,\"#f0f921\"]]}],\"mesh3d\":[{\"type\":\"mesh3d\",\"colorbar\":{\"outlinewidth\":0,\"ticks\":\"\"}}],\"scatter\":[{\"fillpattern\":{\"fillmode\":\"overlay\",\"size\":10,\"solidity\":0.2},\"type\":\"scatter\"}],\"parcoords\":[{\"type\":\"parcoords\",\"line\":{\"colorbar\":{\"outlinewidth\":0,\"ticks\":\"\"}}}],\"scatterpolargl\":[{\"type\":\"scatterpolargl\",\"marker\":{\"colorbar\":{\"outlinewidth\":0,\"ticks\":\"\"}}}],\"bar\":[{\"error_x\":{\"color\":\"#2a3f5f\"},\"error_y\":{\"color\":\"#2a3f5f\"},\"marker\":{\"line\":{\"color\":\"#E5ECF6\",\"width\":0.5},\"pattern\":{\"fillmode\":\"overlay\",\"size\":10,\"solidity\":0.2}},\"type\":\"bar\"}],\"scattergeo\":[{\"type\":\"scattergeo\",\"marker\":{\"colorbar\":{\"outlinewidth\":0,\"ticks\":\"\"}}}],\"scatterpolar\":[{\"type\":\"scatterpolar\",\"marker\":{\"colorbar\":{\"outlinewidth\":0,\"ticks\":\"\"}}}],\"histogram\":[{\"marker\":{\"pattern\":{\"fillmode\":\"overlay\",\"size\":10,\"solidity\":0.2}},\"type\":\"histogram\"}],\"scattergl\":[{\"type\":\"scattergl\",\"marker\":{\"colorbar\":{\"outlinewidth\":0,\"ticks\":\"\"}}}],\"scatter3d\":[{\"type\":\"scatter3d\",\"line\":{\"colorbar\":{\"outlinewidth\":0,\"ticks\":\"\"}},\"marker\":{\"colorbar\":{\"outlinewidth\":0,\"ticks\":\"\"}}}],\"scattermapbox\":[{\"type\":\"scattermapbox\",\"marker\":{\"colorbar\":{\"outlinewidth\":0,\"ticks\":\"\"}}}],\"scatterternary\":[{\"type\":\"scatterternary\",\"marker\":{\"colorbar\":{\"outlinewidth\":0,\"ticks\":\"\"}}}],\"scattercarpet\":[{\"type\":\"scattercarpet\",\"marker\":{\"colorbar\":{\"outlinewidth\":0,\"ticks\":\"\"}}}],\"carpet\":[{\"aaxis\":{\"endlinecolor\":\"#2a3f5f\",\"gridcolor\":\"white\",\"linecolor\":\"white\",\"minorgridcolor\":\"white\",\"startlinecolor\":\"#2a3f5f\"},\"baxis\":{\"endlinecolor\":\"#2a3f5f\",\"gridcolor\":\"white\",\"linecolor\":\"white\",\"minorgridcolor\":\"white\",\"startlinecolor\":\"#2a3f5f\"},\"type\":\"carpet\"}],\"table\":[{\"cells\":{\"fill\":{\"color\":\"#EBF0F8\"},\"line\":{\"color\":\"white\"}},\"header\":{\"fill\":{\"color\":\"#C8D4E3\"},\"line\":{\"color\":\"white\"}},\"type\":\"table\"}],\"barpolar\":[{\"marker\":{\"line\":{\"color\":\"#E5ECF6\",\"width\":0.5},\"pattern\":{\"fillmode\":\"overlay\",\"size\":10,\"solidity\":0.2}},\"type\":\"barpolar\"}],\"pie\":[{\"automargin\":true,\"type\":\"pie\"}]},\"layout\":{\"autotypenumbers\":\"strict\",\"colorway\":[\"#636efa\",\"#EF553B\",\"#00cc96\",\"#ab63fa\",\"#FFA15A\",\"#19d3f3\",\"#FF6692\",\"#B6E880\",\"#FF97FF\",\"#FECB52\"],\"font\":{\"color\":\"#2a3f5f\"},\"hovermode\":\"closest\",\"hoverlabel\":{\"align\":\"left\"},\"paper_bgcolor\":\"white\",\"plot_bgcolor\":\"#E5ECF6\",\"polar\":{\"bgcolor\":\"#E5ECF6\",\"angularaxis\":{\"gridcolor\":\"white\",\"linecolor\":\"white\",\"ticks\":\"\"},\"radialaxis\":{\"gridcolor\":\"white\",\"linecolor\":\"white\",\"ticks\":\"\"}},\"ternary\":{\"bgcolor\":\"#E5ECF6\",\"aaxis\":{\"gridcolor\":\"white\",\"linecolor\":\"white\",\"ticks\":\"\"},\"baxis\":{\"gridcolor\":\"white\",\"linecolor\":\"white\",\"ticks\":\"\"},\"caxis\":{\"gridcolor\":\"white\",\"linecolor\":\"white\",\"ticks\":\"\"}},\"coloraxis\":{\"colorbar\":{\"outlinewidth\":0,\"ticks\":\"\"}},\"colorscale\":{\"sequential\":[[0.0,\"#0d0887\"],[0.1111111111111111,\"#46039f\"],[0.2222222222222222,\"#7201a8\"],[0.3333333333333333,\"#9c179e\"],[0.4444444444444444,\"#bd3786\"],[0.5555555555555556,\"#d8576b\"],[0.6666666666666666,\"#ed7953\"],[0.7777777777777778,\"#fb9f3a\"],[0.8888888888888888,\"#fdca26\"],[1.0,\"#f0f921\"]],\"sequentialminus\":[[0.0,\"#0d0887\"],[0.1111111111111111,\"#46039f\"],[0.2222222222222222,\"#7201a8\"],[0.3333333333333333,\"#9c179e\"],[0.4444444444444444,\"#bd3786\"],[0.5555555555555556,\"#d8576b\"],[0.6666666666666666,\"#ed7953\"],[0.7777777777777778,\"#fb9f3a\"],[0.8888888888888888,\"#fdca26\"],[1.0,\"#f0f921\"]],\"diverging\":[[0,\"#8e0152\"],[0.1,\"#c51b7d\"],[0.2,\"#de77ae\"],[0.3,\"#f1b6da\"],[0.4,\"#fde0ef\"],[0.5,\"#f7f7f7\"],[0.6,\"#e6f5d0\"],[0.7,\"#b8e186\"],[0.8,\"#7fbc41\"],[0.9,\"#4d9221\"],[1,\"#276419\"]]},\"xaxis\":{\"gridcolor\":\"white\",\"linecolor\":\"white\",\"ticks\":\"\",\"title\":{\"standoff\":15},\"zerolinecolor\":\"white\",\"automargin\":true,\"zerolinewidth\":2},\"yaxis\":{\"gridcolor\":\"white\",\"linecolor\":\"white\",\"ticks\":\"\",\"title\":{\"standoff\":15},\"zerolinecolor\":\"white\",\"automargin\":true,\"zerolinewidth\":2},\"scene\":{\"xaxis\":{\"backgroundcolor\":\"#E5ECF6\",\"gridcolor\":\"white\",\"linecolor\":\"white\",\"showbackground\":true,\"ticks\":\"\",\"zerolinecolor\":\"white\",\"gridwidth\":2},\"yaxis\":{\"backgroundcolor\":\"#E5ECF6\",\"gridcolor\":\"white\",\"linecolor\":\"white\",\"showbackground\":true,\"ticks\":\"\",\"zerolinecolor\":\"white\",\"gridwidth\":2},\"zaxis\":{\"backgroundcolor\":\"#E5ECF6\",\"gridcolor\":\"white\",\"linecolor\":\"white\",\"showbackground\":true,\"ticks\":\"\",\"zerolinecolor\":\"white\",\"gridwidth\":2}},\"shapedefaults\":{\"line\":{\"color\":\"#2a3f5f\"}},\"annotationdefaults\":{\"arrowcolor\":\"#2a3f5f\",\"arrowhead\":0,\"arrowwidth\":1},\"geo\":{\"bgcolor\":\"white\",\"landcolor\":\"#E5ECF6\",\"subunitcolor\":\"white\",\"showland\":true,\"showlakes\":true,\"lakecolor\":\"white\"},\"title\":{\"x\":0.05},\"mapbox\":{\"style\":\"light\"}}},\"xaxis\":{\"title\":{\"text\":\"Year\",\"standoff\":15},\"range\":[null,2050],\"showgrid\":true,\"gridcolor\":\"#eeeeee\"},\"yaxis\":{\"title\":{\"text\":\"Price ($\\\\u002ftonne CO\\\\u2082-e)\",\"standoff\":15},\"rangemode\":\"nonnegative\",\"range\":[0,null],\"showgrid\":true,\"gridcolor\":\"#eeeeee\"},\"title\":{\"text\":\"Carbon Price Projection (Real & Nominal) - Scarcity Then Surplus\"},\"font\":{\"family\":\"Arial, sans-serif\",\"size\":12},\"legend\":{\"orientation\":\"h\",\"yanchor\":\"bottom\",\"y\":1.02,\"xanchor\":\"right\",\"x\":1},\"margin\":{\"l\":60,\"r\":30,\"t\":60,\"b\":60},\"hovermode\":\"closest\",\"plot_bgcolor\":\"white\",\"paper_bgcolor\":\"white\"},                        {\"responsive\": true}                    )                };                            </script>        </div>\\n        </div>\\n        \\n        </div>\\n        \\n        \\n        \\n        <div class=\"footer\">\\n            Created with NZUpy - New Zealand Emissions Trading Scheme Model\\n        </div>\\n    </body>\\n    </html>\\n    '"
      ]
     },
     "execution_count": 9,
     "metadata": {},
     "output_type": "execute_result"
    }
   ],
   "source": [
    "# Initialize chart generator\n",
    "chart_gen = ChartGenerator(NZU)\n",
    "\n",
    "# Create comparison page for specific chart type\n",
    "from model.interface.chart_display import create_comparison_page\n",
    "\n",
    "# Dictionary mapping scenario names to model instances\n",
    "models = {\n",
    "    'Baseline': NZU,  # Your baseline model\n",
    "    'Scarcity Then Surplus': NZU  # Your scarcity model\n",
    "}\n",
    "\n",
    "# Create comparison for any chart type you want\n",
    "create_comparison_page(\n",
    "    models=models,\n",
    "    chart_type='carbon_price',  # Can be: carbon_price, emissions_pathway, supply_components, stockpile_balance, supply_demand_balance, auction_volume_revenue\n",
    "    output_dir=output_dir,\n",
    "    filename=\"price_comparison.html\"\n",
    ")"
   ]
  },
  {
   "cell_type": "markdown",
   "metadata": {},
   "source": [
    "## 8. Discussion of Scarcity Scenario Results\n",
    "\n",
    "The scarcity scenario demonstrates several important features of the NZ ETS model:\n",
    "\n",
    "1. **Price Spike**: Removing auction volumes in 2025 creates a supply shortage, causing a price spike as the market adjusts. The price control parameter amplifies this effect, demonstrating how policy settings can influence price trajectories.\n",
    "\n",
    "2. **Stockpile Utilisation**: During the scarcity period, the model draws more heavily from the stockpile to make up the supply shortfall, accelerating the depletion of the surplus component.\n",
    "\n",
    "3. **Price Dampening**: When auction volumes increase after 2030, combined with the reduced price control parameter, prices are dampened compared to the baseline scenario. This demonstrates how the model accounts for market oversupply.\n",
    "\n",
    "4. **Market Recovery**: The supply components chart for the scarcity scenario shows how different supply sources adjust over time to compensate for the auction volume changes.\n",
    "\n",
    "The price control feature demonstrated here was introduced as part of MfE's most recent update to the government's excel-based NZ ETS model. This feature allows modelling of how policy interventions and market expectations can influence price formation beyond simple supply-demand dynamics."
   ]
  },
  {
   "cell_type": "markdown",
   "metadata": {},
   "source": [
    "## 9. Conclusion\n",
    "\n",
    "This notebook has demonstrated:\n",
    "\n",
    "1. **Creating multiple custom scenarios** with different parameter values\n",
    "2. **Modifying specific parameters** like the liquidity factor to values not available in predefined CSVs\n",
    "3. **Manually editing input series** to model specific market conditions\n",
    "4. **Using price control parameters** to influence price trajectories\n",
    "5. **Generating and interpreting comparative charts** across scenarios\n",
    "\n",
    "These techniques allow for rich explorations of different market conditions and policy settings within the NZ ETS model."
   ]
  }
 ],
 "metadata": {
  "kernelspec": {
   "display_name": "venv",
   "language": "python",
   "name": "python3"
  },
  "language_info": {
   "codemirror_mode": {
    "name": "ipython",
    "version": 3
   },
   "file_extension": ".py",
   "mimetype": "text/x-python",
   "name": "python",
   "nbconvert_exporter": "python",
   "pygments_lexer": "ipython3",
   "version": "3.12.6"
  }
 },
 "nbformat": 4,
 "nbformat_minor": 4
}
