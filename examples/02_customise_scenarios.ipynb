{
 "cells": [
  {
   "cell_type": "markdown",
   "metadata": {},
   "source": [
    "# Inspecting and Modifying NZUpy Model Inputs\n",
    "\n",
    "This notebook demonstrates the new input inspection and modification methods added in Phase 1 of the refactoring plan."
   ]
  },
  {
   "cell_type": "markdown",
   "metadata": {},
   "source": [
    "## 1. Set Up the NZUpy Model\n",
    "\n",
    "First, let's import the necessary libraries and initialise the model."
   ]
  },
  {
   "cell_type": "code",
   "execution_count": 4,
   "metadata": {},
   "outputs": [],
   "source": [
    "# Import necessary libraries\n",
    "import pandas as pd\n",
    "import numpy as np\n",
    "import plotly.graph_objects as go\n",
    "from pathlib import Path\n",
    "import sys\n",
    "import os\n",
    "\n",
    "# Add the project root to the path\n",
    "project_root = Path().absolute().parent\n",
    "sys.path.insert(0, str(project_root))\n",
    "\n",
    "# Import the NZUpy class\n",
    "from model.core.base_model import NZUpy\n",
    "\n",
    "# Set our input and output directories\n",
    "data_dir = project_root / \"data\"\n",
    "output_dir = project_root / \"examples\" / \"outputs\" / \"input_inspection\"\n",
    "os.makedirs(output_dir, exist_ok=True)\n",
    "\n",
    "# Initialise NZUpy\n",
    "NZU = NZUpy(data_dir=data_dir)"
   ]
  },
  {
   "cell_type": "markdown",
   "metadata": {},
   "source": [
    "## 2. Define Time Periods and Scenarios\n",
    "\n",
    "Now we'll define the time periods and scenarios for our model run."
   ]
  },
  {
   "cell_type": "code",
   "execution_count": 5,
   "metadata": {},
   "outputs": [
    {
     "name": "stdout",
     "output_type": "stream",
     "text": [
      "Time periods defined:\n",
      "  Optimisation: 2024-2050\n",
      "Defined 3 scenarios: Baseline, High Forestry, Low Forestry\n",
      "Model primed with 3 scenarios:\n",
      "  [0] Baseline\n",
      "  [1] High Forestry\n",
      "  [2] Low Forestry\n"
     ]
    },
    {
     "data": {
      "text/plain": [
       "<model.core.base_model.NZUpy at 0x2a678b44980>"
      ]
     },
     "execution_count": 5,
     "metadata": {},
     "output_type": "execute_result"
    }
   ],
   "source": [
    "# Define time periods: start year, end year\n",
    "NZU.define_time(2024, 2050)\n",
    "\n",
    "# Define multiple scenarios for demonstration\n",
    "NZU.define_scenarios(['Baseline', 'High Forestry', 'Low Forestry'])\n",
    "\n",
    "# Prime the model\n",
    "NZU.prime()"
   ]
  },
  {
   "cell_type": "markdown",
   "metadata": {},
   "source": [
    "## 3. Configure Scenarios\n",
    "\n",
    "We'll configure each scenario with different settings to demonstrate how to inspect and modify inputs."
   ]
  },
  {
   "cell_type": "code",
   "execution_count": 6,
   "metadata": {},
   "outputs": [
    {
     "name": "stdout",
     "output_type": "stream",
     "text": [
      "Using central config for emissions in scenario 0 (Baseline)\n",
      "Using central config for auction in scenario 0 (Baseline)\n",
      "Using central config for industrial in scenario 0 (Baseline)\n",
      "Using central config for forestry in scenario 0 (Baseline)\n",
      "Using central config for demand_model in scenario 0 (Baseline)\n",
      "Using central config for stockpile in scenario 0 (Baseline)\n",
      "Using central configs for all components in model scenario 0 (Baseline)\n",
      "Using central config for emissions in scenario 1 (High Forestry)\n",
      "Using central config for auction in scenario 1 (High Forestry)\n",
      "Using central config for industrial in scenario 1 (High Forestry)\n",
      "Using central config for forestry in scenario 1 (High Forestry)\n",
      "Using central config for demand_model in scenario 1 (High Forestry)\n",
      "Using central config for stockpile in scenario 1 (High Forestry)\n",
      "Using central configs for all components in model scenario 1 (High Forestry)\n",
      "Using central config for emissions in scenario 2 (Low Forestry)\n",
      "Using central config for auction in scenario 2 (Low Forestry)\n",
      "Using central config for industrial in scenario 2 (Low Forestry)\n",
      "Using central config for forestry in scenario 2 (Low Forestry)\n",
      "Using central config for demand_model in scenario 2 (Low Forestry)\n",
      "Using central config for stockpile in scenario 2 (Low Forestry)\n",
      "Using central configs for all components in model scenario 2 (Low Forestry)\n",
      "Using high config for forestry in scenario 1 (High Forestry)\n",
      "Set stockpile.discount_rate = 0.03 for scenario 'Low Forestry'\n"
     ]
    },
    {
     "data": {
      "text/plain": [
       "<model.core.base_model.NZUpy at 0x2a678b44980>"
      ]
     },
     "execution_count": 6,
     "metadata": {},
     "output_type": "execute_result"
    }
   ],
   "source": [
    "# Configure scenarios with central configs as a starting point\n",
    "NZU.use_central_configs(0)  # Baseline scenario\n",
    "NZU.use_central_configs(1)  # High Forestry scenario\n",
    "NZU.use_central_configs(2)  # Low Discount scenario\n",
    "\n",
    "# Customise scenarios\n",
    "# For High Forestry, use high forestry config\n",
    "NZU.use_config(1, 'forestry', 'high')\n",
    "\n",
    "# For Low Discount, use a custom discount rate\n",
    "NZU.set_parameter('discount_rate', 0.03, component='stockpile', scenario_index=2)"
   ]
  },
  {
   "cell_type": "markdown",
   "metadata": {},
   "source": [
    "## 4. Exploring Available Inputs\n",
    "\n",
    "Let's explore what inputs are available for each component."
   ]
  },
  {
   "cell_type": "code",
   "execution_count": 7,
   "metadata": {},
   "outputs": [
    {
     "name": "stdout",
     "output_type": "stream",
     "text": [
      "Available emissions configs: ['CCC_CPR', 'CCC_DP', 'CCC_mid', 'central']\n",
      "Available auction configs: ['CCC_2024', 'central']\n",
      "Available forestry configs: ['central', 'high', 'low']\n",
      "Available demand model configs: ['95pc_lower', '95pc_upper', 'central', 'std_error', 'stde_lower', 'stde_upper']\n",
      "Available stockpile configs: ['CCC22_central', 'CCC22_high', 'CCC22_low', 'CCC24_central', 'CCC24_high', 'CCC24_low', 'EY24_central', 'EY24_high', 'EY24_low', 'MFE24_central', 'MFE24_high', 'MFE24_low', 'central', 'high', 'low']\n"
     ]
    }
   ],
   "source": [
    "# List available configurations for different components\n",
    "print(\"Available emissions configs:\", NZU.data_handler.list_available_configs('emissions'))\n",
    "print(\"Available auction configs:\", NZU.data_handler.list_available_configs('auction'))\n",
    "print(\"Available forestry configs:\", NZU.data_handler.list_available_configs('forestry'))\n",
    "print(\"Available demand model configs:\", NZU.data_handler.list_available_configs('demand_model'))\n",
    "print(\"Available stockpile configs:\", NZU.data_handler.list_available_configs('stockpile'))"
   ]
  },
  {
   "cell_type": "markdown",
   "metadata": {},
   "source": [
    "## 5. Using the New Inspection Methods\n",
    "\n",
    "### 5.1 Showing All Inputs for a Component"
   ]
  },
  {
   "cell_type": "code",
   "execution_count": 8,
   "metadata": {},
   "outputs": [
    {
     "name": "stdout",
     "output_type": "stream",
     "text": [
      "\n",
      "=== Stockpile Configuration for Scenario 'Baseline' ===\n",
      "Config name: central\n",
      "\n",
      "Stockpile Parameters:\n",
      "  Initial Stockpile: 159,902 kt CO₂-e\n",
      "  Initial Surplus: 68,100 kt CO₂-e\n",
      "  Liquidity Factor: 12.00%\n",
      "  Discount Rate: 5.00%\n",
      "  Payback Period: 25 years\n",
      "  Stockpile Usage Start Year: 2024\n",
      "  Stockpile Reference Year: 2023\n",
      "\n",
      "=== Forestry Configuration for Scenario 'High Forestry' ===\n",
      "Config name: high\n",
      "\n",
      "Forestry Supply Volumes (first 5 years):\n",
      "  2020: 3,546 kt CO₂-e\n",
      "  2021: 3,542 kt CO₂-e\n",
      "  2022: 3,599 kt CO₂-e\n",
      "  2023: 3,802 kt CO₂-e\n",
      "  2024: 4,247 kt CO₂-e\n",
      "  ... 26 more years\n",
      "\n",
      "Forestry Variables Available:\n",
      "  - ('central', 'forestry_held')\n",
      "  - ('low', 'forestry_held')\n",
      "  - ('high', 'forestry_held')\n",
      "  - ('central', 'forestry_surrender')\n",
      "  - ('low', 'forestry_surrender')\n",
      "  - ('high', 'forestry_surrender')\n"
     ]
    },
    {
     "data": {
      "text/plain": [
       "{'supply': Config       central          high           low  forestry_supply\n",
       " year                                                             \n",
       " 2020     3546.167808   3546.167808   3546.167808      3546.167808\n",
       " 2021     3542.064355   3542.064355   3542.064355      3542.064355\n",
       " 2022     3598.566476   3598.566476   3598.566476      3598.566476\n",
       " 2023     3802.135656   3803.004512   2865.638823      3802.135656\n",
       " 2024     4246.851987   4242.859705   3293.547562      4246.851987\n",
       " 2025     5655.987954   5651.088284   4687.032988      5655.987954\n",
       " 2026     7820.489496   7811.517458   6834.809118      7820.489496\n",
       " 2027    10373.843520  10361.808840   9349.204068     10373.843520\n",
       " 2028    12659.601730  12652.535920  11539.405350     12659.601730\n",
       " 2029    14212.435870  14230.949920  12930.702570     14212.435870\n",
       " 2030    14942.364970  15059.816030  13392.501000     14942.364970\n",
       " 2031    15405.035900  15730.199910  13516.113770     15405.035900\n",
       " 2032    15800.122780  16434.238440  13539.520920     15800.122780\n",
       " 2033    16581.468990  17591.647980  13955.782070     16581.468990\n",
       " 2034    17623.261040  19026.755490  14659.435070     17623.261040\n",
       " 2035    18848.219550  20617.469550  15582.511350     18848.219550\n",
       " 2036    20076.115690  22169.209760  16511.799540     20076.115690\n",
       " 2037    21296.487890  23691.932700  17436.067140     21296.487890\n",
       " 2038    19624.170990  22317.221670  15449.696050     19624.170990\n",
       " 2039    18362.921030  21366.633550  13861.291130     18362.921030\n",
       " 2040    17593.226970  20924.595180  12814.196280     17593.226970\n",
       " 2041    17752.179240  21424.452600  12800.098410     17752.179240\n",
       " 2042    17972.302000  21998.627780  12856.973720     17972.302000\n",
       " 2043    18176.221900  22372.667140  13101.880360     18176.221900\n",
       " 2044    18348.756110  22571.354210  13284.882530     18348.756110\n",
       " 2045    18536.686180  22774.626310  13472.399720     18536.686180\n",
       " 2046    18724.537730  22975.182520  13656.782040     18724.537730\n",
       " 2047    18926.684730  23179.301970  13866.683200     18926.684730\n",
       " 2048    19128.133150  23385.488390  14074.506190     19128.133150\n",
       " 2049    19330.937200  23590.951810  14283.277790     19330.937200\n",
       " 2050    19532.042900  23792.792910  14489.650480     19532.042900,\n",
       " 'variables': Config         central           low          high            central  \\\n",
       " Variable forestry_held forestry_held forestry_held forestry_surrender   \n",
       " year                                                                    \n",
       " 2020       7996.301539   8849.240370   7996.301539       -2324.873667   \n",
       " 2021       7558.556686   8364.802732   7558.556686       -3552.643936   \n",
       " 2022       6899.195000   7635.109133   6899.195000       -7103.154433   \n",
       " 2023       6252.205507   6919.124237   6252.205507       -8650.862923   \n",
       " 2024       5531.766806   6121.986841   5531.766806      -11377.046090   \n",
       " 2025       5196.455012   5751.219096   5196.455012       -7349.947960   \n",
       " 2026       4969.068225   5500.141600   4969.068225       -5737.792983   \n",
       " 2027       4806.528813   5321.158925   4806.528813       -4397.132541   \n",
       " 2028       4676.041521   5177.880434   4676.041521       -5193.620156   \n",
       " 2029       4585.064038   5078.469245   4585.064038       -5158.108920   \n",
       " 2030       4766.282985   5280.275988   4766.282985       -3623.997938   \n",
       " 2031       5067.376984   5614.059332   5067.376984       -2548.500801   \n",
       " 2032       5573.207197   6174.191733   5573.207197       -1769.922829   \n",
       " 2033       6153.758349   6816.807275   6153.758349        -699.631572   \n",
       " 2034       6879.302381   7620.062007   6879.302381        -937.479299   \n",
       " 2035       7313.470755   8101.022041   7313.470755        -773.631301   \n",
       " 2036       7655.446364   8479.877196   7655.446364       -1399.721004   \n",
       " 2037       7903.385713   8754.558874   7903.385713       -1425.576610   \n",
       " 2038       8104.152295   8976.900034   8104.152295       -2418.059322   \n",
       " 2039       8082.519679   8953.027303   8082.519679       -6037.024189   \n",
       " 2040       7834.615976   8678.758427   7834.615976       -8441.639284   \n",
       " 2041       7787.428580   8626.635746   7787.428580       -4535.464874   \n",
       " 2042       7708.483363   8539.396663   7708.483363       -4665.345544   \n",
       " 2043       7610.441861   8431.007451   7610.441861       -3681.032013   \n",
       " 2044       7571.540847   8388.082336   7571.540847       -2572.197522   \n",
       " 2045       7556.013116   8371.280867   7556.013116       -2034.744004   \n",
       " 2046       7561.097619   8377.603666   7561.097619       -2678.478758   \n",
       " 2047       7286.959904   8074.376400   7286.959904       -4970.989742   \n",
       " 2048       6999.026678   7755.595842   6999.026678       -5141.450870   \n",
       " 2049       6603.474198   7317.390831   6603.474198       -6468.389389   \n",
       " 2050       6355.742360   7042.456923   6355.742360       -6939.546455   \n",
       " \n",
       " Config                  low               high  \n",
       " Variable forestry_surrender forestry_surrender  \n",
       " year                                            \n",
       " 2020           -2570.617845       -2324.873667  \n",
       " 2021           -3924.669743       -3552.643936  \n",
       " 2022           -7855.892506       -7103.154433  \n",
       " 2023           -9571.753635       -8650.862923  \n",
       " 2024          -12588.729670      -11377.046090  \n",
       " 2025           -8132.074409       -7349.947960  \n",
       " 2026           -6347.956235       -5737.792983  \n",
       " 2027           -4864.292012       -4397.132541  \n",
       " 2028           -5745.738306       -5193.620156  \n",
       " 2029           -5706.439205       -5158.108920  \n",
       " 2030           -4008.689718       -3623.997938  \n",
       " 2031           -2818.472887       -2548.500801  \n",
       " 2032           -1956.846598       -1769.922829  \n",
       " 2033            -772.390939        -699.631572  \n",
       " 2034           -1035.609091        -937.479299  \n",
       " 2035            -854.283973        -773.631301  \n",
       " 2036           -1547.156577       -1399.721004  \n",
       " 2037           -1575.770115       -1425.576610  \n",
       " 2038           -2674.117650       -2418.059322  \n",
       " 2039           -6679.105435       -6037.024189  \n",
       " 2040           -9340.212807       -8441.639284  \n",
       " 2041           -5017.379794       -4535.464874  \n",
       " 2042           -5161.114403       -4665.345544  \n",
       " 2043           -4071.807428       -3681.032013  \n",
       " 2044           -2844.697258       -2572.197522  \n",
       " 2045           -2249.915364       -2034.744004  \n",
       " 2046           -2962.315158       -2678.478758  \n",
       " 2047           -5499.360648       -4970.989742  \n",
       " 2048           -5688.004296       -5141.450870  \n",
       " 2049           -7156.482923       -6468.389389  \n",
       " 2050           -7677.896744       -6939.546455  }"
      ]
     },
     "execution_count": 8,
     "metadata": {},
     "output_type": "execute_result"
    }
   ],
   "source": [
    "# Show all stockpile inputs for Baseline scenario\n",
    "NZU.show_inputs('stockpile', scenario_name='Baseline')\n",
    "\n",
    "# Show all forestry inputs for High Forestry scenario\n",
    "NZU.show_inputs('forestry', scenario_name='High Forestry')"
   ]
  },
  {
   "cell_type": "markdown",
   "metadata": {},
   "source": [
    "### 5.2 Listing Available Parameters and Series"
   ]
  },
  {
   "cell_type": "code",
   "execution_count": 9,
   "metadata": {},
   "outputs": [
    {
     "name": "stdout",
     "output_type": "stream",
     "text": [
      "\n",
      "Available parameters for 'stockpile' in scenario 'Baseline':\n",
      "  - initial_stockpile\n",
      "  - initial_surplus\n",
      "  - liquidity_factor\n",
      "  - discount_rate\n",
      "  - payback_period\n",
      "  - stockpile_usage_start_year\n",
      "  - stockpile_reference_year\n",
      "\n",
      "Available time series for 'forestry' in scenario 'High Forestry':\n",
      "  - central\n",
      "  - high\n",
      "  - low\n",
      "  - forestry_supply\n",
      "  - ('central', 'forestry_held')\n",
      "  - ('low', 'forestry_held')\n",
      "  - ('high', 'forestry_held')\n",
      "  - ('central', 'forestry_surrender')\n",
      "  - ('low', 'forestry_surrender')\n",
      "  - ('high', 'forestry_surrender')\n"
     ]
    },
    {
     "data": {
      "text/plain": [
       "['central',\n",
       " 'high',\n",
       " 'low',\n",
       " 'forestry_supply',\n",
       " ('central', 'forestry_held'),\n",
       " ('low', 'forestry_held'),\n",
       " ('high', 'forestry_held'),\n",
       " ('central', 'forestry_surrender'),\n",
       " ('low', 'forestry_surrender'),\n",
       " ('high', 'forestry_surrender')]"
      ]
     },
     "execution_count": 9,
     "metadata": {},
     "output_type": "execute_result"
    }
   ],
   "source": [
    "# List parameters available for stockpile component\n",
    "NZU.list_parameters('stockpile', scenario_name='Baseline')\n",
    "\n",
    "# List time series available for forestry component\n",
    "NZU.list_series('forestry', scenario_name='High Forestry')"
   ]
  },
  {
   "cell_type": "markdown",
   "metadata": {},
   "source": [
    "### 5.3 Showing Specific Parameters"
   ]
  },
  {
   "cell_type": "code",
   "execution_count": 10,
   "metadata": {},
   "outputs": [
    {
     "name": "stdout",
     "output_type": "stream",
     "text": [
      "\n",
      "=== Stockpile Configuration for Scenario 'Baseline' ===\n",
      "Config name: central\n",
      "\n",
      "Stockpile Parameters:\n",
      "  Initial Stockpile: 159,902 kt CO₂-e\n",
      "  Initial Surplus: 68,100 kt CO₂-e\n",
      "  Liquidity Factor: 12.00%\n",
      "  Discount Rate: 5.00%\n",
      "  Payback Period: 25 years\n",
      "  Stockpile Usage Start Year: 2024\n",
      "  Stockpile Reference Year: 2023\n",
      "\n",
      "Parameter 'discount_rate' for stockpile in scenario 'Baseline':\n",
      "  Value: 5.00%\n",
      "\n",
      "=== Stockpile Configuration for Scenario 'High Forestry' ===\n",
      "Config name: central\n",
      "\n",
      "Stockpile Parameters:\n",
      "  Initial Stockpile: 159,902 kt CO₂-e\n",
      "  Initial Surplus: 68,100 kt CO₂-e\n",
      "  Liquidity Factor: 12.00%\n",
      "  Discount Rate: 5.00%\n",
      "  Payback Period: 25 years\n",
      "  Stockpile Usage Start Year: 2024\n",
      "  Stockpile Reference Year: 2023\n",
      "\n",
      "Parameter 'discount_rate' for stockpile in scenario 'High Forestry':\n",
      "  Value: 5.00%\n"
     ]
    },
    {
     "ename": "ValueError",
     "evalue": "Unknown scenario name: 'Low Discount'. Available scenarios: Baseline, High Forestry, Low Forestry",
     "output_type": "error",
     "traceback": [
      "\u001b[31m---------------------------------------------------------------------------\u001b[39m",
      "\u001b[31mValueError\u001b[39m                                Traceback (most recent call last)",
      "\u001b[36mCell\u001b[39m\u001b[36m \u001b[39m\u001b[32mIn[10]\u001b[39m\u001b[32m, line 4\u001b[39m\n\u001b[32m      2\u001b[39m NZU.show_parameter(\u001b[33m'\u001b[39m\u001b[33mdiscount_rate\u001b[39m\u001b[33m'\u001b[39m, \u001b[33m'\u001b[39m\u001b[33mstockpile\u001b[39m\u001b[33m'\u001b[39m, scenario_name=\u001b[33m'\u001b[39m\u001b[33mBaseline\u001b[39m\u001b[33m'\u001b[39m)\n\u001b[32m      3\u001b[39m NZU.show_parameter(\u001b[33m'\u001b[39m\u001b[33mdiscount_rate\u001b[39m\u001b[33m'\u001b[39m, \u001b[33m'\u001b[39m\u001b[33mstockpile\u001b[39m\u001b[33m'\u001b[39m, scenario_name=\u001b[33m'\u001b[39m\u001b[33mHigh Forestry\u001b[39m\u001b[33m'\u001b[39m)\n\u001b[32m----> \u001b[39m\u001b[32m4\u001b[39m \u001b[43mNZU\u001b[49m\u001b[43m.\u001b[49m\u001b[43mshow_parameter\u001b[49m\u001b[43m(\u001b[49m\u001b[33;43m'\u001b[39;49m\u001b[33;43mdiscount_rate\u001b[39;49m\u001b[33;43m'\u001b[39;49m\u001b[43m,\u001b[49m\u001b[43m \u001b[49m\u001b[33;43m'\u001b[39;49m\u001b[33;43mstockpile\u001b[39;49m\u001b[33;43m'\u001b[39;49m\u001b[43m,\u001b[49m\u001b[43m \u001b[49m\u001b[43mscenario_name\u001b[49m\u001b[43m=\u001b[49m\u001b[33;43m'\u001b[39;49m\u001b[33;43mLow Discount\u001b[39;49m\u001b[33;43m'\u001b[39;49m\u001b[43m)\u001b[49m\n\u001b[32m      6\u001b[39m \u001b[38;5;66;03m# Show initial stockpile balance\u001b[39;00m\n\u001b[32m      7\u001b[39m NZU.show_parameter(\u001b[33m'\u001b[39m\u001b[33minitial_stockpile\u001b[39m\u001b[33m'\u001b[39m, \u001b[33m'\u001b[39m\u001b[33mstockpile\u001b[39m\u001b[33m'\u001b[39m, scenario_name=\u001b[33m'\u001b[39m\u001b[33mBaseline\u001b[39m\u001b[33m'\u001b[39m)\n",
      "\u001b[36mFile \u001b[39m\u001b[32mc:\\Users\\nzkri\\Python projects\\NZUpy\\model\\core\\base_model.py:834\u001b[39m, in \u001b[36mNZUpy.show_parameter\u001b[39m\u001b[34m(self, parameter_name, component, scenario_index, scenario_name)\u001b[39m\n\u001b[32m    832\u001b[39m \u001b[38;5;28;01mif\u001b[39;00m scenario_name \u001b[38;5;129;01mis\u001b[39;00m \u001b[38;5;129;01mnot\u001b[39;00m \u001b[38;5;28;01mNone\u001b[39;00m:\n\u001b[32m    833\u001b[39m     \u001b[38;5;28;01mif\u001b[39;00m scenario_name \u001b[38;5;129;01mnot\u001b[39;00m \u001b[38;5;129;01min\u001b[39;00m \u001b[38;5;28mself\u001b[39m.scenarios:\n\u001b[32m--> \u001b[39m\u001b[32m834\u001b[39m         \u001b[38;5;28;01mraise\u001b[39;00m \u001b[38;5;167;01mValueError\u001b[39;00m(\u001b[33mf\u001b[39m\u001b[33m\"\u001b[39m\u001b[33mUnknown scenario name: \u001b[39m\u001b[33m'\u001b[39m\u001b[38;5;132;01m{\u001b[39;00mscenario_name\u001b[38;5;132;01m}\u001b[39;00m\u001b[33m'\u001b[39m\u001b[33m. Available scenarios: \u001b[39m\u001b[38;5;132;01m{\u001b[39;00m\u001b[33m'\u001b[39m\u001b[33m, \u001b[39m\u001b[33m'\u001b[39m.join(\u001b[38;5;28mself\u001b[39m.scenarios)\u001b[38;5;132;01m}\u001b[39;00m\u001b[33m\"\u001b[39m)\n\u001b[32m    835\u001b[39m     scenario_index = \u001b[38;5;28mself\u001b[39m.scenarios.index(scenario_name)\n\u001b[32m    837\u001b[39m \u001b[38;5;66;03m# Validate scenario_index\u001b[39;00m\n",
      "\u001b[31mValueError\u001b[39m: Unknown scenario name: 'Low Discount'. Available scenarios: Baseline, High Forestry, Low Forestry"
     ]
    }
   ],
   "source": [
    "# Show discount_rate for each scenario\n",
    "NZU.show_parameter('discount_rate', 'stockpile', scenario_name='Baseline')\n",
    "NZU.show_parameter('discount_rate', 'stockpile', scenario_name='High Forestry')\n",
    "NZU.show_parameter('discount_rate', 'stockpile', scenario_name='Low Discount')\n",
    "\n",
    "# Show initial stockpile balance\n",
    "NZU.show_parameter('initial_stockpile', 'stockpile', scenario_name='Baseline')"
   ]
  },
  {
   "cell_type": "markdown",
   "metadata": {},
   "source": [
    "### 5.4 Showing Time Series Data"
   ]
  },
  {
   "cell_type": "code",
   "execution_count": null,
   "metadata": {},
   "outputs": [],
   "source": [
    "# Show forestry supply data for both scenarios\n",
    "NZU.show_series('forestry_supply', 'forestry', scenario_name='Baseline')\n",
    "NZU.show_series('forestry_supply', 'forestry', scenario_name='High Forestry')\n",
    "\n",
    "# Show auction volumes\n",
    "NZU.show_series('base_volume', 'auction', scenario_name='Baseline')"
   ]
  },
  {
   "cell_type": "markdown",
   "metadata": {},
   "source": [
    "## 6. Modifying Inputs\n",
    "\n",
    "### 6.1 Modifying Parameters"
   ]
  },
  {
   "cell_type": "code",
   "execution_count": null,
   "metadata": {},
   "outputs": [],
   "source": [
    "# Change liquidity factor for Baseline scenario\n",
    "NZU.set_parameter('liquidity_factor', 0.15, 'stockpile', scenario_name='Baseline')\n",
    "\n",
    "# Verify the change\n",
    "NZU.show_parameter('liquidity_factor', 'stockpile', scenario_name='Baseline')\n",
    "\n",
    "# Change payback period for High Forestry scenario\n",
    "NZU.set_parameter('payback_period', 20, 'stockpile', scenario_name='High Forestry')\n",
    "\n",
    "# Verify the change\n",
    "NZU.show_parameter('payback_period', 'stockpile', scenario_name='High Forestry')"
   ]
  },
  {
   "cell_type": "markdown",
   "metadata": {},
   "source": [
    "### 6.2 Using set_series (Future Feature)"
   ]
  },
  {
   "cell_type": "code",
   "execution_count": null,
   "metadata": {},
   "outputs": [],
   "source": [
    "# Note: set_series is not yet implemented in Phase 1\n",
    "# This is just an example of how it will work in the future\n",
    "\n",
    "# Get current auction volumes\n",
    "#auction_volumes = NZU.show_series('base_volume', 'auction', scenario_name='Baseline')\n",
    "\n",
    "# Modify auction volumes (increase by 10%)\n",
    "#modified_volumes = auction_volumes * 1.1\n",
    "\n",
    "# Set modified auction volumes\n",
    "#NZU.set_series('base_volume', modified_volumes, 'auction', scenario_name='Baseline')"
   ]
  },
  {
   "cell_type": "markdown",
   "metadata": {},
   "source": [
    "## 7. Running the Model and Analysing Results\n",
    "\n",
    "After inspecting and modifying inputs, you can run the model and analyse the results."
   ]
  },
  {
   "cell_type": "code",
   "execution_count": null,
   "metadata": {},
   "outputs": [],
   "source": [
    "# Run the model with all scenarios\n",
    "results = NZU.run()\n",
    "\n",
    "# Access scenario results\n",
    "baseline_results = NZU.get_scenario_result('Baseline')\n",
    "high_forestry_results = NZU.get_scenario_result('High Forestry')\n",
    "low_discount_results = NZU.get_scenario_result('Low Discount')\n",
    "\n",
    "# Compare carbon prices across scenarios\n",
    "print(\"\\nFinal Carbon Prices:\")\n",
    "print(f\"Baseline: ${baseline_results['final_price']:.2f}\")\n",
    "print(f\"High Forestry: ${high_forestry_results['final_price']:.2f}\")\n",
    "print(f\"Low Discount: ${low_discount_results['final_price']:.2f}\")"
   ]
  },
  {
   "cell_type": "markdown",
   "metadata": {},
   "source": [
    "## 8. Conclusion\n",
    "\n",
    "These new inspection and modification methods make it much easier to:\n",
    "- Understand what inputs are available for each component\n",
    "- View current input values for a scenario\n",
    "- Make targeted modifications to parameters\n",
    "\n",
    "In future phases of the refactoring, we'll add:\n",
    "- The ability to modify time series data (set_series)\n",
    "- A unified DataFrame structure for all model data\n",
    "- More advanced input validation and documentation"
   ]
  }
 ],
 "metadata": {
  "kernelspec": {
   "display_name": "venv",
   "language": "python",
   "name": "python3"
  },
  "language_info": {
   "codemirror_mode": {
    "name": "ipython",
    "version": 3
   },
   "file_extension": ".py",
   "mimetype": "text/x-python",
   "name": "python",
   "nbconvert_exporter": "python",
   "pygments_lexer": "ipython3",
   "version": "3.12.6"
  }
 },
 "nbformat": 4,
 "nbformat_minor": 4
}
