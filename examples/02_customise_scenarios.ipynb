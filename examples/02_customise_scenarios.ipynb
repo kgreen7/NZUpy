{
 "cells": [
  {
   "cell_type": "markdown",
   "metadata": {},
   "source": [
    "# Customise NZUpy's scenarios\n",
    "\n",
    "## Overview of customisation\n",
    "\n",
    "This notebook demonstrates how to create and customise multiple scenarios in NZUpy. We'll explore:\n",
    "\n",
    "1. Customising inputs with our own values not featured as an available 'config' in the model's standard imported CSVs\n",
    "2. Generating comparative charts\n",
    "3. Using our own custom functions to edit input parameters\n",
    "4. The impact of some important model variables that can affect results"
   ]
  },
  {
   "cell_type": "markdown",
   "metadata": {},
   "source": [
    "## 1. Set Up the NZUpy Model\n",
    "\n",
    "First, let's import the necessary libraries and initialise the model."
   ]
  },
  {
   "cell_type": "code",
   "execution_count": null,
   "metadata": {},
   "outputs": [],
   "source": [
    "# Import necessary libraries\n",
    "import pandas as pd\n",
    "import numpy as np\n",
    "import plotly.graph_objects as go\n",
    "from pathlib import Path\n",
    "import sys\n",
    "import os\n",
    "\n",
    "# Add the project root to the path\n",
    "project_root = Path().absolute().parent\n",
    "sys.path.insert(0, str(project_root))\n",
    "\n",
    "# Import the NZUpy class\n",
    "from model.core.base_model import NZUpy\n",
    "\n",
    "# Set our input and output directories\n",
    "data_dir = project_root / \"data\"\n",
    "output_dir = project_root / \"examples\" / \"outputs\" / \"02_customise_scenarios\"\n",
    "os.makedirs(output_dir, exist_ok=True)\n",
    "\n",
    "# Initialise NZUpy\n",
    "NZU = NZUpy(data_dir=data_dir)"
   ]
  },
  {
   "cell_type": "markdown",
   "metadata": {},
   "source": [
    "## 2. Define the scope\n",
    "\n",
    "For this run, we'll look at an important parameter that can affect price outcomes - liquidity factor which sets a limit in any given year on how many non-surplus stockpile units can be used to make-up for short-falls in supply. \n",
    "\n",
    "By non-surplus units, we mean for example, units held by production foresters who need these units to cover their harvest liabilities in future. These differ from the 'surplus' units defined by the Climate Commission and Government as those that don't have clear/valid purpose for being held in private accounts."
   ]
  },
  {
   "cell_type": "code",
   "execution_count": null,
   "metadata": {},
   "outputs": [],
   "source": [
    "# Define time periods: start year, end year\n",
    "NZU.define_time(2024, 2050)\n",
    "\n",
    "# Define multiple scenarios for different liquidity factors & prime the model\n",
    "NZU.define_scenarios(['Low Liquidity', 'Medium Liquidity', 'High Liquidity'])\n",
    "NZU.prime()"
   ]
  },
  {
   "cell_type": "markdown",
   "metadata": {},
   "source": [
    "## 3. Configure Scenarios with Different Liquidity Factors\n",
    "\n",
    "We'll set up three scenarios with different liquidity factors (0.10, 0.15, 0.20) to see how this key parameter affects model outcomes. The liquidity factor determines what proportion of the non-surplus stockpile is available for use each year."
   ]
  },
  {
   "cell_type": "code",
   "execution_count": null,
   "metadata": {},
   "outputs": [],
   "source": [
    "# Start with central configs for all scenarios\n",
    "NZU.use_central_configs(0)  # Low Liquidity scenario\n",
    "NZU.use_central_configs(1)  # Medium Liquidity scenario \n",
    "NZU.use_central_configs(2)  # High Liquidity scenario\n",
    "\n",
    "# Customise liquidity factors\n",
    "NZU.set_parameter('liquidity_factor', 0.10, component='stockpile', scenario_index=0)\n",
    "NZU.set_parameter('liquidity_factor', 0.15, component='stockpile', scenario_index=1)\n",
    "NZU.set_parameter('liquidity_factor', 0.20, component='stockpile', scenario_index=2)\n",
    "\n",
    "# Verify the parameter settings\n",
    "print(\"Liquidity factors set for each scenario:\")\n",
    "for i, scenario in enumerate(NZU.scenarios):\n",
    "    param = NZU.show_parameter('liquidity_factor', 'stockpile', scenario_name=scenario)\n",
    "    print(f\"  {scenario}: {param:.2f}\")"
   ]
  },
  {
   "cell_type": "markdown",
   "metadata": {},
   "source": [
    "## 4. Run the Model and Generate Comparison Charts\n",
    "\n",
    "Let's run the model with our different liquidity scenarios and visualise the results."
   ]
  },
  {
   "cell_type": "code",
   "execution_count": null,
   "metadata": {},
   "outputs": [],
   "source": [
    "# Run the model\n",
    "results = NZU.run()"
   ]
  },
  {
   "cell_type": "code",
   "execution_count": null,
   "metadata": {},
   "outputs": [],
   "source": [
    "# Load chart generator\n",
    "from model.utils.chart_generator import ChartGenerator\n",
    "\n",
    "# Initialise chart generator\n",
    "chart_gen = ChartGenerator(NZU)\n",
    "\n",
    "# Generate carbon price comparison chart\n",
    "price_chart = chart_gen.carbon_price_chart()\n",
    "display(price_chart)\n",
    "price_chart.write_image(str(output_dir / \"liquidity_price_comparison.png\"))\n",
    "\n",
    "# Generate stockpile balance comparison\n",
    "stockpile_chart = chart_gen.stockpile_balance_chart()\n",
    "display(stockpile_chart)\n",
    "stockpile_chart.write_image(str(output_dir / \"liquidity_stockpile_comparison.png\"))\n",
    "\n",
    "# Generate supply-demand balance comparison\n",
    "balance_chart = chart_gen.supply_demand_balance_chart()\n",
    "display(balance_chart)\n",
    "balance_chart.write_image(str(output_dir / \"liquidity_balance_comparison.png\"))"
   ]
  },
  {
   "cell_type": "markdown",
   "metadata": {},
   "source": [
    "## 5. Discussion of Results\n",
    "\n",
    "The charts above reveal several key insights about how liquidity factor affects the NZ ETS:\n",
    "\n",
    "1. **Carbon Price Impact**: Higher liquidity factors result in lower carbon prices as more non-surplus units become available for compliance, reducing the need for emissions reductions through price signals.\n",
    "\n",
    "2. **Stockpile Dynamics**: With lower liquidity (0.10), we see a faster depletion of the surplus stockpile, followed by a more gradual use of the non-surplus component. The higher liquidity scenarios (0.15, 0.20) show a more gradual decline in total stockpile balance.\n",
    "\n",
    "3. **Payback Requirements**: Notice that towards the end of the model period, all scenarios show an uptick in stockpile balance. This demonstrates the model's payback mechanism in action - borrowed units from the non-surplus component must be paid back over the payback period (default is 25 years).\n",
    "\n",
    "4. **Price Ramping**: In the low liquidity scenario, the model may ramp up prices more aggressively to address supply-demand imbalances when fewer units are available from the stockpile. This occurs because the model applies a severe penalty to supply shortfalls."
   ]
  },
  {
   "cell_type": "markdown",
   "metadata": {},
   "source": [
    "If price ramping seems excessive for your use case, this penalty behaviour can be adjusted through the optimiser settings:\n",
    "\n",
    "```python\n",
    "# Example (not run): Turn off shortfall penalty\n",
    "NZU.config.optimiser.penalise_shortfalls = False\n",
    "```"
   ]
  },
  {
   "cell_type": "markdown",
   "metadata": {},
   "source": [
    "## 6. Modelling a Scarcity Scenario\n",
    "\n",
    "Now, let's reset our model and create a new set of scenarios to explore a hypothetical situation with temporary market scarcity in the mid-2020s followed by oversupply."
   ]
  },
  {
   "cell_type": "code",
   "execution_count": null,
   "metadata": {},
   "outputs": [],
   "source": [
    "# Reinitialise the model\n",
    "NZU = NZUpy(data_dir=data_dir)\n",
    "NZU.define_time(2024, 2050)\n",
    "\n",
    "# Define two scenarios: baseline and scarcity scenario\n",
    "NZU.define_scenarios(['Baseline', 'Scarcity Then Surplus'])\n",
    "\n",
    "# Prime the model\n",
    "NZU.prime()\n",
    "\n",
    "# Configure scenarios\n",
    "NZU.use_central_configs(0)  # Set all components to central for baseline scenario\n",
    "NZU.use_central_configs(1)  # Start with central configs for scarcity scenario"
   ]
  },
  {
   "cell_type": "markdown",
   "metadata": {},
   "source": [
    "Now, let's modify the second scenario to create scarcity by reducing auction volumes in the mid-2020s and then increasing them later to create surplus."
   ]
  },
  {
   "cell_type": "code",
   "execution_count": null,
   "metadata": {},
   "outputs": [],
   "source": [
    "# Get the auction data for your scenario\n",
    "auction_data = NZU.show_inputs('auction', scenario_name='Scarcity Then Surplus')\n",
    "\n",
    "# Get the base volume series and create a copy to modify\n",
    "base_volumes = auction_data['base_volume'].copy()\n",
    "\n",
    "# Modify the volumes as needed\n",
    "base_volumes.loc[2025] = 0.0  # Set 2025 volume to zero\n",
    "base_volumes.loc[2030:2050] = base_volumes.loc[2030:2050] * 1.1  # Increase volumes by 10% from 2030-2050\n",
    "\n",
    "# Update the auction data in the model\n",
    "NZU.set_series('base_volume', base_volumes, 'auction', scenario_name='Scarcity Then Surplus')\n",
    "\n",
    "# Verify the changes by showing the inputs again\n",
    "modified_data = NZU.show_inputs('auction', scenario_name='Scarcity Then Surplus')\n",
    "print(\"Modified auction volumes:\")\n",
    "print(modified_data['base_volume'].head(10))  # Show first 10 years"
   ]
  },
  {
   "cell_type": "markdown",
   "metadata": {},
   "source": [
    "Now let's adjust the price control parameters to manage the price trajectory during scarcity and surplus periods."
   ]
  },
  {
   "cell_type": "code",
   "execution_count": null,
   "metadata": {},
   "outputs": [],
   "source": [
    "# Load the \"scarcity_then_surplus\" price control configuration only for the second scenario\n",
    "NZU.use_price_control_config('scarcity_then_surplus', scenario_index=1)\n",
    "\n",
    "# Run the model with our scenarios\n",
    "results = NZU.run()"
   ]
  },
  {
   "cell_type": "markdown",
   "metadata": {},
   "source": [
    "## 7. Visualising Scarcity Scenario Results\n",
    "\n",
    "Let's create charts to visualise how our scarcity scenario affects prices and market dynamics."
   ]
  },
  {
   "cell_type": "code",
   "execution_count": null,
   "metadata": {},
   "outputs": [],
   "source": [
    "# Initialize chart generator\n",
    "chart_gen = ChartGenerator(NZU)\n",
    "\n",
    "# Create comparison page for specific chart type\n",
    "from model.interface.chart_display import create_comparison_page\n",
    "\n",
    "# Dictionary mapping scenario names to model instances\n",
    "models = {\n",
    "    'Baseline': NZU,  # Your baseline model\n",
    "    'Scarcity Then Surplus': NZU  # Your scarcity model\n",
    "}\n",
    "\n",
    "# Create comparison for any chart type you want\n",
    "create_comparison_page(\n",
    "    models=models,\n",
    "    chart_type='carbon_price',  # Can be: carbon_price, emissions_pathway, supply_components, stockpile_balance, supply_demand_balance, auction_volume_revenue\n",
    "    output_dir=output_dir,\n",
    "    filename=\"price_comparison.html\"\n",
    ")"
   ]
  },
  {
   "cell_type": "markdown",
   "metadata": {},
   "source": [
    "## 8. Discussion of Scarcity Scenario Results\n",
    "\n",
    "The scarcity scenario demonstrates several important features of the NZ ETS model:\n",
    "\n",
    "1. **Price Spike**: Removing auction volumes in 2025 creates a supply shortage, causing a price spike as the market adjusts. The price control parameter amplifies this effect, demonstrating how policy settings can influence price trajectories.\n",
    "\n",
    "2. **Stockpile Utilisation**: During the scarcity period, the model draws more heavily from the stockpile to make up the supply shortfall, accelerating the depletion of the surplus component.\n",
    "\n",
    "3. **Price Dampening**: When auction volumes increase after 2030, combined with the reduced price control parameter, prices are dampened compared to the baseline scenario. This demonstrates how the model accounts for market oversupply.\n",
    "\n",
    "4. **Market Recovery**: The supply components chart for the scarcity scenario shows how different supply sources adjust over time to compensate for the auction volume changes.\n",
    "\n",
    "The price control feature demonstrated here was introduced as part of MfE's most recent update to the government's excel-based NZ ETS model. This feature allows modelling of how policy interventions and market expectations can influence price formation beyond simple supply-demand dynamics."
   ]
  },
  {
   "cell_type": "markdown",
   "metadata": {},
   "source": [
    "## 9. Conclusion\n",
    "\n",
    "This notebook has demonstrated:\n",
    "\n",
    "1. **Creating multiple custom scenarios** with different parameter values\n",
    "2. **Modifying specific parameters** like the liquidity factor to values not available in predefined CSVs\n",
    "3. **Manually editing input series** to model specific market conditions\n",
    "4. **Using price control parameters** to influence price trajectories\n",
    "5. **Generating and interpreting comparative charts** across scenarios\n",
    "\n",
    "These techniques allow for rich explorations of different market conditions and policy settings within the NZ ETS model."
   ]
  }
 ],
 "metadata": {
  "kernelspec": {
   "display_name": "venv",
   "language": "python",
   "name": "python3"
  },
  "language_info": {
   "codemirror_mode": {
    "name": "ipython",
    "version": 3
   },
   "file_extension": ".py",
   "mimetype": "text/x-python",
   "name": "python",
   "nbconvert_exporter": "python",
   "pygments_lexer": "ipython3",
   "version": "3.12.6"
  }
 },
 "nbformat": 4,
 "nbformat_minor": 4
}
